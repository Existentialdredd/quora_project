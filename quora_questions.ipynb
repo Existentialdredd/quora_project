{
 "cells": [
  {
   "cell_type": "code",
   "execution_count": 2,
   "metadata": {},
   "outputs": [
    {
     "data": {
      "text/html": [
       "\n",
       "    <div class=\"bk-root\">\n",
       "        <a href=\"https://bokeh.pydata.org\" target=\"_blank\" class=\"bk-logo bk-logo-small bk-logo-notebook\"></a>\n",
       "        <span id=\"1001\">Loading BokehJS ...</span>\n",
       "    </div>"
      ]
     },
     "metadata": {},
     "output_type": "display_data"
    },
    {
     "data": {
      "application/javascript": [
       "\n",
       "(function(root) {\n",
       "  function now() {\n",
       "    return new Date();\n",
       "  }\n",
       "\n",
       "  var force = true;\n",
       "\n",
       "  if (typeof root._bokeh_onload_callbacks === \"undefined\" || force === true) {\n",
       "    root._bokeh_onload_callbacks = [];\n",
       "    root._bokeh_is_loading = undefined;\n",
       "  }\n",
       "\n",
       "  var JS_MIME_TYPE = 'application/javascript';\n",
       "  var HTML_MIME_TYPE = 'text/html';\n",
       "  var EXEC_MIME_TYPE = 'application/vnd.bokehjs_exec.v0+json';\n",
       "  var CLASS_NAME = 'output_bokeh rendered_html';\n",
       "\n",
       "  /**\n",
       "   * Render data to the DOM node\n",
       "   */\n",
       "  function render(props, node) {\n",
       "    var script = document.createElement(\"script\");\n",
       "    node.appendChild(script);\n",
       "  }\n",
       "\n",
       "  /**\n",
       "   * Handle when an output is cleared or removed\n",
       "   */\n",
       "  function handleClearOutput(event, handle) {\n",
       "    var cell = handle.cell;\n",
       "\n",
       "    var id = cell.output_area._bokeh_element_id;\n",
       "    var server_id = cell.output_area._bokeh_server_id;\n",
       "    // Clean up Bokeh references\n",
       "    if (id != null && id in Bokeh.index) {\n",
       "      Bokeh.index[id].model.document.clear();\n",
       "      delete Bokeh.index[id];\n",
       "    }\n",
       "\n",
       "    if (server_id !== undefined) {\n",
       "      // Clean up Bokeh references\n",
       "      var cmd = \"from bokeh.io.state import curstate; print(curstate().uuid_to_server['\" + server_id + \"'].get_sessions()[0].document.roots[0]._id)\";\n",
       "      cell.notebook.kernel.execute(cmd, {\n",
       "        iopub: {\n",
       "          output: function(msg) {\n",
       "            var id = msg.content.text.trim();\n",
       "            if (id in Bokeh.index) {\n",
       "              Bokeh.index[id].model.document.clear();\n",
       "              delete Bokeh.index[id];\n",
       "            }\n",
       "          }\n",
       "        }\n",
       "      });\n",
       "      // Destroy server and session\n",
       "      var cmd = \"import bokeh.io.notebook as ion; ion.destroy_server('\" + server_id + \"')\";\n",
       "      cell.notebook.kernel.execute(cmd);\n",
       "    }\n",
       "  }\n",
       "\n",
       "  /**\n",
       "   * Handle when a new output is added\n",
       "   */\n",
       "  function handleAddOutput(event, handle) {\n",
       "    var output_area = handle.output_area;\n",
       "    var output = handle.output;\n",
       "\n",
       "    // limit handleAddOutput to display_data with EXEC_MIME_TYPE content only\n",
       "    if ((output.output_type != \"display_data\") || (!output.data.hasOwnProperty(EXEC_MIME_TYPE))) {\n",
       "      return\n",
       "    }\n",
       "\n",
       "    var toinsert = output_area.element.find(\".\" + CLASS_NAME.split(' ')[0]);\n",
       "\n",
       "    if (output.metadata[EXEC_MIME_TYPE][\"id\"] !== undefined) {\n",
       "      toinsert[toinsert.length - 1].firstChild.textContent = output.data[JS_MIME_TYPE];\n",
       "      // store reference to embed id on output_area\n",
       "      output_area._bokeh_element_id = output.metadata[EXEC_MIME_TYPE][\"id\"];\n",
       "    }\n",
       "    if (output.metadata[EXEC_MIME_TYPE][\"server_id\"] !== undefined) {\n",
       "      var bk_div = document.createElement(\"div\");\n",
       "      bk_div.innerHTML = output.data[HTML_MIME_TYPE];\n",
       "      var script_attrs = bk_div.children[0].attributes;\n",
       "      for (var i = 0; i < script_attrs.length; i++) {\n",
       "        toinsert[toinsert.length - 1].firstChild.setAttribute(script_attrs[i].name, script_attrs[i].value);\n",
       "      }\n",
       "      // store reference to server id on output_area\n",
       "      output_area._bokeh_server_id = output.metadata[EXEC_MIME_TYPE][\"server_id\"];\n",
       "    }\n",
       "  }\n",
       "\n",
       "  function register_renderer(events, OutputArea) {\n",
       "\n",
       "    function append_mime(data, metadata, element) {\n",
       "      // create a DOM node to render to\n",
       "      var toinsert = this.create_output_subarea(\n",
       "        metadata,\n",
       "        CLASS_NAME,\n",
       "        EXEC_MIME_TYPE\n",
       "      );\n",
       "      this.keyboard_manager.register_events(toinsert);\n",
       "      // Render to node\n",
       "      var props = {data: data, metadata: metadata[EXEC_MIME_TYPE]};\n",
       "      render(props, toinsert[toinsert.length - 1]);\n",
       "      element.append(toinsert);\n",
       "      return toinsert\n",
       "    }\n",
       "\n",
       "    /* Handle when an output is cleared or removed */\n",
       "    events.on('clear_output.CodeCell', handleClearOutput);\n",
       "    events.on('delete.Cell', handleClearOutput);\n",
       "\n",
       "    /* Handle when a new output is added */\n",
       "    events.on('output_added.OutputArea', handleAddOutput);\n",
       "\n",
       "    /**\n",
       "     * Register the mime type and append_mime function with output_area\n",
       "     */\n",
       "    OutputArea.prototype.register_mime_type(EXEC_MIME_TYPE, append_mime, {\n",
       "      /* Is output safe? */\n",
       "      safe: true,\n",
       "      /* Index of renderer in `output_area.display_order` */\n",
       "      index: 0\n",
       "    });\n",
       "  }\n",
       "\n",
       "  // register the mime type if in Jupyter Notebook environment and previously unregistered\n",
       "  if (root.Jupyter !== undefined) {\n",
       "    var events = require('base/js/events');\n",
       "    var OutputArea = require('notebook/js/outputarea').OutputArea;\n",
       "\n",
       "    if (OutputArea.prototype.mime_types().indexOf(EXEC_MIME_TYPE) == -1) {\n",
       "      register_renderer(events, OutputArea);\n",
       "    }\n",
       "  }\n",
       "\n",
       "  \n",
       "  if (typeof (root._bokeh_timeout) === \"undefined\" || force === true) {\n",
       "    root._bokeh_timeout = Date.now() + 5000;\n",
       "    root._bokeh_failed_load = false;\n",
       "  }\n",
       "\n",
       "  var NB_LOAD_WARNING = {'data': {'text/html':\n",
       "     \"<div style='background-color: #fdd'>\\n\"+\n",
       "     \"<p>\\n\"+\n",
       "     \"BokehJS does not appear to have successfully loaded. If loading BokehJS from CDN, this \\n\"+\n",
       "     \"may be due to a slow or bad network connection. Possible fixes:\\n\"+\n",
       "     \"</p>\\n\"+\n",
       "     \"<ul>\\n\"+\n",
       "     \"<li>re-rerun `output_notebook()` to attempt to load from CDN again, or</li>\\n\"+\n",
       "     \"<li>use INLINE resources instead, as so:</li>\\n\"+\n",
       "     \"</ul>\\n\"+\n",
       "     \"<code>\\n\"+\n",
       "     \"from bokeh.resources import INLINE\\n\"+\n",
       "     \"output_notebook(resources=INLINE)\\n\"+\n",
       "     \"</code>\\n\"+\n",
       "     \"</div>\"}};\n",
       "\n",
       "  function display_loaded() {\n",
       "    var el = document.getElementById(\"1001\");\n",
       "    if (el != null) {\n",
       "      el.textContent = \"BokehJS is loading...\";\n",
       "    }\n",
       "    if (root.Bokeh !== undefined) {\n",
       "      if (el != null) {\n",
       "        el.textContent = \"BokehJS \" + root.Bokeh.version + \" successfully loaded.\";\n",
       "      }\n",
       "    } else if (Date.now() < root._bokeh_timeout) {\n",
       "      setTimeout(display_loaded, 100)\n",
       "    }\n",
       "  }\n",
       "\n",
       "\n",
       "  function run_callbacks() {\n",
       "    try {\n",
       "      root._bokeh_onload_callbacks.forEach(function(callback) {\n",
       "        if (callback != null)\n",
       "          callback();\n",
       "      });\n",
       "    } finally {\n",
       "      delete root._bokeh_onload_callbacks\n",
       "    }\n",
       "    console.debug(\"Bokeh: all callbacks have finished\");\n",
       "  }\n",
       "\n",
       "  function load_libs(css_urls, js_urls, callback) {\n",
       "    if (css_urls == null) css_urls = [];\n",
       "    if (js_urls == null) js_urls = [];\n",
       "\n",
       "    root._bokeh_onload_callbacks.push(callback);\n",
       "    if (root._bokeh_is_loading > 0) {\n",
       "      console.debug(\"Bokeh: BokehJS is being loaded, scheduling callback at\", now());\n",
       "      return null;\n",
       "    }\n",
       "    if (js_urls == null || js_urls.length === 0) {\n",
       "      run_callbacks();\n",
       "      return null;\n",
       "    }\n",
       "    console.debug(\"Bokeh: BokehJS not loaded, scheduling load and callback at\", now());\n",
       "    root._bokeh_is_loading = css_urls.length + js_urls.length;\n",
       "\n",
       "    function on_load() {\n",
       "      root._bokeh_is_loading--;\n",
       "      if (root._bokeh_is_loading === 0) {\n",
       "        console.debug(\"Bokeh: all BokehJS libraries/stylesheets loaded\");\n",
       "        run_callbacks()\n",
       "      }\n",
       "    }\n",
       "\n",
       "    function on_error() {\n",
       "      console.error(\"failed to load \" + url);\n",
       "    }\n",
       "\n",
       "    for (var i = 0; i < css_urls.length; i++) {\n",
       "      var url = css_urls[i];\n",
       "      const element = document.createElement(\"link\");\n",
       "      element.onload = on_load;\n",
       "      element.onerror = on_error;\n",
       "      element.rel = \"stylesheet\";\n",
       "      element.type = \"text/css\";\n",
       "      element.href = url;\n",
       "      console.debug(\"Bokeh: injecting link tag for BokehJS stylesheet: \", url);\n",
       "      document.body.appendChild(element);\n",
       "    }\n",
       "\n",
       "    for (var i = 0; i < js_urls.length; i++) {\n",
       "      var url = js_urls[i];\n",
       "      var element = document.createElement('script');\n",
       "      element.onload = on_load;\n",
       "      element.onerror = on_error;\n",
       "      element.async = false;\n",
       "      element.src = url;\n",
       "      console.debug(\"Bokeh: injecting script tag for BokehJS library: \", url);\n",
       "      document.head.appendChild(element);\n",
       "    }\n",
       "  };var element = document.getElementById(\"1001\");\n",
       "  if (element == null) {\n",
       "    console.error(\"Bokeh: ERROR: autoload.js configured with elementid '1001' but no matching script tag was found. \")\n",
       "    return false;\n",
       "  }\n",
       "\n",
       "  function inject_raw_css(css) {\n",
       "    const element = document.createElement(\"style\");\n",
       "    element.appendChild(document.createTextNode(css));\n",
       "    document.body.appendChild(element);\n",
       "  }\n",
       "\n",
       "  var js_urls = [\"https://cdn.pydata.org/bokeh/release/bokeh-1.3.4.min.js\", \"https://cdn.pydata.org/bokeh/release/bokeh-widgets-1.3.4.min.js\", \"https://cdn.pydata.org/bokeh/release/bokeh-tables-1.3.4.min.js\", \"https://cdn.pydata.org/bokeh/release/bokeh-gl-1.3.4.min.js\"];\n",
       "  var css_urls = [];\n",
       "\n",
       "  var inline_js = [\n",
       "    function(Bokeh) {\n",
       "      Bokeh.set_log_level(\"info\");\n",
       "    },\n",
       "    \n",
       "    function(Bokeh) {\n",
       "      \n",
       "    },\n",
       "    function(Bokeh) {} // ensure no trailing comma for IE\n",
       "  ];\n",
       "\n",
       "  function run_inline_js() {\n",
       "    \n",
       "    if ((root.Bokeh !== undefined) || (force === true)) {\n",
       "      for (var i = 0; i < inline_js.length; i++) {\n",
       "        inline_js[i].call(root, root.Bokeh);\n",
       "      }if (force === true) {\n",
       "        display_loaded();\n",
       "      }} else if (Date.now() < root._bokeh_timeout) {\n",
       "      setTimeout(run_inline_js, 100);\n",
       "    } else if (!root._bokeh_failed_load) {\n",
       "      console.log(\"Bokeh: BokehJS failed to load within specified timeout.\");\n",
       "      root._bokeh_failed_load = true;\n",
       "    } else if (force !== true) {\n",
       "      var cell = $(document.getElementById(\"1001\")).parents('.cell').data().cell;\n",
       "      cell.output_area.append_execute_result(NB_LOAD_WARNING)\n",
       "    }\n",
       "\n",
       "  }\n",
       "\n",
       "  if (root._bokeh_is_loading === 0) {\n",
       "    console.debug(\"Bokeh: BokehJS loaded, going straight to plotting\");\n",
       "    run_inline_js();\n",
       "  } else {\n",
       "    load_libs(css_urls, js_urls, function() {\n",
       "      console.debug(\"Bokeh: BokehJS plotting callback run at\", now());\n",
       "      run_inline_js();\n",
       "    });\n",
       "  }\n",
       "}(window));"
      ],
      "application/vnd.bokehjs_load.v0+json": "\n(function(root) {\n  function now() {\n    return new Date();\n  }\n\n  var force = true;\n\n  if (typeof root._bokeh_onload_callbacks === \"undefined\" || force === true) {\n    root._bokeh_onload_callbacks = [];\n    root._bokeh_is_loading = undefined;\n  }\n\n  \n\n  \n  if (typeof (root._bokeh_timeout) === \"undefined\" || force === true) {\n    root._bokeh_timeout = Date.now() + 5000;\n    root._bokeh_failed_load = false;\n  }\n\n  var NB_LOAD_WARNING = {'data': {'text/html':\n     \"<div style='background-color: #fdd'>\\n\"+\n     \"<p>\\n\"+\n     \"BokehJS does not appear to have successfully loaded. If loading BokehJS from CDN, this \\n\"+\n     \"may be due to a slow or bad network connection. Possible fixes:\\n\"+\n     \"</p>\\n\"+\n     \"<ul>\\n\"+\n     \"<li>re-rerun `output_notebook()` to attempt to load from CDN again, or</li>\\n\"+\n     \"<li>use INLINE resources instead, as so:</li>\\n\"+\n     \"</ul>\\n\"+\n     \"<code>\\n\"+\n     \"from bokeh.resources import INLINE\\n\"+\n     \"output_notebook(resources=INLINE)\\n\"+\n     \"</code>\\n\"+\n     \"</div>\"}};\n\n  function display_loaded() {\n    var el = document.getElementById(\"1001\");\n    if (el != null) {\n      el.textContent = \"BokehJS is loading...\";\n    }\n    if (root.Bokeh !== undefined) {\n      if (el != null) {\n        el.textContent = \"BokehJS \" + root.Bokeh.version + \" successfully loaded.\";\n      }\n    } else if (Date.now() < root._bokeh_timeout) {\n      setTimeout(display_loaded, 100)\n    }\n  }\n\n\n  function run_callbacks() {\n    try {\n      root._bokeh_onload_callbacks.forEach(function(callback) {\n        if (callback != null)\n          callback();\n      });\n    } finally {\n      delete root._bokeh_onload_callbacks\n    }\n    console.debug(\"Bokeh: all callbacks have finished\");\n  }\n\n  function load_libs(css_urls, js_urls, callback) {\n    if (css_urls == null) css_urls = [];\n    if (js_urls == null) js_urls = [];\n\n    root._bokeh_onload_callbacks.push(callback);\n    if (root._bokeh_is_loading > 0) {\n      console.debug(\"Bokeh: BokehJS is being loaded, scheduling callback at\", now());\n      return null;\n    }\n    if (js_urls == null || js_urls.length === 0) {\n      run_callbacks();\n      return null;\n    }\n    console.debug(\"Bokeh: BokehJS not loaded, scheduling load and callback at\", now());\n    root._bokeh_is_loading = css_urls.length + js_urls.length;\n\n    function on_load() {\n      root._bokeh_is_loading--;\n      if (root._bokeh_is_loading === 0) {\n        console.debug(\"Bokeh: all BokehJS libraries/stylesheets loaded\");\n        run_callbacks()\n      }\n    }\n\n    function on_error() {\n      console.error(\"failed to load \" + url);\n    }\n\n    for (var i = 0; i < css_urls.length; i++) {\n      var url = css_urls[i];\n      const element = document.createElement(\"link\");\n      element.onload = on_load;\n      element.onerror = on_error;\n      element.rel = \"stylesheet\";\n      element.type = \"text/css\";\n      element.href = url;\n      console.debug(\"Bokeh: injecting link tag for BokehJS stylesheet: \", url);\n      document.body.appendChild(element);\n    }\n\n    for (var i = 0; i < js_urls.length; i++) {\n      var url = js_urls[i];\n      var element = document.createElement('script');\n      element.onload = on_load;\n      element.onerror = on_error;\n      element.async = false;\n      element.src = url;\n      console.debug(\"Bokeh: injecting script tag for BokehJS library: \", url);\n      document.head.appendChild(element);\n    }\n  };var element = document.getElementById(\"1001\");\n  if (element == null) {\n    console.error(\"Bokeh: ERROR: autoload.js configured with elementid '1001' but no matching script tag was found. \")\n    return false;\n  }\n\n  function inject_raw_css(css) {\n    const element = document.createElement(\"style\");\n    element.appendChild(document.createTextNode(css));\n    document.body.appendChild(element);\n  }\n\n  var js_urls = [\"https://cdn.pydata.org/bokeh/release/bokeh-1.3.4.min.js\", \"https://cdn.pydata.org/bokeh/release/bokeh-widgets-1.3.4.min.js\", \"https://cdn.pydata.org/bokeh/release/bokeh-tables-1.3.4.min.js\", \"https://cdn.pydata.org/bokeh/release/bokeh-gl-1.3.4.min.js\"];\n  var css_urls = [];\n\n  var inline_js = [\n    function(Bokeh) {\n      Bokeh.set_log_level(\"info\");\n    },\n    \n    function(Bokeh) {\n      \n    },\n    function(Bokeh) {} // ensure no trailing comma for IE\n  ];\n\n  function run_inline_js() {\n    \n    if ((root.Bokeh !== undefined) || (force === true)) {\n      for (var i = 0; i < inline_js.length; i++) {\n        inline_js[i].call(root, root.Bokeh);\n      }if (force === true) {\n        display_loaded();\n      }} else if (Date.now() < root._bokeh_timeout) {\n      setTimeout(run_inline_js, 100);\n    } else if (!root._bokeh_failed_load) {\n      console.log(\"Bokeh: BokehJS failed to load within specified timeout.\");\n      root._bokeh_failed_load = true;\n    } else if (force !== true) {\n      var cell = $(document.getElementById(\"1001\")).parents('.cell').data().cell;\n      cell.output_area.append_execute_result(NB_LOAD_WARNING)\n    }\n\n  }\n\n  if (root._bokeh_is_loading === 0) {\n    console.debug(\"Bokeh: BokehJS loaded, going straight to plotting\");\n    run_inline_js();\n  } else {\n    load_libs(css_urls, js_urls, function() {\n      console.debug(\"Bokeh: BokehJS plotting callback run at\", now());\n      run_inline_js();\n    });\n  }\n}(window));"
     },
     "metadata": {},
     "output_type": "display_data"
    }
   ],
   "source": [
    "import numpy as np \n",
    "import pandas as pd\n",
    "import quora_vocab as qv\n",
    "from sklearn import linear_model\n",
    "import utilities as ut\n",
    "from importlib import reload\n",
    "from bokeh.plotting import figure\n",
    "from bokeh.io import show, output_notebook\n",
    "from bokeh.models import HoverTool, ColumnDataSource\n",
    "output_notebook()"
   ]
  },
  {
   "cell_type": "code",
   "execution_count": 3,
   "metadata": {},
   "outputs": [],
   "source": [
    "DATA_PATH = '~/google_drive/data/quora/'\n",
    "DATA_FILE = '{}{}'.format(DATA_PATH,'train.csv')"
   ]
  },
  {
   "cell_type": "markdown",
   "metadata": {},
   "source": [
    "### Data Loading"
   ]
  },
  {
   "cell_type": "code",
   "execution_count": 4,
   "metadata": {},
   "outputs": [
    {
     "data": {
      "text/html": [
       "<div>\n",
       "<style scoped>\n",
       "    .dataframe tbody tr th:only-of-type {\n",
       "        vertical-align: middle;\n",
       "    }\n",
       "\n",
       "    .dataframe tbody tr th {\n",
       "        vertical-align: top;\n",
       "    }\n",
       "\n",
       "    .dataframe thead th {\n",
       "        text-align: right;\n",
       "    }\n",
       "</style>\n",
       "<table border=\"1\" class=\"dataframe\">\n",
       "  <thead>\n",
       "    <tr style=\"text-align: right;\">\n",
       "      <th></th>\n",
       "      <th>qid</th>\n",
       "      <th>question_text</th>\n",
       "      <th>target</th>\n",
       "    </tr>\n",
       "  </thead>\n",
       "  <tbody>\n",
       "    <tr>\n",
       "      <td>0</td>\n",
       "      <td>00002165364db923c7e6</td>\n",
       "      <td>How did Quebec nationalists see their province...</td>\n",
       "      <td>0</td>\n",
       "    </tr>\n",
       "    <tr>\n",
       "      <td>1</td>\n",
       "      <td>000032939017120e6e44</td>\n",
       "      <td>Do you have an adopted dog, how would you enco...</td>\n",
       "      <td>0</td>\n",
       "    </tr>\n",
       "    <tr>\n",
       "      <td>2</td>\n",
       "      <td>0000412ca6e4628ce2cf</td>\n",
       "      <td>Why does velocity affect time? Does velocity a...</td>\n",
       "      <td>0</td>\n",
       "    </tr>\n",
       "    <tr>\n",
       "      <td>3</td>\n",
       "      <td>000042bf85aa498cd78e</td>\n",
       "      <td>How did Otto von Guericke used the Magdeburg h...</td>\n",
       "      <td>0</td>\n",
       "    </tr>\n",
       "    <tr>\n",
       "      <td>4</td>\n",
       "      <td>0000455dfa3e01eae3af</td>\n",
       "      <td>Can I convert montra helicon D to a mountain b...</td>\n",
       "      <td>0</td>\n",
       "    </tr>\n",
       "  </tbody>\n",
       "</table>\n",
       "</div>"
      ],
      "text/plain": [
       "                    qid                                      question_text  \\\n",
       "0  00002165364db923c7e6  How did Quebec nationalists see their province...   \n",
       "1  000032939017120e6e44  Do you have an adopted dog, how would you enco...   \n",
       "2  0000412ca6e4628ce2cf  Why does velocity affect time? Does velocity a...   \n",
       "3  000042bf85aa498cd78e  How did Otto von Guericke used the Magdeburg h...   \n",
       "4  0000455dfa3e01eae3af  Can I convert montra helicon D to a mountain b...   \n",
       "\n",
       "   target  \n",
       "0       0  \n",
       "1       0  \n",
       "2       0  \n",
       "3       0  \n",
       "4       0  "
      ]
     },
     "execution_count": 4,
     "metadata": {},
     "output_type": "execute_result"
    }
   ],
   "source": [
    "data = pd.read_csv(DATA_FILE)\n",
    "data.head()"
   ]
  },
  {
   "cell_type": "markdown",
   "metadata": {},
   "source": [
    "### Tokenizing Each Comment"
   ]
  },
  {
   "cell_type": "code",
   "execution_count": 5,
   "metadata": {},
   "outputs": [
    {
     "name": "stderr",
     "output_type": "stream",
     "text": [
      "/Users/ericpenner/anaconda3/envs/quora_proj/lib/python3.7/site-packages/ipykernel_launcher.py:2: FutureWarning: Method .as_matrix will be removed in a future version. Use .values instead.\n",
      "  \n",
      "/Users/ericpenner/anaconda3/envs/quora_proj/lib/python3.7/site-packages/ipykernel_launcher.py:4: FutureWarning: Method .as_matrix will be removed in a future version. Use .values instead.\n",
      "  after removing the cwd from sys.path.\n"
     ]
    }
   ],
   "source": [
    "data_pos_tokenized = [[vec[0],ut.canon_token_sentence(vec[1]),vec[2]] \n",
    "                      for vec in data.as_matrix() if vec[2] == 1]  \n",
    "data_neg_tokenized = [[vec[0],ut.canon_token_sentence(vec[1]),vec[2]] \n",
    "                      for vec in data.as_matrix() if vec[2] == 0]   "
   ]
  },
  {
   "cell_type": "markdown",
   "metadata": {},
   "source": [
    "#### Tokenized Innapropriate Question Example"
   ]
  },
  {
   "cell_type": "code",
   "execution_count": 229,
   "metadata": {},
   "outputs": [
    {
     "data": {
      "text/plain": [
       "'what do democrats think of the fact that i am homophobic, and was \"born this way\" will this make you rethink your rhetoric'"
      ]
     },
     "execution_count": 229,
     "metadata": {},
     "output_type": "execute_result"
    }
   ],
   "source": [
    "' '.join(data_pos_tokenized[103][1])"
   ]
  },
  {
   "cell_type": "markdown",
   "metadata": {},
   "source": [
    "#### Tokenized Appropriate Question Example"
   ]
  },
  {
   "cell_type": "code",
   "execution_count": 7,
   "metadata": {},
   "outputs": [
    {
     "data": {
      "text/plain": [
       "'how were the calgary flames founded'"
      ]
     },
     "execution_count": 7,
     "metadata": {},
     "output_type": "execute_result"
    }
   ],
   "source": [
    "' '.join(data_neg_tokenized[11][1])"
   ]
  },
  {
   "cell_type": "markdown",
   "metadata": {},
   "source": [
    "### Train Test Split"
   ]
  },
  {
   "cell_type": "code",
   "execution_count": 138,
   "metadata": {},
   "outputs": [],
   "source": [
    "NVALID = 5000\n",
    "from random import shuffle\n",
    "train_data = data_pos_tokenized[NVALID:] + data_neg_tokenized[NVALID:]\n",
    "shuffle(train_data)\n",
    "valid_data = data_pos_tokenized[:NVALID] + data_neg_tokenized[:NVALID]\n",
    "shuffle(valid_data)"
   ]
  },
  {
   "cell_type": "markdown",
   "metadata": {},
   "source": [
    "### Class Construction"
   ]
  },
  {
   "cell_type": "code",
   "execution_count": 234,
   "metadata": {},
   "outputs": [
    {
     "name": "stderr",
     "output_type": "stream",
     "text": [
      "Processing Comments: 100%|██████████| 10000/10000 [00:00<00:00, 55219.24it/s]\n"
     ]
    }
   ],
   "source": [
    "reload(qv)\n",
    "comments = qv.CommentVocab(valid_data)"
   ]
  },
  {
   "cell_type": "markdown",
   "metadata": {},
   "source": [
    "### Comparison of Question Length by Class"
   ]
  },
  {
   "cell_type": "code",
   "execution_count": 235,
   "metadata": {},
   "outputs": [
    {
     "name": "stdout",
     "output_type": "stream",
     "text": [
      "----Length of Positive Examples-----\n",
      "count    80810.000000\n",
      "mean        17.462888\n",
      "std          9.686994\n",
      "min          1.000000\n",
      "25%         10.000000\n",
      "50%         15.000000\n",
      "75%         23.000000\n",
      "max         90.000000\n",
      "dtype: float64\n",
      "\n",
      "----Length of Negative Examples-----\n",
      "count    1.225312e+06\n",
      "mean     1.263137e+01\n",
      "std      6.843014e+00\n",
      "min      2.000000e+00\n",
      "25%      8.000000e+00\n",
      "50%      1.100000e+01\n",
      "75%      1.500000e+01\n",
      "max      1.330000e+02\n",
      "dtype: float64\n"
     ]
    }
   ],
   "source": [
    "pos_lengths = [ len(vec[1]) for vec in data_pos_tokenized]\n",
    "neg_lengths = [ len(vec[1]) for vec in data_neg_tokenized]\n",
    "print('{}\\n{}\\n'.format('----Length of Positive Examples-----',pd.Series(pos_lengths).describe()))\n",
    "print('{}\\n{}'.format('----Length of Negative Examples-----',pd.Series(neg_lengths).describe()))"
   ]
  },
  {
   "cell_type": "code",
   "execution_count": 236,
   "metadata": {},
   "outputs": [
    {
     "data": {
      "text/html": [
       "\n",
       "\n",
       "\n",
       "\n",
       "\n",
       "\n",
       "  <div class=\"bk-root\" id=\"ab63753b-382a-46a6-b5b8-030eed9752b7\" data-root-id=\"43176\"></div>\n"
      ]
     },
     "metadata": {},
     "output_type": "display_data"
    },
    {
     "data": {
      "application/javascript": [
       "(function(root) {\n",
       "  function embed_document(root) {\n",
       "    \n",
       "  var docs_json = {\"3045697b-f599-4165-b9db-afe7447b0ba1\":{\"roots\":{\"references\":[{\"attributes\":{\"below\":[{\"id\":\"43187\",\"type\":\"LinearAxis\"}],\"center\":[{\"id\":\"43191\",\"type\":\"Grid\"},{\"id\":\"43196\",\"type\":\"Grid\"},{\"id\":\"43222\",\"type\":\"Legend\"}],\"left\":[{\"id\":\"43192\",\"type\":\"LinearAxis\"}],\"plot_height\":400,\"plot_width\":750,\"renderers\":[{\"id\":\"43214\",\"type\":\"GlyphRenderer\"},{\"id\":\"43228\",\"type\":\"GlyphRenderer\"}],\"title\":{\"id\":\"43177\",\"type\":\"Title\"},\"toolbar\":{\"id\":\"43203\",\"type\":\"Toolbar\"},\"x_range\":{\"id\":\"43179\",\"type\":\"DataRange1d\"},\"x_scale\":{\"id\":\"43183\",\"type\":\"LinearScale\"},\"y_range\":{\"id\":\"43181\",\"type\":\"DataRange1d\"},\"y_scale\":{\"id\":\"43185\",\"type\":\"LinearScale\"}},\"id\":\"43176\",\"subtype\":\"Figure\",\"type\":\"Plot\"},{\"attributes\":{},\"id\":\"43200\",\"type\":\"SaveTool\"},{\"attributes\":{\"callback\":null},\"id\":\"43179\",\"type\":\"DataRange1d\"},{\"attributes\":{\"overlay\":{\"id\":\"43221\",\"type\":\"BoxAnnotation\"}},\"id\":\"43199\",\"type\":\"BoxZoomTool\"},{\"attributes\":{\"label\":{\"value\":\"Inappropriate\"},\"renderers\":[{\"id\":\"43214\",\"type\":\"GlyphRenderer\"}]},\"id\":\"43223\",\"type\":\"LegendItem\"},{\"attributes\":{\"fill_alpha\":{\"value\":0.1},\"fill_color\":{\"value\":\"#1f77b4\"},\"line_alpha\":{\"value\":0.1},\"line_color\":{\"value\":\"#1f77b4\"},\"top\":{\"field\":\"pos\"},\"width\":{\"value\":0.9},\"x\":{\"field\":\"lengths\"}},\"id\":\"43213\",\"type\":\"VBar\"},{\"attributes\":{\"callback\":null,\"data\":{\"lengths\":[0,1,2,3,4,5,6,7,8,9,10,11,12,13,14,15,16,17,18,19,20,21,22,23,24,25,26,27,28,29,30,31,32,33,34,35,36,37,38,39,40,41,42,43,44,45,46,47,48,49,50,51,52,53,54,55,56,57],\"neg\":[0,0,0,0.0036,0.0188,0.0352,0.0556,0.081,0.1012,0.0962,0.0886,0.0756,0.0684,0.0572,0.0462,0.0362,0.0386,0.029,0.0214,0.0186,0.019,0.0154,0.0116,0.0088,0.0102,0.0094,0.007,0.0058,0.0058,0.0032,0.0042,0.0038,0.004,0.0014,0.0028,0.0018,0.001,0.0014,0.0014,0.001,0.0014,0.002,0.001,0.0008,0.0004,0.001,0.0004,0.001,0.0004,0.0004,0.0006,0,0,0,0,0,0,0.0002],\"pos\":[0,0,0.0006,0.0026,0.0116,0.0278,0.0364,0.0458,0.0518,0.05,0.0498,0.048,0.0502,0.0434,0.0442,0.0432,0.0388,0.038,0.0358,0.0336,0.0308,0.0278,0.0262,0.0256,0.0256,0.0218,0.018,0.0178,0.0176,0.013,0.012,0.011,0.0098,0.007,0.0102,0.0114,0.006,0.0066,0.0086,0.0078,0.0078,0.0064,0.0054,0.003,0.004,0.002,0.0012,0.0012,0.001,0.0008,0.0004,0.0004,0.0002,0,0,0,0,0]},\"selected\":{\"id\":\"43978\",\"type\":\"Selection\"},\"selection_policy\":{\"id\":\"43977\",\"type\":\"UnionRenderers\"}},\"id\":\"43224\",\"type\":\"ColumnDataSource\"},{\"attributes\":{\"ticker\":{\"id\":\"43188\",\"type\":\"BasicTicker\"}},\"id\":\"43191\",\"type\":\"Grid\"},{\"attributes\":{},\"id\":\"43183\",\"type\":\"LinearScale\"},{\"attributes\":{},\"id\":\"43978\",\"type\":\"Selection\"},{\"attributes\":{\"active_drag\":\"auto\",\"active_inspect\":\"auto\",\"active_multi\":null,\"active_scroll\":\"auto\",\"active_tap\":\"auto\",\"tools\":[{\"id\":\"43197\",\"type\":\"PanTool\"},{\"id\":\"43198\",\"type\":\"WheelZoomTool\"},{\"id\":\"43199\",\"type\":\"BoxZoomTool\"},{\"id\":\"43200\",\"type\":\"SaveTool\"},{\"id\":\"43201\",\"type\":\"ResetTool\"},{\"id\":\"43202\",\"type\":\"HelpTool\"}]},\"id\":\"43203\",\"type\":\"Toolbar\"},{\"attributes\":{},\"id\":\"43236\",\"type\":\"UnionRenderers\"},{\"attributes\":{},\"id\":\"43217\",\"type\":\"BasicTickFormatter\"},{\"attributes\":{\"fill_alpha\":{\"value\":0.1},\"fill_color\":{\"value\":\"#1f77b4\"},\"line_alpha\":{\"value\":0.1},\"line_color\":{\"value\":\"#1f77b4\"},\"top\":{\"field\":\"neg\"},\"width\":{\"value\":0.9},\"x\":{\"field\":\"lengths\"}},\"id\":\"43227\",\"type\":\"VBar\"},{\"attributes\":{\"label\":{\"value\":\"Appropriate\"},\"renderers\":[{\"id\":\"43228\",\"type\":\"GlyphRenderer\"}]},\"id\":\"43238\",\"type\":\"LegendItem\"},{\"attributes\":{\"dimension\":1,\"ticker\":{\"id\":\"43193\",\"type\":\"BasicTicker\"}},\"id\":\"43196\",\"type\":\"Grid\"},{\"attributes\":{\"text\":\"Distribution of Question Lengths\"},\"id\":\"43177\",\"type\":\"Title\"},{\"attributes\":{},\"id\":\"43237\",\"type\":\"Selection\"},{\"attributes\":{\"fill_alpha\":{\"value\":0.75},\"fill_color\":{\"value\":\"#718dbf\"},\"line_alpha\":{\"value\":0.75},\"line_color\":{\"value\":\"#718dbf\"},\"top\":{\"field\":\"pos\"},\"width\":{\"value\":0.9},\"x\":{\"field\":\"lengths\"}},\"id\":\"43212\",\"type\":\"VBar\"},{\"attributes\":{},\"id\":\"43193\",\"type\":\"BasicTicker\"},{\"attributes\":{},\"id\":\"43977\",\"type\":\"UnionRenderers\"},{\"attributes\":{},\"id\":\"43197\",\"type\":\"PanTool\"},{\"attributes\":{\"callback\":null,\"data\":{\"lengths\":[0,1,2,3,4,5,6,7,8,9,10,11,12,13,14,15,16,17,18,19,20,21,22,23,24,25,26,27,28,29,30,31,32,33,34,35,36,37,38,39,40,41,42,43,44,45,46,47,48,49,50,51,52,53,54,55,56,57],\"neg\":[0,0,0,0.0036,0.0188,0.0352,0.0556,0.081,0.1012,0.0962,0.0886,0.0756,0.0684,0.0572,0.0462,0.0362,0.0386,0.029,0.0214,0.0186,0.019,0.0154,0.0116,0.0088,0.0102,0.0094,0.007,0.0058,0.0058,0.0032,0.0042,0.0038,0.004,0.0014,0.0028,0.0018,0.001,0.0014,0.0014,0.001,0.0014,0.002,0.001,0.0008,0.0004,0.001,0.0004,0.001,0.0004,0.0004,0.0006,0,0,0,0,0,0,0.0002],\"pos\":[0,0,0.0006,0.0026,0.0116,0.0278,0.0364,0.0458,0.0518,0.05,0.0498,0.048,0.0502,0.0434,0.0442,0.0432,0.0388,0.038,0.0358,0.0336,0.0308,0.0278,0.0262,0.0256,0.0256,0.0218,0.018,0.0178,0.0176,0.013,0.012,0.011,0.0098,0.007,0.0102,0.0114,0.006,0.0066,0.0086,0.0078,0.0078,0.0064,0.0054,0.003,0.004,0.002,0.0012,0.0012,0.001,0.0008,0.0004,0.0004,0.0002,0,0,0,0,0]},\"selected\":{\"id\":\"43237\",\"type\":\"Selection\"},\"selection_policy\":{\"id\":\"43236\",\"type\":\"UnionRenderers\"}},\"id\":\"43210\",\"type\":\"ColumnDataSource\"},{\"attributes\":{\"items\":[{\"id\":\"43223\",\"type\":\"LegendItem\"},{\"id\":\"43238\",\"type\":\"LegendItem\"}]},\"id\":\"43222\",\"type\":\"Legend\"},{\"attributes\":{\"formatter\":{\"id\":\"43217\",\"type\":\"BasicTickFormatter\"},\"ticker\":{\"id\":\"43193\",\"type\":\"BasicTicker\"}},\"id\":\"43192\",\"type\":\"LinearAxis\"},{\"attributes\":{},\"id\":\"43219\",\"type\":\"BasicTickFormatter\"},{\"attributes\":{\"source\":{\"id\":\"43224\",\"type\":\"ColumnDataSource\"}},\"id\":\"43229\",\"type\":\"CDSView\"},{\"attributes\":{\"data_source\":{\"id\":\"43210\",\"type\":\"ColumnDataSource\"},\"glyph\":{\"id\":\"43212\",\"type\":\"VBar\"},\"hover_glyph\":null,\"muted_glyph\":null,\"nonselection_glyph\":{\"id\":\"43213\",\"type\":\"VBar\"},\"selection_glyph\":null,\"view\":{\"id\":\"43215\",\"type\":\"CDSView\"}},\"id\":\"43214\",\"type\":\"GlyphRenderer\"},{\"attributes\":{\"data_source\":{\"id\":\"43224\",\"type\":\"ColumnDataSource\"},\"glyph\":{\"id\":\"43226\",\"type\":\"VBar\"},\"hover_glyph\":null,\"muted_glyph\":null,\"nonselection_glyph\":{\"id\":\"43227\",\"type\":\"VBar\"},\"selection_glyph\":null,\"view\":{\"id\":\"43229\",\"type\":\"CDSView\"}},\"id\":\"43228\",\"type\":\"GlyphRenderer\"},{\"attributes\":{},\"id\":\"43201\",\"type\":\"ResetTool\"},{\"attributes\":{},\"id\":\"43188\",\"type\":\"BasicTicker\"},{\"attributes\":{\"source\":{\"id\":\"43210\",\"type\":\"ColumnDataSource\"}},\"id\":\"43215\",\"type\":\"CDSView\"},{\"attributes\":{},\"id\":\"43185\",\"type\":\"LinearScale\"},{\"attributes\":{},\"id\":\"43202\",\"type\":\"HelpTool\"},{\"attributes\":{},\"id\":\"43198\",\"type\":\"WheelZoomTool\"},{\"attributes\":{\"callback\":null},\"id\":\"43181\",\"type\":\"DataRange1d\"},{\"attributes\":{\"bottom_units\":\"screen\",\"fill_alpha\":{\"value\":0.5},\"fill_color\":{\"value\":\"lightgrey\"},\"left_units\":\"screen\",\"level\":\"overlay\",\"line_alpha\":{\"value\":1.0},\"line_color\":{\"value\":\"black\"},\"line_dash\":[4,4],\"line_width\":{\"value\":2},\"render_mode\":\"css\",\"right_units\":\"screen\",\"top_units\":\"screen\"},\"id\":\"43221\",\"type\":\"BoxAnnotation\"},{\"attributes\":{\"formatter\":{\"id\":\"43219\",\"type\":\"BasicTickFormatter\"},\"ticker\":{\"id\":\"43188\",\"type\":\"BasicTicker\"}},\"id\":\"43187\",\"type\":\"LinearAxis\"},{\"attributes\":{\"fill_alpha\":{\"value\":0.75},\"fill_color\":{\"value\":\"#c9d9d3\"},\"line_alpha\":{\"value\":0.75},\"line_color\":{\"value\":\"#c9d9d3\"},\"top\":{\"field\":\"neg\"},\"width\":{\"value\":0.9},\"x\":{\"field\":\"lengths\"}},\"id\":\"43226\",\"type\":\"VBar\"}],\"root_ids\":[\"43176\"]},\"title\":\"Bokeh Application\",\"version\":\"1.3.4\"}};\n",
       "  var render_items = [{\"docid\":\"3045697b-f599-4165-b9db-afe7447b0ba1\",\"roots\":{\"43176\":\"ab63753b-382a-46a6-b5b8-030eed9752b7\"}}];\n",
       "  root.Bokeh.embed.embed_items_notebook(docs_json, render_items);\n",
       "\n",
       "  }\n",
       "  if (root.Bokeh !== undefined) {\n",
       "    embed_document(root);\n",
       "  } else {\n",
       "    var attempts = 0;\n",
       "    var timer = setInterval(function(root) {\n",
       "      if (root.Bokeh !== undefined) {\n",
       "        embed_document(root);\n",
       "        clearInterval(timer);\n",
       "      }\n",
       "      attempts++;\n",
       "      if (attempts > 100) {\n",
       "        console.log(\"Bokeh: ERROR: Unable to run BokehJS code because BokehJS library is missing\");\n",
       "        clearInterval(timer);\n",
       "      }\n",
       "    }, 10, root)\n",
       "  }\n",
       "})(window);"
      ],
      "application/vnd.bokehjs_exec.v0+json": ""
     },
     "metadata": {
      "application/vnd.bokehjs_exec.v0+json": {
       "id": "43176"
      }
     },
     "output_type": "display_data"
    }
   ],
   "source": [
    "comments.comment_length_graph()"
   ]
  },
  {
   "cell_type": "markdown",
   "metadata": {},
   "source": [
    "#### Comments\n",
    "\n",
    "* We can see from the summary statistics and the empirical distribution that the distribution of inappropriate questions has far fatter tails than the distribution of appropriate questions demonstrating that innaproriate questions tend to be somewhat longer. This matches what one would expect from the description of the innapropriate class which includes questions that are really statements of some position that the user has, or just generalized trolling.\n",
    "\n",
    "* On the other hand one can interpret the relative shortness of appropriate question as reflecting more concise and clearly stated questions. "
   ]
  },
  {
   "cell_type": "markdown",
   "metadata": {},
   "source": [
    "### Comparison of Word Frequency By Class"
   ]
  },
  {
   "cell_type": "code",
   "execution_count": 237,
   "metadata": {},
   "outputs": [
    {
     "data": {
      "text/html": [
       "\n",
       "\n",
       "\n",
       "\n",
       "\n",
       "\n",
       "  <div class=\"bk-root\" id=\"dd2b46d3-95f1-4822-8b15-5de44b7572b5\" data-root-id=\"44042\"></div>\n"
      ]
     },
     "metadata": {},
     "output_type": "display_data"
    },
    {
     "data": {
      "application/javascript": [
       "(function(root) {\n",
       "  function embed_document(root) {\n",
       "    \n",
       "  var docs_json = {\"ebb36e65-8441-48fc-9e9e-f654981e3569\":{\"roots\":{\"references\":[{\"attributes\":{\"below\":[{\"id\":\"44053\",\"type\":\"CategoricalAxis\"}],\"center\":[{\"id\":\"44056\",\"type\":\"Grid\"},{\"id\":\"44061\",\"type\":\"Grid\"}],\"left\":[{\"id\":\"44057\",\"type\":\"LinearAxis\"}],\"plot_height\":300,\"plot_width\":750,\"renderers\":[{\"id\":\"44089\",\"type\":\"GlyphRenderer\"}],\"title\":{\"id\":\"44043\",\"type\":\"Title\"},\"toolbar\":{\"id\":\"44062\",\"type\":\"Toolbar\"},\"x_range\":{\"id\":\"44045\",\"type\":\"FactorRange\"},\"x_scale\":{\"id\":\"44049\",\"type\":\"CategoricalScale\"},\"y_range\":{\"id\":\"44047\",\"type\":\"DataRange1d\"},\"y_scale\":{\"id\":\"44051\",\"type\":\"LinearScale\"}},\"id\":\"44042\",\"subtype\":\"Figure\",\"type\":\"Plot\"},{\"attributes\":{},\"id\":\"44051\",\"type\":\"LinearScale\"},{\"attributes\":{\"text\":\"Appropriate Question Unigram Frequency\"},\"id\":\"44043\",\"type\":\"Title\"},{\"attributes\":{},\"id\":\"44049\",\"type\":\"CategoricalScale\"},{\"attributes\":{\"fill_color\":{\"value\":\"#1f77b4\"},\"line_color\":{\"value\":\"#1f77b4\"},\"top\":{\"field\":\"neg_vocab_freq\"},\"width\":{\"value\":0.9},\"x\":{\"field\":\"neg_vocab_words\"}},\"id\":\"44087\",\"type\":\"VBar\"},{\"attributes\":{\"callback\":null},\"id\":\"44047\",\"type\":\"DataRange1d\"},{\"attributes\":{\"fill_alpha\":{\"value\":0.1},\"fill_color\":{\"value\":\"#1f77b4\"},\"line_alpha\":{\"value\":0.1},\"line_color\":{\"value\":\"#1f77b4\"},\"top\":{\"field\":\"neg_vocab_freq\"},\"width\":{\"value\":0.9},\"x\":{\"field\":\"neg_vocab_words\"}},\"id\":\"44088\",\"type\":\"VBar\"},{\"attributes\":{\"callback\":null,\"factors\":[\"what\",\"is\",\"a\",\"in\",\"to\",\"of\",\"i\",\"how\",\"are\",\"and\",\"do\",\"for\",\"you\",\"can\",\"why\",\"it\",\"my\",\"that\",\"does\",\"on\",\"with\",\"if\",\"have\",\"or\",\"be\",\"from\",\"best\",\"which\",\"your\",\"get\",\"should\",\"DG\",\"would\",\"an\",\"when\",\"some\",\"as\",\"there\",\"DGDG\",\"at\",\"people\",\"who\",\"like\",\"will\",\"was\",\"not\",\"by\"]},\"id\":\"44045\",\"type\":\"FactorRange\"},{\"attributes\":{\"data_source\":{\"id\":\"44039\",\"type\":\"ColumnDataSource\"},\"glyph\":{\"id\":\"44087\",\"type\":\"VBar\"},\"hover_glyph\":null,\"muted_glyph\":null,\"nonselection_glyph\":{\"id\":\"44088\",\"type\":\"VBar\"},\"selection_glyph\":null,\"view\":{\"id\":\"44090\",\"type\":\"CDSView\"}},\"id\":\"44089\",\"type\":\"GlyphRenderer\"},{\"attributes\":{\"grid_line_color\":null,\"ticker\":{\"id\":\"44054\",\"type\":\"CategoricalTicker\"}},\"id\":\"44056\",\"type\":\"Grid\"},{\"attributes\":{\"source\":{\"id\":\"44039\",\"type\":\"ColumnDataSource\"}},\"id\":\"44090\",\"type\":\"CDSView\"},{\"attributes\":{\"callback\":null,\"data\":{\"neg_vocab_freq\":[0.024663061678241057,0.022782794872498697,0.02131426532348824,0.01979083747358019,0.01954379511954105,0.01714199445527161,0.016222447915237023,0.015014685295490104,0.012818753259586617,0.012736405808240234,0.012736405808240234,0.011130630506985808,0.010663994949356317,0.009291537426916636,0.007534791798193846,0.006711317284730038,0.005462380939309929,0.005448656364085531,0.004954571656007246,0.0048859487798852625,0.004872224204660866,0.004748703027641295,0.004707529301968104,0.004611457275397327,0.004556558974499739,0.003870330213279899,0.003815431912382312,0.0037056353105871373,0.00365073700968955,0.003431143806099201,0.00330762262907963,0.0032801734786308363,0.0031566523016112653,0.0030468556998160907,0.0030056819741429,0.0030056819741429,0.0029233345227965193,0.0027037413192061706,0.0026488430183085835,0.002525321841289012,0.002470423540391425,0.002470423540391425,0.002470423540391425,0.0024292498147182344,0.0022233811863522825,0.002182207460679092,0.0021410337350059017],\"neg_vocab_words\":[\"what\",\"is\",\"a\",\"in\",\"to\",\"of\",\"i\",\"how\",\"are\",\"and\",\"do\",\"for\",\"you\",\"can\",\"why\",\"it\",\"my\",\"that\",\"does\",\"on\",\"with\",\"if\",\"have\",\"or\",\"be\",\"from\",\"best\",\"which\",\"your\",\"get\",\"should\",\"DG\",\"would\",\"an\",\"when\",\"some\",\"as\",\"there\",\"DGDG\",\"at\",\"people\",\"who\",\"like\",\"will\",\"was\",\"not\",\"by\"],\"pos_vocab_freq\":[0.02311325598110689,0.022723072184002463,0.018287298490604786,0.01727076701920115,0.016777903275490298,0.015822979772050518,0.01571003183078345,0.014826984289968169,0.013368929048156895,0.010370674607249204,0.008635383509600575,0.008317075675120649,0.007629120032857583,0.0069206284012732315,0.006910360406612588,0.006129992812403738,0.006119724817743095,0.006078652839100524,0.0059759728924940955,0.005832220967245097,0.005667933052674812,0.005226409282267174,0.005205873292945888,0.005185337303624602,0.005051853373036246,0.004784885511859534,0.004743813533216963,0.0045384536400041075,0.0042098778108635385,0.003912105965704898,0.003891569976383612,0.003727282061813328,0.003573262141903686,0.0034705821952972582,0.0034603142006366158,0.0032857582914056884,0.00325495430742376,0.0031420063661566897,0.0030906663928534756,0.003080398398192833,0.003029058424889619,0.0026902146010884076,0.0026594106171064793,0.002608070643803265,0.0025978026491426227,0.00251565869185748,0.002484854707875552],\"pos_vocab_words\":[\"why\",\"to\",\"and\",\"is\",\"a\",\"do\",\"of\",\"are\",\"in\",\"that\",\"it\",\"people\",\"they\",\"i\",\"for\",\"have\",\"you\",\"with\",\"how\",\"so\",\"their\",\"be\",\"on\",\"what\",\"if\",\"as\",\"or\",\"not\",\"when\",\"like\",\"can\",\"trump\",\"does\",\"who\",\"about\",\"by\",\"women\",\"my\",\"will\",\"from\",\"all\",\"think\",\"would\",\"an\",\"did\",\"but\",\"should\"]},\"selected\":{\"id\":\"44842\",\"type\":\"Selection\"},\"selection_policy\":{\"id\":\"44841\",\"type\":\"UnionRenderers\"}},\"id\":\"44039\",\"type\":\"ColumnDataSource\"},{\"attributes\":{\"active_drag\":\"auto\",\"active_inspect\":\"auto\",\"active_multi\":null,\"active_scroll\":\"auto\",\"active_tap\":\"auto\",\"tools\":[{\"id\":\"44040\",\"type\":\"HoverTool\"}]},\"id\":\"44062\",\"type\":\"Toolbar\"},{\"attributes\":{\"callback\":null,\"tooltips\":[[\"Word\",\"$neg_vocab_words\"],[\"Freq\",\"$neg_vocab_freq\"]]},\"id\":\"44040\",\"type\":\"HoverTool\"},{\"attributes\":{\"dimension\":1,\"ticker\":{\"id\":\"44058\",\"type\":\"BasicTicker\"}},\"id\":\"44061\",\"type\":\"Grid\"},{\"attributes\":{\"formatter\":{\"id\":\"44839\",\"type\":\"CategoricalTickFormatter\"},\"major_label_orientation\":1,\"ticker\":{\"id\":\"44054\",\"type\":\"CategoricalTicker\"}},\"id\":\"44053\",\"type\":\"CategoricalAxis\"},{\"attributes\":{},\"id\":\"44058\",\"type\":\"BasicTicker\"},{\"attributes\":{},\"id\":\"44839\",\"type\":\"CategoricalTickFormatter\"},{\"attributes\":{},\"id\":\"44054\",\"type\":\"CategoricalTicker\"},{\"attributes\":{},\"id\":\"44837\",\"type\":\"BasicTickFormatter\"},{\"attributes\":{},\"id\":\"44841\",\"type\":\"UnionRenderers\"},{\"attributes\":{\"formatter\":{\"id\":\"44837\",\"type\":\"BasicTickFormatter\"},\"ticker\":{\"id\":\"44058\",\"type\":\"BasicTicker\"}},\"id\":\"44057\",\"type\":\"LinearAxis\"},{\"attributes\":{},\"id\":\"44842\",\"type\":\"Selection\"}],\"root_ids\":[\"44042\"]},\"title\":\"Bokeh Application\",\"version\":\"1.3.4\"}};\n",
       "  var render_items = [{\"docid\":\"ebb36e65-8441-48fc-9e9e-f654981e3569\",\"roots\":{\"44042\":\"dd2b46d3-95f1-4822-8b15-5de44b7572b5\"}}];\n",
       "  root.Bokeh.embed.embed_items_notebook(docs_json, render_items);\n",
       "\n",
       "  }\n",
       "  if (root.Bokeh !== undefined) {\n",
       "    embed_document(root);\n",
       "  } else {\n",
       "    var attempts = 0;\n",
       "    var timer = setInterval(function(root) {\n",
       "      if (root.Bokeh !== undefined) {\n",
       "        embed_document(root);\n",
       "        clearInterval(timer);\n",
       "      }\n",
       "      attempts++;\n",
       "      if (attempts > 100) {\n",
       "        console.log(\"Bokeh: ERROR: Unable to run BokehJS code because BokehJS library is missing\");\n",
       "        clearInterval(timer);\n",
       "      }\n",
       "    }, 10, root)\n",
       "  }\n",
       "})(window);"
      ],
      "application/vnd.bokehjs_exec.v0+json": ""
     },
     "metadata": {
      "application/vnd.bokehjs_exec.v0+json": {
       "id": "44042"
      }
     },
     "output_type": "display_data"
    },
    {
     "data": {
      "text/html": [
       "\n",
       "\n",
       "\n",
       "\n",
       "\n",
       "\n",
       "  <div class=\"bk-root\" id=\"ea91f2a7-8ef5-49c9-a34e-b7c27b529374\" data-root-id=\"44064\"></div>\n"
      ]
     },
     "metadata": {},
     "output_type": "display_data"
    },
    {
     "data": {
      "application/javascript": [
       "(function(root) {\n",
       "  function embed_document(root) {\n",
       "    \n",
       "  var docs_json = {\"396f0cf8-a36d-4b94-98aa-535c355810f9\":{\"roots\":{\"references\":[{\"attributes\":{\"below\":[{\"id\":\"44075\",\"type\":\"CategoricalAxis\"}],\"center\":[{\"id\":\"44078\",\"type\":\"Grid\"},{\"id\":\"44083\",\"type\":\"Grid\"}],\"left\":[{\"id\":\"44079\",\"type\":\"LinearAxis\"}],\"plot_height\":300,\"plot_width\":750,\"renderers\":[{\"id\":\"44094\",\"type\":\"GlyphRenderer\"}],\"title\":{\"id\":\"44065\",\"type\":\"Title\"},\"toolbar\":{\"id\":\"44084\",\"type\":\"Toolbar\"},\"x_range\":{\"id\":\"44067\",\"type\":\"FactorRange\"},\"x_scale\":{\"id\":\"44071\",\"type\":\"CategoricalScale\"},\"y_range\":{\"id\":\"44069\",\"type\":\"DataRange1d\"},\"y_scale\":{\"id\":\"44073\",\"type\":\"LinearScale\"}},\"id\":\"44064\",\"subtype\":\"Figure\",\"type\":\"Plot\"},{\"attributes\":{\"grid_line_color\":null,\"ticker\":{\"id\":\"44076\",\"type\":\"CategoricalTicker\"}},\"id\":\"44078\",\"type\":\"Grid\"},{\"attributes\":{\"formatter\":{\"id\":\"45633\",\"type\":\"BasicTickFormatter\"},\"ticker\":{\"id\":\"44080\",\"type\":\"BasicTicker\"}},\"id\":\"44079\",\"type\":\"LinearAxis\"},{\"attributes\":{},\"id\":\"44080\",\"type\":\"BasicTicker\"},{\"attributes\":{\"dimension\":1,\"ticker\":{\"id\":\"44080\",\"type\":\"BasicTicker\"}},\"id\":\"44083\",\"type\":\"Grid\"},{\"attributes\":{},\"id\":\"44073\",\"type\":\"LinearScale\"},{\"attributes\":{\"active_drag\":\"auto\",\"active_inspect\":\"auto\",\"active_multi\":null,\"active_scroll\":\"auto\",\"active_tap\":\"auto\",\"tools\":[{\"id\":\"44041\",\"type\":\"HoverTool\"}]},\"id\":\"44084\",\"type\":\"Toolbar\"},{\"attributes\":{},\"id\":\"44842\",\"type\":\"Selection\"},{\"attributes\":{\"text\":\"Inappropriate Question Unigram Frequency\"},\"id\":\"44065\",\"type\":\"Title\"},{\"attributes\":{\"callback\":null,\"data\":{\"neg_vocab_freq\":[0.024663061678241057,0.022782794872498697,0.02131426532348824,0.01979083747358019,0.01954379511954105,0.01714199445527161,0.016222447915237023,0.015014685295490104,0.012818753259586617,0.012736405808240234,0.012736405808240234,0.011130630506985808,0.010663994949356317,0.009291537426916636,0.007534791798193846,0.006711317284730038,0.005462380939309929,0.005448656364085531,0.004954571656007246,0.0048859487798852625,0.004872224204660866,0.004748703027641295,0.004707529301968104,0.004611457275397327,0.004556558974499739,0.003870330213279899,0.003815431912382312,0.0037056353105871373,0.00365073700968955,0.003431143806099201,0.00330762262907963,0.0032801734786308363,0.0031566523016112653,0.0030468556998160907,0.0030056819741429,0.0030056819741429,0.0029233345227965193,0.0027037413192061706,0.0026488430183085835,0.002525321841289012,0.002470423540391425,0.002470423540391425,0.002470423540391425,0.0024292498147182344,0.0022233811863522825,0.002182207460679092,0.0021410337350059017],\"neg_vocab_words\":[\"what\",\"is\",\"a\",\"in\",\"to\",\"of\",\"i\",\"how\",\"are\",\"and\",\"do\",\"for\",\"you\",\"can\",\"why\",\"it\",\"my\",\"that\",\"does\",\"on\",\"with\",\"if\",\"have\",\"or\",\"be\",\"from\",\"best\",\"which\",\"your\",\"get\",\"should\",\"DG\",\"would\",\"an\",\"when\",\"some\",\"as\",\"there\",\"DGDG\",\"at\",\"people\",\"who\",\"like\",\"will\",\"was\",\"not\",\"by\"],\"pos_vocab_freq\":[0.02311325598110689,0.022723072184002463,0.018287298490604786,0.01727076701920115,0.016777903275490298,0.015822979772050518,0.01571003183078345,0.014826984289968169,0.013368929048156895,0.010370674607249204,0.008635383509600575,0.008317075675120649,0.007629120032857583,0.0069206284012732315,0.006910360406612588,0.006129992812403738,0.006119724817743095,0.006078652839100524,0.0059759728924940955,0.005832220967245097,0.005667933052674812,0.005226409282267174,0.005205873292945888,0.005185337303624602,0.005051853373036246,0.004784885511859534,0.004743813533216963,0.0045384536400041075,0.0042098778108635385,0.003912105965704898,0.003891569976383612,0.003727282061813328,0.003573262141903686,0.0034705821952972582,0.0034603142006366158,0.0032857582914056884,0.00325495430742376,0.0031420063661566897,0.0030906663928534756,0.003080398398192833,0.003029058424889619,0.0026902146010884076,0.0026594106171064793,0.002608070643803265,0.0025978026491426227,0.00251565869185748,0.002484854707875552],\"pos_vocab_words\":[\"why\",\"to\",\"and\",\"is\",\"a\",\"do\",\"of\",\"are\",\"in\",\"that\",\"it\",\"people\",\"they\",\"i\",\"for\",\"have\",\"you\",\"with\",\"how\",\"so\",\"their\",\"be\",\"on\",\"what\",\"if\",\"as\",\"or\",\"not\",\"when\",\"like\",\"can\",\"trump\",\"does\",\"who\",\"about\",\"by\",\"women\",\"my\",\"will\",\"from\",\"all\",\"think\",\"would\",\"an\",\"did\",\"but\",\"should\"]},\"selected\":{\"id\":\"44842\",\"type\":\"Selection\"},\"selection_policy\":{\"id\":\"44841\",\"type\":\"UnionRenderers\"}},\"id\":\"44039\",\"type\":\"ColumnDataSource\"},{\"attributes\":{\"fill_color\":{\"value\":\"#1f77b4\"},\"line_color\":{\"value\":\"#1f77b4\"},\"top\":{\"field\":\"pos_vocab_freq\"},\"width\":{\"value\":0.9},\"x\":{\"field\":\"pos_vocab_words\"}},\"id\":\"44092\",\"type\":\"VBar\"},{\"attributes\":{},\"id\":\"44071\",\"type\":\"CategoricalScale\"},{\"attributes\":{\"callback\":null,\"tooltips\":[[\"Word\",\"$pos_vocab_words\"],[\"Freq\",\"$pos_vocab_freq\"]]},\"id\":\"44041\",\"type\":\"HoverTool\"},{\"attributes\":{\"fill_alpha\":{\"value\":0.1},\"fill_color\":{\"value\":\"#1f77b4\"},\"line_alpha\":{\"value\":0.1},\"line_color\":{\"value\":\"#1f77b4\"},\"top\":{\"field\":\"pos_vocab_freq\"},\"width\":{\"value\":0.9},\"x\":{\"field\":\"pos_vocab_words\"}},\"id\":\"44093\",\"type\":\"VBar\"},{\"attributes\":{\"callback\":null},\"id\":\"44069\",\"type\":\"DataRange1d\"},{\"attributes\":{\"data_source\":{\"id\":\"44039\",\"type\":\"ColumnDataSource\"},\"glyph\":{\"id\":\"44092\",\"type\":\"VBar\"},\"hover_glyph\":null,\"muted_glyph\":null,\"nonselection_glyph\":{\"id\":\"44093\",\"type\":\"VBar\"},\"selection_glyph\":null,\"view\":{\"id\":\"44095\",\"type\":\"CDSView\"}},\"id\":\"44094\",\"type\":\"GlyphRenderer\"},{\"attributes\":{},\"id\":\"45635\",\"type\":\"CategoricalTickFormatter\"},{\"attributes\":{\"source\":{\"id\":\"44039\",\"type\":\"ColumnDataSource\"}},\"id\":\"44095\",\"type\":\"CDSView\"},{\"attributes\":{},\"id\":\"45633\",\"type\":\"BasicTickFormatter\"},{\"attributes\":{},\"id\":\"44076\",\"type\":\"CategoricalTicker\"},{\"attributes\":{\"formatter\":{\"id\":\"45635\",\"type\":\"CategoricalTickFormatter\"},\"major_label_orientation\":1,\"ticker\":{\"id\":\"44076\",\"type\":\"CategoricalTicker\"}},\"id\":\"44075\",\"type\":\"CategoricalAxis\"},{\"attributes\":{},\"id\":\"44841\",\"type\":\"UnionRenderers\"},{\"attributes\":{\"callback\":null,\"factors\":[\"why\",\"to\",\"and\",\"is\",\"a\",\"do\",\"of\",\"are\",\"in\",\"that\",\"it\",\"people\",\"they\",\"i\",\"for\",\"have\",\"you\",\"with\",\"how\",\"so\",\"their\",\"be\",\"on\",\"what\",\"if\",\"as\",\"or\",\"not\",\"when\",\"like\",\"can\",\"trump\",\"does\",\"who\",\"about\",\"by\",\"women\",\"my\",\"will\",\"from\",\"all\",\"think\",\"would\",\"an\",\"did\",\"but\",\"should\"]},\"id\":\"44067\",\"type\":\"FactorRange\"}],\"root_ids\":[\"44064\"]},\"title\":\"Bokeh Application\",\"version\":\"1.3.4\"}};\n",
       "  var render_items = [{\"docid\":\"396f0cf8-a36d-4b94-98aa-535c355810f9\",\"roots\":{\"44064\":\"ea91f2a7-8ef5-49c9-a34e-b7c27b529374\"}}];\n",
       "  root.Bokeh.embed.embed_items_notebook(docs_json, render_items);\n",
       "\n",
       "  }\n",
       "  if (root.Bokeh !== undefined) {\n",
       "    embed_document(root);\n",
       "  } else {\n",
       "    var attempts = 0;\n",
       "    var timer = setInterval(function(root) {\n",
       "      if (root.Bokeh !== undefined) {\n",
       "        embed_document(root);\n",
       "        clearInterval(timer);\n",
       "      }\n",
       "      attempts++;\n",
       "      if (attempts > 100) {\n",
       "        console.log(\"Bokeh: ERROR: Unable to run BokehJS code because BokehJS library is missing\");\n",
       "        clearInterval(timer);\n",
       "      }\n",
       "    }, 10, root)\n",
       "  }\n",
       "})(window);"
      ],
      "application/vnd.bokehjs_exec.v0+json": ""
     },
     "metadata": {
      "application/vnd.bokehjs_exec.v0+json": {
       "id": "44064"
      }
     },
     "output_type": "display_data"
    }
   ],
   "source": [
    "comments.word_frequency_graphs(min_rank=3,max_rank=50)"
   ]
  },
  {
   "cell_type": "code",
   "execution_count": 238,
   "metadata": {},
   "outputs": [
    {
     "data": {
      "text/html": [
       "\n",
       "\n",
       "\n",
       "\n",
       "\n",
       "\n",
       "  <div class=\"bk-root\" id=\"212cef55-5714-4924-9636-ec1eca4c84d8\" data-root-id=\"45681\"></div>\n"
      ]
     },
     "metadata": {},
     "output_type": "display_data"
    },
    {
     "data": {
      "application/javascript": [
       "(function(root) {\n",
       "  function embed_document(root) {\n",
       "    \n",
       "  var docs_json = {\"caeef0c6-9660-42b5-99c4-8d4a127ef3d4\":{\"roots\":{\"references\":[{\"attributes\":{\"below\":[{\"id\":\"45692\",\"type\":\"CategoricalAxis\"}],\"center\":[{\"id\":\"45695\",\"type\":\"Grid\"},{\"id\":\"45700\",\"type\":\"Grid\"}],\"left\":[{\"id\":\"45696\",\"type\":\"LinearAxis\"}],\"plot_height\":300,\"plot_width\":750,\"renderers\":[{\"id\":\"45717\",\"type\":\"GlyphRenderer\"}],\"title\":{\"id\":\"45682\",\"type\":\"Title\"},\"toolbar\":{\"id\":\"45707\",\"type\":\"Toolbar\"},\"x_range\":{\"id\":\"45684\",\"type\":\"FactorRange\"},\"x_scale\":{\"id\":\"45688\",\"type\":\"CategoricalScale\"},\"y_range\":{\"id\":\"45686\",\"type\":\"DataRange1d\"},\"y_scale\":{\"id\":\"45690\",\"type\":\"LinearScale\"}},\"id\":\"45681\",\"subtype\":\"Figure\",\"type\":\"Plot\"},{\"attributes\":{},\"id\":\"45706\",\"type\":\"HelpTool\"},{\"attributes\":{},\"id\":\"45688\",\"type\":\"CategoricalScale\"},{\"attributes\":{\"active_drag\":\"auto\",\"active_inspect\":\"auto\",\"active_multi\":null,\"active_scroll\":\"auto\",\"active_tap\":\"auto\",\"tools\":[{\"id\":\"45701\",\"type\":\"PanTool\"},{\"id\":\"45702\",\"type\":\"WheelZoomTool\"},{\"id\":\"45703\",\"type\":\"BoxZoomTool\"},{\"id\":\"45704\",\"type\":\"SaveTool\"},{\"id\":\"45705\",\"type\":\"ResetTool\"},{\"id\":\"45706\",\"type\":\"HelpTool\"}]},\"id\":\"45707\",\"type\":\"Toolbar\"},{\"attributes\":{\"data_source\":{\"id\":\"45714\",\"type\":\"ColumnDataSource\"},\"glyph\":{\"id\":\"45715\",\"type\":\"VBar\"},\"hover_glyph\":null,\"muted_glyph\":null,\"nonselection_glyph\":{\"id\":\"45716\",\"type\":\"VBar\"},\"selection_glyph\":null,\"view\":{\"id\":\"45718\",\"type\":\"CDSView\"}},\"id\":\"45717\",\"type\":\"GlyphRenderer\"},{\"attributes\":{},\"id\":\"45693\",\"type\":\"CategoricalTicker\"},{\"attributes\":{},\"id\":\"45705\",\"type\":\"ResetTool\"},{\"attributes\":{},\"id\":\"45697\",\"type\":\"BasicTicker\"},{\"attributes\":{\"source\":{\"id\":\"45714\",\"type\":\"ColumnDataSource\"}},\"id\":\"45718\",\"type\":\"CDSView\"},{\"attributes\":{\"fill_alpha\":{\"value\":0.1},\"fill_color\":{\"value\":\"#1f77b4\"},\"line_alpha\":{\"value\":0.1},\"line_color\":{\"value\":\"#1f77b4\"},\"top\":{\"field\":\"top\"},\"width\":{\"value\":0.9},\"x\":{\"field\":\"x\"}},\"id\":\"45716\",\"type\":\"VBar\"},{\"attributes\":{},\"id\":\"46474\",\"type\":\"BasicTickFormatter\"},{\"attributes\":{\"formatter\":{\"id\":\"46474\",\"type\":\"BasicTickFormatter\"},\"ticker\":{\"id\":\"45697\",\"type\":\"BasicTicker\"}},\"id\":\"45696\",\"type\":\"LinearAxis\"},{\"attributes\":{},\"id\":\"46476\",\"type\":\"CategoricalTickFormatter\"},{\"attributes\":{\"fill_color\":{\"value\":\"#1f77b4\"},\"line_color\":{\"value\":\"#1f77b4\"},\"top\":{\"field\":\"top\"},\"width\":{\"value\":0.9},\"x\":{\"field\":\"x\"}},\"id\":\"45715\",\"type\":\"VBar\"},{\"attributes\":{\"callback\":null,\"factors\":[\"what\",\"</s>\",\"<s>\",\"i\",\"how\",\"in\",\"is\",\"can\",\"you\",\"a\",\"do\",\"to\",\"trump\",\"their\",\"so\",\"that\",\"and\",\"people\",\"they\",\"why\"]},\"id\":\"45684\",\"type\":\"FactorRange\"},{\"attributes\":{\"bottom_units\":\"screen\",\"fill_alpha\":{\"value\":0.5},\"fill_color\":{\"value\":\"lightgrey\"},\"left_units\":\"screen\",\"level\":\"overlay\",\"line_alpha\":{\"value\":1.0},\"line_color\":{\"value\":\"black\"},\"line_dash\":[4,4],\"line_width\":{\"value\":2},\"render_mode\":\"css\",\"right_units\":\"screen\",\"top_units\":\"screen\"},\"id\":\"46478\",\"type\":\"BoxAnnotation\"},{\"attributes\":{},\"id\":\"46479\",\"type\":\"UnionRenderers\"},{\"attributes\":{},\"id\":\"45702\",\"type\":\"WheelZoomTool\"},{\"attributes\":{},\"id\":\"46480\",\"type\":\"Selection\"},{\"attributes\":{\"grid_line_color\":null,\"ticker\":{\"id\":\"45693\",\"type\":\"CategoricalTicker\"}},\"id\":\"45695\",\"type\":\"Grid\"},{\"attributes\":{},\"id\":\"45701\",\"type\":\"PanTool\"},{\"attributes\":{},\"id\":\"45704\",\"type\":\"SaveTool\"},{\"attributes\":{\"dimension\":1,\"ticker\":{\"id\":\"45697\",\"type\":\"BasicTicker\"}},\"id\":\"45700\",\"type\":\"Grid\"},{\"attributes\":{\"overlay\":{\"id\":\"46478\",\"type\":\"BoxAnnotation\"}},\"id\":\"45703\",\"type\":\"BoxZoomTool\"},{\"attributes\":{\"callback\":null,\"data\":{\"top\":[0.019477724374616454,0.017282902818770138,0.017282902818770138,0.009301819513963791,0.009038712402996009,0.006421908425423296,0.005512027853297546,0.005399967450533024,0.0045442701316132225,0.004536362047997941,-0.0030865739638102838,-0.003179277064461413,-0.0034253414068765985,-0.004048433176195989,-0.00444603886958102,-0.004922018243163673,-0.005550892682364552,-0.005846652134729223,-0.00609196760772514,-0.015578464182913043],\"x\":[\"what\",\"</s>\",\"<s>\",\"i\",\"how\",\"in\",\"is\",\"can\",\"you\",\"a\",\"do\",\"to\",\"trump\",\"their\",\"so\",\"that\",\"and\",\"people\",\"they\",\"why\"]},\"selected\":{\"id\":\"46480\",\"type\":\"Selection\"},\"selection_policy\":{\"id\":\"46479\",\"type\":\"UnionRenderers\"}},\"id\":\"45714\",\"type\":\"ColumnDataSource\"},{\"attributes\":{\"callback\":null},\"id\":\"45686\",\"type\":\"DataRange1d\"},{\"attributes\":{\"formatter\":{\"id\":\"46476\",\"type\":\"CategoricalTickFormatter\"},\"major_label_orientation\":1,\"ticker\":{\"id\":\"45693\",\"type\":\"CategoricalTicker\"}},\"id\":\"45692\",\"type\":\"CategoricalAxis\"},{\"attributes\":{\"text\":\"Unigram Frequency Difference: (Appropriate Frequency - Inappropriate Frequency)\"},\"id\":\"45682\",\"type\":\"Title\"},{\"attributes\":{},\"id\":\"45690\",\"type\":\"LinearScale\"}],\"root_ids\":[\"45681\"]},\"title\":\"Bokeh Application\",\"version\":\"1.3.4\"}};\n",
       "  var render_items = [{\"docid\":\"caeef0c6-9660-42b5-99c4-8d4a127ef3d4\",\"roots\":{\"45681\":\"212cef55-5714-4924-9636-ec1eca4c84d8\"}}];\n",
       "  root.Bokeh.embed.embed_items_notebook(docs_json, render_items);\n",
       "\n",
       "  }\n",
       "  if (root.Bokeh !== undefined) {\n",
       "    embed_document(root);\n",
       "  } else {\n",
       "    var attempts = 0;\n",
       "    var timer = setInterval(function(root) {\n",
       "      if (root.Bokeh !== undefined) {\n",
       "        embed_document(root);\n",
       "        clearInterval(timer);\n",
       "      }\n",
       "      attempts++;\n",
       "      if (attempts > 100) {\n",
       "        console.log(\"Bokeh: ERROR: Unable to run BokehJS code because BokehJS library is missing\");\n",
       "        clearInterval(timer);\n",
       "      }\n",
       "    }, 10, root)\n",
       "  }\n",
       "})(window);"
      ],
      "application/vnd.bokehjs_exec.v0+json": ""
     },
     "metadata": {
      "application/vnd.bokehjs_exec.v0+json": {
       "id": "45681"
      }
     },
     "output_type": "display_data"
    }
   ],
   "source": [
    "comments.word_count_difference_graph(20)"
   ]
  },
  {
   "cell_type": "markdown",
   "metadata": {},
   "source": [
    "#### Comments\n",
    "\n",
    "* The preceeding graphs show the differneces in word frequency between classes.\n",
    "\n",
    "* One thing that the last graph shows, which one should expect, is the higher frequency ,in the inappropriate class, of words that that are either polarizing e.g. 'trump' or are groups who are often subject to claims of supremacy or inferiority depending on the prejudices of the asker e.g. 'white', 'men', 'women', 'muslims'.\n",
    "\n",
    "* One interesting unexpected result is the difference in the frequency of different interogative words used in the different classes of questions e.g. 'what', 'how', and 'which' are more frequent in the appropriate class, while interogative word 'why' is far more likely in the innappropriate class. \n",
    "\n",
    "* Perhaps the increased use of 'why' in the innapropriate class is due to the ease at which one can disguise a statement of a dubious, non-factual nature as a why question. For example the question 'why are aliens manging my local dairy queen?' presents the premise, that aliens are managing a dairy queen somewhere, as fact and implicitly requires the reader to accept the premise in order to respond directly to it. Note that questions like, 'which of my local dairy queens is managed by aliens', 'how can my local dairy queen be managed by aliens', and 'does/can my local dairy queen be managed by aliens' do not require the answerer to accept the premise in order to respond. "
   ]
  },
  {
   "cell_type": "code",
   "execution_count": 239,
   "metadata": {},
   "outputs": [
    {
     "data": {
      "text/html": [
       "\n",
       "\n",
       "\n",
       "\n",
       "\n",
       "\n",
       "  <div class=\"bk-root\" id=\"f087e128-17d1-45c9-b4d4-96a888c8d6e1\" data-root-id=\"46532\"></div>\n"
      ]
     },
     "metadata": {},
     "output_type": "display_data"
    },
    {
     "data": {
      "application/javascript": [
       "(function(root) {\n",
       "  function embed_document(root) {\n",
       "    \n",
       "  var docs_json = {\"cf1f16f4-08f1-4091-a393-b0d94bc0b932\":{\"roots\":{\"references\":[{\"attributes\":{\"below\":[{\"id\":\"46543\",\"type\":\"CategoricalAxis\"}],\"center\":[{\"id\":\"46546\",\"type\":\"Grid\"},{\"id\":\"46551\",\"type\":\"Grid\"}],\"left\":[{\"id\":\"46547\",\"type\":\"LinearAxis\"}],\"plot_height\":300,\"plot_width\":750,\"renderers\":[{\"id\":\"46579\",\"type\":\"GlyphRenderer\"}],\"title\":{\"id\":\"46533\",\"type\":\"Title\"},\"toolbar\":{\"id\":\"46552\",\"type\":\"Toolbar\"},\"x_range\":{\"id\":\"46535\",\"type\":\"FactorRange\"},\"x_scale\":{\"id\":\"46539\",\"type\":\"CategoricalScale\"},\"y_range\":{\"id\":\"46537\",\"type\":\"DataRange1d\"},\"y_scale\":{\"id\":\"46541\",\"type\":\"LinearScale\"}},\"id\":\"46532\",\"subtype\":\"Figure\",\"type\":\"Plot\"},{\"attributes\":{\"dimension\":1,\"ticker\":{\"id\":\"46548\",\"type\":\"BasicTicker\"}},\"id\":\"46551\",\"type\":\"Grid\"},{\"attributes\":{\"source\":{\"id\":\"46529\",\"type\":\"ColumnDataSource\"}},\"id\":\"46580\",\"type\":\"CDSView\"},{\"attributes\":{\"active_drag\":\"auto\",\"active_inspect\":\"auto\",\"active_multi\":null,\"active_scroll\":\"auto\",\"active_tap\":\"auto\",\"tools\":[{\"id\":\"46530\",\"type\":\"HoverTool\"}]},\"id\":\"46552\",\"type\":\"Toolbar\"},{\"attributes\":{},\"id\":\"47353\",\"type\":\"UnionRenderers\"},{\"attributes\":{},\"id\":\"47349\",\"type\":\"BasicTickFormatter\"},{\"attributes\":{\"callback\":null,\"tooltips\":[[\"Word\",\"$neg_vocab_words\"],[\"Freq\",\"$neg_vocab_freq\"]]},\"id\":\"46530\",\"type\":\"HoverTool\"},{\"attributes\":{},\"id\":\"47354\",\"type\":\"Selection\"},{\"attributes\":{\"text\":\"Appropriate Question Bigram Frequency\"},\"id\":\"46533\",\"type\":\"Title\"},{\"attributes\":{},\"id\":\"47351\",\"type\":\"CategoricalTickFormatter\"},{\"attributes\":{\"callback\":null,\"factors\":[\"what_are\",\"is_the\",\"<s>_why\",\"<s>_is\",\"are_the\",\"how_do\",\"can_i\",\"do_i\",\"do_you\",\"the_best\",\"how_can\",\"is_it\",\"<s>_can\",\"<s>_which\",\"in_the\",\"of_the\",\"are_some\",\"<s>_do\",\"why_do\",\"should_i\",\"<s>_if\",\"in_a\",\"<s>_are\",\"i_get\",\"<s>_where\",\"for_a\",\"why_is\",\"is_there\",\"what_do\",\"to_be\",\"_</s>\",\"<s>_who\",\"the_most\",\"would_you\",\"what_does\",\"<s>_i\",\"of_a\",\"is_a\",\"i_do\",\"<s>_does\",\"what_should\",\"can_you\",\"why_does\",\"as_a\",\"how_much\",\"which_is\",\"how_does\"]},\"id\":\"46535\",\"type\":\"FactorRange\"},{\"attributes\":{\"callback\":null,\"data\":{\"neg_vocab_freq\":[0.007323686304559252,0.007308950517226135,0.006660575874568978,0.005363826589254664,0.004627037222598804,0.004523886711266983,0.00443547198726828,0.0034481742359494267,0.003330287937284489,0.0032860805752851375,0.003241873213285786,0.003020836403289028,0.002961893253956559,0.002829271167958504,0.002755592231292918,0.002608234357961746,0.002475612271963691,0.0020777460139695266,0.0019598597153045886,0.0019303881406383544,0.001547257669977307,0.0015325218826441897,0.001473578733311721,0.001414635583979252,0.0013998997966461347,0.0013998997966461347,0.0013114850726474315,0.0012967492853143143,0.0012378061359818455,0.001208334561315611,0.001193598773982494,0.0010904482626506735,0.0010757124753175563,0.0010757124753175563,0.0010757124753175563,0.001046240900651322,0.0010315051133182047,0.0010315051133182047,0.0010315051133182047,0.00100203353865197,0.00100203353865197,0.0009725619639857358,0.0009725619639857358,0.0009578261766526186,0.0009430903893195014,0.0009430903893195014,0.0009283546019863842],\"neg_vocab_words\":[\"what_are\",\"is_the\",\"<s>_why\",\"<s>_is\",\"are_the\",\"how_do\",\"can_i\",\"do_i\",\"do_you\",\"the_best\",\"how_can\",\"is_it\",\"<s>_can\",\"<s>_which\",\"in_the\",\"of_the\",\"are_some\",\"<s>_do\",\"why_do\",\"should_i\",\"<s>_if\",\"in_a\",\"<s>_are\",\"i_get\",\"<s>_where\",\"for_a\",\"why_is\",\"is_there\",\"what_do\",\"to_be\",\"_</s>\",\"<s>_who\",\"the_most\",\"would_you\",\"what_does\",\"<s>_i\",\"of_a\",\"is_a\",\"i_do\",\"<s>_does\",\"what_should\",\"can_you\",\"why_does\",\"as_a\",\"how_much\",\"which_is\",\"how_does\"],\"pos_vocab_freq\":[0.004340296568892737,0.004199588700075765,0.0037341703647580907,0.003376988851607317,0.003214633618356965,0.0031496915250568244,0.003041454702889923,0.0028899231518562615,0.0025002705920554175,0.001991557527870982,0.0019049680701374607,0.0017859075657538695,0.0017642602013204893,0.0013962550059530253,0.0013529602770862648,0.0012447234549193636,0.0012447234549193636,0.001190605043835913,0.0011689576794025327,0.0011581339971858426,0.001104015586102392,0.001104015586102392,0.0010282498105855613,0.0010174261283688712,0.000995778763935491,0.000995778763935491,0.0009849550817188008,0.0009741313995021106,0.0009741313995021106,0.0009633077172854205,0.0009524840350687303,0.0009524840350687303,0.0009524840350687303,0.0009524840350687303,0.0009308366706353502,0.0009200129884186601,0.00090918930620197,0.0008983656239852798,0.0008658945773352095,0.000822599848468449,0.000822599848468449,0.0008117761662517588,0.0008117761662517588,0.0008009524840350687,0.0007793051196016885,0.0007793051196016885,0.0007576577551683082],\"pos_vocab_words\":[\"why_are\",\"<s>_is\",\"is_it\",\"<s>_what\",\"in_the\",\"<s>_do\",\"why_is\",\"of_the\",\"<s>_are\",\"is_the\",\"do_you\",\"to_be\",\"<s>_if\",\"why_does\",\"they_are\",\"how_do\",\"to_the\",\"how_can\",\"want_to\",\"are_the\",\"what_is\",\"_</s>\",\"why_don't\",\"is_a\",\"on_the\",\"the_world\",\"as_a\",\"do_people\",\"that_the\",\"on_quora\",\"<s>_can\",\"<s>_does\",\"you_think\",\"the_us\",\"<s>_should\",\"why_did\",\"people_</s>\",\"can_i\",\"do_they\",\"<s>_when\",\"that_they\",\"do_i\",\"and_the\",\"have_a\",\"it_true\",\"donald_trump\",\"when_they\"]},\"selected\":{\"id\":\"47354\",\"type\":\"Selection\"},\"selection_policy\":{\"id\":\"47353\",\"type\":\"UnionRenderers\"}},\"id\":\"46529\",\"type\":\"ColumnDataSource\"},{\"attributes\":{\"callback\":null},\"id\":\"46537\",\"type\":\"DataRange1d\"},{\"attributes\":{},\"id\":\"46539\",\"type\":\"CategoricalScale\"},{\"attributes\":{},\"id\":\"46541\",\"type\":\"LinearScale\"},{\"attributes\":{\"formatter\":{\"id\":\"47351\",\"type\":\"CategoricalTickFormatter\"},\"major_label_orientation\":1,\"ticker\":{\"id\":\"46544\",\"type\":\"CategoricalTicker\"}},\"id\":\"46543\",\"type\":\"CategoricalAxis\"},{\"attributes\":{},\"id\":\"46544\",\"type\":\"CategoricalTicker\"},{\"attributes\":{\"grid_line_color\":null,\"ticker\":{\"id\":\"46544\",\"type\":\"CategoricalTicker\"}},\"id\":\"46546\",\"type\":\"Grid\"},{\"attributes\":{\"fill_color\":{\"value\":\"#1f77b4\"},\"line_color\":{\"value\":\"#1f77b4\"},\"top\":{\"field\":\"neg_vocab_freq\"},\"width\":{\"value\":0.9},\"x\":{\"field\":\"neg_vocab_words\"}},\"id\":\"46577\",\"type\":\"VBar\"},{\"attributes\":{\"formatter\":{\"id\":\"47349\",\"type\":\"BasicTickFormatter\"},\"ticker\":{\"id\":\"46548\",\"type\":\"BasicTicker\"}},\"id\":\"46547\",\"type\":\"LinearAxis\"},{\"attributes\":{\"fill_alpha\":{\"value\":0.1},\"fill_color\":{\"value\":\"#1f77b4\"},\"line_alpha\":{\"value\":0.1},\"line_color\":{\"value\":\"#1f77b4\"},\"top\":{\"field\":\"neg_vocab_freq\"},\"width\":{\"value\":0.9},\"x\":{\"field\":\"neg_vocab_words\"}},\"id\":\"46578\",\"type\":\"VBar\"},{\"attributes\":{},\"id\":\"46548\",\"type\":\"BasicTicker\"},{\"attributes\":{\"data_source\":{\"id\":\"46529\",\"type\":\"ColumnDataSource\"},\"glyph\":{\"id\":\"46577\",\"type\":\"VBar\"},\"hover_glyph\":null,\"muted_glyph\":null,\"nonselection_glyph\":{\"id\":\"46578\",\"type\":\"VBar\"},\"selection_glyph\":null,\"view\":{\"id\":\"46580\",\"type\":\"CDSView\"}},\"id\":\"46579\",\"type\":\"GlyphRenderer\"}],\"root_ids\":[\"46532\"]},\"title\":\"Bokeh Application\",\"version\":\"1.3.4\"}};\n",
       "  var render_items = [{\"docid\":\"cf1f16f4-08f1-4091-a393-b0d94bc0b932\",\"roots\":{\"46532\":\"f087e128-17d1-45c9-b4d4-96a888c8d6e1\"}}];\n",
       "  root.Bokeh.embed.embed_items_notebook(docs_json, render_items);\n",
       "\n",
       "  }\n",
       "  if (root.Bokeh !== undefined) {\n",
       "    embed_document(root);\n",
       "  } else {\n",
       "    var attempts = 0;\n",
       "    var timer = setInterval(function(root) {\n",
       "      if (root.Bokeh !== undefined) {\n",
       "        embed_document(root);\n",
       "        clearInterval(timer);\n",
       "      }\n",
       "      attempts++;\n",
       "      if (attempts > 100) {\n",
       "        console.log(\"Bokeh: ERROR: Unable to run BokehJS code because BokehJS library is missing\");\n",
       "        clearInterval(timer);\n",
       "      }\n",
       "    }, 10, root)\n",
       "  }\n",
       "})(window);"
      ],
      "application/vnd.bokehjs_exec.v0+json": ""
     },
     "metadata": {
      "application/vnd.bokehjs_exec.v0+json": {
       "id": "46532"
      }
     },
     "output_type": "display_data"
    },
    {
     "data": {
      "text/html": [
       "\n",
       "\n",
       "\n",
       "\n",
       "\n",
       "\n",
       "  <div class=\"bk-root\" id=\"f286e429-93a7-450b-b7bb-e053e23d4168\" data-root-id=\"46554\"></div>\n"
      ]
     },
     "metadata": {},
     "output_type": "display_data"
    },
    {
     "data": {
      "application/javascript": [
       "(function(root) {\n",
       "  function embed_document(root) {\n",
       "    \n",
       "  var docs_json = {\"c012349c-3479-4d31-a746-c6a3b55d1232\":{\"roots\":{\"references\":[{\"attributes\":{\"below\":[{\"id\":\"46565\",\"type\":\"CategoricalAxis\"}],\"center\":[{\"id\":\"46568\",\"type\":\"Grid\"},{\"id\":\"46573\",\"type\":\"Grid\"}],\"left\":[{\"id\":\"46569\",\"type\":\"LinearAxis\"}],\"plot_height\":300,\"plot_width\":750,\"renderers\":[{\"id\":\"46584\",\"type\":\"GlyphRenderer\"}],\"title\":{\"id\":\"46555\",\"type\":\"Title\"},\"toolbar\":{\"id\":\"46574\",\"type\":\"Toolbar\"},\"x_range\":{\"id\":\"46557\",\"type\":\"FactorRange\"},\"x_scale\":{\"id\":\"46561\",\"type\":\"CategoricalScale\"},\"y_range\":{\"id\":\"46559\",\"type\":\"DataRange1d\"},\"y_scale\":{\"id\":\"46563\",\"type\":\"LinearScale\"}},\"id\":\"46554\",\"subtype\":\"Figure\",\"type\":\"Plot\"},{\"attributes\":{},\"id\":\"47353\",\"type\":\"UnionRenderers\"},{\"attributes\":{\"fill_color\":{\"value\":\"#1f77b4\"},\"line_color\":{\"value\":\"#1f77b4\"},\"top\":{\"field\":\"pos_vocab_freq\"},\"width\":{\"value\":0.9},\"x\":{\"field\":\"pos_vocab_words\"}},\"id\":\"46582\",\"type\":\"VBar\"},{\"attributes\":{\"text\":\"Inappropriate Question Bigram Frequency\"},\"id\":\"46555\",\"type\":\"Title\"},{\"attributes\":{\"fill_alpha\":{\"value\":0.1},\"fill_color\":{\"value\":\"#1f77b4\"},\"line_alpha\":{\"value\":0.1},\"line_color\":{\"value\":\"#1f77b4\"},\"top\":{\"field\":\"pos_vocab_freq\"},\"width\":{\"value\":0.9},\"x\":{\"field\":\"pos_vocab_words\"}},\"id\":\"46583\",\"type\":\"VBar\"},{\"attributes\":{\"callback\":null,\"factors\":[\"why_are\",\"<s>_is\",\"is_it\",\"<s>_what\",\"in_the\",\"<s>_do\",\"why_is\",\"of_the\",\"<s>_are\",\"is_the\",\"do_you\",\"to_be\",\"<s>_if\",\"why_does\",\"they_are\",\"how_do\",\"to_the\",\"how_can\",\"want_to\",\"are_the\",\"what_is\",\"_</s>\",\"why_don't\",\"is_a\",\"on_the\",\"the_world\",\"as_a\",\"do_people\",\"that_the\",\"on_quora\",\"<s>_can\",\"<s>_does\",\"you_think\",\"the_us\",\"<s>_should\",\"why_did\",\"people_</s>\",\"can_i\",\"do_they\",\"<s>_when\",\"that_they\",\"do_i\",\"and_the\",\"have_a\",\"it_true\",\"donald_trump\",\"when_they\"]},\"id\":\"46557\",\"type\":\"FactorRange\"},{\"attributes\":{\"data_source\":{\"id\":\"46529\",\"type\":\"ColumnDataSource\"},\"glyph\":{\"id\":\"46582\",\"type\":\"VBar\"},\"hover_glyph\":null,\"muted_glyph\":null,\"nonselection_glyph\":{\"id\":\"46583\",\"type\":\"VBar\"},\"selection_glyph\":null,\"view\":{\"id\":\"46585\",\"type\":\"CDSView\"}},\"id\":\"46584\",\"type\":\"GlyphRenderer\"},{\"attributes\":{\"callback\":null},\"id\":\"46559\",\"type\":\"DataRange1d\"},{\"attributes\":{\"callback\":null,\"tooltips\":[[\"Word\",\"$pos_vocab_words\"],[\"Freq\",\"$pos_vocab_freq\"]]},\"id\":\"46531\",\"type\":\"HoverTool\"},{\"attributes\":{},\"id\":\"46561\",\"type\":\"CategoricalScale\"},{\"attributes\":{\"source\":{\"id\":\"46529\",\"type\":\"ColumnDataSource\"}},\"id\":\"46585\",\"type\":\"CDSView\"},{\"attributes\":{},\"id\":\"48169\",\"type\":\"CategoricalTickFormatter\"},{\"attributes\":{},\"id\":\"48167\",\"type\":\"BasicTickFormatter\"},{\"attributes\":{},\"id\":\"46563\",\"type\":\"LinearScale\"},{\"attributes\":{\"formatter\":{\"id\":\"48169\",\"type\":\"CategoricalTickFormatter\"},\"major_label_orientation\":1,\"ticker\":{\"id\":\"46566\",\"type\":\"CategoricalTicker\"}},\"id\":\"46565\",\"type\":\"CategoricalAxis\"},{\"attributes\":{},\"id\":\"47354\",\"type\":\"Selection\"},{\"attributes\":{},\"id\":\"46566\",\"type\":\"CategoricalTicker\"},{\"attributes\":{\"grid_line_color\":null,\"ticker\":{\"id\":\"46566\",\"type\":\"CategoricalTicker\"}},\"id\":\"46568\",\"type\":\"Grid\"},{\"attributes\":{\"callback\":null,\"data\":{\"neg_vocab_freq\":[0.007323686304559252,0.007308950517226135,0.006660575874568978,0.005363826589254664,0.004627037222598804,0.004523886711266983,0.00443547198726828,0.0034481742359494267,0.003330287937284489,0.0032860805752851375,0.003241873213285786,0.003020836403289028,0.002961893253956559,0.002829271167958504,0.002755592231292918,0.002608234357961746,0.002475612271963691,0.0020777460139695266,0.0019598597153045886,0.0019303881406383544,0.001547257669977307,0.0015325218826441897,0.001473578733311721,0.001414635583979252,0.0013998997966461347,0.0013998997966461347,0.0013114850726474315,0.0012967492853143143,0.0012378061359818455,0.001208334561315611,0.001193598773982494,0.0010904482626506735,0.0010757124753175563,0.0010757124753175563,0.0010757124753175563,0.001046240900651322,0.0010315051133182047,0.0010315051133182047,0.0010315051133182047,0.00100203353865197,0.00100203353865197,0.0009725619639857358,0.0009725619639857358,0.0009578261766526186,0.0009430903893195014,0.0009430903893195014,0.0009283546019863842],\"neg_vocab_words\":[\"what_are\",\"is_the\",\"<s>_why\",\"<s>_is\",\"are_the\",\"how_do\",\"can_i\",\"do_i\",\"do_you\",\"the_best\",\"how_can\",\"is_it\",\"<s>_can\",\"<s>_which\",\"in_the\",\"of_the\",\"are_some\",\"<s>_do\",\"why_do\",\"should_i\",\"<s>_if\",\"in_a\",\"<s>_are\",\"i_get\",\"<s>_where\",\"for_a\",\"why_is\",\"is_there\",\"what_do\",\"to_be\",\"_</s>\",\"<s>_who\",\"the_most\",\"would_you\",\"what_does\",\"<s>_i\",\"of_a\",\"is_a\",\"i_do\",\"<s>_does\",\"what_should\",\"can_you\",\"why_does\",\"as_a\",\"how_much\",\"which_is\",\"how_does\"],\"pos_vocab_freq\":[0.004340296568892737,0.004199588700075765,0.0037341703647580907,0.003376988851607317,0.003214633618356965,0.0031496915250568244,0.003041454702889923,0.0028899231518562615,0.0025002705920554175,0.001991557527870982,0.0019049680701374607,0.0017859075657538695,0.0017642602013204893,0.0013962550059530253,0.0013529602770862648,0.0012447234549193636,0.0012447234549193636,0.001190605043835913,0.0011689576794025327,0.0011581339971858426,0.001104015586102392,0.001104015586102392,0.0010282498105855613,0.0010174261283688712,0.000995778763935491,0.000995778763935491,0.0009849550817188008,0.0009741313995021106,0.0009741313995021106,0.0009633077172854205,0.0009524840350687303,0.0009524840350687303,0.0009524840350687303,0.0009524840350687303,0.0009308366706353502,0.0009200129884186601,0.00090918930620197,0.0008983656239852798,0.0008658945773352095,0.000822599848468449,0.000822599848468449,0.0008117761662517588,0.0008117761662517588,0.0008009524840350687,0.0007793051196016885,0.0007793051196016885,0.0007576577551683082],\"pos_vocab_words\":[\"why_are\",\"<s>_is\",\"is_it\",\"<s>_what\",\"in_the\",\"<s>_do\",\"why_is\",\"of_the\",\"<s>_are\",\"is_the\",\"do_you\",\"to_be\",\"<s>_if\",\"why_does\",\"they_are\",\"how_do\",\"to_the\",\"how_can\",\"want_to\",\"are_the\",\"what_is\",\"_</s>\",\"why_don't\",\"is_a\",\"on_the\",\"the_world\",\"as_a\",\"do_people\",\"that_the\",\"on_quora\",\"<s>_can\",\"<s>_does\",\"you_think\",\"the_us\",\"<s>_should\",\"why_did\",\"people_</s>\",\"can_i\",\"do_they\",\"<s>_when\",\"that_they\",\"do_i\",\"and_the\",\"have_a\",\"it_true\",\"donald_trump\",\"when_they\"]},\"selected\":{\"id\":\"47354\",\"type\":\"Selection\"},\"selection_policy\":{\"id\":\"47353\",\"type\":\"UnionRenderers\"}},\"id\":\"46529\",\"type\":\"ColumnDataSource\"},{\"attributes\":{\"formatter\":{\"id\":\"48167\",\"type\":\"BasicTickFormatter\"},\"ticker\":{\"id\":\"46570\",\"type\":\"BasicTicker\"}},\"id\":\"46569\",\"type\":\"LinearAxis\"},{\"attributes\":{},\"id\":\"46570\",\"type\":\"BasicTicker\"},{\"attributes\":{\"dimension\":1,\"ticker\":{\"id\":\"46570\",\"type\":\"BasicTicker\"}},\"id\":\"46573\",\"type\":\"Grid\"},{\"attributes\":{\"active_drag\":\"auto\",\"active_inspect\":\"auto\",\"active_multi\":null,\"active_scroll\":\"auto\",\"active_tap\":\"auto\",\"tools\":[{\"id\":\"46531\",\"type\":\"HoverTool\"}]},\"id\":\"46574\",\"type\":\"Toolbar\"}],\"root_ids\":[\"46554\"]},\"title\":\"Bokeh Application\",\"version\":\"1.3.4\"}};\n",
       "  var render_items = [{\"docid\":\"c012349c-3479-4d31-a746-c6a3b55d1232\",\"roots\":{\"46554\":\"f286e429-93a7-450b-b7bb-e053e23d4168\"}}];\n",
       "  root.Bokeh.embed.embed_items_notebook(docs_json, render_items);\n",
       "\n",
       "  }\n",
       "  if (root.Bokeh !== undefined) {\n",
       "    embed_document(root);\n",
       "  } else {\n",
       "    var attempts = 0;\n",
       "    var timer = setInterval(function(root) {\n",
       "      if (root.Bokeh !== undefined) {\n",
       "        embed_document(root);\n",
       "        clearInterval(timer);\n",
       "      }\n",
       "      attempts++;\n",
       "      if (attempts > 100) {\n",
       "        console.log(\"Bokeh: ERROR: Unable to run BokehJS code because BokehJS library is missing\");\n",
       "        clearInterval(timer);\n",
       "      }\n",
       "    }, 10, root)\n",
       "  }\n",
       "})(window);"
      ],
      "application/vnd.bokehjs_exec.v0+json": ""
     },
     "metadata": {
      "application/vnd.bokehjs_exec.v0+json": {
       "id": "46554"
      }
     },
     "output_type": "display_data"
    }
   ],
   "source": [
    "comments.word_frequency_graphs(unigram=False,min_rank=3,max_rank=50)"
   ]
  },
  {
   "cell_type": "code",
   "execution_count": 240,
   "metadata": {},
   "outputs": [
    {
     "data": {
      "text/html": [
       "\n",
       "\n",
       "\n",
       "\n",
       "\n",
       "\n",
       "  <div class=\"bk-root\" id=\"c39361b7-6613-440e-b3e7-dd072d709116\" data-root-id=\"48215\"></div>\n"
      ]
     },
     "metadata": {},
     "output_type": "display_data"
    },
    {
     "data": {
      "application/javascript": [
       "(function(root) {\n",
       "  function embed_document(root) {\n",
       "    \n",
       "  var docs_json = {\"0262ea72-764f-44e7-9a6a-c2285b102de5\":{\"roots\":{\"references\":[{\"attributes\":{\"below\":[{\"id\":\"48226\",\"type\":\"CategoricalAxis\"}],\"center\":[{\"id\":\"48229\",\"type\":\"Grid\"},{\"id\":\"48234\",\"type\":\"Grid\"}],\"left\":[{\"id\":\"48230\",\"type\":\"LinearAxis\"}],\"plot_height\":300,\"plot_width\":750,\"renderers\":[{\"id\":\"48251\",\"type\":\"GlyphRenderer\"}],\"title\":{\"id\":\"48216\",\"type\":\"Title\"},\"toolbar\":{\"id\":\"48241\",\"type\":\"Toolbar\"},\"x_range\":{\"id\":\"48218\",\"type\":\"FactorRange\"},\"x_scale\":{\"id\":\"48222\",\"type\":\"CategoricalScale\"},\"y_range\":{\"id\":\"48220\",\"type\":\"DataRange1d\"},\"y_scale\":{\"id\":\"48224\",\"type\":\"LinearScale\"}},\"id\":\"48215\",\"subtype\":\"Figure\",\"type\":\"Plot\"},{\"attributes\":{\"fill_color\":{\"value\":\"#1f77b4\"},\"line_color\":{\"value\":\"#1f77b4\"},\"top\":{\"field\":\"top\"},\"width\":{\"value\":0.9},\"x\":{\"field\":\"x\"}},\"id\":\"48249\",\"type\":\"VBar\"},{\"attributes\":{\"callback\":null,\"data\":{\"top\":[0.01971398989938735,0.009367897756022692,0.007516420003771175,0.006685089053774535,0.005317392989355153,0.003537106363283,0.003468903225412961,0.0032791632563476197,0.002950546426567744,0.0026363980696976676,0.00243961860815766,0.0022266675809798184,0.0020512681694498727,0.0020094092188878286,0.0014253198671470284,0.0013026145720703274,0.0011942498345290224,0.0011873382574287593,0.0011642378891788983,0.0009133572420672046,-0.0006121251481023185,-0.0006250356691702533,-0.0006289477742866804,-0.0006292093468727429,-0.0006346851456682899,-0.0006406840896359618,-0.0006752419751372768,-0.0006890651293378029,-0.0006908903956029853,-0.0007133339614690628,-0.0007422709072886623,-0.0007530945895053525,-0.0008808919372543892,-0.0010266918587436965,-0.0010719455110872978,-0.0010729803177570378,-0.0017299696302424917,-0.0037950724375674003,-0.006255315087163211,-0.013601357235074923],\"x\":[\"<s>_what\",\"<s>_how\",\"what_is\",\"what_are\",\"is_the\",\"can_i\",\"are_the\",\"how_do\",\"the_best\",\"do_i\",\"<s>_which\",\"are_some\",\"how_can\",\"<s>_can\",\"do_you\",\"should_i\",\"<s>_where\",\"i_get\",\"<s>_is\",\"what_does\",\"think_that\",\"when_they\",\"sex_with\",\"people_</s>\",\"white_people\",\"so_much\",\"that_they\",\"do_they\",\"donald_trump\",\"is_it\",\"on_quora\",\"that_the\",\"why_don't\",\"<s>_are\",\"<s>_do\",\"they_are\",\"why_is\",\"why_are\",\"why_do\",\"<s>_why\"]},\"selected\":{\"id\":\"49036\",\"type\":\"Selection\"},\"selection_policy\":{\"id\":\"49035\",\"type\":\"UnionRenderers\"}},\"id\":\"48248\",\"type\":\"ColumnDataSource\"},{\"attributes\":{\"data_source\":{\"id\":\"48248\",\"type\":\"ColumnDataSource\"},\"glyph\":{\"id\":\"48249\",\"type\":\"VBar\"},\"hover_glyph\":null,\"muted_glyph\":null,\"nonselection_glyph\":{\"id\":\"48250\",\"type\":\"VBar\"},\"selection_glyph\":null,\"view\":{\"id\":\"48252\",\"type\":\"CDSView\"}},\"id\":\"48251\",\"type\":\"GlyphRenderer\"},{\"attributes\":{},\"id\":\"48235\",\"type\":\"PanTool\"},{\"attributes\":{},\"id\":\"48236\",\"type\":\"WheelZoomTool\"},{\"attributes\":{\"overlay\":{\"id\":\"49034\",\"type\":\"BoxAnnotation\"}},\"id\":\"48237\",\"type\":\"BoxZoomTool\"},{\"attributes\":{},\"id\":\"48238\",\"type\":\"SaveTool\"},{\"attributes\":{},\"id\":\"48239\",\"type\":\"ResetTool\"},{\"attributes\":{\"fill_alpha\":{\"value\":0.1},\"fill_color\":{\"value\":\"#1f77b4\"},\"line_alpha\":{\"value\":0.1},\"line_color\":{\"value\":\"#1f77b4\"},\"top\":{\"field\":\"top\"},\"width\":{\"value\":0.9},\"x\":{\"field\":\"x\"}},\"id\":\"48250\",\"type\":\"VBar\"},{\"attributes\":{},\"id\":\"48240\",\"type\":\"HelpTool\"},{\"attributes\":{\"text\":\"Bigram Frequency Difference: (Appropriate Frequency - Inappropriate Frequency)\"},\"id\":\"48216\",\"type\":\"Title\"},{\"attributes\":{\"active_drag\":\"auto\",\"active_inspect\":\"auto\",\"active_multi\":null,\"active_scroll\":\"auto\",\"active_tap\":\"auto\",\"tools\":[{\"id\":\"48235\",\"type\":\"PanTool\"},{\"id\":\"48236\",\"type\":\"WheelZoomTool\"},{\"id\":\"48237\",\"type\":\"BoxZoomTool\"},{\"id\":\"48238\",\"type\":\"SaveTool\"},{\"id\":\"48239\",\"type\":\"ResetTool\"},{\"id\":\"48240\",\"type\":\"HelpTool\"}]},\"id\":\"48241\",\"type\":\"Toolbar\"},{\"attributes\":{\"callback\":null,\"factors\":[\"<s>_what\",\"<s>_how\",\"what_is\",\"what_are\",\"is_the\",\"can_i\",\"are_the\",\"how_do\",\"the_best\",\"do_i\",\"<s>_which\",\"are_some\",\"how_can\",\"<s>_can\",\"do_you\",\"should_i\",\"<s>_where\",\"i_get\",\"<s>_is\",\"what_does\",\"think_that\",\"when_they\",\"sex_with\",\"people_</s>\",\"white_people\",\"so_much\",\"that_they\",\"do_they\",\"donald_trump\",\"is_it\",\"on_quora\",\"that_the\",\"why_don't\",\"<s>_are\",\"<s>_do\",\"they_are\",\"why_is\",\"why_are\",\"why_do\",\"<s>_why\"]},\"id\":\"48218\",\"type\":\"FactorRange\"},{\"attributes\":{\"callback\":null},\"id\":\"48220\",\"type\":\"DataRange1d\"},{\"attributes\":{\"source\":{\"id\":\"48248\",\"type\":\"ColumnDataSource\"}},\"id\":\"48252\",\"type\":\"CDSView\"},{\"attributes\":{},\"id\":\"48222\",\"type\":\"CategoricalScale\"},{\"attributes\":{},\"id\":\"48224\",\"type\":\"LinearScale\"},{\"attributes\":{},\"id\":\"49030\",\"type\":\"BasicTickFormatter\"},{\"attributes\":{\"formatter\":{\"id\":\"49032\",\"type\":\"CategoricalTickFormatter\"},\"major_label_orientation\":1,\"ticker\":{\"id\":\"48227\",\"type\":\"CategoricalTicker\"}},\"id\":\"48226\",\"type\":\"CategoricalAxis\"},{\"attributes\":{},\"id\":\"49032\",\"type\":\"CategoricalTickFormatter\"},{\"attributes\":{},\"id\":\"48227\",\"type\":\"CategoricalTicker\"},{\"attributes\":{\"bottom_units\":\"screen\",\"fill_alpha\":{\"value\":0.5},\"fill_color\":{\"value\":\"lightgrey\"},\"left_units\":\"screen\",\"level\":\"overlay\",\"line_alpha\":{\"value\":1.0},\"line_color\":{\"value\":\"black\"},\"line_dash\":[4,4],\"line_width\":{\"value\":2},\"render_mode\":\"css\",\"right_units\":\"screen\",\"top_units\":\"screen\"},\"id\":\"49034\",\"type\":\"BoxAnnotation\"},{\"attributes\":{\"grid_line_color\":null,\"ticker\":{\"id\":\"48227\",\"type\":\"CategoricalTicker\"}},\"id\":\"48229\",\"type\":\"Grid\"},{\"attributes\":{},\"id\":\"49035\",\"type\":\"UnionRenderers\"},{\"attributes\":{\"formatter\":{\"id\":\"49030\",\"type\":\"BasicTickFormatter\"},\"ticker\":{\"id\":\"48231\",\"type\":\"BasicTicker\"}},\"id\":\"48230\",\"type\":\"LinearAxis\"},{\"attributes\":{},\"id\":\"49036\",\"type\":\"Selection\"},{\"attributes\":{},\"id\":\"48231\",\"type\":\"BasicTicker\"},{\"attributes\":{\"dimension\":1,\"ticker\":{\"id\":\"48231\",\"type\":\"BasicTicker\"}},\"id\":\"48234\",\"type\":\"Grid\"}],\"root_ids\":[\"48215\"]},\"title\":\"Bokeh Application\",\"version\":\"1.3.4\"}};\n",
       "  var render_items = [{\"docid\":\"0262ea72-764f-44e7-9a6a-c2285b102de5\",\"roots\":{\"48215\":\"c39361b7-6613-440e-b3e7-dd072d709116\"}}];\n",
       "  root.Bokeh.embed.embed_items_notebook(docs_json, render_items);\n",
       "\n",
       "  }\n",
       "  if (root.Bokeh !== undefined) {\n",
       "    embed_document(root);\n",
       "  } else {\n",
       "    var attempts = 0;\n",
       "    var timer = setInterval(function(root) {\n",
       "      if (root.Bokeh !== undefined) {\n",
       "        embed_document(root);\n",
       "        clearInterval(timer);\n",
       "      }\n",
       "      attempts++;\n",
       "      if (attempts > 100) {\n",
       "        console.log(\"Bokeh: ERROR: Unable to run BokehJS code because BokehJS library is missing\");\n",
       "        clearInterval(timer);\n",
       "      }\n",
       "    }, 10, root)\n",
       "  }\n",
       "})(window);"
      ],
      "application/vnd.bokehjs_exec.v0+json": ""
     },
     "metadata": {
      "application/vnd.bokehjs_exec.v0+json": {
       "id": "48215"
      }
     },
     "output_type": "display_data"
    }
   ],
   "source": [
    "comments.word_count_difference_graph(unigram=False,num=20)"
   ]
  },
  {
   "cell_type": "markdown",
   "metadata": {},
   "source": [
    "#### Comments"
   ]
  },
  {
   "cell_type": "markdown",
   "metadata": {},
   "source": [
    "* Here when we examine bigrams and find the same trends as we found in the analysis of unigrams \n",
    "\n",
    "* In the inappropriate example we find a comparitively high frequency of 'why' interogative words and phrases which can be formulated as a statement of dubious facts, that implicitly require the answer to assume this premise in order to answer it. "
   ]
  },
  {
   "cell_type": "code",
   "execution_count": 223,
   "metadata": {},
   "outputs": [],
   "source": [
    "from nltk.parse import CoreNLPParser\n",
    "parser = CoreNLPParser(url='http://localhost:9000')"
   ]
  },
  {
   "cell_type": "code",
   "execution_count": 224,
   "metadata": {},
   "outputs": [
    {
     "data": {
      "text/plain": [
       "[Tree('ROOT', [Tree('SBARQ', [Tree('WHNP', [Tree('WP', ['what'])]), Tree('SQ', [Tree('VBZ', ['is']), Tree('NP', [Tree('NP', [Tree('DT', ['the']), Tree('NN', ['distance'])]), Tree('PP', [Tree('IN', ['from']), Tree('NP', [Tree('NP', [Tree('DT', ['the']), Tree('NN', ['earth'])]), Tree('PP', [Tree('TO', ['to']), Tree('NP', [Tree('DT', ['the']), Tree('NN', ['moon'])])])])])])])])])]"
      ]
     },
     "execution_count": 224,
     "metadata": {},
     "output_type": "execute_result"
    }
   ],
   "source": [
    "list(parser.parse('what is the distance from the earth to the moon'.split(' ')))"
   ]
  },
  {
   "cell_type": "code",
   "execution_count": 225,
   "metadata": {},
   "outputs": [],
   "source": [
    "parser_pos = CoreNLPParser(url='http://localhost:9000',tagtype='pos')"
   ]
  },
  {
   "cell_type": "code",
   "execution_count": 228,
   "metadata": {},
   "outputs": [
    {
     "data": {
      "text/plain": [
       "[('what', 'WP'),\n",
       " ('is', 'VBZ'),\n",
       " ('the', 'DT'),\n",
       " ('distance', 'NN'),\n",
       " ('from', 'IN'),\n",
       " ('the', 'DT'),\n",
       " ('earth', 'NN'),\n",
       " ('to', 'TO'),\n",
       " ('the', 'DT'),\n",
       " ('moon', 'NN')]"
      ]
     },
     "execution_count": 228,
     "metadata": {},
     "output_type": "execute_result"
    }
   ],
   "source": [
    "list(parser_pos.tag('what is the distance from the earth to the moon'.split(' ')))"
   ]
  },
  {
   "cell_type": "code",
   "execution_count": 230,
   "metadata": {},
   "outputs": [
    {
     "data": {
      "text/plain": [
       "[('why', 'WRB'),\n",
       " ('did', 'VBD'),\n",
       " ('pakistan', 'NN'),\n",
       " ('pass', 'VB'),\n",
       " ('the', 'DT'),\n",
       " ('sikh', 'JJ'),\n",
       " ('marriage', 'NN'),\n",
       " ('act', 'NN'),\n",
       " ('before', 'IN'),\n",
       " ('india', 'NN')]"
      ]
     },
     "execution_count": 230,
     "metadata": {},
     "output_type": "execute_result"
    }
   ],
   "source": [
    "list(parser_pos.tag(data_pos_tokenized[20][1]))"
   ]
  },
  {
   "cell_type": "code",
   "execution_count": 232,
   "metadata": {},
   "outputs": [
    {
     "data": {
      "text/plain": [
       "[('how', 'WRB'),\n",
       " ('i', 'FW'),\n",
       " ('know', 'VB'),\n",
       " ('whether', 'IN'),\n",
       " ('a', 'DT'),\n",
       " ('girl', 'NN'),\n",
       " ('had', 'VBD'),\n",
       " ('done', 'VBN'),\n",
       " ('sex', 'NN'),\n",
       " ('before', 'IN'),\n",
       " ('sex', 'NN'),\n",
       " ('with', 'IN'),\n",
       " ('me', 'PRP')]"
      ]
     },
     "execution_count": 232,
     "metadata": {},
     "output_type": "execute_result"
    }
   ],
   "source": [
    "list(parser_pos.tag(data_neg_tokenized[20][1]))"
   ]
  },
  {
   "cell_type": "code",
   "execution_count": 241,
   "metadata": {},
   "outputs": [],
   "source": [
    "parser_ner = CoreNLPParser(url='http://localhost:9000',tagtype='ner')"
   ]
  },
  {
   "cell_type": "code",
   "execution_count": 260,
   "metadata": {},
   "outputs": [
    {
     "data": {
      "text/plain": [
       "[('is', 'O'),\n",
       " ('indians', 'O'),\n",
       " ('are', 'O'),\n",
       " ('slave', 'O'),\n",
       " ('of', 'O'),\n",
       " ('english', 'NATIONALITY'),\n",
       " (',', 'O'),\n",
       " ('why', 'O'),\n",
       " ('they', 'O'),\n",
       " ('think', 'O'),\n",
       " ('that', 'O'),\n",
       " ('guys', 'O'),\n",
       " ('who', 'O'),\n",
       " ('can', 'O'),\n",
       " ('speak', 'O'),\n",
       " ('english', 'NATIONALITY'),\n",
       " ('are', 'O'),\n",
       " ('more', 'O'),\n",
       " ('smarter', 'O'),\n",
       " ('than', 'O'),\n",
       " ('hindi', 'O'),\n",
       " ('speaking', 'O'),\n",
       " ('person', 'O')]"
      ]
     },
     "execution_count": 260,
     "metadata": {},
     "output_type": "execute_result"
    }
   ],
   "source": [
    "list(parser_ner.tag(data_pos_tokenized[62][1]))"
   ]
  },
  {
   "cell_type": "code",
   "execution_count": 254,
   "metadata": {},
   "outputs": [
    {
     "data": {
      "text/plain": [
       "['liberals', 'conservatives']"
      ]
     },
     "execution_count": 254,
     "metadata": {},
     "output_type": "execute_result"
    }
   ],
   "source": []
  },
  {
   "cell_type": "code",
   "execution_count": null,
   "metadata": {},
   "outputs": [],
   "source": []
  }
 ],
 "metadata": {
  "kernelspec": {
   "display_name": "Python 3",
   "language": "python",
   "name": "python3"
  },
  "language_info": {
   "codemirror_mode": {
    "name": "ipython",
    "version": 3
   },
   "file_extension": ".py",
   "mimetype": "text/x-python",
   "name": "python",
   "nbconvert_exporter": "python",
   "pygments_lexer": "ipython3",
   "version": "3.7.3"
  }
 },
 "nbformat": 4,
 "nbformat_minor": 4
}
