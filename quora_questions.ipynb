{
 "cells": [
  {
   "cell_type": "code",
   "execution_count": 1,
   "metadata": {},
   "outputs": [],
   "source": [
    "import numpy as np \n",
    "import pandas as pd\n",
    "from quora_vocab import CommentVocab\n",
    "from sklearn import linear_model\n",
    "import utilities as ut\n",
    "from importlib import reload\n",
    "from bokeh.plotting import figure\n",
    "from bokeh.io import show, output_notebook"
   ]
  },
  {
   "cell_type": "code",
   "execution_count": 2,
   "metadata": {},
   "outputs": [],
   "source": [
    "DATA_PATH = '~/google_drive/data/quora/'\n",
    "DATA_FILE = '{}{}'.format(DATA_PATH,'train.csv')"
   ]
  },
  {
   "cell_type": "code",
   "execution_count": 3,
   "metadata": {},
   "outputs": [
    {
     "data": {
      "text/html": [
       "<div>\n",
       "<style scoped>\n",
       "    .dataframe tbody tr th:only-of-type {\n",
       "        vertical-align: middle;\n",
       "    }\n",
       "\n",
       "    .dataframe tbody tr th {\n",
       "        vertical-align: top;\n",
       "    }\n",
       "\n",
       "    .dataframe thead th {\n",
       "        text-align: right;\n",
       "    }\n",
       "</style>\n",
       "<table border=\"1\" class=\"dataframe\">\n",
       "  <thead>\n",
       "    <tr style=\"text-align: right;\">\n",
       "      <th></th>\n",
       "      <th>qid</th>\n",
       "      <th>question_text</th>\n",
       "      <th>target</th>\n",
       "    </tr>\n",
       "  </thead>\n",
       "  <tbody>\n",
       "    <tr>\n",
       "      <td>0</td>\n",
       "      <td>00002165364db923c7e6</td>\n",
       "      <td>How did Quebec nationalists see their province...</td>\n",
       "      <td>0</td>\n",
       "    </tr>\n",
       "    <tr>\n",
       "      <td>1</td>\n",
       "      <td>000032939017120e6e44</td>\n",
       "      <td>Do you have an adopted dog, how would you enco...</td>\n",
       "      <td>0</td>\n",
       "    </tr>\n",
       "    <tr>\n",
       "      <td>2</td>\n",
       "      <td>0000412ca6e4628ce2cf</td>\n",
       "      <td>Why does velocity affect time? Does velocity a...</td>\n",
       "      <td>0</td>\n",
       "    </tr>\n",
       "    <tr>\n",
       "      <td>3</td>\n",
       "      <td>000042bf85aa498cd78e</td>\n",
       "      <td>How did Otto von Guericke used the Magdeburg h...</td>\n",
       "      <td>0</td>\n",
       "    </tr>\n",
       "    <tr>\n",
       "      <td>4</td>\n",
       "      <td>0000455dfa3e01eae3af</td>\n",
       "      <td>Can I convert montra helicon D to a mountain b...</td>\n",
       "      <td>0</td>\n",
       "    </tr>\n",
       "  </tbody>\n",
       "</table>\n",
       "</div>"
      ],
      "text/plain": [
       "                    qid                                      question_text  \\\n",
       "0  00002165364db923c7e6  How did Quebec nationalists see their province...   \n",
       "1  000032939017120e6e44  Do you have an adopted dog, how would you enco...   \n",
       "2  0000412ca6e4628ce2cf  Why does velocity affect time? Does velocity a...   \n",
       "3  000042bf85aa498cd78e  How did Otto von Guericke used the Magdeburg h...   \n",
       "4  0000455dfa3e01eae3af  Can I convert montra helicon D to a mountain b...   \n",
       "\n",
       "   target  \n",
       "0       0  \n",
       "1       0  \n",
       "2       0  \n",
       "3       0  \n",
       "4       0  "
      ]
     },
     "execution_count": 3,
     "metadata": {},
     "output_type": "execute_result"
    }
   ],
   "source": [
    "data = pd.read_csv(DATA_FILE)\n",
    "data.head()"
   ]
  },
  {
   "cell_type": "code",
   "execution_count": 6,
   "metadata": {},
   "outputs": [
    {
     "name": "stderr",
     "output_type": "stream",
     "text": [
      "/Users/ericpenner/anaconda3/envs/quora_proj/lib/python3.7/site-packages/ipykernel_launcher.py:2: FutureWarning: Method .as_matrix will be removed in a future version. Use .values instead.\n",
      "  \n",
      "/Users/ericpenner/anaconda3/envs/quora_proj/lib/python3.7/site-packages/ipykernel_launcher.py:4: FutureWarning: Method .as_matrix will be removed in a future version. Use .values instead.\n",
      "  after removing the cwd from sys.path.\n"
     ]
    }
   ],
   "source": [
    "data_pos_tokenized = [[vec[0],ut.canon_token_sentence(vec[1]),vec[2]] \n",
    "                      for vec in data.as_matrix() if vec[2] == 1]  \n",
    "data_neg_tokenized = [[vec[0],ut.canon_token_sentence(vec[1]),vec[2]] \n",
    "                      for vec in data.as_matrix() if vec[2] == 0]   "
   ]
  },
  {
   "cell_type": "code",
   "execution_count": 7,
   "metadata": {},
   "outputs": [
    {
     "data": {
      "text/plain": [
       "[['0054a3d061810a5c90c1',\n",
       "  ['does',\n",
       "   'the',\n",
       "   'very',\n",
       "   'fact',\n",
       "   'that',\n",
       "   'donald',\n",
       "   'trump',\n",
       "   'wallows',\n",
       "   'in',\n",
       "   'his',\n",
       "   'idiocy',\n",
       "   'prove',\n",
       "   'that',\n",
       "   'the',\n",
       "   'universe',\n",
       "   'is',\n",
       "   'only',\n",
       "   'DGDGDGDG',\n",
       "   'years',\n",
       "   'old'],\n",
       "  1],\n",
       " ['0054f530e2458b3ae7eb',\n",
       "  ['is', 'it', 'ok', 'to', 'have', 'sex', 'with', 'your', 'mom'],\n",
       "  1]]"
      ]
     },
     "execution_count": 7,
     "metadata": {},
     "output_type": "execute_result"
    }
   ],
   "source": [
    "data_pos_tokenized[100:102]"
   ]
  },
  {
   "cell_type": "code",
   "execution_count": 8,
   "metadata": {},
   "outputs": [
    {
     "data": {
      "text/plain": [
       "[['000075f67dd595c3deb5',\n",
       "  ['what', 'can', 'you', 'say', 'about', 'feminism'],\n",
       "  0],\n",
       " ['000076f3b42776c692de',\n",
       "  ['how', 'were', 'the', 'calgary', 'flames', 'founded'],\n",
       "  0]]"
      ]
     },
     "execution_count": 8,
     "metadata": {},
     "output_type": "execute_result"
    }
   ],
   "source": [
    "data_neg_tokenized[10:12]"
   ]
  },
  {
   "cell_type": "code",
   "execution_count": 9,
   "metadata": {},
   "outputs": [
    {
     "name": "stdout",
     "output_type": "stream",
     "text": [
      "----Length of Positive Examples-----\n",
      "count    80810.000000\n",
      "mean        17.462888\n",
      "std          9.686994\n",
      "min          1.000000\n",
      "25%         10.000000\n",
      "50%         15.000000\n",
      "75%         23.000000\n",
      "max         90.000000\n",
      "dtype: float64\n",
      "\n",
      "----Length of Negative Examples-----\n",
      "count    1.225312e+06\n",
      "mean     1.263137e+01\n",
      "std      6.843014e+00\n",
      "min      2.000000e+00\n",
      "25%      8.000000e+00\n",
      "50%      1.100000e+01\n",
      "75%      1.500000e+01\n",
      "max      1.330000e+02\n",
      "dtype: float64\n"
     ]
    }
   ],
   "source": [
    "pos_lengths = [ len(vec[1]) for vec in data_pos_tokenized]\n",
    "neg_lengths = [ len(vec[1]) for vec in data_neg_tokenized]\n",
    "print('{}\\n{}\\n'.format('----Length of Positive Examples-----',pd.Series(pos_lengths).describe()))\n",
    "print('{}\\n{}'.format('----Length of Negative Examples-----',pd.Series(neg_lengths).describe()))"
   ]
  },
  {
   "cell_type": "markdown",
   "metadata": {},
   "source": [
    "### Histogram Comparison of Lenghts"
   ]
  },
  {
   "cell_type": "code",
   "execution_count": null,
   "metadata": {},
   "outputs": [],
   "source": []
  },
  {
   "cell_type": "markdown",
   "metadata": {},
   "source": [
    "### Train Test Split"
   ]
  },
  {
   "cell_type": "code",
   "execution_count": null,
   "metadata": {},
   "outputs": [],
   "source": [
    "NVALID = 5000\n",
    "from random import shuffle\n",
    "train_data = data_pos_tokenized[NVALID:] + data_neg_tokenized[NVALID:]\n",
    "shuffle(train_data)\n",
    "valid_data = data_pos_tokenized[:NVALID] + data_neg_tokenized[:NVALID]\n",
    "shuffle(valid_data)"
   ]
  }
 ],
 "metadata": {
  "kernelspec": {
   "display_name": "Python 3",
   "language": "python",
   "name": "python3"
  },
  "language_info": {
   "codemirror_mode": {
    "name": "ipython",
    "version": 3
   },
   "file_extension": ".py",
   "mimetype": "text/x-python",
   "name": "python",
   "nbconvert_exporter": "python",
   "pygments_lexer": "ipython3",
   "version": "3.7.3"
  }
 },
 "nbformat": 4,
 "nbformat_minor": 4
}
