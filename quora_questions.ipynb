{
 "cells": [
  {
   "cell_type": "code",
   "execution_count": 116,
   "metadata": {},
   "outputs": [
    {
     "data": {
      "text/html": [
       "\n",
       "    <div class=\"bk-root\">\n",
       "        <a href=\"https://bokeh.pydata.org\" target=\"_blank\" class=\"bk-logo bk-logo-small bk-logo-notebook\"></a>\n",
       "        <span id=\"5284\">Loading BokehJS ...</span>\n",
       "    </div>"
      ]
     },
     "metadata": {},
     "output_type": "display_data"
    },
    {
     "data": {
      "application/javascript": [
       "\n",
       "(function(root) {\n",
       "  function now() {\n",
       "    return new Date();\n",
       "  }\n",
       "\n",
       "  var force = true;\n",
       "\n",
       "  if (typeof root._bokeh_onload_callbacks === \"undefined\" || force === true) {\n",
       "    root._bokeh_onload_callbacks = [];\n",
       "    root._bokeh_is_loading = undefined;\n",
       "  }\n",
       "\n",
       "  var JS_MIME_TYPE = 'application/javascript';\n",
       "  var HTML_MIME_TYPE = 'text/html';\n",
       "  var EXEC_MIME_TYPE = 'application/vnd.bokehjs_exec.v0+json';\n",
       "  var CLASS_NAME = 'output_bokeh rendered_html';\n",
       "\n",
       "  /**\n",
       "   * Render data to the DOM node\n",
       "   */\n",
       "  function render(props, node) {\n",
       "    var script = document.createElement(\"script\");\n",
       "    node.appendChild(script);\n",
       "  }\n",
       "\n",
       "  /**\n",
       "   * Handle when an output is cleared or removed\n",
       "   */\n",
       "  function handleClearOutput(event, handle) {\n",
       "    var cell = handle.cell;\n",
       "\n",
       "    var id = cell.output_area._bokeh_element_id;\n",
       "    var server_id = cell.output_area._bokeh_server_id;\n",
       "    // Clean up Bokeh references\n",
       "    if (id != null && id in Bokeh.index) {\n",
       "      Bokeh.index[id].model.document.clear();\n",
       "      delete Bokeh.index[id];\n",
       "    }\n",
       "\n",
       "    if (server_id !== undefined) {\n",
       "      // Clean up Bokeh references\n",
       "      var cmd = \"from bokeh.io.state import curstate; print(curstate().uuid_to_server['\" + server_id + \"'].get_sessions()[0].document.roots[0]._id)\";\n",
       "      cell.notebook.kernel.execute(cmd, {\n",
       "        iopub: {\n",
       "          output: function(msg) {\n",
       "            var id = msg.content.text.trim();\n",
       "            if (id in Bokeh.index) {\n",
       "              Bokeh.index[id].model.document.clear();\n",
       "              delete Bokeh.index[id];\n",
       "            }\n",
       "          }\n",
       "        }\n",
       "      });\n",
       "      // Destroy server and session\n",
       "      var cmd = \"import bokeh.io.notebook as ion; ion.destroy_server('\" + server_id + \"')\";\n",
       "      cell.notebook.kernel.execute(cmd);\n",
       "    }\n",
       "  }\n",
       "\n",
       "  /**\n",
       "   * Handle when a new output is added\n",
       "   */\n",
       "  function handleAddOutput(event, handle) {\n",
       "    var output_area = handle.output_area;\n",
       "    var output = handle.output;\n",
       "\n",
       "    // limit handleAddOutput to display_data with EXEC_MIME_TYPE content only\n",
       "    if ((output.output_type != \"display_data\") || (!output.data.hasOwnProperty(EXEC_MIME_TYPE))) {\n",
       "      return\n",
       "    }\n",
       "\n",
       "    var toinsert = output_area.element.find(\".\" + CLASS_NAME.split(' ')[0]);\n",
       "\n",
       "    if (output.metadata[EXEC_MIME_TYPE][\"id\"] !== undefined) {\n",
       "      toinsert[toinsert.length - 1].firstChild.textContent = output.data[JS_MIME_TYPE];\n",
       "      // store reference to embed id on output_area\n",
       "      output_area._bokeh_element_id = output.metadata[EXEC_MIME_TYPE][\"id\"];\n",
       "    }\n",
       "    if (output.metadata[EXEC_MIME_TYPE][\"server_id\"] !== undefined) {\n",
       "      var bk_div = document.createElement(\"div\");\n",
       "      bk_div.innerHTML = output.data[HTML_MIME_TYPE];\n",
       "      var script_attrs = bk_div.children[0].attributes;\n",
       "      for (var i = 0; i < script_attrs.length; i++) {\n",
       "        toinsert[toinsert.length - 1].firstChild.setAttribute(script_attrs[i].name, script_attrs[i].value);\n",
       "      }\n",
       "      // store reference to server id on output_area\n",
       "      output_area._bokeh_server_id = output.metadata[EXEC_MIME_TYPE][\"server_id\"];\n",
       "    }\n",
       "  }\n",
       "\n",
       "  function register_renderer(events, OutputArea) {\n",
       "\n",
       "    function append_mime(data, metadata, element) {\n",
       "      // create a DOM node to render to\n",
       "      var toinsert = this.create_output_subarea(\n",
       "        metadata,\n",
       "        CLASS_NAME,\n",
       "        EXEC_MIME_TYPE\n",
       "      );\n",
       "      this.keyboard_manager.register_events(toinsert);\n",
       "      // Render to node\n",
       "      var props = {data: data, metadata: metadata[EXEC_MIME_TYPE]};\n",
       "      render(props, toinsert[toinsert.length - 1]);\n",
       "      element.append(toinsert);\n",
       "      return toinsert\n",
       "    }\n",
       "\n",
       "    /* Handle when an output is cleared or removed */\n",
       "    events.on('clear_output.CodeCell', handleClearOutput);\n",
       "    events.on('delete.Cell', handleClearOutput);\n",
       "\n",
       "    /* Handle when a new output is added */\n",
       "    events.on('output_added.OutputArea', handleAddOutput);\n",
       "\n",
       "    /**\n",
       "     * Register the mime type and append_mime function with output_area\n",
       "     */\n",
       "    OutputArea.prototype.register_mime_type(EXEC_MIME_TYPE, append_mime, {\n",
       "      /* Is output safe? */\n",
       "      safe: true,\n",
       "      /* Index of renderer in `output_area.display_order` */\n",
       "      index: 0\n",
       "    });\n",
       "  }\n",
       "\n",
       "  // register the mime type if in Jupyter Notebook environment and previously unregistered\n",
       "  if (root.Jupyter !== undefined) {\n",
       "    var events = require('base/js/events');\n",
       "    var OutputArea = require('notebook/js/outputarea').OutputArea;\n",
       "\n",
       "    if (OutputArea.prototype.mime_types().indexOf(EXEC_MIME_TYPE) == -1) {\n",
       "      register_renderer(events, OutputArea);\n",
       "    }\n",
       "  }\n",
       "\n",
       "  \n",
       "  if (typeof (root._bokeh_timeout) === \"undefined\" || force === true) {\n",
       "    root._bokeh_timeout = Date.now() + 5000;\n",
       "    root._bokeh_failed_load = false;\n",
       "  }\n",
       "\n",
       "  var NB_LOAD_WARNING = {'data': {'text/html':\n",
       "     \"<div style='background-color: #fdd'>\\n\"+\n",
       "     \"<p>\\n\"+\n",
       "     \"BokehJS does not appear to have successfully loaded. If loading BokehJS from CDN, this \\n\"+\n",
       "     \"may be due to a slow or bad network connection. Possible fixes:\\n\"+\n",
       "     \"</p>\\n\"+\n",
       "     \"<ul>\\n\"+\n",
       "     \"<li>re-rerun `output_notebook()` to attempt to load from CDN again, or</li>\\n\"+\n",
       "     \"<li>use INLINE resources instead, as so:</li>\\n\"+\n",
       "     \"</ul>\\n\"+\n",
       "     \"<code>\\n\"+\n",
       "     \"from bokeh.resources import INLINE\\n\"+\n",
       "     \"output_notebook(resources=INLINE)\\n\"+\n",
       "     \"</code>\\n\"+\n",
       "     \"</div>\"}};\n",
       "\n",
       "  function display_loaded() {\n",
       "    var el = document.getElementById(\"5284\");\n",
       "    if (el != null) {\n",
       "      el.textContent = \"BokehJS is loading...\";\n",
       "    }\n",
       "    if (root.Bokeh !== undefined) {\n",
       "      if (el != null) {\n",
       "        el.textContent = \"BokehJS \" + root.Bokeh.version + \" successfully loaded.\";\n",
       "      }\n",
       "    } else if (Date.now() < root._bokeh_timeout) {\n",
       "      setTimeout(display_loaded, 100)\n",
       "    }\n",
       "  }\n",
       "\n",
       "\n",
       "  function run_callbacks() {\n",
       "    try {\n",
       "      root._bokeh_onload_callbacks.forEach(function(callback) {\n",
       "        if (callback != null)\n",
       "          callback();\n",
       "      });\n",
       "    } finally {\n",
       "      delete root._bokeh_onload_callbacks\n",
       "    }\n",
       "    console.debug(\"Bokeh: all callbacks have finished\");\n",
       "  }\n",
       "\n",
       "  function load_libs(css_urls, js_urls, callback) {\n",
       "    if (css_urls == null) css_urls = [];\n",
       "    if (js_urls == null) js_urls = [];\n",
       "\n",
       "    root._bokeh_onload_callbacks.push(callback);\n",
       "    if (root._bokeh_is_loading > 0) {\n",
       "      console.debug(\"Bokeh: BokehJS is being loaded, scheduling callback at\", now());\n",
       "      return null;\n",
       "    }\n",
       "    if (js_urls == null || js_urls.length === 0) {\n",
       "      run_callbacks();\n",
       "      return null;\n",
       "    }\n",
       "    console.debug(\"Bokeh: BokehJS not loaded, scheduling load and callback at\", now());\n",
       "    root._bokeh_is_loading = css_urls.length + js_urls.length;\n",
       "\n",
       "    function on_load() {\n",
       "      root._bokeh_is_loading--;\n",
       "      if (root._bokeh_is_loading === 0) {\n",
       "        console.debug(\"Bokeh: all BokehJS libraries/stylesheets loaded\");\n",
       "        run_callbacks()\n",
       "      }\n",
       "    }\n",
       "\n",
       "    function on_error() {\n",
       "      console.error(\"failed to load \" + url);\n",
       "    }\n",
       "\n",
       "    for (var i = 0; i < css_urls.length; i++) {\n",
       "      var url = css_urls[i];\n",
       "      const element = document.createElement(\"link\");\n",
       "      element.onload = on_load;\n",
       "      element.onerror = on_error;\n",
       "      element.rel = \"stylesheet\";\n",
       "      element.type = \"text/css\";\n",
       "      element.href = url;\n",
       "      console.debug(\"Bokeh: injecting link tag for BokehJS stylesheet: \", url);\n",
       "      document.body.appendChild(element);\n",
       "    }\n",
       "\n",
       "    for (var i = 0; i < js_urls.length; i++) {\n",
       "      var url = js_urls[i];\n",
       "      var element = document.createElement('script');\n",
       "      element.onload = on_load;\n",
       "      element.onerror = on_error;\n",
       "      element.async = false;\n",
       "      element.src = url;\n",
       "      console.debug(\"Bokeh: injecting script tag for BokehJS library: \", url);\n",
       "      document.head.appendChild(element);\n",
       "    }\n",
       "  };var element = document.getElementById(\"5284\");\n",
       "  if (element == null) {\n",
       "    console.error(\"Bokeh: ERROR: autoload.js configured with elementid '5284' but no matching script tag was found. \")\n",
       "    return false;\n",
       "  }\n",
       "\n",
       "  function inject_raw_css(css) {\n",
       "    const element = document.createElement(\"style\");\n",
       "    element.appendChild(document.createTextNode(css));\n",
       "    document.body.appendChild(element);\n",
       "  }\n",
       "\n",
       "  var js_urls = [\"https://cdn.pydata.org/bokeh/release/bokeh-1.3.4.min.js\", \"https://cdn.pydata.org/bokeh/release/bokeh-widgets-1.3.4.min.js\", \"https://cdn.pydata.org/bokeh/release/bokeh-tables-1.3.4.min.js\", \"https://cdn.pydata.org/bokeh/release/bokeh-gl-1.3.4.min.js\"];\n",
       "  var css_urls = [];\n",
       "\n",
       "  var inline_js = [\n",
       "    function(Bokeh) {\n",
       "      Bokeh.set_log_level(\"info\");\n",
       "    },\n",
       "    \n",
       "    function(Bokeh) {\n",
       "      \n",
       "    },\n",
       "    function(Bokeh) {} // ensure no trailing comma for IE\n",
       "  ];\n",
       "\n",
       "  function run_inline_js() {\n",
       "    \n",
       "    if ((root.Bokeh !== undefined) || (force === true)) {\n",
       "      for (var i = 0; i < inline_js.length; i++) {\n",
       "        inline_js[i].call(root, root.Bokeh);\n",
       "      }if (force === true) {\n",
       "        display_loaded();\n",
       "      }} else if (Date.now() < root._bokeh_timeout) {\n",
       "      setTimeout(run_inline_js, 100);\n",
       "    } else if (!root._bokeh_failed_load) {\n",
       "      console.log(\"Bokeh: BokehJS failed to load within specified timeout.\");\n",
       "      root._bokeh_failed_load = true;\n",
       "    } else if (force !== true) {\n",
       "      var cell = $(document.getElementById(\"5284\")).parents('.cell').data().cell;\n",
       "      cell.output_area.append_execute_result(NB_LOAD_WARNING)\n",
       "    }\n",
       "\n",
       "  }\n",
       "\n",
       "  if (root._bokeh_is_loading === 0) {\n",
       "    console.debug(\"Bokeh: BokehJS loaded, going straight to plotting\");\n",
       "    run_inline_js();\n",
       "  } else {\n",
       "    load_libs(css_urls, js_urls, function() {\n",
       "      console.debug(\"Bokeh: BokehJS plotting callback run at\", now());\n",
       "      run_inline_js();\n",
       "    });\n",
       "  }\n",
       "}(window));"
      ],
      "application/vnd.bokehjs_load.v0+json": "\n(function(root) {\n  function now() {\n    return new Date();\n  }\n\n  var force = true;\n\n  if (typeof root._bokeh_onload_callbacks === \"undefined\" || force === true) {\n    root._bokeh_onload_callbacks = [];\n    root._bokeh_is_loading = undefined;\n  }\n\n  \n\n  \n  if (typeof (root._bokeh_timeout) === \"undefined\" || force === true) {\n    root._bokeh_timeout = Date.now() + 5000;\n    root._bokeh_failed_load = false;\n  }\n\n  var NB_LOAD_WARNING = {'data': {'text/html':\n     \"<div style='background-color: #fdd'>\\n\"+\n     \"<p>\\n\"+\n     \"BokehJS does not appear to have successfully loaded. If loading BokehJS from CDN, this \\n\"+\n     \"may be due to a slow or bad network connection. Possible fixes:\\n\"+\n     \"</p>\\n\"+\n     \"<ul>\\n\"+\n     \"<li>re-rerun `output_notebook()` to attempt to load from CDN again, or</li>\\n\"+\n     \"<li>use INLINE resources instead, as so:</li>\\n\"+\n     \"</ul>\\n\"+\n     \"<code>\\n\"+\n     \"from bokeh.resources import INLINE\\n\"+\n     \"output_notebook(resources=INLINE)\\n\"+\n     \"</code>\\n\"+\n     \"</div>\"}};\n\n  function display_loaded() {\n    var el = document.getElementById(\"5284\");\n    if (el != null) {\n      el.textContent = \"BokehJS is loading...\";\n    }\n    if (root.Bokeh !== undefined) {\n      if (el != null) {\n        el.textContent = \"BokehJS \" + root.Bokeh.version + \" successfully loaded.\";\n      }\n    } else if (Date.now() < root._bokeh_timeout) {\n      setTimeout(display_loaded, 100)\n    }\n  }\n\n\n  function run_callbacks() {\n    try {\n      root._bokeh_onload_callbacks.forEach(function(callback) {\n        if (callback != null)\n          callback();\n      });\n    } finally {\n      delete root._bokeh_onload_callbacks\n    }\n    console.debug(\"Bokeh: all callbacks have finished\");\n  }\n\n  function load_libs(css_urls, js_urls, callback) {\n    if (css_urls == null) css_urls = [];\n    if (js_urls == null) js_urls = [];\n\n    root._bokeh_onload_callbacks.push(callback);\n    if (root._bokeh_is_loading > 0) {\n      console.debug(\"Bokeh: BokehJS is being loaded, scheduling callback at\", now());\n      return null;\n    }\n    if (js_urls == null || js_urls.length === 0) {\n      run_callbacks();\n      return null;\n    }\n    console.debug(\"Bokeh: BokehJS not loaded, scheduling load and callback at\", now());\n    root._bokeh_is_loading = css_urls.length + js_urls.length;\n\n    function on_load() {\n      root._bokeh_is_loading--;\n      if (root._bokeh_is_loading === 0) {\n        console.debug(\"Bokeh: all BokehJS libraries/stylesheets loaded\");\n        run_callbacks()\n      }\n    }\n\n    function on_error() {\n      console.error(\"failed to load \" + url);\n    }\n\n    for (var i = 0; i < css_urls.length; i++) {\n      var url = css_urls[i];\n      const element = document.createElement(\"link\");\n      element.onload = on_load;\n      element.onerror = on_error;\n      element.rel = \"stylesheet\";\n      element.type = \"text/css\";\n      element.href = url;\n      console.debug(\"Bokeh: injecting link tag for BokehJS stylesheet: \", url);\n      document.body.appendChild(element);\n    }\n\n    for (var i = 0; i < js_urls.length; i++) {\n      var url = js_urls[i];\n      var element = document.createElement('script');\n      element.onload = on_load;\n      element.onerror = on_error;\n      element.async = false;\n      element.src = url;\n      console.debug(\"Bokeh: injecting script tag for BokehJS library: \", url);\n      document.head.appendChild(element);\n    }\n  };var element = document.getElementById(\"5284\");\n  if (element == null) {\n    console.error(\"Bokeh: ERROR: autoload.js configured with elementid '5284' but no matching script tag was found. \")\n    return false;\n  }\n\n  function inject_raw_css(css) {\n    const element = document.createElement(\"style\");\n    element.appendChild(document.createTextNode(css));\n    document.body.appendChild(element);\n  }\n\n  var js_urls = [\"https://cdn.pydata.org/bokeh/release/bokeh-1.3.4.min.js\", \"https://cdn.pydata.org/bokeh/release/bokeh-widgets-1.3.4.min.js\", \"https://cdn.pydata.org/bokeh/release/bokeh-tables-1.3.4.min.js\", \"https://cdn.pydata.org/bokeh/release/bokeh-gl-1.3.4.min.js\"];\n  var css_urls = [];\n\n  var inline_js = [\n    function(Bokeh) {\n      Bokeh.set_log_level(\"info\");\n    },\n    \n    function(Bokeh) {\n      \n    },\n    function(Bokeh) {} // ensure no trailing comma for IE\n  ];\n\n  function run_inline_js() {\n    \n    if ((root.Bokeh !== undefined) || (force === true)) {\n      for (var i = 0; i < inline_js.length; i++) {\n        inline_js[i].call(root, root.Bokeh);\n      }if (force === true) {\n        display_loaded();\n      }} else if (Date.now() < root._bokeh_timeout) {\n      setTimeout(run_inline_js, 100);\n    } else if (!root._bokeh_failed_load) {\n      console.log(\"Bokeh: BokehJS failed to load within specified timeout.\");\n      root._bokeh_failed_load = true;\n    } else if (force !== true) {\n      var cell = $(document.getElementById(\"5284\")).parents('.cell').data().cell;\n      cell.output_area.append_execute_result(NB_LOAD_WARNING)\n    }\n\n  }\n\n  if (root._bokeh_is_loading === 0) {\n    console.debug(\"Bokeh: BokehJS loaded, going straight to plotting\");\n    run_inline_js();\n  } else {\n    load_libs(css_urls, js_urls, function() {\n      console.debug(\"Bokeh: BokehJS plotting callback run at\", now());\n      run_inline_js();\n    });\n  }\n}(window));"
     },
     "metadata": {},
     "output_type": "display_data"
    }
   ],
   "source": [
    "import numpy as np \n",
    "import pandas as pd\n",
    "import quora_vocab as qv\n",
    "from sklearn import linear_model\n",
    "import utilities as ut\n",
    "from importlib import reload\n",
    "from bokeh.plotting import figure\n",
    "from bokeh.io import show, output_notebook\n",
    "from bokeh.models import HoverTool, ColumnDataSource\n",
    "output_notebook()"
   ]
  },
  {
   "cell_type": "code",
   "execution_count": 117,
   "metadata": {},
   "outputs": [],
   "source": [
    "DATA_PATH = '~/google_drive/data/quora/'\n",
    "DATA_FILE = '{}{}'.format(DATA_PATH,'train.csv')"
   ]
  },
  {
   "cell_type": "markdown",
   "metadata": {},
   "source": [
    "### Data Loading"
   ]
  },
  {
   "cell_type": "code",
   "execution_count": 118,
   "metadata": {},
   "outputs": [
    {
     "data": {
      "text/html": [
       "<div>\n",
       "<style scoped>\n",
       "    .dataframe tbody tr th:only-of-type {\n",
       "        vertical-align: middle;\n",
       "    }\n",
       "\n",
       "    .dataframe tbody tr th {\n",
       "        vertical-align: top;\n",
       "    }\n",
       "\n",
       "    .dataframe thead th {\n",
       "        text-align: right;\n",
       "    }\n",
       "</style>\n",
       "<table border=\"1\" class=\"dataframe\">\n",
       "  <thead>\n",
       "    <tr style=\"text-align: right;\">\n",
       "      <th></th>\n",
       "      <th>qid</th>\n",
       "      <th>question_text</th>\n",
       "      <th>target</th>\n",
       "    </tr>\n",
       "  </thead>\n",
       "  <tbody>\n",
       "    <tr>\n",
       "      <td>0</td>\n",
       "      <td>00002165364db923c7e6</td>\n",
       "      <td>How did Quebec nationalists see their province...</td>\n",
       "      <td>0</td>\n",
       "    </tr>\n",
       "    <tr>\n",
       "      <td>1</td>\n",
       "      <td>000032939017120e6e44</td>\n",
       "      <td>Do you have an adopted dog, how would you enco...</td>\n",
       "      <td>0</td>\n",
       "    </tr>\n",
       "    <tr>\n",
       "      <td>2</td>\n",
       "      <td>0000412ca6e4628ce2cf</td>\n",
       "      <td>Why does velocity affect time? Does velocity a...</td>\n",
       "      <td>0</td>\n",
       "    </tr>\n",
       "    <tr>\n",
       "      <td>3</td>\n",
       "      <td>000042bf85aa498cd78e</td>\n",
       "      <td>How did Otto von Guericke used the Magdeburg h...</td>\n",
       "      <td>0</td>\n",
       "    </tr>\n",
       "    <tr>\n",
       "      <td>4</td>\n",
       "      <td>0000455dfa3e01eae3af</td>\n",
       "      <td>Can I convert montra helicon D to a mountain b...</td>\n",
       "      <td>0</td>\n",
       "    </tr>\n",
       "  </tbody>\n",
       "</table>\n",
       "</div>"
      ],
      "text/plain": [
       "                    qid                                      question_text  \\\n",
       "0  00002165364db923c7e6  How did Quebec nationalists see their province...   \n",
       "1  000032939017120e6e44  Do you have an adopted dog, how would you enco...   \n",
       "2  0000412ca6e4628ce2cf  Why does velocity affect time? Does velocity a...   \n",
       "3  000042bf85aa498cd78e  How did Otto von Guericke used the Magdeburg h...   \n",
       "4  0000455dfa3e01eae3af  Can I convert montra helicon D to a mountain b...   \n",
       "\n",
       "   target  \n",
       "0       0  \n",
       "1       0  \n",
       "2       0  \n",
       "3       0  \n",
       "4       0  "
      ]
     },
     "execution_count": 118,
     "metadata": {},
     "output_type": "execute_result"
    }
   ],
   "source": [
    "data = pd.read_csv(DATA_FILE)\n",
    "data.head()"
   ]
  },
  {
   "cell_type": "markdown",
   "metadata": {},
   "source": [
    "### Tokenizing Each Comment"
   ]
  },
  {
   "cell_type": "code",
   "execution_count": 119,
   "metadata": {},
   "outputs": [
    {
     "name": "stderr",
     "output_type": "stream",
     "text": [
      "/Users/ericpenner/anaconda3/envs/quora_proj/lib/python3.7/site-packages/ipykernel_launcher.py:2: FutureWarning: Method .as_matrix will be removed in a future version. Use .values instead.\n",
      "  \n",
      "/Users/ericpenner/anaconda3/envs/quora_proj/lib/python3.7/site-packages/ipykernel_launcher.py:4: FutureWarning: Method .as_matrix will be removed in a future version. Use .values instead.\n",
      "  after removing the cwd from sys.path.\n"
     ]
    }
   ],
   "source": [
    "data_pos_tokenized = [[vec[0],ut.canon_token_sentence(vec[1]),vec[2]] \n",
    "                      for vec in data.as_matrix() if vec[2] == 1]  \n",
    "data_neg_tokenized = [[vec[0],ut.canon_token_sentence(vec[1]),vec[2]] \n",
    "                      for vec in data.as_matrix() if vec[2] == 0]   "
   ]
  },
  {
   "cell_type": "markdown",
   "metadata": {},
   "source": [
    "#### Tokenized Innapropriate Question Example"
   ]
  },
  {
   "cell_type": "code",
   "execution_count": 354,
   "metadata": {},
   "outputs": [
    {
     "data": {
      "text/plain": [
       "\"was russia's invasion on ukraine a part of polish revenge plan for what happened in wolyn when ukrainians brutally murdered tens thousands of polish to settle down there\""
      ]
     },
     "execution_count": 354,
     "metadata": {},
     "output_type": "execute_result"
    }
   ],
   "source": [
    "' '.join(data_pos_tokenized[104][1])"
   ]
  },
  {
   "cell_type": "markdown",
   "metadata": {},
   "source": [
    "#### Tokenized Appropriate Question Example"
   ]
  },
  {
   "cell_type": "code",
   "execution_count": 355,
   "metadata": {},
   "outputs": [
    {
     "data": {
      "text/plain": [
       "'how were the calgary flames founded'"
      ]
     },
     "execution_count": 355,
     "metadata": {},
     "output_type": "execute_result"
    }
   ],
   "source": [
    "' '.join(data_neg_tokenized[11][1])"
   ]
  },
  {
   "cell_type": "markdown",
   "metadata": {},
   "source": [
    "### Train Test Split"
   ]
  },
  {
   "cell_type": "code",
   "execution_count": 123,
   "metadata": {},
   "outputs": [],
   "source": [
    "NVALID = 5000\n",
    "from random import shuffle\n",
    "train_data = data_pos_tokenized[NVALID:] + data_neg_tokenized[NVALID:]\n",
    "shuffle(train_data)\n",
    "valid_data = data_pos_tokenized[:NVALID] + data_neg_tokenized[:NVALID]\n",
    "shuffle(valid_data)"
   ]
  },
  {
   "cell_type": "markdown",
   "metadata": {},
   "source": [
    "### Class Construction"
   ]
  },
  {
   "cell_type": "code",
   "execution_count": 361,
   "metadata": {},
   "outputs": [
    {
     "name": "stderr",
     "output_type": "stream",
     "text": [
      "Processing Comments: 100%|██████████| 10000/10000 [00:00<00:00, 56073.66it/s]\n"
     ]
    }
   ],
   "source": [
    "reload(qv)\n",
    "comments = qv.CommentVocab(valid_data)"
   ]
  },
  {
   "cell_type": "markdown",
   "metadata": {},
   "source": [
    "### Comparison of Question Length by Class"
   ]
  },
  {
   "cell_type": "code",
   "execution_count": 362,
   "metadata": {},
   "outputs": [
    {
     "name": "stdout",
     "output_type": "stream",
     "text": [
      "----Length of Positive Examples-----\n",
      "count    80810.000000\n",
      "mean        17.462888\n",
      "std          9.686994\n",
      "min          1.000000\n",
      "25%         10.000000\n",
      "50%         15.000000\n",
      "75%         23.000000\n",
      "max         90.000000\n",
      "dtype: float64\n",
      "\n",
      "----Length of Negative Examples-----\n",
      "count    1.225312e+06\n",
      "mean     1.263137e+01\n",
      "std      6.843014e+00\n",
      "min      2.000000e+00\n",
      "25%      8.000000e+00\n",
      "50%      1.100000e+01\n",
      "75%      1.500000e+01\n",
      "max      1.330000e+02\n",
      "dtype: float64\n"
     ]
    }
   ],
   "source": [
    "pos_lengths = [ len(vec[1]) for vec in data_pos_tokenized]\n",
    "neg_lengths = [ len(vec[1]) for vec in data_neg_tokenized]\n",
    "print('{}\\n{}\\n'.format('----Length of Positive Examples-----',pd.Series(pos_lengths).describe()))\n",
    "print('{}\\n{}'.format('----Length of Negative Examples-----',pd.Series(neg_lengths).describe()))"
   ]
  },
  {
   "cell_type": "code",
   "execution_count": 363,
   "metadata": {},
   "outputs": [
    {
     "data": {
      "text/html": [
       "\n",
       "\n",
       "\n",
       "\n",
       "\n",
       "\n",
       "  <div class=\"bk-root\" id=\"ac25cf06-0ab8-4a04-a63a-571ec41d535d\" data-root-id=\"120604\"></div>\n"
      ]
     },
     "metadata": {},
     "output_type": "display_data"
    },
    {
     "data": {
      "application/javascript": [
       "(function(root) {\n",
       "  function embed_document(root) {\n",
       "    \n",
       "  var docs_json = {\"b2fc84db-0faf-45f4-ae09-bf1fd979edec\":{\"roots\":{\"references\":[{\"attributes\":{\"below\":[{\"id\":\"120615\",\"type\":\"LinearAxis\"}],\"center\":[{\"id\":\"120619\",\"type\":\"Grid\"},{\"id\":\"120624\",\"type\":\"Grid\"},{\"id\":\"120650\",\"type\":\"Legend\"}],\"left\":[{\"id\":\"120620\",\"type\":\"LinearAxis\"}],\"plot_height\":400,\"plot_width\":750,\"renderers\":[{\"id\":\"120642\",\"type\":\"GlyphRenderer\"},{\"id\":\"120656\",\"type\":\"GlyphRenderer\"}],\"title\":{\"id\":\"120605\",\"type\":\"Title\"},\"toolbar\":{\"id\":\"120631\",\"type\":\"Toolbar\"},\"x_range\":{\"id\":\"120607\",\"type\":\"DataRange1d\"},\"x_scale\":{\"id\":\"120611\",\"type\":\"LinearScale\"},\"y_range\":{\"id\":\"120609\",\"type\":\"DataRange1d\"},\"y_scale\":{\"id\":\"120613\",\"type\":\"LinearScale\"}},\"id\":\"120604\",\"subtype\":\"Figure\",\"type\":\"Plot\"},{\"attributes\":{\"data_source\":{\"id\":\"120652\",\"type\":\"ColumnDataSource\"},\"glyph\":{\"id\":\"120654\",\"type\":\"VBar\"},\"hover_glyph\":null,\"muted_glyph\":null,\"nonselection_glyph\":{\"id\":\"120655\",\"type\":\"VBar\"},\"selection_glyph\":null,\"view\":{\"id\":\"120657\",\"type\":\"CDSView\"}},\"id\":\"120656\",\"type\":\"GlyphRenderer\"},{\"attributes\":{\"ticker\":{\"id\":\"120616\",\"type\":\"BasicTicker\"}},\"id\":\"120619\",\"type\":\"Grid\"},{\"attributes\":{},\"id\":\"121958\",\"type\":\"Selection\"},{\"attributes\":{},\"id\":\"120621\",\"type\":\"BasicTicker\"},{\"attributes\":{},\"id\":\"120626\",\"type\":\"WheelZoomTool\"},{\"attributes\":{\"fill_alpha\":{\"value\":0.1},\"fill_color\":{\"value\":\"#1f77b4\"},\"line_alpha\":{\"value\":0.1},\"line_color\":{\"value\":\"#1f77b4\"},\"top\":{\"field\":\"neg\"},\"width\":{\"value\":0.9},\"x\":{\"field\":\"lengths\"}},\"id\":\"120655\",\"type\":\"VBar\"},{\"attributes\":{\"formatter\":{\"id\":\"120645\",\"type\":\"BasicTickFormatter\"},\"ticker\":{\"id\":\"120621\",\"type\":\"BasicTicker\"}},\"id\":\"120620\",\"type\":\"LinearAxis\"},{\"attributes\":{\"source\":{\"id\":\"120638\",\"type\":\"ColumnDataSource\"}},\"id\":\"120643\",\"type\":\"CDSView\"},{\"attributes\":{},\"id\":\"120616\",\"type\":\"BasicTicker\"},{\"attributes\":{\"source\":{\"id\":\"120652\",\"type\":\"ColumnDataSource\"}},\"id\":\"120657\",\"type\":\"CDSView\"},{\"attributes\":{},\"id\":\"120613\",\"type\":\"LinearScale\"},{\"attributes\":{},\"id\":\"120611\",\"type\":\"LinearScale\"},{\"attributes\":{\"callback\":null,\"data\":{\"lengths\":[0,1,2,3,4,5,6,7,8,9,10,11,12,13,14,15,16,17,18,19,20,21,22,23,24,25,26,27,28,29,30,31,32,33,34,35,36,37,38,39,40,41,42,43,44,45,46,47,48,49,50,51,52,53,54,55,56,57],\"neg\":[0,0,0,0.0036,0.0188,0.0352,0.0556,0.081,0.1012,0.0962,0.0886,0.0756,0.0684,0.0572,0.0462,0.0362,0.0386,0.029,0.0214,0.0186,0.019,0.0154,0.0116,0.0088,0.0102,0.0094,0.007,0.0058,0.0058,0.0032,0.0042,0.0038,0.004,0.0014,0.0028,0.0018,0.001,0.0014,0.0014,0.001,0.0014,0.002,0.001,0.0008,0.0004,0.001,0.0004,0.001,0.0004,0.0004,0.0006,0,0,0,0,0,0,0.0002],\"pos\":[0,0,0.0006,0.0026,0.0116,0.0278,0.0364,0.0458,0.0518,0.05,0.0498,0.048,0.0502,0.0434,0.0442,0.0432,0.0388,0.038,0.0358,0.0336,0.0308,0.0278,0.0262,0.0256,0.0256,0.0218,0.018,0.0178,0.0176,0.013,0.012,0.011,0.0098,0.007,0.0102,0.0114,0.006,0.0066,0.0086,0.0078,0.0078,0.0064,0.0054,0.003,0.004,0.002,0.0012,0.0012,0.001,0.0008,0.0004,0.0004,0.0002,0,0,0,0,0]},\"selected\":{\"id\":\"121958\",\"type\":\"Selection\"},\"selection_policy\":{\"id\":\"121957\",\"type\":\"UnionRenderers\"}},\"id\":\"120652\",\"type\":\"ColumnDataSource\"},{\"attributes\":{},\"id\":\"120665\",\"type\":\"Selection\"},{\"attributes\":{\"text\":\"Distribution of Question Lengths\"},\"id\":\"120605\",\"type\":\"Title\"},{\"attributes\":{\"label\":{\"value\":\"Appropriate\"},\"renderers\":[{\"id\":\"120656\",\"type\":\"GlyphRenderer\"}]},\"id\":\"120666\",\"type\":\"LegendItem\"},{\"attributes\":{\"formatter\":{\"id\":\"120647\",\"type\":\"BasicTickFormatter\"},\"ticker\":{\"id\":\"120616\",\"type\":\"BasicTicker\"}},\"id\":\"120615\",\"type\":\"LinearAxis\"},{\"attributes\":{},\"id\":\"120664\",\"type\":\"UnionRenderers\"},{\"attributes\":{\"fill_alpha\":{\"value\":0.75},\"fill_color\":{\"value\":\"#718dbf\"},\"line_alpha\":{\"value\":0.75},\"line_color\":{\"value\":\"#718dbf\"},\"top\":{\"field\":\"pos\"},\"width\":{\"value\":0.9},\"x\":{\"field\":\"lengths\"}},\"id\":\"120640\",\"type\":\"VBar\"},{\"attributes\":{},\"id\":\"120628\",\"type\":\"SaveTool\"},{\"attributes\":{\"callback\":null},\"id\":\"120609\",\"type\":\"DataRange1d\"},{\"attributes\":{\"fill_alpha\":{\"value\":0.1},\"fill_color\":{\"value\":\"#1f77b4\"},\"line_alpha\":{\"value\":0.1},\"line_color\":{\"value\":\"#1f77b4\"},\"top\":{\"field\":\"pos\"},\"width\":{\"value\":0.9},\"x\":{\"field\":\"lengths\"}},\"id\":\"120641\",\"type\":\"VBar\"},{\"attributes\":{\"dimension\":1,\"ticker\":{\"id\":\"120621\",\"type\":\"BasicTicker\"}},\"id\":\"120624\",\"type\":\"Grid\"},{\"attributes\":{\"data_source\":{\"id\":\"120638\",\"type\":\"ColumnDataSource\"},\"glyph\":{\"id\":\"120640\",\"type\":\"VBar\"},\"hover_glyph\":null,\"muted_glyph\":null,\"nonselection_glyph\":{\"id\":\"120641\",\"type\":\"VBar\"},\"selection_glyph\":null,\"view\":{\"id\":\"120643\",\"type\":\"CDSView\"}},\"id\":\"120642\",\"type\":\"GlyphRenderer\"},{\"attributes\":{\"items\":[{\"id\":\"120651\",\"type\":\"LegendItem\"},{\"id\":\"120666\",\"type\":\"LegendItem\"}]},\"id\":\"120650\",\"type\":\"Legend\"},{\"attributes\":{\"active_drag\":\"auto\",\"active_inspect\":\"auto\",\"active_multi\":null,\"active_scroll\":\"auto\",\"active_tap\":\"auto\",\"tools\":[{\"id\":\"120625\",\"type\":\"PanTool\"},{\"id\":\"120626\",\"type\":\"WheelZoomTool\"},{\"id\":\"120627\",\"type\":\"BoxZoomTool\"},{\"id\":\"120628\",\"type\":\"SaveTool\"},{\"id\":\"120629\",\"type\":\"ResetTool\"},{\"id\":\"120630\",\"type\":\"HelpTool\"}]},\"id\":\"120631\",\"type\":\"Toolbar\"},{\"attributes\":{\"bottom_units\":\"screen\",\"fill_alpha\":{\"value\":0.5},\"fill_color\":{\"value\":\"lightgrey\"},\"left_units\":\"screen\",\"level\":\"overlay\",\"line_alpha\":{\"value\":1.0},\"line_color\":{\"value\":\"black\"},\"line_dash\":[4,4],\"line_width\":{\"value\":2},\"render_mode\":\"css\",\"right_units\":\"screen\",\"top_units\":\"screen\"},\"id\":\"120649\",\"type\":\"BoxAnnotation\"},{\"attributes\":{},\"id\":\"120647\",\"type\":\"BasicTickFormatter\"},{\"attributes\":{\"label\":{\"value\":\"Inappropriate\"},\"renderers\":[{\"id\":\"120642\",\"type\":\"GlyphRenderer\"}]},\"id\":\"120651\",\"type\":\"LegendItem\"},{\"attributes\":{},\"id\":\"120629\",\"type\":\"ResetTool\"},{\"attributes\":{\"overlay\":{\"id\":\"120649\",\"type\":\"BoxAnnotation\"}},\"id\":\"120627\",\"type\":\"BoxZoomTool\"},{\"attributes\":{\"callback\":null,\"data\":{\"lengths\":[0,1,2,3,4,5,6,7,8,9,10,11,12,13,14,15,16,17,18,19,20,21,22,23,24,25,26,27,28,29,30,31,32,33,34,35,36,37,38,39,40,41,42,43,44,45,46,47,48,49,50,51,52,53,54,55,56,57],\"neg\":[0,0,0,0.0036,0.0188,0.0352,0.0556,0.081,0.1012,0.0962,0.0886,0.0756,0.0684,0.0572,0.0462,0.0362,0.0386,0.029,0.0214,0.0186,0.019,0.0154,0.0116,0.0088,0.0102,0.0094,0.007,0.0058,0.0058,0.0032,0.0042,0.0038,0.004,0.0014,0.0028,0.0018,0.001,0.0014,0.0014,0.001,0.0014,0.002,0.001,0.0008,0.0004,0.001,0.0004,0.001,0.0004,0.0004,0.0006,0,0,0,0,0,0,0.0002],\"pos\":[0,0,0.0006,0.0026,0.0116,0.0278,0.0364,0.0458,0.0518,0.05,0.0498,0.048,0.0502,0.0434,0.0442,0.0432,0.0388,0.038,0.0358,0.0336,0.0308,0.0278,0.0262,0.0256,0.0256,0.0218,0.018,0.0178,0.0176,0.013,0.012,0.011,0.0098,0.007,0.0102,0.0114,0.006,0.0066,0.0086,0.0078,0.0078,0.0064,0.0054,0.003,0.004,0.002,0.0012,0.0012,0.001,0.0008,0.0004,0.0004,0.0002,0,0,0,0,0]},\"selected\":{\"id\":\"120665\",\"type\":\"Selection\"},\"selection_policy\":{\"id\":\"120664\",\"type\":\"UnionRenderers\"}},\"id\":\"120638\",\"type\":\"ColumnDataSource\"},{\"attributes\":{},\"id\":\"120625\",\"type\":\"PanTool\"},{\"attributes\":{},\"id\":\"121957\",\"type\":\"UnionRenderers\"},{\"attributes\":{\"callback\":null},\"id\":\"120607\",\"type\":\"DataRange1d\"},{\"attributes\":{},\"id\":\"120645\",\"type\":\"BasicTickFormatter\"},{\"attributes\":{\"fill_alpha\":{\"value\":0.75},\"fill_color\":{\"value\":\"#c9d9d3\"},\"line_alpha\":{\"value\":0.75},\"line_color\":{\"value\":\"#c9d9d3\"},\"top\":{\"field\":\"neg\"},\"width\":{\"value\":0.9},\"x\":{\"field\":\"lengths\"}},\"id\":\"120654\",\"type\":\"VBar\"},{\"attributes\":{},\"id\":\"120630\",\"type\":\"HelpTool\"}],\"root_ids\":[\"120604\"]},\"title\":\"Bokeh Application\",\"version\":\"1.3.4\"}};\n",
       "  var render_items = [{\"docid\":\"b2fc84db-0faf-45f4-ae09-bf1fd979edec\",\"roots\":{\"120604\":\"ac25cf06-0ab8-4a04-a63a-571ec41d535d\"}}];\n",
       "  root.Bokeh.embed.embed_items_notebook(docs_json, render_items);\n",
       "\n",
       "  }\n",
       "  if (root.Bokeh !== undefined) {\n",
       "    embed_document(root);\n",
       "  } else {\n",
       "    var attempts = 0;\n",
       "    var timer = setInterval(function(root) {\n",
       "      if (root.Bokeh !== undefined) {\n",
       "        embed_document(root);\n",
       "        clearInterval(timer);\n",
       "      }\n",
       "      attempts++;\n",
       "      if (attempts > 100) {\n",
       "        console.log(\"Bokeh: ERROR: Unable to run BokehJS code because BokehJS library is missing\");\n",
       "        clearInterval(timer);\n",
       "      }\n",
       "    }, 10, root)\n",
       "  }\n",
       "})(window);"
      ],
      "application/vnd.bokehjs_exec.v0+json": ""
     },
     "metadata": {
      "application/vnd.bokehjs_exec.v0+json": {
       "id": "120604"
      }
     },
     "output_type": "display_data"
    }
   ],
   "source": [
    "comments.comment_length_graph()"
   ]
  },
  {
   "cell_type": "markdown",
   "metadata": {},
   "source": [
    "#### Comments\n",
    "\n",
    "* We can see from the summary statistics and the empirical distribution that the distribution of inappropriate questions has far fatter tails than the distribution of appropriate questions demonstrating that innaproriate questions tend to be somewhat longer. This matches what one would expect from the description of the innapropriate class which includes questions that are really statements of some position that the user has, or just generalized trolling.\n",
    "\n",
    "* On the other hand one can interpret the relative shortness of appropriate question as reflecting more concise and clearly stated questions. "
   ]
  },
  {
   "cell_type": "markdown",
   "metadata": {},
   "source": [
    "### Comparison of Word Frequency By Class"
   ]
  },
  {
   "cell_type": "code",
   "execution_count": 359,
   "metadata": {},
   "outputs": [
    {
     "data": {
      "text/html": [
       "\n",
       "\n",
       "\n",
       "\n",
       "\n",
       "\n",
       "  <div class=\"bk-root\" id=\"31be1b04-46c9-4ff8-9b70-7350943ce9e6\" data-root-id=\"116557\"></div>\n"
      ]
     },
     "metadata": {},
     "output_type": "display_data"
    },
    {
     "data": {
      "application/javascript": [
       "(function(root) {\n",
       "  function embed_document(root) {\n",
       "    \n",
       "  var docs_json = {\"5b76f738-a4ea-4383-a947-a43e1bf5d139\":{\"roots\":{\"references\":[{\"attributes\":{\"below\":[{\"id\":\"116568\",\"type\":\"CategoricalAxis\"}],\"center\":[{\"id\":\"116571\",\"type\":\"Grid\"},{\"id\":\"116576\",\"type\":\"Grid\"}],\"left\":[{\"id\":\"116572\",\"type\":\"LinearAxis\"}],\"plot_height\":300,\"plot_width\":750,\"renderers\":[{\"id\":\"116604\",\"type\":\"GlyphRenderer\"}],\"title\":{\"id\":\"116558\",\"type\":\"Title\"},\"toolbar\":{\"id\":\"116577\",\"type\":\"Toolbar\"},\"x_range\":{\"id\":\"116560\",\"type\":\"FactorRange\"},\"x_scale\":{\"id\":\"116564\",\"type\":\"CategoricalScale\"},\"y_range\":{\"id\":\"116562\",\"type\":\"DataRange1d\"},\"y_scale\":{\"id\":\"116566\",\"type\":\"LinearScale\"}},\"id\":\"116557\",\"subtype\":\"Figure\",\"type\":\"Plot\"},{\"attributes\":{\"fill_alpha\":{\"value\":0.1},\"fill_color\":{\"value\":\"#1f77b4\"},\"line_alpha\":{\"value\":0.1},\"line_color\":{\"value\":\"#1f77b4\"},\"top\":{\"field\":\"neg_vocab_freq\"},\"width\":{\"value\":0.9},\"x\":{\"field\":\"neg_vocab_words\"}},\"id\":\"116603\",\"type\":\"VBar\"},{\"attributes\":{},\"id\":\"116573\",\"type\":\"BasicTicker\"},{\"attributes\":{\"text\":\"Appropriate Question Word Frequency\"},\"id\":\"116558\",\"type\":\"Title\"},{\"attributes\":{\"data_source\":{\"id\":\"116554\",\"type\":\"ColumnDataSource\"},\"glyph\":{\"id\":\"116602\",\"type\":\"VBar\"},\"hover_glyph\":null,\"muted_glyph\":null,\"nonselection_glyph\":{\"id\":\"116603\",\"type\":\"VBar\"},\"selection_glyph\":null,\"view\":{\"id\":\"116605\",\"type\":\"CDSView\"}},\"id\":\"116604\",\"type\":\"GlyphRenderer\"},{\"attributes\":{\"dimension\":1,\"ticker\":{\"id\":\"116573\",\"type\":\"BasicTicker\"}},\"id\":\"116576\",\"type\":\"Grid\"},{\"attributes\":{\"source\":{\"id\":\"116554\",\"type\":\"ColumnDataSource\"}},\"id\":\"116605\",\"type\":\"CDSView\"},{\"attributes\":{\"active_drag\":\"auto\",\"active_inspect\":\"auto\",\"active_multi\":null,\"active_scroll\":\"auto\",\"active_tap\":\"auto\",\"tools\":[{\"id\":\"116555\",\"type\":\"HoverTool\"}]},\"id\":\"116577\",\"type\":\"Toolbar\"},{\"attributes\":{\"callback\":null,\"tooltips\":[[\"Word\",\"$neg_vocab_words\"],[\"Freq\",\"$neg_vocab_freq\"]]},\"id\":\"116555\",\"type\":\"HoverTool\"},{\"attributes\":{\"callback\":null,\"data\":{\"neg_vocab_freq\":[0.07070627582136534,0.06531575841038757,0.06110564627188668,0.056738146763722214,0.05602990360023608,0.04914420617745426,0.04650796773558922,0.04304544560299036,0.03674995081644698,0.0365138697619516,0.0365138697619516,0.03191028919929176,0.030572496557151288,0.026637812315561678,0.021601416486326974,0.019240605941373206,0.015660043281526658,0.015620696439110762,0.014204210112138502,0.01400747590005902,0.013968129057643124,0.01361400747590006,0.01349596694865237,0.013220539051741097,0.013063151682077513,0.011095809561282708,0.010938422191619123,0.010623647452291954,0.01046626008262837,0.00983671060397403,0.009482589022230967,0.009403895337399173,0.00904977375565611,0.00873499901632894,0.00861695848908125,0.00861695848908125,0.008380877434585874,0.007751327955931537,0.007593940586267952,0.007239819004524887,0.0070824316348613026,0.0070824316348613026,0.0070824316348613026,0.006964391107613614,0.006374188471375172,0.006256147944127484,0.006138107416879796],\"neg_vocab_words\":[\"what\",\"is\",\"a\",\"in\",\"to\",\"of\",\"i\",\"how\",\"are\",\"do\",\"and\",\"for\",\"you\",\"can\",\"why\",\"it\",\"my\",\"that\",\"does\",\"on\",\"with\",\"if\",\"have\",\"or\",\"be\",\"from\",\"best\",\"which\",\"your\",\"get\",\"should\",\"DG\",\"would\",\"an\",\"some\",\"when\",\"as\",\"there\",\"DGDG\",\"at\",\"like\",\"people\",\"who\",\"will\",\"was\",\"not\",\"by\"],\"pos_vocab_freq\":[0.06840074143851226,0.06724604211613844,0.054118934030204506,0.05111063842717797,0.0496520708620742,0.04682609620468565,0.0464918411376827,0.04387857425020511,0.03956364520343979,0.03069069251572518,0.025555319213588987,0.024613327661126137,0.022577410434835455,0.020480719559998785,0.02045033273572579,0.018140934090978153,0.018110547266705156,0.017988999969613177,0.017685131726883224,0.01725971618706129,0.016773526998693368,0.015466893554954573,0.015406119906408581,0.01534534625786259,0.014950317542313653,0.014160260111215777,0.014038712814123796,0.013430976328663892,0.012458597951928043,0.011577380048011182,0.011516606399465192,0.011030417211097269,0.01057461484700234,0.010270746604272388,0.010240359779999392,0.009723783767358473,0.009632623294539488,0.00929836822753654,0.009146434106171565,0.009116047281898569,0.008964113160533593,0.00796134795952475,0.007870187486705765,0.0077182533653407884,0.007687866541067793,0.007444771946883831,0.007353611474064846],\"pos_vocab_words\":[\"why\",\"to\",\"and\",\"is\",\"a\",\"do\",\"of\",\"are\",\"in\",\"that\",\"it\",\"people\",\"they\",\"i\",\"for\",\"have\",\"you\",\"with\",\"how\",\"so\",\"their\",\"be\",\"on\",\"what\",\"if\",\"as\",\"or\",\"not\",\"when\",\"like\",\"can\",\"trump\",\"does\",\"who\",\"about\",\"by\",\"women\",\"my\",\"will\",\"from\",\"all\",\"think\",\"would\",\"an\",\"did\",\"but\",\"should\"]},\"selected\":{\"id\":\"117877\",\"type\":\"Selection\"},\"selection_policy\":{\"id\":\"117876\",\"type\":\"UnionRenderers\"}},\"id\":\"116554\",\"type\":\"ColumnDataSource\"},{\"attributes\":{},\"id\":\"117874\",\"type\":\"CategoricalTickFormatter\"},{\"attributes\":{},\"id\":\"116569\",\"type\":\"CategoricalTicker\"},{\"attributes\":{},\"id\":\"117876\",\"type\":\"UnionRenderers\"},{\"attributes\":{},\"id\":\"117872\",\"type\":\"BasicTickFormatter\"},{\"attributes\":{\"formatter\":{\"id\":\"117872\",\"type\":\"BasicTickFormatter\"},\"ticker\":{\"id\":\"116573\",\"type\":\"BasicTicker\"}},\"id\":\"116572\",\"type\":\"LinearAxis\"},{\"attributes\":{\"formatter\":{\"id\":\"117874\",\"type\":\"CategoricalTickFormatter\"},\"major_label_orientation\":1,\"ticker\":{\"id\":\"116569\",\"type\":\"CategoricalTicker\"}},\"id\":\"116568\",\"type\":\"CategoricalAxis\"},{\"attributes\":{},\"id\":\"117877\",\"type\":\"Selection\"},{\"attributes\":{},\"id\":\"116566\",\"type\":\"LinearScale\"},{\"attributes\":{\"callback\":null,\"factors\":[\"what\",\"is\",\"a\",\"in\",\"to\",\"of\",\"i\",\"how\",\"are\",\"do\",\"and\",\"for\",\"you\",\"can\",\"why\",\"it\",\"my\",\"that\",\"does\",\"on\",\"with\",\"if\",\"have\",\"or\",\"be\",\"from\",\"best\",\"which\",\"your\",\"get\",\"should\",\"DG\",\"would\",\"an\",\"some\",\"when\",\"as\",\"there\",\"DGDG\",\"at\",\"like\",\"people\",\"who\",\"will\",\"was\",\"not\",\"by\"]},\"id\":\"116560\",\"type\":\"FactorRange\"},{\"attributes\":{},\"id\":\"116564\",\"type\":\"CategoricalScale\"},{\"attributes\":{\"callback\":null},\"id\":\"116562\",\"type\":\"DataRange1d\"},{\"attributes\":{\"fill_color\":{\"value\":\"#1f77b4\"},\"line_color\":{\"value\":\"#1f77b4\"},\"top\":{\"field\":\"neg_vocab_freq\"},\"width\":{\"value\":0.9},\"x\":{\"field\":\"neg_vocab_words\"}},\"id\":\"116602\",\"type\":\"VBar\"},{\"attributes\":{\"grid_line_color\":null,\"ticker\":{\"id\":\"116569\",\"type\":\"CategoricalTicker\"}},\"id\":\"116571\",\"type\":\"Grid\"}],\"root_ids\":[\"116557\"]},\"title\":\"Bokeh Application\",\"version\":\"1.3.4\"}};\n",
       "  var render_items = [{\"docid\":\"5b76f738-a4ea-4383-a947-a43e1bf5d139\",\"roots\":{\"116557\":\"31be1b04-46c9-4ff8-9b70-7350943ce9e6\"}}];\n",
       "  root.Bokeh.embed.embed_items_notebook(docs_json, render_items);\n",
       "\n",
       "  }\n",
       "  if (root.Bokeh !== undefined) {\n",
       "    embed_document(root);\n",
       "  } else {\n",
       "    var attempts = 0;\n",
       "    var timer = setInterval(function(root) {\n",
       "      if (root.Bokeh !== undefined) {\n",
       "        embed_document(root);\n",
       "        clearInterval(timer);\n",
       "      }\n",
       "      attempts++;\n",
       "      if (attempts > 100) {\n",
       "        console.log(\"Bokeh: ERROR: Unable to run BokehJS code because BokehJS library is missing\");\n",
       "        clearInterval(timer);\n",
       "      }\n",
       "    }, 10, root)\n",
       "  }\n",
       "})(window);"
      ],
      "application/vnd.bokehjs_exec.v0+json": ""
     },
     "metadata": {
      "application/vnd.bokehjs_exec.v0+json": {
       "id": "116557"
      }
     },
     "output_type": "display_data"
    },
    {
     "data": {
      "text/html": [
       "\n",
       "\n",
       "\n",
       "\n",
       "\n",
       "\n",
       "  <div class=\"bk-root\" id=\"a788d345-66c5-49ed-863a-89d90dca6c4d\" data-root-id=\"116579\"></div>\n"
      ]
     },
     "metadata": {},
     "output_type": "display_data"
    },
    {
     "data": {
      "application/javascript": [
       "(function(root) {\n",
       "  function embed_document(root) {\n",
       "    \n",
       "  var docs_json = {\"4f790ff4-6cb4-42a5-a1a0-f1c673bc07b8\":{\"roots\":{\"references\":[{\"attributes\":{\"below\":[{\"id\":\"116590\",\"type\":\"CategoricalAxis\"}],\"center\":[{\"id\":\"116593\",\"type\":\"Grid\"},{\"id\":\"116598\",\"type\":\"Grid\"}],\"left\":[{\"id\":\"116594\",\"type\":\"LinearAxis\"}],\"plot_height\":300,\"plot_width\":750,\"renderers\":[{\"id\":\"116609\",\"type\":\"GlyphRenderer\"}],\"title\":{\"id\":\"116580\",\"type\":\"Title\"},\"toolbar\":{\"id\":\"116599\",\"type\":\"Toolbar\"},\"x_range\":{\"id\":\"116582\",\"type\":\"FactorRange\"},\"x_scale\":{\"id\":\"116586\",\"type\":\"CategoricalScale\"},\"y_range\":{\"id\":\"116584\",\"type\":\"DataRange1d\"},\"y_scale\":{\"id\":\"116588\",\"type\":\"LinearScale\"}},\"id\":\"116579\",\"subtype\":\"Figure\",\"type\":\"Plot\"},{\"attributes\":{\"fill_color\":{\"value\":\"#1f77b4\"},\"line_color\":{\"value\":\"#1f77b4\"},\"top\":{\"field\":\"pos_vocab_freq\"},\"width\":{\"value\":0.9},\"x\":{\"field\":\"pos_vocab_words\"}},\"id\":\"116607\",\"type\":\"VBar\"},{\"attributes\":{\"text\":\"Inappropriate Question Word Frequency\"},\"id\":\"116580\",\"type\":\"Title\"},{\"attributes\":{\"fill_alpha\":{\"value\":0.1},\"fill_color\":{\"value\":\"#1f77b4\"},\"line_alpha\":{\"value\":0.1},\"line_color\":{\"value\":\"#1f77b4\"},\"top\":{\"field\":\"pos_vocab_freq\"},\"width\":{\"value\":0.9},\"x\":{\"field\":\"pos_vocab_words\"}},\"id\":\"116608\",\"type\":\"VBar\"},{\"attributes\":{\"callback\":null,\"data\":{\"neg_vocab_freq\":[0.07070627582136534,0.06531575841038757,0.06110564627188668,0.056738146763722214,0.05602990360023608,0.04914420617745426,0.04650796773558922,0.04304544560299036,0.03674995081644698,0.0365138697619516,0.0365138697619516,0.03191028919929176,0.030572496557151288,0.026637812315561678,0.021601416486326974,0.019240605941373206,0.015660043281526658,0.015620696439110762,0.014204210112138502,0.01400747590005902,0.013968129057643124,0.01361400747590006,0.01349596694865237,0.013220539051741097,0.013063151682077513,0.011095809561282708,0.010938422191619123,0.010623647452291954,0.01046626008262837,0.00983671060397403,0.009482589022230967,0.009403895337399173,0.00904977375565611,0.00873499901632894,0.00861695848908125,0.00861695848908125,0.008380877434585874,0.007751327955931537,0.007593940586267952,0.007239819004524887,0.0070824316348613026,0.0070824316348613026,0.0070824316348613026,0.006964391107613614,0.006374188471375172,0.006256147944127484,0.006138107416879796],\"neg_vocab_words\":[\"what\",\"is\",\"a\",\"in\",\"to\",\"of\",\"i\",\"how\",\"are\",\"do\",\"and\",\"for\",\"you\",\"can\",\"why\",\"it\",\"my\",\"that\",\"does\",\"on\",\"with\",\"if\",\"have\",\"or\",\"be\",\"from\",\"best\",\"which\",\"your\",\"get\",\"should\",\"DG\",\"would\",\"an\",\"some\",\"when\",\"as\",\"there\",\"DGDG\",\"at\",\"like\",\"people\",\"who\",\"will\",\"was\",\"not\",\"by\"],\"pos_vocab_freq\":[0.06840074143851226,0.06724604211613844,0.054118934030204506,0.05111063842717797,0.0496520708620742,0.04682609620468565,0.0464918411376827,0.04387857425020511,0.03956364520343979,0.03069069251572518,0.025555319213588987,0.024613327661126137,0.022577410434835455,0.020480719559998785,0.02045033273572579,0.018140934090978153,0.018110547266705156,0.017988999969613177,0.017685131726883224,0.01725971618706129,0.016773526998693368,0.015466893554954573,0.015406119906408581,0.01534534625786259,0.014950317542313653,0.014160260111215777,0.014038712814123796,0.013430976328663892,0.012458597951928043,0.011577380048011182,0.011516606399465192,0.011030417211097269,0.01057461484700234,0.010270746604272388,0.010240359779999392,0.009723783767358473,0.009632623294539488,0.00929836822753654,0.009146434106171565,0.009116047281898569,0.008964113160533593,0.00796134795952475,0.007870187486705765,0.0077182533653407884,0.007687866541067793,0.007444771946883831,0.007353611474064846],\"pos_vocab_words\":[\"why\",\"to\",\"and\",\"is\",\"a\",\"do\",\"of\",\"are\",\"in\",\"that\",\"it\",\"people\",\"they\",\"i\",\"for\",\"have\",\"you\",\"with\",\"how\",\"so\",\"their\",\"be\",\"on\",\"what\",\"if\",\"as\",\"or\",\"not\",\"when\",\"like\",\"can\",\"trump\",\"does\",\"who\",\"about\",\"by\",\"women\",\"my\",\"will\",\"from\",\"all\",\"think\",\"would\",\"an\",\"did\",\"but\",\"should\"]},\"selected\":{\"id\":\"117877\",\"type\":\"Selection\"},\"selection_policy\":{\"id\":\"117876\",\"type\":\"UnionRenderers\"}},\"id\":\"116554\",\"type\":\"ColumnDataSource\"},{\"attributes\":{\"callback\":null,\"factors\":[\"why\",\"to\",\"and\",\"is\",\"a\",\"do\",\"of\",\"are\",\"in\",\"that\",\"it\",\"people\",\"they\",\"i\",\"for\",\"have\",\"you\",\"with\",\"how\",\"so\",\"their\",\"be\",\"on\",\"what\",\"if\",\"as\",\"or\",\"not\",\"when\",\"like\",\"can\",\"trump\",\"does\",\"who\",\"about\",\"by\",\"women\",\"my\",\"will\",\"from\",\"all\",\"think\",\"would\",\"an\",\"did\",\"but\",\"should\"]},\"id\":\"116582\",\"type\":\"FactorRange\"},{\"attributes\":{\"callback\":null},\"id\":\"116584\",\"type\":\"DataRange1d\"},{\"attributes\":{\"callback\":null,\"tooltips\":[[\"Word\",\"$pos_vocab_words\"],[\"Freq\",\"$pos_vocab_freq\"]]},\"id\":\"116556\",\"type\":\"HoverTool\"},{\"attributes\":{},\"id\":\"117876\",\"type\":\"UnionRenderers\"},{\"attributes\":{},\"id\":\"116586\",\"type\":\"CategoricalScale\"},{\"attributes\":{\"source\":{\"id\":\"116554\",\"type\":\"ColumnDataSource\"}},\"id\":\"116610\",\"type\":\"CDSView\"},{\"attributes\":{},\"id\":\"116588\",\"type\":\"LinearScale\"},{\"attributes\":{\"data_source\":{\"id\":\"116554\",\"type\":\"ColumnDataSource\"},\"glyph\":{\"id\":\"116607\",\"type\":\"VBar\"},\"hover_glyph\":null,\"muted_glyph\":null,\"nonselection_glyph\":{\"id\":\"116608\",\"type\":\"VBar\"},\"selection_glyph\":null,\"view\":{\"id\":\"116610\",\"type\":\"CDSView\"}},\"id\":\"116609\",\"type\":\"GlyphRenderer\"},{\"attributes\":{\"formatter\":{\"id\":\"119190\",\"type\":\"CategoricalTickFormatter\"},\"major_label_orientation\":1,\"ticker\":{\"id\":\"116591\",\"type\":\"CategoricalTicker\"}},\"id\":\"116590\",\"type\":\"CategoricalAxis\"},{\"attributes\":{},\"id\":\"116591\",\"type\":\"CategoricalTicker\"},{\"attributes\":{},\"id\":\"117877\",\"type\":\"Selection\"},{\"attributes\":{\"grid_line_color\":null,\"ticker\":{\"id\":\"116591\",\"type\":\"CategoricalTicker\"}},\"id\":\"116593\",\"type\":\"Grid\"},{\"attributes\":{\"formatter\":{\"id\":\"119188\",\"type\":\"BasicTickFormatter\"},\"ticker\":{\"id\":\"116595\",\"type\":\"BasicTicker\"}},\"id\":\"116594\",\"type\":\"LinearAxis\"},{\"attributes\":{},\"id\":\"116595\",\"type\":\"BasicTicker\"},{\"attributes\":{\"dimension\":1,\"ticker\":{\"id\":\"116595\",\"type\":\"BasicTicker\"}},\"id\":\"116598\",\"type\":\"Grid\"},{\"attributes\":{\"active_drag\":\"auto\",\"active_inspect\":\"auto\",\"active_multi\":null,\"active_scroll\":\"auto\",\"active_tap\":\"auto\",\"tools\":[{\"id\":\"116556\",\"type\":\"HoverTool\"}]},\"id\":\"116599\",\"type\":\"Toolbar\"},{\"attributes\":{},\"id\":\"119188\",\"type\":\"BasicTickFormatter\"},{\"attributes\":{},\"id\":\"119190\",\"type\":\"CategoricalTickFormatter\"}],\"root_ids\":[\"116579\"]},\"title\":\"Bokeh Application\",\"version\":\"1.3.4\"}};\n",
       "  var render_items = [{\"docid\":\"4f790ff4-6cb4-42a5-a1a0-f1c673bc07b8\",\"roots\":{\"116579\":\"a788d345-66c5-49ed-863a-89d90dca6c4d\"}}];\n",
       "  root.Bokeh.embed.embed_items_notebook(docs_json, render_items);\n",
       "\n",
       "  }\n",
       "  if (root.Bokeh !== undefined) {\n",
       "    embed_document(root);\n",
       "  } else {\n",
       "    var attempts = 0;\n",
       "    var timer = setInterval(function(root) {\n",
       "      if (root.Bokeh !== undefined) {\n",
       "        embed_document(root);\n",
       "        clearInterval(timer);\n",
       "      }\n",
       "      attempts++;\n",
       "      if (attempts > 100) {\n",
       "        console.log(\"Bokeh: ERROR: Unable to run BokehJS code because BokehJS library is missing\");\n",
       "        clearInterval(timer);\n",
       "      }\n",
       "    }, 10, root)\n",
       "  }\n",
       "})(window);"
      ],
      "application/vnd.bokehjs_exec.v0+json": ""
     },
     "metadata": {
      "application/vnd.bokehjs_exec.v0+json": {
       "id": "116579"
      }
     },
     "output_type": "display_data"
    }
   ],
   "source": [
    "comments.word_frequency_graphs(min_rank=3,max_rank=50)"
   ]
  },
  {
   "cell_type": "code",
   "execution_count": 360,
   "metadata": {},
   "outputs": [
    {
     "data": {
      "text/html": [
       "\n",
       "\n",
       "\n",
       "\n",
       "\n",
       "\n",
       "  <div class=\"bk-root\" id=\"21be9fa2-69c1-4789-bfef-934428dd3641\" data-root-id=\"119236\"></div>\n"
      ]
     },
     "metadata": {},
     "output_type": "display_data"
    },
    {
     "data": {
      "application/javascript": [
       "(function(root) {\n",
       "  function embed_document(root) {\n",
       "    \n",
       "  var docs_json = {\"2e389ccb-291c-4748-82eb-7aabce3efffc\":{\"roots\":{\"references\":[{\"attributes\":{\"below\":[{\"id\":\"119247\",\"type\":\"CategoricalAxis\"}],\"center\":[{\"id\":\"119250\",\"type\":\"Grid\"},{\"id\":\"119255\",\"type\":\"Grid\"}],\"left\":[{\"id\":\"119251\",\"type\":\"LinearAxis\"}],\"plot_height\":300,\"plot_width\":750,\"renderers\":[{\"id\":\"119272\",\"type\":\"GlyphRenderer\"}],\"title\":{\"id\":\"119237\",\"type\":\"Title\"},\"toolbar\":{\"id\":\"119262\",\"type\":\"Toolbar\"},\"x_range\":{\"id\":\"119239\",\"type\":\"FactorRange\"},\"x_scale\":{\"id\":\"119243\",\"type\":\"CategoricalScale\"},\"y_range\":{\"id\":\"119241\",\"type\":\"DataRange1d\"},\"y_scale\":{\"id\":\"119245\",\"type\":\"LinearScale\"}},\"id\":\"119236\",\"subtype\":\"Figure\",\"type\":\"Plot\"},{\"attributes\":{\"active_drag\":\"auto\",\"active_inspect\":\"auto\",\"active_multi\":null,\"active_scroll\":\"auto\",\"active_tap\":\"auto\",\"tools\":[{\"id\":\"119256\",\"type\":\"PanTool\"},{\"id\":\"119257\",\"type\":\"WheelZoomTool\"},{\"id\":\"119258\",\"type\":\"BoxZoomTool\"},{\"id\":\"119259\",\"type\":\"SaveTool\"},{\"id\":\"119260\",\"type\":\"ResetTool\"},{\"id\":\"119261\",\"type\":\"HelpTool\"}]},\"id\":\"119262\",\"type\":\"Toolbar\"},{\"attributes\":{\"data_source\":{\"id\":\"119269\",\"type\":\"ColumnDataSource\"},\"glyph\":{\"id\":\"119270\",\"type\":\"VBar\"},\"hover_glyph\":null,\"muted_glyph\":null,\"nonselection_glyph\":{\"id\":\"119271\",\"type\":\"VBar\"},\"selection_glyph\":null,\"view\":{\"id\":\"119273\",\"type\":\"CDSView\"}},\"id\":\"119272\",\"type\":\"GlyphRenderer\"},{\"attributes\":{\"callback\":null,\"data\":{\"top\":[0.019477724374616454,0.009301819513963791,0.009038712402996009,0.006421908425423296,0.005512027853297546,0.005399967450533024,0.0045442701316132225,0.004536362047997941,0.00422027010037322,0.003404712125956601,0.002658299855201574,0.002320374573153239,0.0020069421407111323,0.0019051779173802782,0.0018351305828296237,0.0015521007832015729,0.001431962624488161,0.0013813095141035603,0.0012609340396012802,0.0011784848412242802,-0.0015829980587822134,-0.0016216309271672236,-0.0018615509890630147,-0.0019240662248705374,-0.0019310924069378746,-0.0020082310303815524,-0.0021143929238474574,-0.0023562461793250155,-0.0023647901114197344,-0.002884390776365046,-0.0030865739638102838,-0.003179277064461413,-0.0034253414068765985,-0.004048433176195989,-0.00444603886958102,-0.004922018243163673,-0.005550892682364552,-0.005846652134729223,-0.00609196760772514,-0.015578464182913043],\"x\":[\"what\",\"i\",\"how\",\"in\",\"is\",\"can\",\"you\",\"a\",\"for\",\"best\",\"which\",\"my\",\"DG\",\"your\",\"some\",\"get\",\"of\",\"does\",\"DGDGDGDG\",\"where\",\"don't\",\"white\",\"as\",\"it\",\"all\",\"are\",\"men\",\"not\",\"muslims\",\"women\",\"do\",\"to\",\"trump\",\"their\",\"so\",\"that\",\"and\",\"people\",\"they\",\"why\"]},\"selected\":{\"id\":\"120555\",\"type\":\"Selection\"},\"selection_policy\":{\"id\":\"120554\",\"type\":\"UnionRenderers\"}},\"id\":\"119269\",\"type\":\"ColumnDataSource\"},{\"attributes\":{\"source\":{\"id\":\"119269\",\"type\":\"ColumnDataSource\"}},\"id\":\"119273\",\"type\":\"CDSView\"},{\"attributes\":{\"formatter\":{\"id\":\"120549\",\"type\":\"BasicTickFormatter\"},\"ticker\":{\"id\":\"119252\",\"type\":\"BasicTicker\"}},\"id\":\"119251\",\"type\":\"LinearAxis\"},{\"attributes\":{},\"id\":\"119259\",\"type\":\"SaveTool\"},{\"attributes\":{},\"id\":\"119248\",\"type\":\"CategoricalTicker\"},{\"attributes\":{\"text\":\"Word Frequency Difference: (Appropriate Frequency - Inappropriate Frequency)\"},\"id\":\"119237\",\"type\":\"Title\"},{\"attributes\":{},\"id\":\"119260\",\"type\":\"ResetTool\"},{\"attributes\":{},\"id\":\"120551\",\"type\":\"CategoricalTickFormatter\"},{\"attributes\":{\"grid_line_color\":null,\"ticker\":{\"id\":\"119248\",\"type\":\"CategoricalTicker\"}},\"id\":\"119250\",\"type\":\"Grid\"},{\"attributes\":{},\"id\":\"119245\",\"type\":\"LinearScale\"},{\"attributes\":{},\"id\":\"120549\",\"type\":\"BasicTickFormatter\"},{\"attributes\":{\"bottom_units\":\"screen\",\"fill_alpha\":{\"value\":0.5},\"fill_color\":{\"value\":\"lightgrey\"},\"left_units\":\"screen\",\"level\":\"overlay\",\"line_alpha\":{\"value\":1.0},\"line_color\":{\"value\":\"black\"},\"line_dash\":[4,4],\"line_width\":{\"value\":2},\"render_mode\":\"css\",\"right_units\":\"screen\",\"top_units\":\"screen\"},\"id\":\"120553\",\"type\":\"BoxAnnotation\"},{\"attributes\":{\"callback\":null,\"factors\":[\"what\",\"i\",\"how\",\"in\",\"is\",\"can\",\"you\",\"a\",\"for\",\"best\",\"which\",\"my\",\"DG\",\"your\",\"some\",\"get\",\"of\",\"does\",\"DGDGDGDG\",\"where\",\"don't\",\"white\",\"as\",\"it\",\"all\",\"are\",\"men\",\"not\",\"muslims\",\"women\",\"do\",\"to\",\"trump\",\"their\",\"so\",\"that\",\"and\",\"people\",\"they\",\"why\"]},\"id\":\"119239\",\"type\":\"FactorRange\"},{\"attributes\":{},\"id\":\"119243\",\"type\":\"CategoricalScale\"},{\"attributes\":{\"fill_color\":{\"value\":\"#1f77b4\"},\"line_color\":{\"value\":\"#1f77b4\"},\"top\":{\"field\":\"top\"},\"width\":{\"value\":0.9},\"x\":{\"field\":\"x\"}},\"id\":\"119270\",\"type\":\"VBar\"},{\"attributes\":{},\"id\":\"120554\",\"type\":\"UnionRenderers\"},{\"attributes\":{},\"id\":\"119261\",\"type\":\"HelpTool\"},{\"attributes\":{\"dimension\":1,\"ticker\":{\"id\":\"119252\",\"type\":\"BasicTicker\"}},\"id\":\"119255\",\"type\":\"Grid\"},{\"attributes\":{},\"id\":\"120555\",\"type\":\"Selection\"},{\"attributes\":{\"callback\":null},\"id\":\"119241\",\"type\":\"DataRange1d\"},{\"attributes\":{},\"id\":\"119252\",\"type\":\"BasicTicker\"},{\"attributes\":{\"formatter\":{\"id\":\"120551\",\"type\":\"CategoricalTickFormatter\"},\"major_label_orientation\":1,\"ticker\":{\"id\":\"119248\",\"type\":\"CategoricalTicker\"}},\"id\":\"119247\",\"type\":\"CategoricalAxis\"},{\"attributes\":{\"fill_alpha\":{\"value\":0.1},\"fill_color\":{\"value\":\"#1f77b4\"},\"line_alpha\":{\"value\":0.1},\"line_color\":{\"value\":\"#1f77b4\"},\"top\":{\"field\":\"top\"},\"width\":{\"value\":0.9},\"x\":{\"field\":\"x\"}},\"id\":\"119271\",\"type\":\"VBar\"},{\"attributes\":{\"overlay\":{\"id\":\"120553\",\"type\":\"BoxAnnotation\"}},\"id\":\"119258\",\"type\":\"BoxZoomTool\"},{\"attributes\":{},\"id\":\"119257\",\"type\":\"WheelZoomTool\"},{\"attributes\":{},\"id\":\"119256\",\"type\":\"PanTool\"}],\"root_ids\":[\"119236\"]},\"title\":\"Bokeh Application\",\"version\":\"1.3.4\"}};\n",
       "  var render_items = [{\"docid\":\"2e389ccb-291c-4748-82eb-7aabce3efffc\",\"roots\":{\"119236\":\"21be9fa2-69c1-4789-bfef-934428dd3641\"}}];\n",
       "  root.Bokeh.embed.embed_items_notebook(docs_json, render_items);\n",
       "\n",
       "  }\n",
       "  if (root.Bokeh !== undefined) {\n",
       "    embed_document(root);\n",
       "  } else {\n",
       "    var attempts = 0;\n",
       "    var timer = setInterval(function(root) {\n",
       "      if (root.Bokeh !== undefined) {\n",
       "        embed_document(root);\n",
       "        clearInterval(timer);\n",
       "      }\n",
       "      attempts++;\n",
       "      if (attempts > 100) {\n",
       "        console.log(\"Bokeh: ERROR: Unable to run BokehJS code because BokehJS library is missing\");\n",
       "        clearInterval(timer);\n",
       "      }\n",
       "    }, 10, root)\n",
       "  }\n",
       "})(window);"
      ],
      "application/vnd.bokehjs_exec.v0+json": ""
     },
     "metadata": {
      "application/vnd.bokehjs_exec.v0+json": {
       "id": "119236"
      }
     },
     "output_type": "display_data"
    }
   ],
   "source": [
    "comments.word_count_difference_graph(20)"
   ]
  },
  {
   "cell_type": "markdown",
   "metadata": {},
   "source": [
    "#### Comments\n",
    "\n",
    "* The preceeding graphs show the differneces in word frequency between classes.\n",
    "\n",
    "* One thing that the last graph shows, which one should expect, is the higher frequency ,in the inappropriate class, of words that that are either polarizing e.g. 'trump' or are groups who are often subject to claims of supremacy or inferiority depending on the prejudices of the asker e.g. 'white', 'men', 'women', 'muslims'.\n",
    "\n",
    "* One interesting unexpected result is the difference in the frequency of different interogative words used in the different classes of questions e.g. 'what', 'how', and 'which' are more frequent in the appropriate class, while interogative word 'why' is far more likely in the innappropriate class. \n",
    "\n",
    "* Perhaps the increased use of 'why' in the innapropriate class is due to the ease at which one can disguise a statement of a dubious, non-factual nature as a why question. For example the question 'why are aliens manging my local dairy queen?' presents the premise, that aliens are managing a dairy queen somewhere, as fact and implicitly requires the reader to accept the premise in order to respond directly to it. Note that questions like, 'which of my local dairy queens is managed by aliens', 'how can my local dairy queen be managed by aliens', and 'does/can my local dairy queen be managed by aliens' do not require the answerer to accept the premise in order to respond. "
   ]
  },
  {
   "cell_type": "code",
   "execution_count": 397,
   "metadata": {},
   "outputs": [
    {
     "name": "stdout",
     "output_type": "stream",
     "text": [
      "['a', '{x}<b', '{x}<c', '{x}<d', '{x}\\\\right]\\\\in', 'x', '{x}\\\\mapsto']\n",
      "['*xx', '360,420,666', 'xx*', 'why']\n",
      "['of', '*xx', '360,420,666', 'xx*']\n",
      "['d', '{x}', '1\\\\right']\n",
      "['x', '{x}\\\\mapsto', 'x', '{x+1}']\n",
      "['math]x\\\\to\\\\infty\\\\displaystyle\\\\lim', '{x=1}\\\\frac{d', '{x}}{\\\\left', 'x+1\\\\right']\n",
      "['math]\\\\left', 'd', '{x}']\n",
      "['math]\\\\left', 'a', '{x}<b', '{x}<c', '{x}<d', '{x}\\\\right]\\\\in']\n",
      "['x', '{x+1}', '']\n",
      "['\\\\left', 'a', '{x}']\n",
      "['as', 'math]x\\\\to\\\\infty\\\\displaystyle\\\\lim', '{x=1}\\\\frac{d', '{x}}{\\\\left']\n",
      "['a', '{x}', '1\\\\right']\n"
     ]
    }
   ],
   "source": [
    "neg_bigram_counts_reformat = [[('{}_{}'.format(word1,word2),count) for word2,count in words.items()]\n",
    "                            for word1,words in list(comments.bigram_counts[0].items())]\n",
    "neg_bigram_counts_reformat = [ item for subl in neg_bigram_counts_reformat for item in subl]\n",
    "neg_bigram_counts_reformat = sorted(neg_bigram_counts_reformat,key = lambda x: -x[1])\n",
    "\n",
    "pos_bigram_counts_reformat = [[('{}_{}'.format(word1,word2),count) for word2,count in words.items()]\n",
    "                            for word1,words in list(comments.bigram_counts[1].items())]\n",
    "pos_bigram_counts_reformat = [ item for subl in pos_bigram_counts_reformat for item in subl]\n",
    "pos_bigram_counts_reformat = sorted(pos_bigram_counts_reformat,key = lambda x: -x[1])\n",
    "\n",
    "neg_bigram_vocab,_ = zip(*neg_bigram_counts_reformat)\n",
    "pos_bigram_vocab,_ = zip(*pos_bigram_counts_reformat)\n",
    "\n",
    "bigram_vocab = set(neg_bigram_vocab + pos_bigram_vocab)\n",
    "for bigram in bigram_vocab: \n",
    "    split = bigram.split('_')\n",
    "    if len(split) > 2: \n",
    "        print(split)\n",
    "# for bigram in bigram_vocab: \n",
    "#     word1,word2 = bigram.split('_')\n",
    "#     neg_count_dict = comments.bigram_counts[0].get(word1,0)\n",
    "#     pos_count_dict = comments.bigram_counts[1].get(word1,0)\n",
    "#     if neg_count_dict != 0:\n",
    "#         neg_count = neg_count_dict.get(word2)\n",
    "#     else: \n",
    "#         neg_count = 0\n",
    "#     if pos_count_dict != 0:\n",
    "#         pos_count = pos_count_dict.get(word2)\n",
    "#     else: \n",
    "#         pos_count = 0\n",
    "        "
   ]
  },
  {
   "cell_type": "code",
   "execution_count": 390,
   "metadata": {},
   "outputs": [
    {
     "data": {
      "text/plain": [
       "[('<s>_why', 1872),\n",
       " ('why_do', 759),\n",
       " ('<s>_how', 402),\n",
       " ('why_are', 401),\n",
       " ('<s>_is', 388),\n",
       " ('is_it', 345),\n",
       " ('<s>_what', 312),\n",
       " ('in_the', 297),\n",
       " ('<s>_do', 291),\n",
       " ('why_is', 281)]"
      ]
     },
     "execution_count": 390,
     "metadata": {},
     "output_type": "execute_result"
    }
   ],
   "source": [
    "pos_bigram_counts_reformat[:10]"
   ]
  },
  {
   "cell_type": "code",
   "execution_count": 395,
   "metadata": {},
   "outputs": [
    {
     "data": {
      "text/plain": [
       "['word1', 'word2']"
      ]
     },
     "execution_count": 395,
     "metadata": {},
     "output_type": "execute_result"
    }
   ],
   "source": [
    "'word1_word2'.split('_')"
   ]
  },
  {
   "cell_type": "code",
   "execution_count": null,
   "metadata": {},
   "outputs": [],
   "source": []
  },
  {
   "cell_type": "code",
   "execution_count": null,
   "metadata": {},
   "outputs": [],
   "source": []
  },
  {
   "cell_type": "code",
   "execution_count": null,
   "metadata": {},
   "outputs": [],
   "source": []
  },
  {
   "cell_type": "code",
   "execution_count": null,
   "metadata": {},
   "outputs": [],
   "source": []
  },
  {
   "cell_type": "code",
   "execution_count": null,
   "metadata": {},
   "outputs": [],
   "source": []
  }
 ],
 "metadata": {
  "kernelspec": {
   "display_name": "Python 3",
   "language": "python",
   "name": "python3"
  },
  "language_info": {
   "codemirror_mode": {
    "name": "ipython",
    "version": 3
   },
   "file_extension": ".py",
   "mimetype": "text/x-python",
   "name": "python",
   "nbconvert_exporter": "python",
   "pygments_lexer": "ipython3",
   "version": "3.7.3"
  }
 },
 "nbformat": 4,
 "nbformat_minor": 4
}
