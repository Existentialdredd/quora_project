{
 "cells": [
  {
   "cell_type": "code",
   "execution_count": 1,
   "metadata": {},
   "outputs": [
    {
     "data": {
      "text/html": [
       "\n",
       "    <div class=\"bk-root\">\n",
       "        <a href=\"https://bokeh.pydata.org\" target=\"_blank\" class=\"bk-logo bk-logo-small bk-logo-notebook\"></a>\n",
       "        <span id=\"1001\">Loading BokehJS ...</span>\n",
       "    </div>"
      ]
     },
     "metadata": {},
     "output_type": "display_data"
    },
    {
     "data": {
      "application/javascript": [
       "\n",
       "(function(root) {\n",
       "  function now() {\n",
       "    return new Date();\n",
       "  }\n",
       "\n",
       "  var force = true;\n",
       "\n",
       "  if (typeof root._bokeh_onload_callbacks === \"undefined\" || force === true) {\n",
       "    root._bokeh_onload_callbacks = [];\n",
       "    root._bokeh_is_loading = undefined;\n",
       "  }\n",
       "\n",
       "  var JS_MIME_TYPE = 'application/javascript';\n",
       "  var HTML_MIME_TYPE = 'text/html';\n",
       "  var EXEC_MIME_TYPE = 'application/vnd.bokehjs_exec.v0+json';\n",
       "  var CLASS_NAME = 'output_bokeh rendered_html';\n",
       "\n",
       "  /**\n",
       "   * Render data to the DOM node\n",
       "   */\n",
       "  function render(props, node) {\n",
       "    var script = document.createElement(\"script\");\n",
       "    node.appendChild(script);\n",
       "  }\n",
       "\n",
       "  /**\n",
       "   * Handle when an output is cleared or removed\n",
       "   */\n",
       "  function handleClearOutput(event, handle) {\n",
       "    var cell = handle.cell;\n",
       "\n",
       "    var id = cell.output_area._bokeh_element_id;\n",
       "    var server_id = cell.output_area._bokeh_server_id;\n",
       "    // Clean up Bokeh references\n",
       "    if (id != null && id in Bokeh.index) {\n",
       "      Bokeh.index[id].model.document.clear();\n",
       "      delete Bokeh.index[id];\n",
       "    }\n",
       "\n",
       "    if (server_id !== undefined) {\n",
       "      // Clean up Bokeh references\n",
       "      var cmd = \"from bokeh.io.state import curstate; print(curstate().uuid_to_server['\" + server_id + \"'].get_sessions()[0].document.roots[0]._id)\";\n",
       "      cell.notebook.kernel.execute(cmd, {\n",
       "        iopub: {\n",
       "          output: function(msg) {\n",
       "            var id = msg.content.text.trim();\n",
       "            if (id in Bokeh.index) {\n",
       "              Bokeh.index[id].model.document.clear();\n",
       "              delete Bokeh.index[id];\n",
       "            }\n",
       "          }\n",
       "        }\n",
       "      });\n",
       "      // Destroy server and session\n",
       "      var cmd = \"import bokeh.io.notebook as ion; ion.destroy_server('\" + server_id + \"')\";\n",
       "      cell.notebook.kernel.execute(cmd);\n",
       "    }\n",
       "  }\n",
       "\n",
       "  /**\n",
       "   * Handle when a new output is added\n",
       "   */\n",
       "  function handleAddOutput(event, handle) {\n",
       "    var output_area = handle.output_area;\n",
       "    var output = handle.output;\n",
       "\n",
       "    // limit handleAddOutput to display_data with EXEC_MIME_TYPE content only\n",
       "    if ((output.output_type != \"display_data\") || (!output.data.hasOwnProperty(EXEC_MIME_TYPE))) {\n",
       "      return\n",
       "    }\n",
       "\n",
       "    var toinsert = output_area.element.find(\".\" + CLASS_NAME.split(' ')[0]);\n",
       "\n",
       "    if (output.metadata[EXEC_MIME_TYPE][\"id\"] !== undefined) {\n",
       "      toinsert[toinsert.length - 1].firstChild.textContent = output.data[JS_MIME_TYPE];\n",
       "      // store reference to embed id on output_area\n",
       "      output_area._bokeh_element_id = output.metadata[EXEC_MIME_TYPE][\"id\"];\n",
       "    }\n",
       "    if (output.metadata[EXEC_MIME_TYPE][\"server_id\"] !== undefined) {\n",
       "      var bk_div = document.createElement(\"div\");\n",
       "      bk_div.innerHTML = output.data[HTML_MIME_TYPE];\n",
       "      var script_attrs = bk_div.children[0].attributes;\n",
       "      for (var i = 0; i < script_attrs.length; i++) {\n",
       "        toinsert[toinsert.length - 1].firstChild.setAttribute(script_attrs[i].name, script_attrs[i].value);\n",
       "      }\n",
       "      // store reference to server id on output_area\n",
       "      output_area._bokeh_server_id = output.metadata[EXEC_MIME_TYPE][\"server_id\"];\n",
       "    }\n",
       "  }\n",
       "\n",
       "  function register_renderer(events, OutputArea) {\n",
       "\n",
       "    function append_mime(data, metadata, element) {\n",
       "      // create a DOM node to render to\n",
       "      var toinsert = this.create_output_subarea(\n",
       "        metadata,\n",
       "        CLASS_NAME,\n",
       "        EXEC_MIME_TYPE\n",
       "      );\n",
       "      this.keyboard_manager.register_events(toinsert);\n",
       "      // Render to node\n",
       "      var props = {data: data, metadata: metadata[EXEC_MIME_TYPE]};\n",
       "      render(props, toinsert[toinsert.length - 1]);\n",
       "      element.append(toinsert);\n",
       "      return toinsert\n",
       "    }\n",
       "\n",
       "    /* Handle when an output is cleared or removed */\n",
       "    events.on('clear_output.CodeCell', handleClearOutput);\n",
       "    events.on('delete.Cell', handleClearOutput);\n",
       "\n",
       "    /* Handle when a new output is added */\n",
       "    events.on('output_added.OutputArea', handleAddOutput);\n",
       "\n",
       "    /**\n",
       "     * Register the mime type and append_mime function with output_area\n",
       "     */\n",
       "    OutputArea.prototype.register_mime_type(EXEC_MIME_TYPE, append_mime, {\n",
       "      /* Is output safe? */\n",
       "      safe: true,\n",
       "      /* Index of renderer in `output_area.display_order` */\n",
       "      index: 0\n",
       "    });\n",
       "  }\n",
       "\n",
       "  // register the mime type if in Jupyter Notebook environment and previously unregistered\n",
       "  if (root.Jupyter !== undefined) {\n",
       "    var events = require('base/js/events');\n",
       "    var OutputArea = require('notebook/js/outputarea').OutputArea;\n",
       "\n",
       "    if (OutputArea.prototype.mime_types().indexOf(EXEC_MIME_TYPE) == -1) {\n",
       "      register_renderer(events, OutputArea);\n",
       "    }\n",
       "  }\n",
       "\n",
       "  \n",
       "  if (typeof (root._bokeh_timeout) === \"undefined\" || force === true) {\n",
       "    root._bokeh_timeout = Date.now() + 5000;\n",
       "    root._bokeh_failed_load = false;\n",
       "  }\n",
       "\n",
       "  var NB_LOAD_WARNING = {'data': {'text/html':\n",
       "     \"<div style='background-color: #fdd'>\\n\"+\n",
       "     \"<p>\\n\"+\n",
       "     \"BokehJS does not appear to have successfully loaded. If loading BokehJS from CDN, this \\n\"+\n",
       "     \"may be due to a slow or bad network connection. Possible fixes:\\n\"+\n",
       "     \"</p>\\n\"+\n",
       "     \"<ul>\\n\"+\n",
       "     \"<li>re-rerun `output_notebook()` to attempt to load from CDN again, or</li>\\n\"+\n",
       "     \"<li>use INLINE resources instead, as so:</li>\\n\"+\n",
       "     \"</ul>\\n\"+\n",
       "     \"<code>\\n\"+\n",
       "     \"from bokeh.resources import INLINE\\n\"+\n",
       "     \"output_notebook(resources=INLINE)\\n\"+\n",
       "     \"</code>\\n\"+\n",
       "     \"</div>\"}};\n",
       "\n",
       "  function display_loaded() {\n",
       "    var el = document.getElementById(\"1001\");\n",
       "    if (el != null) {\n",
       "      el.textContent = \"BokehJS is loading...\";\n",
       "    }\n",
       "    if (root.Bokeh !== undefined) {\n",
       "      if (el != null) {\n",
       "        el.textContent = \"BokehJS \" + root.Bokeh.version + \" successfully loaded.\";\n",
       "      }\n",
       "    } else if (Date.now() < root._bokeh_timeout) {\n",
       "      setTimeout(display_loaded, 100)\n",
       "    }\n",
       "  }\n",
       "\n",
       "\n",
       "  function run_callbacks() {\n",
       "    try {\n",
       "      root._bokeh_onload_callbacks.forEach(function(callback) {\n",
       "        if (callback != null)\n",
       "          callback();\n",
       "      });\n",
       "    } finally {\n",
       "      delete root._bokeh_onload_callbacks\n",
       "    }\n",
       "    console.debug(\"Bokeh: all callbacks have finished\");\n",
       "  }\n",
       "\n",
       "  function load_libs(css_urls, js_urls, callback) {\n",
       "    if (css_urls == null) css_urls = [];\n",
       "    if (js_urls == null) js_urls = [];\n",
       "\n",
       "    root._bokeh_onload_callbacks.push(callback);\n",
       "    if (root._bokeh_is_loading > 0) {\n",
       "      console.debug(\"Bokeh: BokehJS is being loaded, scheduling callback at\", now());\n",
       "      return null;\n",
       "    }\n",
       "    if (js_urls == null || js_urls.length === 0) {\n",
       "      run_callbacks();\n",
       "      return null;\n",
       "    }\n",
       "    console.debug(\"Bokeh: BokehJS not loaded, scheduling load and callback at\", now());\n",
       "    root._bokeh_is_loading = css_urls.length + js_urls.length;\n",
       "\n",
       "    function on_load() {\n",
       "      root._bokeh_is_loading--;\n",
       "      if (root._bokeh_is_loading === 0) {\n",
       "        console.debug(\"Bokeh: all BokehJS libraries/stylesheets loaded\");\n",
       "        run_callbacks()\n",
       "      }\n",
       "    }\n",
       "\n",
       "    function on_error() {\n",
       "      console.error(\"failed to load \" + url);\n",
       "    }\n",
       "\n",
       "    for (var i = 0; i < css_urls.length; i++) {\n",
       "      var url = css_urls[i];\n",
       "      const element = document.createElement(\"link\");\n",
       "      element.onload = on_load;\n",
       "      element.onerror = on_error;\n",
       "      element.rel = \"stylesheet\";\n",
       "      element.type = \"text/css\";\n",
       "      element.href = url;\n",
       "      console.debug(\"Bokeh: injecting link tag for BokehJS stylesheet: \", url);\n",
       "      document.body.appendChild(element);\n",
       "    }\n",
       "\n",
       "    for (var i = 0; i < js_urls.length; i++) {\n",
       "      var url = js_urls[i];\n",
       "      var element = document.createElement('script');\n",
       "      element.onload = on_load;\n",
       "      element.onerror = on_error;\n",
       "      element.async = false;\n",
       "      element.src = url;\n",
       "      console.debug(\"Bokeh: injecting script tag for BokehJS library: \", url);\n",
       "      document.head.appendChild(element);\n",
       "    }\n",
       "  };var element = document.getElementById(\"1001\");\n",
       "  if (element == null) {\n",
       "    console.error(\"Bokeh: ERROR: autoload.js configured with elementid '1001' but no matching script tag was found. \")\n",
       "    return false;\n",
       "  }\n",
       "\n",
       "  function inject_raw_css(css) {\n",
       "    const element = document.createElement(\"style\");\n",
       "    element.appendChild(document.createTextNode(css));\n",
       "    document.body.appendChild(element);\n",
       "  }\n",
       "\n",
       "  var js_urls = [\"https://cdn.pydata.org/bokeh/release/bokeh-1.3.4.min.js\", \"https://cdn.pydata.org/bokeh/release/bokeh-widgets-1.3.4.min.js\", \"https://cdn.pydata.org/bokeh/release/bokeh-tables-1.3.4.min.js\", \"https://cdn.pydata.org/bokeh/release/bokeh-gl-1.3.4.min.js\"];\n",
       "  var css_urls = [];\n",
       "\n",
       "  var inline_js = [\n",
       "    function(Bokeh) {\n",
       "      Bokeh.set_log_level(\"info\");\n",
       "    },\n",
       "    \n",
       "    function(Bokeh) {\n",
       "      \n",
       "    },\n",
       "    function(Bokeh) {} // ensure no trailing comma for IE\n",
       "  ];\n",
       "\n",
       "  function run_inline_js() {\n",
       "    \n",
       "    if ((root.Bokeh !== undefined) || (force === true)) {\n",
       "      for (var i = 0; i < inline_js.length; i++) {\n",
       "        inline_js[i].call(root, root.Bokeh);\n",
       "      }if (force === true) {\n",
       "        display_loaded();\n",
       "      }} else if (Date.now() < root._bokeh_timeout) {\n",
       "      setTimeout(run_inline_js, 100);\n",
       "    } else if (!root._bokeh_failed_load) {\n",
       "      console.log(\"Bokeh: BokehJS failed to load within specified timeout.\");\n",
       "      root._bokeh_failed_load = true;\n",
       "    } else if (force !== true) {\n",
       "      var cell = $(document.getElementById(\"1001\")).parents('.cell').data().cell;\n",
       "      cell.output_area.append_execute_result(NB_LOAD_WARNING)\n",
       "    }\n",
       "\n",
       "  }\n",
       "\n",
       "  if (root._bokeh_is_loading === 0) {\n",
       "    console.debug(\"Bokeh: BokehJS loaded, going straight to plotting\");\n",
       "    run_inline_js();\n",
       "  } else {\n",
       "    load_libs(css_urls, js_urls, function() {\n",
       "      console.debug(\"Bokeh: BokehJS plotting callback run at\", now());\n",
       "      run_inline_js();\n",
       "    });\n",
       "  }\n",
       "}(window));"
      ],
      "application/vnd.bokehjs_load.v0+json": "\n(function(root) {\n  function now() {\n    return new Date();\n  }\n\n  var force = true;\n\n  if (typeof root._bokeh_onload_callbacks === \"undefined\" || force === true) {\n    root._bokeh_onload_callbacks = [];\n    root._bokeh_is_loading = undefined;\n  }\n\n  \n\n  \n  if (typeof (root._bokeh_timeout) === \"undefined\" || force === true) {\n    root._bokeh_timeout = Date.now() + 5000;\n    root._bokeh_failed_load = false;\n  }\n\n  var NB_LOAD_WARNING = {'data': {'text/html':\n     \"<div style='background-color: #fdd'>\\n\"+\n     \"<p>\\n\"+\n     \"BokehJS does not appear to have successfully loaded. If loading BokehJS from CDN, this \\n\"+\n     \"may be due to a slow or bad network connection. Possible fixes:\\n\"+\n     \"</p>\\n\"+\n     \"<ul>\\n\"+\n     \"<li>re-rerun `output_notebook()` to attempt to load from CDN again, or</li>\\n\"+\n     \"<li>use INLINE resources instead, as so:</li>\\n\"+\n     \"</ul>\\n\"+\n     \"<code>\\n\"+\n     \"from bokeh.resources import INLINE\\n\"+\n     \"output_notebook(resources=INLINE)\\n\"+\n     \"</code>\\n\"+\n     \"</div>\"}};\n\n  function display_loaded() {\n    var el = document.getElementById(\"1001\");\n    if (el != null) {\n      el.textContent = \"BokehJS is loading...\";\n    }\n    if (root.Bokeh !== undefined) {\n      if (el != null) {\n        el.textContent = \"BokehJS \" + root.Bokeh.version + \" successfully loaded.\";\n      }\n    } else if (Date.now() < root._bokeh_timeout) {\n      setTimeout(display_loaded, 100)\n    }\n  }\n\n\n  function run_callbacks() {\n    try {\n      root._bokeh_onload_callbacks.forEach(function(callback) {\n        if (callback != null)\n          callback();\n      });\n    } finally {\n      delete root._bokeh_onload_callbacks\n    }\n    console.debug(\"Bokeh: all callbacks have finished\");\n  }\n\n  function load_libs(css_urls, js_urls, callback) {\n    if (css_urls == null) css_urls = [];\n    if (js_urls == null) js_urls = [];\n\n    root._bokeh_onload_callbacks.push(callback);\n    if (root._bokeh_is_loading > 0) {\n      console.debug(\"Bokeh: BokehJS is being loaded, scheduling callback at\", now());\n      return null;\n    }\n    if (js_urls == null || js_urls.length === 0) {\n      run_callbacks();\n      return null;\n    }\n    console.debug(\"Bokeh: BokehJS not loaded, scheduling load and callback at\", now());\n    root._bokeh_is_loading = css_urls.length + js_urls.length;\n\n    function on_load() {\n      root._bokeh_is_loading--;\n      if (root._bokeh_is_loading === 0) {\n        console.debug(\"Bokeh: all BokehJS libraries/stylesheets loaded\");\n        run_callbacks()\n      }\n    }\n\n    function on_error() {\n      console.error(\"failed to load \" + url);\n    }\n\n    for (var i = 0; i < css_urls.length; i++) {\n      var url = css_urls[i];\n      const element = document.createElement(\"link\");\n      element.onload = on_load;\n      element.onerror = on_error;\n      element.rel = \"stylesheet\";\n      element.type = \"text/css\";\n      element.href = url;\n      console.debug(\"Bokeh: injecting link tag for BokehJS stylesheet: \", url);\n      document.body.appendChild(element);\n    }\n\n    for (var i = 0; i < js_urls.length; i++) {\n      var url = js_urls[i];\n      var element = document.createElement('script');\n      element.onload = on_load;\n      element.onerror = on_error;\n      element.async = false;\n      element.src = url;\n      console.debug(\"Bokeh: injecting script tag for BokehJS library: \", url);\n      document.head.appendChild(element);\n    }\n  };var element = document.getElementById(\"1001\");\n  if (element == null) {\n    console.error(\"Bokeh: ERROR: autoload.js configured with elementid '1001' but no matching script tag was found. \")\n    return false;\n  }\n\n  function inject_raw_css(css) {\n    const element = document.createElement(\"style\");\n    element.appendChild(document.createTextNode(css));\n    document.body.appendChild(element);\n  }\n\n  var js_urls = [\"https://cdn.pydata.org/bokeh/release/bokeh-1.3.4.min.js\", \"https://cdn.pydata.org/bokeh/release/bokeh-widgets-1.3.4.min.js\", \"https://cdn.pydata.org/bokeh/release/bokeh-tables-1.3.4.min.js\", \"https://cdn.pydata.org/bokeh/release/bokeh-gl-1.3.4.min.js\"];\n  var css_urls = [];\n\n  var inline_js = [\n    function(Bokeh) {\n      Bokeh.set_log_level(\"info\");\n    },\n    \n    function(Bokeh) {\n      \n    },\n    function(Bokeh) {} // ensure no trailing comma for IE\n  ];\n\n  function run_inline_js() {\n    \n    if ((root.Bokeh !== undefined) || (force === true)) {\n      for (var i = 0; i < inline_js.length; i++) {\n        inline_js[i].call(root, root.Bokeh);\n      }if (force === true) {\n        display_loaded();\n      }} else if (Date.now() < root._bokeh_timeout) {\n      setTimeout(run_inline_js, 100);\n    } else if (!root._bokeh_failed_load) {\n      console.log(\"Bokeh: BokehJS failed to load within specified timeout.\");\n      root._bokeh_failed_load = true;\n    } else if (force !== true) {\n      var cell = $(document.getElementById(\"1001\")).parents('.cell').data().cell;\n      cell.output_area.append_execute_result(NB_LOAD_WARNING)\n    }\n\n  }\n\n  if (root._bokeh_is_loading === 0) {\n    console.debug(\"Bokeh: BokehJS loaded, going straight to plotting\");\n    run_inline_js();\n  } else {\n    load_libs(css_urls, js_urls, function() {\n      console.debug(\"Bokeh: BokehJS plotting callback run at\", now());\n      run_inline_js();\n    });\n  }\n}(window));"
     },
     "metadata": {},
     "output_type": "display_data"
    }
   ],
   "source": [
    "import numpy as np \n",
    "import pandas as pd\n",
    "import quora_vocab as qv\n",
    "from sklearn import linear_model\n",
    "import utilities as ut\n",
    "from importlib import reload\n",
    "from bokeh.plotting import figure\n",
    "from bokeh.io import show, output_notebook\n",
    "from bokeh.models import HoverTool, ColumnDataSource\n",
    "output_notebook()"
   ]
  },
  {
   "cell_type": "code",
   "execution_count": 2,
   "metadata": {},
   "outputs": [],
   "source": [
    "DATA_PATH = '~/google_drive/data/quora/'\n",
    "DATA_FILE = '{}{}'.format(DATA_PATH,'train.csv')"
   ]
  },
  {
   "cell_type": "markdown",
   "metadata": {},
   "source": [
    "### Data Loading"
   ]
  },
  {
   "cell_type": "code",
   "execution_count": 3,
   "metadata": {},
   "outputs": [
    {
     "data": {
      "text/html": [
       "<div>\n",
       "<style scoped>\n",
       "    .dataframe tbody tr th:only-of-type {\n",
       "        vertical-align: middle;\n",
       "    }\n",
       "\n",
       "    .dataframe tbody tr th {\n",
       "        vertical-align: top;\n",
       "    }\n",
       "\n",
       "    .dataframe thead th {\n",
       "        text-align: right;\n",
       "    }\n",
       "</style>\n",
       "<table border=\"1\" class=\"dataframe\">\n",
       "  <thead>\n",
       "    <tr style=\"text-align: right;\">\n",
       "      <th></th>\n",
       "      <th>qid</th>\n",
       "      <th>question_text</th>\n",
       "      <th>target</th>\n",
       "    </tr>\n",
       "  </thead>\n",
       "  <tbody>\n",
       "    <tr>\n",
       "      <td>0</td>\n",
       "      <td>00002165364db923c7e6</td>\n",
       "      <td>How did Quebec nationalists see their province...</td>\n",
       "      <td>0</td>\n",
       "    </tr>\n",
       "    <tr>\n",
       "      <td>1</td>\n",
       "      <td>000032939017120e6e44</td>\n",
       "      <td>Do you have an adopted dog, how would you enco...</td>\n",
       "      <td>0</td>\n",
       "    </tr>\n",
       "    <tr>\n",
       "      <td>2</td>\n",
       "      <td>0000412ca6e4628ce2cf</td>\n",
       "      <td>Why does velocity affect time? Does velocity a...</td>\n",
       "      <td>0</td>\n",
       "    </tr>\n",
       "    <tr>\n",
       "      <td>3</td>\n",
       "      <td>000042bf85aa498cd78e</td>\n",
       "      <td>How did Otto von Guericke used the Magdeburg h...</td>\n",
       "      <td>0</td>\n",
       "    </tr>\n",
       "    <tr>\n",
       "      <td>4</td>\n",
       "      <td>0000455dfa3e01eae3af</td>\n",
       "      <td>Can I convert montra helicon D to a mountain b...</td>\n",
       "      <td>0</td>\n",
       "    </tr>\n",
       "  </tbody>\n",
       "</table>\n",
       "</div>"
      ],
      "text/plain": [
       "                    qid                                      question_text  \\\n",
       "0  00002165364db923c7e6  How did Quebec nationalists see their province...   \n",
       "1  000032939017120e6e44  Do you have an adopted dog, how would you enco...   \n",
       "2  0000412ca6e4628ce2cf  Why does velocity affect time? Does velocity a...   \n",
       "3  000042bf85aa498cd78e  How did Otto von Guericke used the Magdeburg h...   \n",
       "4  0000455dfa3e01eae3af  Can I convert montra helicon D to a mountain b...   \n",
       "\n",
       "   target  \n",
       "0       0  \n",
       "1       0  \n",
       "2       0  \n",
       "3       0  \n",
       "4       0  "
      ]
     },
     "execution_count": 3,
     "metadata": {},
     "output_type": "execute_result"
    }
   ],
   "source": [
    "data = pd.read_csv(DATA_FILE)\n",
    "data.head()"
   ]
  },
  {
   "cell_type": "markdown",
   "metadata": {},
   "source": [
    "### Tokenizing Each Comment"
   ]
  },
  {
   "cell_type": "code",
   "execution_count": 4,
   "metadata": {},
   "outputs": [
    {
     "name": "stderr",
     "output_type": "stream",
     "text": [
      "/Users/ericpenner/anaconda3/envs/quora_proj/lib/python3.7/site-packages/ipykernel_launcher.py:2: FutureWarning: Method .as_matrix will be removed in a future version. Use .values instead.\n",
      "  \n",
      "/Users/ericpenner/anaconda3/envs/quora_proj/lib/python3.7/site-packages/ipykernel_launcher.py:4: FutureWarning: Method .as_matrix will be removed in a future version. Use .values instead.\n",
      "  after removing the cwd from sys.path.\n"
     ]
    }
   ],
   "source": [
    "data_pos_tokenized = [[vec[0],ut.canon_token_sentence(vec[1]),vec[2]] \n",
    "                      for vec in data.as_matrix() if vec[2] == 1]  \n",
    "data_neg_tokenized = [[vec[0],ut.canon_token_sentence(vec[1]),vec[2]] \n",
    "                      for vec in data.as_matrix() if vec[2] == 0]   "
   ]
  },
  {
   "cell_type": "markdown",
   "metadata": {},
   "source": [
    "#### Tokenized Innapropriate Question Example"
   ]
  },
  {
   "cell_type": "code",
   "execution_count": 5,
   "metadata": {},
   "outputs": [
    {
     "data": {
      "text/plain": [
       "'what do democrats think of the fact that i am homophobic and was born this way will this make you rethink your rhetoric'"
      ]
     },
     "execution_count": 5,
     "metadata": {},
     "output_type": "execute_result"
    }
   ],
   "source": [
    "' '.join(data_pos_tokenized[103][1])"
   ]
  },
  {
   "cell_type": "markdown",
   "metadata": {},
   "source": [
    "#### Tokenized Appropriate Question Example"
   ]
  },
  {
   "cell_type": "code",
   "execution_count": 6,
   "metadata": {},
   "outputs": [
    {
     "data": {
      "text/plain": [
       "'how were the calgary flames founded'"
      ]
     },
     "execution_count": 6,
     "metadata": {},
     "output_type": "execute_result"
    }
   ],
   "source": [
    "' '.join(data_neg_tokenized[11][1])"
   ]
  },
  {
   "cell_type": "markdown",
   "metadata": {},
   "source": [
    "### Train Test Split"
   ]
  },
  {
   "cell_type": "code",
   "execution_count": 7,
   "metadata": {},
   "outputs": [],
   "source": [
    "NVALID = 5000\n",
    "from random import shuffle\n",
    "train_data = data_pos_tokenized[NVALID:] + data_neg_tokenized[NVALID:]\n",
    "shuffle(train_data)\n",
    "valid_data = data_pos_tokenized[:NVALID] + data_neg_tokenized[:NVALID]\n",
    "shuffle(valid_data)"
   ]
  },
  {
   "cell_type": "markdown",
   "metadata": {},
   "source": [
    "### Class Construction"
   ]
  },
  {
   "cell_type": "code",
   "execution_count": 8,
   "metadata": {},
   "outputs": [
    {
     "name": "stderr",
     "output_type": "stream",
     "text": [
      "Processing Comments: 100%|██████████| 10000/10000 [00:00<00:00, 60172.38it/s]\n"
     ]
    }
   ],
   "source": [
    "reload(qv)\n",
    "comments = qv.CommentVocab(valid_data)"
   ]
  },
  {
   "cell_type": "markdown",
   "metadata": {},
   "source": [
    "### Comparison of Question Length by Class"
   ]
  },
  {
   "cell_type": "code",
   "execution_count": 9,
   "metadata": {},
   "outputs": [
    {
     "name": "stdout",
     "output_type": "stream",
     "text": [
      "----Length of Positive Examples-----\n",
      "count    80810.000000\n",
      "mean        17.425282\n",
      "std          9.641367\n",
      "min          1.000000\n",
      "25%         10.000000\n",
      "50%         15.000000\n",
      "75%         23.000000\n",
      "max         83.000000\n",
      "dtype: float64\n",
      "\n",
      "----Length of Negative Examples-----\n",
      "count    1.225312e+06\n",
      "mean     1.260752e+01\n",
      "std      6.811622e+00\n",
      "min      2.000000e+00\n",
      "25%      8.000000e+00\n",
      "50%      1.100000e+01\n",
      "75%      1.500000e+01\n",
      "max      1.320000e+02\n",
      "dtype: float64\n"
     ]
    }
   ],
   "source": [
    "pos_lengths = [ len(vec[1]) for vec in data_pos_tokenized]\n",
    "neg_lengths = [ len(vec[1]) for vec in data_neg_tokenized]\n",
    "print('{}\\n{}\\n'.format('----Length of Positive Examples-----',pd.Series(pos_lengths).describe()))\n",
    "print('{}\\n{}'.format('----Length of Negative Examples-----',pd.Series(neg_lengths).describe()))"
   ]
  },
  {
   "cell_type": "code",
   "execution_count": 10,
   "metadata": {},
   "outputs": [
    {
     "data": {
      "text/html": [
       "\n",
       "\n",
       "\n",
       "\n",
       "\n",
       "\n",
       "  <div class=\"bk-root\" id=\"5cccb305-7c28-4c5d-9a5a-6c4fd5563fe0\" data-root-id=\"1002\"></div>\n"
      ]
     },
     "metadata": {},
     "output_type": "display_data"
    },
    {
     "data": {
      "application/javascript": [
       "(function(root) {\n",
       "  function embed_document(root) {\n",
       "    \n",
       "  var docs_json = {\"45c46560-1a77-4dfa-9057-0fe9655b322b\":{\"roots\":{\"references\":[{\"attributes\":{\"below\":[{\"id\":\"1013\",\"type\":\"LinearAxis\"}],\"center\":[{\"id\":\"1017\",\"type\":\"Grid\"},{\"id\":\"1022\",\"type\":\"Grid\"},{\"id\":\"1048\",\"type\":\"Legend\"}],\"left\":[{\"id\":\"1018\",\"type\":\"LinearAxis\"}],\"plot_height\":400,\"plot_width\":750,\"renderers\":[{\"id\":\"1040\",\"type\":\"GlyphRenderer\"},{\"id\":\"1054\",\"type\":\"GlyphRenderer\"}],\"title\":{\"id\":\"1003\",\"type\":\"Title\"},\"toolbar\":{\"id\":\"1029\",\"type\":\"Toolbar\"},\"x_range\":{\"id\":\"1005\",\"type\":\"DataRange1d\"},\"x_scale\":{\"id\":\"1009\",\"type\":\"LinearScale\"},\"y_range\":{\"id\":\"1007\",\"type\":\"DataRange1d\"},\"y_scale\":{\"id\":\"1011\",\"type\":\"LinearScale\"}},\"id\":\"1002\",\"subtype\":\"Figure\",\"type\":\"Plot\"},{\"attributes\":{},\"id\":\"1019\",\"type\":\"BasicTicker\"},{\"attributes\":{},\"id\":\"1027\",\"type\":\"ResetTool\"},{\"attributes\":{},\"id\":\"1073\",\"type\":\"UnionRenderers\"},{\"attributes\":{\"overlay\":{\"id\":\"1047\",\"type\":\"BoxAnnotation\"}},\"id\":\"1025\",\"type\":\"BoxZoomTool\"},{\"attributes\":{},\"id\":\"1011\",\"type\":\"LinearScale\"},{\"attributes\":{},\"id\":\"1045\",\"type\":\"BasicTickFormatter\"},{\"attributes\":{\"fill_alpha\":{\"value\":0.75},\"fill_color\":{\"value\":\"#718dbf\"},\"line_alpha\":{\"value\":0.75},\"line_color\":{\"value\":\"#718dbf\"},\"top\":{\"field\":\"pos\"},\"width\":{\"value\":0.9},\"x\":{\"field\":\"lengths\"}},\"id\":\"1038\",\"type\":\"VBar\"},{\"attributes\":{},\"id\":\"1014\",\"type\":\"BasicTicker\"},{\"attributes\":{\"data_source\":{\"id\":\"1050\",\"type\":\"ColumnDataSource\"},\"glyph\":{\"id\":\"1052\",\"type\":\"VBar\"},\"hover_glyph\":null,\"muted_glyph\":null,\"nonselection_glyph\":{\"id\":\"1053\",\"type\":\"VBar\"},\"selection_glyph\":null,\"view\":{\"id\":\"1055\",\"type\":\"CDSView\"}},\"id\":\"1054\",\"type\":\"GlyphRenderer\"},{\"attributes\":{\"fill_alpha\":{\"value\":0.1},\"fill_color\":{\"value\":\"#1f77b4\"},\"line_alpha\":{\"value\":0.1},\"line_color\":{\"value\":\"#1f77b4\"},\"top\":{\"field\":\"pos\"},\"width\":{\"value\":0.9},\"x\":{\"field\":\"lengths\"}},\"id\":\"1039\",\"type\":\"VBar\"},{\"attributes\":{\"label\":{\"value\":\"Inappropriate\"},\"renderers\":[{\"id\":\"1040\",\"type\":\"GlyphRenderer\"}]},\"id\":\"1049\",\"type\":\"LegendItem\"},{\"attributes\":{\"data_source\":{\"id\":\"1036\",\"type\":\"ColumnDataSource\"},\"glyph\":{\"id\":\"1038\",\"type\":\"VBar\"},\"hover_glyph\":null,\"muted_glyph\":null,\"nonselection_glyph\":{\"id\":\"1039\",\"type\":\"VBar\"},\"selection_glyph\":null,\"view\":{\"id\":\"1041\",\"type\":\"CDSView\"}},\"id\":\"1040\",\"type\":\"GlyphRenderer\"},{\"attributes\":{\"active_drag\":\"auto\",\"active_inspect\":\"auto\",\"active_multi\":null,\"active_scroll\":\"auto\",\"active_tap\":\"auto\",\"tools\":[{\"id\":\"1023\",\"type\":\"PanTool\"},{\"id\":\"1024\",\"type\":\"WheelZoomTool\"},{\"id\":\"1025\",\"type\":\"BoxZoomTool\"},{\"id\":\"1026\",\"type\":\"SaveTool\"},{\"id\":\"1027\",\"type\":\"ResetTool\"},{\"id\":\"1028\",\"type\":\"HelpTool\"}]},\"id\":\"1029\",\"type\":\"Toolbar\"},{\"attributes\":{\"text\":\"Distribution of Question Lengths\"},\"id\":\"1003\",\"type\":\"Title\"},{\"attributes\":{\"bottom_units\":\"screen\",\"fill_alpha\":{\"value\":0.5},\"fill_color\":{\"value\":\"lightgrey\"},\"left_units\":\"screen\",\"level\":\"overlay\",\"line_alpha\":{\"value\":1.0},\"line_color\":{\"value\":\"black\"},\"line_dash\":[4,4],\"line_width\":{\"value\":2},\"render_mode\":\"css\",\"right_units\":\"screen\",\"top_units\":\"screen\"},\"id\":\"1047\",\"type\":\"BoxAnnotation\"},{\"attributes\":{\"source\":{\"id\":\"1036\",\"type\":\"ColumnDataSource\"}},\"id\":\"1041\",\"type\":\"CDSView\"},{\"attributes\":{},\"id\":\"1028\",\"type\":\"HelpTool\"},{\"attributes\":{\"formatter\":{\"id\":\"1045\",\"type\":\"BasicTickFormatter\"},\"ticker\":{\"id\":\"1019\",\"type\":\"BasicTicker\"}},\"id\":\"1018\",\"type\":\"LinearAxis\"},{\"attributes\":{\"callback\":null,\"data\":{\"lengths\":[0,1,2,3,4,5,6,7,8,9,10,11,12,13,14,15,16,17,18,19,20,21,22,23,24,25,26,27,28,29,30,31,32,33,34,35,36,37,38,39,40,41,42,43,44,45,46,47,48,49,50,51,52,53,54],\"neg\":[0,0,0,0.0036,0.0188,0.0352,0.0556,0.0818,0.1008,0.0972,0.0886,0.0756,0.068,0.0572,0.0456,0.037,0.0384,0.0286,0.022,0.0192,0.0182,0.0152,0.012,0.0088,0.0098,0.0092,0.0066,0.006,0.006,0.0028,0.0044,0.0038,0.0036,0.0016,0.0026,0.002,0.0008,0.0018,0.0012,0.001,0.0016,0.0016,0.001,0.001,0.0004,0.001,0.0004,0.0008,0.0006,0.0004,0.0004,0,0,0,0.0002],\"pos\":[0,0,0.0006,0.0026,0.0116,0.028,0.0362,0.0458,0.0522,0.05,0.0502,0.049,0.0492,0.0436,0.0438,0.0438,0.038,0.0386,0.0358,0.034,0.0312,0.0272,0.0258,0.0264,0.0254,0.021,0.0192,0.018,0.0164,0.013,0.012,0.0108,0.0094,0.0076,0.011,0.0114,0.0056,0.0066,0.0088,0.008,0.007,0.006,0.0054,0.004,0.0028,0.0018,0.0014,0.0012,0.0008,0.0012,0.0002,0.0002,0.0002,0,0]},\"selected\":{\"id\":\"1072\",\"type\":\"Selection\"},\"selection_policy\":{\"id\":\"1073\",\"type\":\"UnionRenderers\"}},\"id\":\"1050\",\"type\":\"ColumnDataSource\"},{\"attributes\":{},\"id\":\"1023\",\"type\":\"PanTool\"},{\"attributes\":{\"ticker\":{\"id\":\"1014\",\"type\":\"BasicTicker\"}},\"id\":\"1017\",\"type\":\"Grid\"},{\"attributes\":{\"callback\":null},\"id\":\"1005\",\"type\":\"DataRange1d\"},{\"attributes\":{\"callback\":null,\"data\":{\"lengths\":[0,1,2,3,4,5,6,7,8,9,10,11,12,13,14,15,16,17,18,19,20,21,22,23,24,25,26,27,28,29,30,31,32,33,34,35,36,37,38,39,40,41,42,43,44,45,46,47,48,49,50,51,52,53,54],\"neg\":[0,0,0,0.0036,0.0188,0.0352,0.0556,0.0818,0.1008,0.0972,0.0886,0.0756,0.068,0.0572,0.0456,0.037,0.0384,0.0286,0.022,0.0192,0.0182,0.0152,0.012,0.0088,0.0098,0.0092,0.0066,0.006,0.006,0.0028,0.0044,0.0038,0.0036,0.0016,0.0026,0.002,0.0008,0.0018,0.0012,0.001,0.0016,0.0016,0.001,0.001,0.0004,0.001,0.0004,0.0008,0.0006,0.0004,0.0004,0,0,0,0.0002],\"pos\":[0,0,0.0006,0.0026,0.0116,0.028,0.0362,0.0458,0.0522,0.05,0.0502,0.049,0.0492,0.0436,0.0438,0.0438,0.038,0.0386,0.0358,0.034,0.0312,0.0272,0.0258,0.0264,0.0254,0.021,0.0192,0.018,0.0164,0.013,0.012,0.0108,0.0094,0.0076,0.011,0.0114,0.0056,0.0066,0.0088,0.008,0.007,0.006,0.0054,0.004,0.0028,0.0018,0.0014,0.0012,0.0008,0.0012,0.0002,0.0002,0.0002,0,0]},\"selected\":{\"id\":\"1061\",\"type\":\"Selection\"},\"selection_policy\":{\"id\":\"1062\",\"type\":\"UnionRenderers\"}},\"id\":\"1036\",\"type\":\"ColumnDataSource\"},{\"attributes\":{},\"id\":\"1026\",\"type\":\"SaveTool\"},{\"attributes\":{},\"id\":\"1072\",\"type\":\"Selection\"},{\"attributes\":{},\"id\":\"1043\",\"type\":\"BasicTickFormatter\"},{\"attributes\":{\"fill_alpha\":{\"value\":0.75},\"fill_color\":{\"value\":\"#c9d9d3\"},\"line_alpha\":{\"value\":0.75},\"line_color\":{\"value\":\"#c9d9d3\"},\"top\":{\"field\":\"neg\"},\"width\":{\"value\":0.9},\"x\":{\"field\":\"lengths\"}},\"id\":\"1052\",\"type\":\"VBar\"},{\"attributes\":{\"dimension\":1,\"ticker\":{\"id\":\"1019\",\"type\":\"BasicTicker\"}},\"id\":\"1022\",\"type\":\"Grid\"},{\"attributes\":{\"fill_alpha\":{\"value\":0.1},\"fill_color\":{\"value\":\"#1f77b4\"},\"line_alpha\":{\"value\":0.1},\"line_color\":{\"value\":\"#1f77b4\"},\"top\":{\"field\":\"neg\"},\"width\":{\"value\":0.9},\"x\":{\"field\":\"lengths\"}},\"id\":\"1053\",\"type\":\"VBar\"},{\"attributes\":{\"callback\":null},\"id\":\"1007\",\"type\":\"DataRange1d\"},{\"attributes\":{\"items\":[{\"id\":\"1049\",\"type\":\"LegendItem\"},{\"id\":\"1064\",\"type\":\"LegendItem\"}]},\"id\":\"1048\",\"type\":\"Legend\"},{\"attributes\":{\"source\":{\"id\":\"1050\",\"type\":\"ColumnDataSource\"}},\"id\":\"1055\",\"type\":\"CDSView\"},{\"attributes\":{},\"id\":\"1024\",\"type\":\"WheelZoomTool\"},{\"attributes\":{},\"id\":\"1061\",\"type\":\"Selection\"},{\"attributes\":{},\"id\":\"1062\",\"type\":\"UnionRenderers\"},{\"attributes\":{\"label\":{\"value\":\"Appropriate\"},\"renderers\":[{\"id\":\"1054\",\"type\":\"GlyphRenderer\"}]},\"id\":\"1064\",\"type\":\"LegendItem\"},{\"attributes\":{},\"id\":\"1009\",\"type\":\"LinearScale\"},{\"attributes\":{\"formatter\":{\"id\":\"1043\",\"type\":\"BasicTickFormatter\"},\"ticker\":{\"id\":\"1014\",\"type\":\"BasicTicker\"}},\"id\":\"1013\",\"type\":\"LinearAxis\"}],\"root_ids\":[\"1002\"]},\"title\":\"Bokeh Application\",\"version\":\"1.3.4\"}};\n",
       "  var render_items = [{\"docid\":\"45c46560-1a77-4dfa-9057-0fe9655b322b\",\"roots\":{\"1002\":\"5cccb305-7c28-4c5d-9a5a-6c4fd5563fe0\"}}];\n",
       "  root.Bokeh.embed.embed_items_notebook(docs_json, render_items);\n",
       "\n",
       "  }\n",
       "  if (root.Bokeh !== undefined) {\n",
       "    embed_document(root);\n",
       "  } else {\n",
       "    var attempts = 0;\n",
       "    var timer = setInterval(function(root) {\n",
       "      if (root.Bokeh !== undefined) {\n",
       "        embed_document(root);\n",
       "        clearInterval(timer);\n",
       "      }\n",
       "      attempts++;\n",
       "      if (attempts > 100) {\n",
       "        console.log(\"Bokeh: ERROR: Unable to run BokehJS code because BokehJS library is missing\");\n",
       "        clearInterval(timer);\n",
       "      }\n",
       "    }, 10, root)\n",
       "  }\n",
       "})(window);"
      ],
      "application/vnd.bokehjs_exec.v0+json": ""
     },
     "metadata": {
      "application/vnd.bokehjs_exec.v0+json": {
       "id": "1002"
      }
     },
     "output_type": "display_data"
    }
   ],
   "source": [
    "comments.comment_length_graph()"
   ]
  },
  {
   "cell_type": "markdown",
   "metadata": {},
   "source": [
    "#### Comments\n",
    "\n",
    "* We can see from the summary statistics and the empirical distribution that the distribution of inappropriate questions has far fatter tails than the distribution of appropriate questions demonstrating that innaproriate questions tend to be somewhat longer. This matches what one would expect from the description of the innapropriate class which includes questions that are really statements of some position that the user has, or just generalized trolling.\n",
    "\n",
    "* On the other hand one can interpret the relative shortness of appropriate question as reflecting more concise and clearly stated questions. "
   ]
  },
  {
   "cell_type": "markdown",
   "metadata": {},
   "source": [
    "### Comparison of Word Frequency By Class"
   ]
  },
  {
   "cell_type": "code",
   "execution_count": 11,
   "metadata": {},
   "outputs": [
    {
     "data": {
      "text/html": [
       "\n",
       "\n",
       "\n",
       "\n",
       "\n",
       "\n",
       "  <div class=\"bk-root\" id=\"4a3c14da-0027-4e2d-8d47-56200be88726\" data-root-id=\"1138\"></div>\n"
      ]
     },
     "metadata": {},
     "output_type": "display_data"
    },
    {
     "data": {
      "application/javascript": [
       "(function(root) {\n",
       "  function embed_document(root) {\n",
       "    \n",
       "  var docs_json = {\"0d255eb7-7929-4460-b9fe-7d2e251f6430\":{\"roots\":{\"references\":[{\"attributes\":{\"below\":[{\"id\":\"1149\",\"type\":\"CategoricalAxis\"}],\"center\":[{\"id\":\"1152\",\"type\":\"Grid\"},{\"id\":\"1157\",\"type\":\"Grid\"}],\"left\":[{\"id\":\"1153\",\"type\":\"LinearAxis\"}],\"plot_height\":300,\"plot_width\":750,\"renderers\":[{\"id\":\"1185\",\"type\":\"GlyphRenderer\"}],\"title\":{\"id\":\"1139\",\"type\":\"Title\"},\"toolbar\":{\"id\":\"1158\",\"type\":\"Toolbar\"},\"x_range\":{\"id\":\"1141\",\"type\":\"FactorRange\"},\"x_scale\":{\"id\":\"1145\",\"type\":\"CategoricalScale\"},\"y_range\":{\"id\":\"1143\",\"type\":\"DataRange1d\"},\"y_scale\":{\"id\":\"1147\",\"type\":\"LinearScale\"}},\"id\":\"1138\",\"subtype\":\"Figure\",\"type\":\"Plot\"},{\"attributes\":{\"fill_alpha\":{\"value\":0.1},\"fill_color\":{\"value\":\"#1f77b4\"},\"line_alpha\":{\"value\":0.1},\"line_color\":{\"value\":\"#1f77b4\"},\"top\":{\"field\":\"neg_vocab_freq\"},\"width\":{\"value\":0.9},\"x\":{\"field\":\"neg_vocab_words\"}},\"id\":\"1184\",\"type\":\"VBar\"},{\"attributes\":{\"source\":{\"id\":\"1135\",\"type\":\"ColumnDataSource\"}},\"id\":\"1186\",\"type\":\"CDSView\"},{\"attributes\":{\"data_source\":{\"id\":\"1135\",\"type\":\"ColumnDataSource\"},\"glyph\":{\"id\":\"1183\",\"type\":\"VBar\"},\"hover_glyph\":null,\"muted_glyph\":null,\"nonselection_glyph\":{\"id\":\"1184\",\"type\":\"VBar\"},\"selection_glyph\":null,\"view\":{\"id\":\"1186\",\"type\":\"CDSView\"}},\"id\":\"1185\",\"type\":\"GlyphRenderer\"},{\"attributes\":{\"text\":\"Appropriate Question Unigram Frequency\"},\"id\":\"1139\",\"type\":\"Title\"},{\"attributes\":{},\"id\":\"1208\",\"type\":\"UnionRenderers\"},{\"attributes\":{},\"id\":\"1154\",\"type\":\"BasicTicker\"},{\"attributes\":{\"dimension\":1,\"ticker\":{\"id\":\"1154\",\"type\":\"BasicTicker\"}},\"id\":\"1157\",\"type\":\"Grid\"},{\"attributes\":{\"active_drag\":\"auto\",\"active_inspect\":\"auto\",\"active_multi\":null,\"active_scroll\":\"auto\",\"active_tap\":\"auto\",\"tools\":[{\"id\":\"1136\",\"type\":\"HoverTool\"}]},\"id\":\"1158\",\"type\":\"Toolbar\"},{\"attributes\":{\"formatter\":{\"id\":\"1205\",\"type\":\"BasicTickFormatter\"},\"ticker\":{\"id\":\"1154\",\"type\":\"BasicTicker\"}},\"id\":\"1153\",\"type\":\"LinearAxis\"},{\"attributes\":{},\"id\":\"1203\",\"type\":\"CategoricalTickFormatter\"},{\"attributes\":{\"formatter\":{\"id\":\"1203\",\"type\":\"CategoricalTickFormatter\"},\"major_label_orientation\":1,\"ticker\":{\"id\":\"1150\",\"type\":\"CategoricalTicker\"}},\"id\":\"1149\",\"type\":\"CategoricalAxis\"},{\"attributes\":{},\"id\":\"1150\",\"type\":\"CategoricalTicker\"},{\"attributes\":{\"grid_line_color\":null,\"ticker\":{\"id\":\"1150\",\"type\":\"CategoricalTicker\"}},\"id\":\"1152\",\"type\":\"Grid\"},{\"attributes\":{},\"id\":\"1205\",\"type\":\"BasicTickFormatter\"},{\"attributes\":{},\"id\":\"1147\",\"type\":\"LinearScale\"},{\"attributes\":{},\"id\":\"1145\",\"type\":\"CategoricalScale\"},{\"attributes\":{\"callback\":null,\"data\":{\"neg_vocab_freq\":[0.024718853969039566,0.02284912975336138,0.02139184470290632,0.019838323847232532,0.019618356292446865,0.017198713189804503,0.01629134702631362,0.015067777502818335,0.012868101954961643,0.012785614121917017,0.012771866149742912,0.011163353405372707,0.010778410184497787,0.009307377161868625,0.007547636723583271,0.006791498254007534,0.005485440897467624,0.005485440897467624,0.00496301795485166,0.004908026066155242,0.004894278093981138,0.004756798372240094,0.00474305040006599,0.004619318650499051,0.0045643267618026345,0.0038906761252715224,0.003821936264401001,0.003711952487008166,0.003656960598311749,0.0034507410157001844,0.0033820011548296625,0.003313261293959141,0.0031620336000439935,0.003065797794825263,0.0030245538783029505,0.0030245538783029505,0.0029833099617806373,0.0029833099617806373,0.0027358464626467596,0.002543374852209299,0.002488382963512882,0.002488382963512882,0.0024746349913387774,0.0024333910748164647,0.0022271714922048997,0.0022134235200307953,0.0021721796035084825],\"neg_vocab_words\":[\"what\",\"is\",\"a\",\"in\",\"to\",\"of\",\"i\",\"how\",\"are\",\"and\",\"do\",\"for\",\"you\",\"can\",\"why\",\"it\",\"that\",\"my\",\"does\",\"on\",\"with\",\"if\",\"have\",\"or\",\"be\",\"from\",\"best\",\"which\",\"your\",\"get\",\"DG\",\"should\",\"would\",\"an\",\"when\",\"some\",\"as\",\"DGDG\",\"there\",\"at\",\"who\",\"people\",\"like\",\"will\",\"was\",\"not\",\"by\"],\"pos_vocab_freq\":[0.02323164771850404,0.022799526724625752,0.01834456504964247,0.017346571325685477,0.01687329595143783,0.01589587941766552,0.015741550491280416,0.014867019908431504,0.013426616595503885,0.010484078399094604,0.00880703739904316,0.008570399711919337,0.007665003343793405,0.007016821852975976,0.006934513092237255,0.006214311435773445,0.006152579865219404,0.006142291270127064,0.006101136889757703,0.006008539533926643,0.005679304490971758,0.005247183497093472,0.0052368949020011315,0.005226606306908792,0.00510314316580071,0.004815062503215186,0.004753330932661145,0.004619579196460723,0.004218323987859458,0.003950820515458614,0.003930243325273934,0.0038993775399969134,0.0036010082823190494,0.003487833736303308,0.0034672565461186275,0.003364370595195226,0.003292350429548845,0.0031585986933484233,0.0031071557178867226,0.0030968671227943824,0.0030968671227943824,0.0028087864602088586,0.002705900509285457,0.0026647461289160965,0.002623591748546736,0.0026030145583620557,0.0025927259632697154],\"pos_vocab_words\":[\"why\",\"to\",\"and\",\"is\",\"a\",\"do\",\"of\",\"are\",\"in\",\"that\",\"it\",\"people\",\"they\",\"i\",\"for\",\"you\",\"so\",\"have\",\"with\",\"how\",\"their\",\"be\",\"on\",\"what\",\"if\",\"as\",\"or\",\"not\",\"when\",\"like\",\"can\",\"trump\",\"does\",\"who\",\"about\",\"women\",\"by\",\"my\",\"all\",\"will\",\"from\",\"dont\",\"think\",\"would\",\"an\",\"did\",\"muslims\"]},\"selected\":{\"id\":\"1207\",\"type\":\"Selection\"},\"selection_policy\":{\"id\":\"1208\",\"type\":\"UnionRenderers\"}},\"id\":\"1135\",\"type\":\"ColumnDataSource\"},{\"attributes\":{\"callback\":null,\"factors\":[\"what\",\"is\",\"a\",\"in\",\"to\",\"of\",\"i\",\"how\",\"are\",\"and\",\"do\",\"for\",\"you\",\"can\",\"why\",\"it\",\"that\",\"my\",\"does\",\"on\",\"with\",\"if\",\"have\",\"or\",\"be\",\"from\",\"best\",\"which\",\"your\",\"get\",\"DG\",\"should\",\"would\",\"an\",\"when\",\"some\",\"as\",\"DGDG\",\"there\",\"at\",\"who\",\"people\",\"like\",\"will\",\"was\",\"not\",\"by\"]},\"id\":\"1141\",\"type\":\"FactorRange\"},{\"attributes\":{\"callback\":null},\"id\":\"1143\",\"type\":\"DataRange1d\"},{\"attributes\":{\"callback\":null,\"tooltips\":[[\"Word\",\"$neg_vocab_words\"],[\"Freq\",\"$neg_vocab_freq\"]]},\"id\":\"1136\",\"type\":\"HoverTool\"},{\"attributes\":{\"fill_color\":{\"value\":\"#1f77b4\"},\"line_color\":{\"value\":\"#1f77b4\"},\"top\":{\"field\":\"neg_vocab_freq\"},\"width\":{\"value\":0.9},\"x\":{\"field\":\"neg_vocab_words\"}},\"id\":\"1183\",\"type\":\"VBar\"},{\"attributes\":{},\"id\":\"1207\",\"type\":\"Selection\"}],\"root_ids\":[\"1138\"]},\"title\":\"Bokeh Application\",\"version\":\"1.3.4\"}};\n",
       "  var render_items = [{\"docid\":\"0d255eb7-7929-4460-b9fe-7d2e251f6430\",\"roots\":{\"1138\":\"4a3c14da-0027-4e2d-8d47-56200be88726\"}}];\n",
       "  root.Bokeh.embed.embed_items_notebook(docs_json, render_items);\n",
       "\n",
       "  }\n",
       "  if (root.Bokeh !== undefined) {\n",
       "    embed_document(root);\n",
       "  } else {\n",
       "    var attempts = 0;\n",
       "    var timer = setInterval(function(root) {\n",
       "      if (root.Bokeh !== undefined) {\n",
       "        embed_document(root);\n",
       "        clearInterval(timer);\n",
       "      }\n",
       "      attempts++;\n",
       "      if (attempts > 100) {\n",
       "        console.log(\"Bokeh: ERROR: Unable to run BokehJS code because BokehJS library is missing\");\n",
       "        clearInterval(timer);\n",
       "      }\n",
       "    }, 10, root)\n",
       "  }\n",
       "})(window);"
      ],
      "application/vnd.bokehjs_exec.v0+json": ""
     },
     "metadata": {
      "application/vnd.bokehjs_exec.v0+json": {
       "id": "1138"
      }
     },
     "output_type": "display_data"
    },
    {
     "data": {
      "text/html": [
       "\n",
       "\n",
       "\n",
       "\n",
       "\n",
       "\n",
       "  <div class=\"bk-root\" id=\"20c30968-cb60-4c9e-953b-30d43913fee4\" data-root-id=\"1160\"></div>\n"
      ]
     },
     "metadata": {},
     "output_type": "display_data"
    },
    {
     "data": {
      "application/javascript": [
       "(function(root) {\n",
       "  function embed_document(root) {\n",
       "    \n",
       "  var docs_json = {\"5d3b1589-f6fd-4f89-83c3-922f6b71bf85\":{\"roots\":{\"references\":[{\"attributes\":{\"below\":[{\"id\":\"1171\",\"type\":\"CategoricalAxis\"}],\"center\":[{\"id\":\"1174\",\"type\":\"Grid\"},{\"id\":\"1179\",\"type\":\"Grid\"}],\"left\":[{\"id\":\"1175\",\"type\":\"LinearAxis\"}],\"plot_height\":300,\"plot_width\":750,\"renderers\":[{\"id\":\"1190\",\"type\":\"GlyphRenderer\"}],\"title\":{\"id\":\"1161\",\"type\":\"Title\"},\"toolbar\":{\"id\":\"1180\",\"type\":\"Toolbar\"},\"x_range\":{\"id\":\"1163\",\"type\":\"FactorRange\"},\"x_scale\":{\"id\":\"1167\",\"type\":\"CategoricalScale\"},\"y_range\":{\"id\":\"1165\",\"type\":\"DataRange1d\"},\"y_scale\":{\"id\":\"1169\",\"type\":\"LinearScale\"}},\"id\":\"1160\",\"subtype\":\"Figure\",\"type\":\"Plot\"},{\"attributes\":{\"callback\":null,\"factors\":[\"why\",\"to\",\"and\",\"is\",\"a\",\"do\",\"of\",\"are\",\"in\",\"that\",\"it\",\"people\",\"they\",\"i\",\"for\",\"you\",\"so\",\"have\",\"with\",\"how\",\"their\",\"be\",\"on\",\"what\",\"if\",\"as\",\"or\",\"not\",\"when\",\"like\",\"can\",\"trump\",\"does\",\"who\",\"about\",\"women\",\"by\",\"my\",\"all\",\"will\",\"from\",\"dont\",\"think\",\"would\",\"an\",\"did\",\"muslims\"]},\"id\":\"1163\",\"type\":\"FactorRange\"},{\"attributes\":{\"callback\":null,\"tooltips\":[[\"Word\",\"$pos_vocab_words\"],[\"Freq\",\"$pos_vocab_freq\"]]},\"id\":\"1137\",\"type\":\"HoverTool\"},{\"attributes\":{\"active_drag\":\"auto\",\"active_inspect\":\"auto\",\"active_multi\":null,\"active_scroll\":\"auto\",\"active_tap\":\"auto\",\"tools\":[{\"id\":\"1137\",\"type\":\"HoverTool\"}]},\"id\":\"1180\",\"type\":\"Toolbar\"},{\"attributes\":{},\"id\":\"1208\",\"type\":\"UnionRenderers\"},{\"attributes\":{\"data_source\":{\"id\":\"1135\",\"type\":\"ColumnDataSource\"},\"glyph\":{\"id\":\"1188\",\"type\":\"VBar\"},\"hover_glyph\":null,\"muted_glyph\":null,\"nonselection_glyph\":{\"id\":\"1189\",\"type\":\"VBar\"},\"selection_glyph\":null,\"view\":{\"id\":\"1191\",\"type\":\"CDSView\"}},\"id\":\"1190\",\"type\":\"GlyphRenderer\"},{\"attributes\":{\"fill_alpha\":{\"value\":0.1},\"fill_color\":{\"value\":\"#1f77b4\"},\"line_alpha\":{\"value\":0.1},\"line_color\":{\"value\":\"#1f77b4\"},\"top\":{\"field\":\"pos_vocab_freq\"},\"width\":{\"value\":0.9},\"x\":{\"field\":\"pos_vocab_words\"}},\"id\":\"1189\",\"type\":\"VBar\"},{\"attributes\":{},\"id\":\"1207\",\"type\":\"Selection\"},{\"attributes\":{\"fill_color\":{\"value\":\"#1f77b4\"},\"line_color\":{\"value\":\"#1f77b4\"},\"top\":{\"field\":\"pos_vocab_freq\"},\"width\":{\"value\":0.9},\"x\":{\"field\":\"pos_vocab_words\"}},\"id\":\"1188\",\"type\":\"VBar\"},{\"attributes\":{\"callback\":null},\"id\":\"1165\",\"type\":\"DataRange1d\"},{\"attributes\":{},\"id\":\"1271\",\"type\":\"BasicTickFormatter\"},{\"attributes\":{\"source\":{\"id\":\"1135\",\"type\":\"ColumnDataSource\"}},\"id\":\"1191\",\"type\":\"CDSView\"},{\"attributes\":{},\"id\":\"1169\",\"type\":\"LinearScale\"},{\"attributes\":{},\"id\":\"1269\",\"type\":\"CategoricalTickFormatter\"},{\"attributes\":{},\"id\":\"1167\",\"type\":\"CategoricalScale\"},{\"attributes\":{\"text\":\"Inappropriate Question Unigram Frequency\"},\"id\":\"1161\",\"type\":\"Title\"},{\"attributes\":{\"formatter\":{\"id\":\"1269\",\"type\":\"CategoricalTickFormatter\"},\"major_label_orientation\":1,\"ticker\":{\"id\":\"1172\",\"type\":\"CategoricalTicker\"}},\"id\":\"1171\",\"type\":\"CategoricalAxis\"},{\"attributes\":{\"dimension\":1,\"ticker\":{\"id\":\"1176\",\"type\":\"BasicTicker\"}},\"id\":\"1179\",\"type\":\"Grid\"},{\"attributes\":{\"callback\":null,\"data\":{\"neg_vocab_freq\":[0.024718853969039566,0.02284912975336138,0.02139184470290632,0.019838323847232532,0.019618356292446865,0.017198713189804503,0.01629134702631362,0.015067777502818335,0.012868101954961643,0.012785614121917017,0.012771866149742912,0.011163353405372707,0.010778410184497787,0.009307377161868625,0.007547636723583271,0.006791498254007534,0.005485440897467624,0.005485440897467624,0.00496301795485166,0.004908026066155242,0.004894278093981138,0.004756798372240094,0.00474305040006599,0.004619318650499051,0.0045643267618026345,0.0038906761252715224,0.003821936264401001,0.003711952487008166,0.003656960598311749,0.0034507410157001844,0.0033820011548296625,0.003313261293959141,0.0031620336000439935,0.003065797794825263,0.0030245538783029505,0.0030245538783029505,0.0029833099617806373,0.0029833099617806373,0.0027358464626467596,0.002543374852209299,0.002488382963512882,0.002488382963512882,0.0024746349913387774,0.0024333910748164647,0.0022271714922048997,0.0022134235200307953,0.0021721796035084825],\"neg_vocab_words\":[\"what\",\"is\",\"a\",\"in\",\"to\",\"of\",\"i\",\"how\",\"are\",\"and\",\"do\",\"for\",\"you\",\"can\",\"why\",\"it\",\"that\",\"my\",\"does\",\"on\",\"with\",\"if\",\"have\",\"or\",\"be\",\"from\",\"best\",\"which\",\"your\",\"get\",\"DG\",\"should\",\"would\",\"an\",\"when\",\"some\",\"as\",\"DGDG\",\"there\",\"at\",\"who\",\"people\",\"like\",\"will\",\"was\",\"not\",\"by\"],\"pos_vocab_freq\":[0.02323164771850404,0.022799526724625752,0.01834456504964247,0.017346571325685477,0.01687329595143783,0.01589587941766552,0.015741550491280416,0.014867019908431504,0.013426616595503885,0.010484078399094604,0.00880703739904316,0.008570399711919337,0.007665003343793405,0.007016821852975976,0.006934513092237255,0.006214311435773445,0.006152579865219404,0.006142291270127064,0.006101136889757703,0.006008539533926643,0.005679304490971758,0.005247183497093472,0.0052368949020011315,0.005226606306908792,0.00510314316580071,0.004815062503215186,0.004753330932661145,0.004619579196460723,0.004218323987859458,0.003950820515458614,0.003930243325273934,0.0038993775399969134,0.0036010082823190494,0.003487833736303308,0.0034672565461186275,0.003364370595195226,0.003292350429548845,0.0031585986933484233,0.0031071557178867226,0.0030968671227943824,0.0030968671227943824,0.0028087864602088586,0.002705900509285457,0.0026647461289160965,0.002623591748546736,0.0026030145583620557,0.0025927259632697154],\"pos_vocab_words\":[\"why\",\"to\",\"and\",\"is\",\"a\",\"do\",\"of\",\"are\",\"in\",\"that\",\"it\",\"people\",\"they\",\"i\",\"for\",\"you\",\"so\",\"have\",\"with\",\"how\",\"their\",\"be\",\"on\",\"what\",\"if\",\"as\",\"or\",\"not\",\"when\",\"like\",\"can\",\"trump\",\"does\",\"who\",\"about\",\"women\",\"by\",\"my\",\"all\",\"will\",\"from\",\"dont\",\"think\",\"would\",\"an\",\"did\",\"muslims\"]},\"selected\":{\"id\":\"1207\",\"type\":\"Selection\"},\"selection_policy\":{\"id\":\"1208\",\"type\":\"UnionRenderers\"}},\"id\":\"1135\",\"type\":\"ColumnDataSource\"},{\"attributes\":{},\"id\":\"1176\",\"type\":\"BasicTicker\"},{\"attributes\":{\"formatter\":{\"id\":\"1271\",\"type\":\"BasicTickFormatter\"},\"ticker\":{\"id\":\"1176\",\"type\":\"BasicTicker\"}},\"id\":\"1175\",\"type\":\"LinearAxis\"},{\"attributes\":{\"grid_line_color\":null,\"ticker\":{\"id\":\"1172\",\"type\":\"CategoricalTicker\"}},\"id\":\"1174\",\"type\":\"Grid\"},{\"attributes\":{},\"id\":\"1172\",\"type\":\"CategoricalTicker\"}],\"root_ids\":[\"1160\"]},\"title\":\"Bokeh Application\",\"version\":\"1.3.4\"}};\n",
       "  var render_items = [{\"docid\":\"5d3b1589-f6fd-4f89-83c3-922f6b71bf85\",\"roots\":{\"1160\":\"20c30968-cb60-4c9e-953b-30d43913fee4\"}}];\n",
       "  root.Bokeh.embed.embed_items_notebook(docs_json, render_items);\n",
       "\n",
       "  }\n",
       "  if (root.Bokeh !== undefined) {\n",
       "    embed_document(root);\n",
       "  } else {\n",
       "    var attempts = 0;\n",
       "    var timer = setInterval(function(root) {\n",
       "      if (root.Bokeh !== undefined) {\n",
       "        embed_document(root);\n",
       "        clearInterval(timer);\n",
       "      }\n",
       "      attempts++;\n",
       "      if (attempts > 100) {\n",
       "        console.log(\"Bokeh: ERROR: Unable to run BokehJS code because BokehJS library is missing\");\n",
       "        clearInterval(timer);\n",
       "      }\n",
       "    }, 10, root)\n",
       "  }\n",
       "})(window);"
      ],
      "application/vnd.bokehjs_exec.v0+json": ""
     },
     "metadata": {
      "application/vnd.bokehjs_exec.v0+json": {
       "id": "1160"
      }
     },
     "output_type": "display_data"
    }
   ],
   "source": [
    "comments.word_frequency_graphs(min_rank=3,max_rank=50)"
   ]
  },
  {
   "cell_type": "code",
   "execution_count": 12,
   "metadata": {},
   "outputs": [
    {
     "data": {
      "text/html": [
       "\n",
       "\n",
       "\n",
       "\n",
       "\n",
       "\n",
       "  <div class=\"bk-root\" id=\"ae8ee81c-276f-4154-be8a-476f51a45641\" data-root-id=\"1317\"></div>\n"
      ]
     },
     "metadata": {},
     "output_type": "display_data"
    },
    {
     "data": {
      "application/javascript": [
       "(function(root) {\n",
       "  function embed_document(root) {\n",
       "    \n",
       "  var docs_json = {\"c384fa80-095a-4ba7-9c16-dd4639d7b5cd\":{\"roots\":{\"references\":[{\"attributes\":{\"below\":[{\"id\":\"1328\",\"type\":\"CategoricalAxis\"}],\"center\":[{\"id\":\"1331\",\"type\":\"Grid\"},{\"id\":\"1336\",\"type\":\"Grid\"}],\"left\":[{\"id\":\"1332\",\"type\":\"LinearAxis\"}],\"plot_height\":300,\"plot_width\":750,\"renderers\":[{\"id\":\"1353\",\"type\":\"GlyphRenderer\"}],\"title\":{\"id\":\"1318\",\"type\":\"Title\"},\"toolbar\":{\"id\":\"1343\",\"type\":\"Toolbar\"},\"x_range\":{\"id\":\"1320\",\"type\":\"FactorRange\"},\"x_scale\":{\"id\":\"1324\",\"type\":\"CategoricalScale\"},\"y_range\":{\"id\":\"1322\",\"type\":\"DataRange1d\"},\"y_scale\":{\"id\":\"1326\",\"type\":\"LinearScale\"}},\"id\":\"1317\",\"subtype\":\"Figure\",\"type\":\"Plot\"},{\"attributes\":{},\"id\":\"1342\",\"type\":\"HelpTool\"},{\"attributes\":{\"active_drag\":\"auto\",\"active_inspect\":\"auto\",\"active_multi\":null,\"active_scroll\":\"auto\",\"active_tap\":\"auto\",\"tools\":[{\"id\":\"1337\",\"type\":\"PanTool\"},{\"id\":\"1338\",\"type\":\"WheelZoomTool\"},{\"id\":\"1339\",\"type\":\"BoxZoomTool\"},{\"id\":\"1340\",\"type\":\"SaveTool\"},{\"id\":\"1341\",\"type\":\"ResetTool\"},{\"id\":\"1342\",\"type\":\"HelpTool\"}]},\"id\":\"1343\",\"type\":\"Toolbar\"},{\"attributes\":{\"data_source\":{\"id\":\"1350\",\"type\":\"ColumnDataSource\"},\"glyph\":{\"id\":\"1351\",\"type\":\"VBar\"},\"hover_glyph\":null,\"muted_glyph\":null,\"nonselection_glyph\":{\"id\":\"1352\",\"type\":\"VBar\"},\"selection_glyph\":null,\"view\":{\"id\":\"1354\",\"type\":\"CDSView\"}},\"id\":\"1353\",\"type\":\"GlyphRenderer\"},{\"attributes\":{\"fill_color\":{\"value\":\"#1f77b4\"},\"line_color\":{\"value\":\"#1f77b4\"},\"top\":{\"field\":\"top\"},\"width\":{\"value\":0.9},\"x\":{\"field\":\"x\"}},\"id\":\"1351\",\"type\":\"VBar\"},{\"attributes\":{\"source\":{\"id\":\"1350\",\"type\":\"ColumnDataSource\"}},\"id\":\"1354\",\"type\":\"CDSView\"},{\"attributes\":{},\"id\":\"1333\",\"type\":\"BasicTicker\"},{\"attributes\":{\"text\":\"Unigram Frequency Difference: (Appropriate Frequency - Inappropriate Frequency)\"},\"id\":\"1318\",\"type\":\"Title\"},{\"attributes\":{},\"id\":\"1380\",\"type\":\"CategoricalTickFormatter\"},{\"attributes\":{\"callback\":null,\"data\":{\"top\":[0.019492247662130775,0.017296885408820892,0.017296885408820892,0.009274525173337643,0.009059237968891692,0.0064117072517286475,0.005502558427675903,0.005377133836594691,0.004564098748724342,0.004518548751468489,-0.003124013267922606,-0.003181170432178887,-0.003583174179992514,-0.004057043774427448,-0.0046677988704161375,-0.00499863750162698,-0.005558950927725454,-0.006082016748406456,-0.006125230460293721,-0.01568401099492077],\"x\":[\"what\",\"</s>\",\"<s>\",\"i\",\"how\",\"in\",\"is\",\"can\",\"you\",\"a\",\"do\",\"to\",\"trump\",\"their\",\"so\",\"that\",\"and\",\"people\",\"they\",\"why\"]},\"selected\":{\"id\":\"1384\",\"type\":\"Selection\"},\"selection_policy\":{\"id\":\"1385\",\"type\":\"UnionRenderers\"}},\"id\":\"1350\",\"type\":\"ColumnDataSource\"},{\"attributes\":{},\"id\":\"1324\",\"type\":\"CategoricalScale\"},{\"attributes\":{},\"id\":\"1382\",\"type\":\"BasicTickFormatter\"},{\"attributes\":{\"formatter\":{\"id\":\"1382\",\"type\":\"BasicTickFormatter\"},\"ticker\":{\"id\":\"1333\",\"type\":\"BasicTicker\"}},\"id\":\"1332\",\"type\":\"LinearAxis\"},{\"attributes\":{},\"id\":\"1384\",\"type\":\"Selection\"},{\"attributes\":{},\"id\":\"1385\",\"type\":\"UnionRenderers\"},{\"attributes\":{\"dimension\":1,\"ticker\":{\"id\":\"1333\",\"type\":\"BasicTicker\"}},\"id\":\"1336\",\"type\":\"Grid\"},{\"attributes\":{},\"id\":\"1338\",\"type\":\"WheelZoomTool\"},{\"attributes\":{\"bottom_units\":\"screen\",\"fill_alpha\":{\"value\":0.5},\"fill_color\":{\"value\":\"lightgrey\"},\"left_units\":\"screen\",\"level\":\"overlay\",\"line_alpha\":{\"value\":1.0},\"line_color\":{\"value\":\"black\"},\"line_dash\":[4,4],\"line_width\":{\"value\":2},\"render_mode\":\"css\",\"right_units\":\"screen\",\"top_units\":\"screen\"},\"id\":\"1386\",\"type\":\"BoxAnnotation\"},{\"attributes\":{},\"id\":\"1340\",\"type\":\"SaveTool\"},{\"attributes\":{\"fill_alpha\":{\"value\":0.1},\"fill_color\":{\"value\":\"#1f77b4\"},\"line_alpha\":{\"value\":0.1},\"line_color\":{\"value\":\"#1f77b4\"},\"top\":{\"field\":\"top\"},\"width\":{\"value\":0.9},\"x\":{\"field\":\"x\"}},\"id\":\"1352\",\"type\":\"VBar\"},{\"attributes\":{\"callback\":null},\"id\":\"1322\",\"type\":\"DataRange1d\"},{\"attributes\":{\"formatter\":{\"id\":\"1380\",\"type\":\"CategoricalTickFormatter\"},\"major_label_orientation\":1,\"ticker\":{\"id\":\"1329\",\"type\":\"CategoricalTicker\"}},\"id\":\"1328\",\"type\":\"CategoricalAxis\"},{\"attributes\":{},\"id\":\"1329\",\"type\":\"CategoricalTicker\"},{\"attributes\":{\"overlay\":{\"id\":\"1386\",\"type\":\"BoxAnnotation\"}},\"id\":\"1339\",\"type\":\"BoxZoomTool\"},{\"attributes\":{},\"id\":\"1326\",\"type\":\"LinearScale\"},{\"attributes\":{\"callback\":null,\"factors\":[\"what\",\"</s>\",\"<s>\",\"i\",\"how\",\"in\",\"is\",\"can\",\"you\",\"a\",\"do\",\"to\",\"trump\",\"their\",\"so\",\"that\",\"and\",\"people\",\"they\",\"why\"]},\"id\":\"1320\",\"type\":\"FactorRange\"},{\"attributes\":{},\"id\":\"1341\",\"type\":\"ResetTool\"},{\"attributes\":{},\"id\":\"1337\",\"type\":\"PanTool\"},{\"attributes\":{\"grid_line_color\":null,\"ticker\":{\"id\":\"1329\",\"type\":\"CategoricalTicker\"}},\"id\":\"1331\",\"type\":\"Grid\"}],\"root_ids\":[\"1317\"]},\"title\":\"Bokeh Application\",\"version\":\"1.3.4\"}};\n",
       "  var render_items = [{\"docid\":\"c384fa80-095a-4ba7-9c16-dd4639d7b5cd\",\"roots\":{\"1317\":\"ae8ee81c-276f-4154-be8a-476f51a45641\"}}];\n",
       "  root.Bokeh.embed.embed_items_notebook(docs_json, render_items);\n",
       "\n",
       "  }\n",
       "  if (root.Bokeh !== undefined) {\n",
       "    embed_document(root);\n",
       "  } else {\n",
       "    var attempts = 0;\n",
       "    var timer = setInterval(function(root) {\n",
       "      if (root.Bokeh !== undefined) {\n",
       "        embed_document(root);\n",
       "        clearInterval(timer);\n",
       "      }\n",
       "      attempts++;\n",
       "      if (attempts > 100) {\n",
       "        console.log(\"Bokeh: ERROR: Unable to run BokehJS code because BokehJS library is missing\");\n",
       "        clearInterval(timer);\n",
       "      }\n",
       "    }, 10, root)\n",
       "  }\n",
       "})(window);"
      ],
      "application/vnd.bokehjs_exec.v0+json": ""
     },
     "metadata": {
      "application/vnd.bokehjs_exec.v0+json": {
       "id": "1317"
      }
     },
     "output_type": "display_data"
    }
   ],
   "source": [
    "comments.word_count_difference_graph(20)"
   ]
  },
  {
   "cell_type": "markdown",
   "metadata": {},
   "source": [
    "#### Comments\n",
    "\n",
    "* The preceeding graphs show the differneces in word frequency between classes.\n",
    "\n",
    "* One thing that the last graph shows, which one should expect, is the higher frequency ,in the inappropriate class, of words that that are either polarizing e.g. 'trump' or are groups who are often subject to claims of supremacy or inferiority depending on the prejudices of the asker e.g. 'white', 'men', 'women', 'muslims'.\n",
    "\n",
    "* One interesting unexpected result is the difference in the frequency of different interogative words used in the different classes of questions e.g. 'what', 'how', and 'which' are more frequent in the appropriate class, while interogative word 'why' is far more likely in the innappropriate class. \n",
    "\n",
    "* Perhaps the increased use of 'why' in the innapropriate class is due to the ease at which one can disguise a statement of a dubious, non-factual nature as a why question. For example the question 'why are aliens manging my local dairy queen?' presents the premise, that aliens are managing a dairy queen somewhere, as fact and implicitly requires the reader to accept the premise in order to respond directly to it. Note that questions like, 'which of my local dairy queens is managed by aliens', 'how can my local dairy queen be managed by aliens', and 'does/can my local dairy queen be managed by aliens' do not require the answerer to accept the premise in order to respond. "
   ]
  },
  {
   "cell_type": "code",
   "execution_count": 13,
   "metadata": {},
   "outputs": [
    {
     "data": {
      "text/html": [
       "\n",
       "\n",
       "\n",
       "\n",
       "\n",
       "\n",
       "  <div class=\"bk-root\" id=\"0f4b254a-5bdd-48c6-a49a-997866e52570\" data-root-id=\"1438\"></div>\n"
      ]
     },
     "metadata": {},
     "output_type": "display_data"
    },
    {
     "data": {
      "application/javascript": [
       "(function(root) {\n",
       "  function embed_document(root) {\n",
       "    \n",
       "  var docs_json = {\"af40b921-524f-40d0-88ae-d669ab9ac71e\":{\"roots\":{\"references\":[{\"attributes\":{\"below\":[{\"id\":\"1449\",\"type\":\"CategoricalAxis\"}],\"center\":[{\"id\":\"1452\",\"type\":\"Grid\"},{\"id\":\"1457\",\"type\":\"Grid\"}],\"left\":[{\"id\":\"1453\",\"type\":\"LinearAxis\"}],\"plot_height\":300,\"plot_width\":750,\"renderers\":[{\"id\":\"1485\",\"type\":\"GlyphRenderer\"}],\"title\":{\"id\":\"1439\",\"type\":\"Title\"},\"toolbar\":{\"id\":\"1458\",\"type\":\"Toolbar\"},\"x_range\":{\"id\":\"1441\",\"type\":\"FactorRange\"},\"x_scale\":{\"id\":\"1445\",\"type\":\"CategoricalScale\"},\"y_range\":{\"id\":\"1443\",\"type\":\"DataRange1d\"},\"y_scale\":{\"id\":\"1447\",\"type\":\"LinearScale\"}},\"id\":\"1438\",\"subtype\":\"Figure\",\"type\":\"Plot\"},{\"attributes\":{\"formatter\":{\"id\":\"1525\",\"type\":\"CategoricalTickFormatter\"},\"major_label_orientation\":1,\"ticker\":{\"id\":\"1450\",\"type\":\"CategoricalTicker\"}},\"id\":\"1449\",\"type\":\"CategoricalAxis\"},{\"attributes\":{},\"id\":\"1450\",\"type\":\"CategoricalTicker\"},{\"attributes\":{\"grid_line_color\":null,\"ticker\":{\"id\":\"1450\",\"type\":\"CategoricalTicker\"}},\"id\":\"1452\",\"type\":\"Grid\"},{\"attributes\":{\"fill_color\":{\"value\":\"#1f77b4\"},\"line_color\":{\"value\":\"#1f77b4\"},\"top\":{\"field\":\"neg_vocab_freq\"},\"width\":{\"value\":0.9},\"x\":{\"field\":\"neg_vocab_words\"}},\"id\":\"1483\",\"type\":\"VBar\"},{\"attributes\":{\"formatter\":{\"id\":\"1527\",\"type\":\"BasicTickFormatter\"},\"ticker\":{\"id\":\"1454\",\"type\":\"BasicTicker\"}},\"id\":\"1453\",\"type\":\"LinearAxis\"},{\"attributes\":{\"fill_alpha\":{\"value\":0.1},\"fill_color\":{\"value\":\"#1f77b4\"},\"line_alpha\":{\"value\":0.1},\"line_color\":{\"value\":\"#1f77b4\"},\"top\":{\"field\":\"neg_vocab_freq\"},\"width\":{\"value\":0.9},\"x\":{\"field\":\"neg_vocab_words\"}},\"id\":\"1484\",\"type\":\"VBar\"},{\"attributes\":{},\"id\":\"1454\",\"type\":\"BasicTicker\"},{\"attributes\":{\"data_source\":{\"id\":\"1435\",\"type\":\"ColumnDataSource\"},\"glyph\":{\"id\":\"1483\",\"type\":\"VBar\"},\"hover_glyph\":null,\"muted_glyph\":null,\"nonselection_glyph\":{\"id\":\"1484\",\"type\":\"VBar\"},\"selection_glyph\":null,\"view\":{\"id\":\"1486\",\"type\":\"CDSView\"}},\"id\":\"1485\",\"type\":\"GlyphRenderer\"},{\"attributes\":{\"dimension\":1,\"ticker\":{\"id\":\"1454\",\"type\":\"BasicTicker\"}},\"id\":\"1457\",\"type\":\"Grid\"},{\"attributes\":{\"source\":{\"id\":\"1435\",\"type\":\"ColumnDataSource\"}},\"id\":\"1486\",\"type\":\"CDSView\"},{\"attributes\":{\"active_drag\":\"auto\",\"active_inspect\":\"auto\",\"active_multi\":null,\"active_scroll\":\"auto\",\"active_tap\":\"auto\",\"tools\":[{\"id\":\"1436\",\"type\":\"HoverTool\"}]},\"id\":\"1458\",\"type\":\"Toolbar\"},{\"attributes\":{},\"id\":\"1530\",\"type\":\"UnionRenderers\"},{\"attributes\":{},\"id\":\"1529\",\"type\":\"Selection\"},{\"attributes\":{\"callback\":null,\"tooltips\":[[\"Word\",\"$neg_vocab_words\"],[\"Freq\",\"$neg_vocab_freq\"]]},\"id\":\"1436\",\"type\":\"HoverTool\"},{\"attributes\":{},\"id\":\"1525\",\"type\":\"CategoricalTickFormatter\"},{\"attributes\":{},\"id\":\"1527\",\"type\":\"BasicTickFormatter\"},{\"attributes\":{\"text\":\"Appropriate Question Bigram Frequency\"},\"id\":\"1439\",\"type\":\"Title\"},{\"attributes\":{\"callback\":null,\"factors\":[\"is_the\",\"what_are\",\"<s>_why\",\"<s>_is\",\"are_the\",\"how_do\",\"can_i\",\"do_i\",\"do_you\",\"the_best\",\"how_can\",\"is_it\",\"<s>_can\",\"<s>_which\",\"in_the\",\"of_the\",\"are_some\",\"<s>_do\",\"why_do\",\"should_i\",\"<s>_if\",\"in_a\",\"<s>_are\",\"i_get\",\"<s>_where\",\"for_a\",\"why_is\",\"is_there\",\"_</s>\",\"what_do\",\"to_be\",\"<s>_who\",\"the_most\",\"what_does\",\"would_you\",\"<s>_i\",\"of_a\",\"is_a\",\"i_do\",\"<s>_does\",\"what_should\",\"as_a\",\"why_does\",\"can_you\",\"how_much\",\"which_is\",\"how_does\"]},\"id\":\"1441\",\"type\":\"FactorRange\"},{\"attributes\":{\"callback\":null},\"id\":\"1443\",\"type\":\"DataRange1d\"},{\"attributes\":{},\"id\":\"1445\",\"type\":\"CategoricalScale\"},{\"attributes\":{},\"id\":\"1447\",\"type\":\"LinearScale\"},{\"attributes\":{\"callback\":null,\"data\":{\"neg_vocab_freq\":[0.007351855679234698,0.007337092916826596,0.006672768608462015,0.005373645516549057,0.004635507396143966,0.0045321680592872535,0.004443591484838643,0.003454486403495822,0.0033659098290472114,0.0032920960170067025,0.003247807729782397,0.00302636629366087,0.0029673152440284627,0.002834450382355546,0.0027606365703150373,0.0026130089462340195,0.002480144084561103,0.0020815494995423543,0.00196344740027754,0.0019339218754613364,0.0015500900528506894,0.0015353272904425877,0.0014762762408101805,0.001417225191177773,0.0014024624287696714,0.0014024624287696714,0.0013138858543210606,0.0012991230919129587,0.001284360329504857,0.0012548348046886534,0.0012253092798724498,0.0011072071806076352,0.0010776816557914316,0.0010776816557914316,0.0010776816557914316,0.001048156130975228,0.0010333933685671263,0.0010333933685671263,0.0010333933685671263,0.0010038678437509227,0.0010038678437509227,0.000974342318934719,0.000974342318934719,0.000974342318934719,0.0009448167941185154,0.0009448167941185154,0.0009300540317104136],\"neg_vocab_words\":[\"is_the\",\"what_are\",\"<s>_why\",\"<s>_is\",\"are_the\",\"how_do\",\"can_i\",\"do_i\",\"do_you\",\"the_best\",\"how_can\",\"is_it\",\"<s>_can\",\"<s>_which\",\"in_the\",\"of_the\",\"are_some\",\"<s>_do\",\"why_do\",\"should_i\",\"<s>_if\",\"in_a\",\"<s>_are\",\"i_get\",\"<s>_where\",\"for_a\",\"why_is\",\"is_there\",\"_</s>\",\"what_do\",\"to_be\",\"<s>_who\",\"the_most\",\"what_does\",\"would_you\",\"<s>_i\",\"of_a\",\"is_a\",\"i_do\",\"<s>_does\",\"what_should\",\"as_a\",\"why_does\",\"can_you\",\"how_much\",\"which_is\",\"how_does\"],\"pos_vocab_freq\":[0.004349476652746895,0.004208471175226422,0.003752915017083356,0.0033949780356852324,0.0032322794077769943,0.0031563533814198165,0.003047887629480991,0.002917728727154401,0.0025055588697868647,0.0019957698356743857,0.0019089972341233255,0.0017896849069906177,0.0017679917566028526,0.0013992082000108465,0.0013558218992353165,0.0012798958728781388,0.0012473561472964912,0.0012473561472964912,0.0012365095721026086,0.0011931232713270786,0.001182276696133196,0.0011605835457454308,0.0011171972449699008,0.0011171972449699008,0.001041271218612723,0.001019578068224958,0.0009978849178371928,0.0009870383426433104,0.0009870383426433104,0.0009761917674494279,0.0009761917674494279,0.0009653451922555453,0.0009544986170616627,0.0009544986170616627,0.0009436520418677802,0.0009328054666738978,0.0009219588914800152,0.0009002657410922501,0.0008677260155106025,0.0008351862899289549,0.0008243397147350724,0.0008134931395411899,0.0008134931395411899,0.0008026465643473073,0.0008026465643473073,0.0007917999891534248,0.0007701068387656598],\"pos_vocab_words\":[\"why_are\",\"<s>_is\",\"is_it\",\"<s>_what\",\"in_the\",\"<s>_do\",\"why_is\",\"of_the\",\"<s>_are\",\"is_the\",\"do_you\",\"to_be\",\"<s>_if\",\"why_does\",\"they_are\",\"why_dont\",\"how_do\",\"to_the\",\"_</s>\",\"how_can\",\"want_to\",\"are_the\",\"the_world\",\"what_is\",\"the_us\",\"is_a\",\"on_the\",\"as_a\",\"on_quora\",\"do_people\",\"that_the\",\"<s>_does\",\"<s>_can\",\"you_think\",\"why_did\",\"<s>_should\",\"people_</s>\",\"can_i\",\"do_they\",\"that_they\",\"<s>_when\",\"do_i\",\"and_the\",\"donald_trump\",\"have_a\",\"it_true\",\"in_india\"]},\"selected\":{\"id\":\"1529\",\"type\":\"Selection\"},\"selection_policy\":{\"id\":\"1530\",\"type\":\"UnionRenderers\"}},\"id\":\"1435\",\"type\":\"ColumnDataSource\"}],\"root_ids\":[\"1438\"]},\"title\":\"Bokeh Application\",\"version\":\"1.3.4\"}};\n",
       "  var render_items = [{\"docid\":\"af40b921-524f-40d0-88ae-d669ab9ac71e\",\"roots\":{\"1438\":\"0f4b254a-5bdd-48c6-a49a-997866e52570\"}}];\n",
       "  root.Bokeh.embed.embed_items_notebook(docs_json, render_items);\n",
       "\n",
       "  }\n",
       "  if (root.Bokeh !== undefined) {\n",
       "    embed_document(root);\n",
       "  } else {\n",
       "    var attempts = 0;\n",
       "    var timer = setInterval(function(root) {\n",
       "      if (root.Bokeh !== undefined) {\n",
       "        embed_document(root);\n",
       "        clearInterval(timer);\n",
       "      }\n",
       "      attempts++;\n",
       "      if (attempts > 100) {\n",
       "        console.log(\"Bokeh: ERROR: Unable to run BokehJS code because BokehJS library is missing\");\n",
       "        clearInterval(timer);\n",
       "      }\n",
       "    }, 10, root)\n",
       "  }\n",
       "})(window);"
      ],
      "application/vnd.bokehjs_exec.v0+json": ""
     },
     "metadata": {
      "application/vnd.bokehjs_exec.v0+json": {
       "id": "1438"
      }
     },
     "output_type": "display_data"
    },
    {
     "data": {
      "text/html": [
       "\n",
       "\n",
       "\n",
       "\n",
       "\n",
       "\n",
       "  <div class=\"bk-root\" id=\"300748ad-5cb4-4f47-a678-e5fcebc3300c\" data-root-id=\"1460\"></div>\n"
      ]
     },
     "metadata": {},
     "output_type": "display_data"
    },
    {
     "data": {
      "application/javascript": [
       "(function(root) {\n",
       "  function embed_document(root) {\n",
       "    \n",
       "  var docs_json = {\"2615ea78-15d7-4ad0-b2a5-51e42f76b471\":{\"roots\":{\"references\":[{\"attributes\":{\"below\":[{\"id\":\"1471\",\"type\":\"CategoricalAxis\"}],\"center\":[{\"id\":\"1474\",\"type\":\"Grid\"},{\"id\":\"1479\",\"type\":\"Grid\"}],\"left\":[{\"id\":\"1475\",\"type\":\"LinearAxis\"}],\"plot_height\":300,\"plot_width\":750,\"renderers\":[{\"id\":\"1490\",\"type\":\"GlyphRenderer\"}],\"title\":{\"id\":\"1461\",\"type\":\"Title\"},\"toolbar\":{\"id\":\"1480\",\"type\":\"Toolbar\"},\"x_range\":{\"id\":\"1463\",\"type\":\"FactorRange\"},\"x_scale\":{\"id\":\"1467\",\"type\":\"CategoricalScale\"},\"y_range\":{\"id\":\"1465\",\"type\":\"DataRange1d\"},\"y_scale\":{\"id\":\"1469\",\"type\":\"LinearScale\"}},\"id\":\"1460\",\"subtype\":\"Figure\",\"type\":\"Plot\"},{\"attributes\":{\"dimension\":1,\"ticker\":{\"id\":\"1476\",\"type\":\"BasicTicker\"}},\"id\":\"1479\",\"type\":\"Grid\"},{\"attributes\":{\"active_drag\":\"auto\",\"active_inspect\":\"auto\",\"active_multi\":null,\"active_scroll\":\"auto\",\"active_tap\":\"auto\",\"tools\":[{\"id\":\"1437\",\"type\":\"HoverTool\"}]},\"id\":\"1480\",\"type\":\"Toolbar\"},{\"attributes\":{},\"id\":\"1530\",\"type\":\"UnionRenderers\"},{\"attributes\":{},\"id\":\"1529\",\"type\":\"Selection\"},{\"attributes\":{\"fill_color\":{\"value\":\"#1f77b4\"},\"line_color\":{\"value\":\"#1f77b4\"},\"top\":{\"field\":\"pos_vocab_freq\"},\"width\":{\"value\":0.9},\"x\":{\"field\":\"pos_vocab_words\"}},\"id\":\"1488\",\"type\":\"VBar\"},{\"attributes\":{\"text\":\"Inappropriate Question Bigram Frequency\"},\"id\":\"1461\",\"type\":\"Title\"},{\"attributes\":{\"fill_alpha\":{\"value\":0.1},\"fill_color\":{\"value\":\"#1f77b4\"},\"line_alpha\":{\"value\":0.1},\"line_color\":{\"value\":\"#1f77b4\"},\"top\":{\"field\":\"pos_vocab_freq\"},\"width\":{\"value\":0.9},\"x\":{\"field\":\"pos_vocab_words\"}},\"id\":\"1489\",\"type\":\"VBar\"},{\"attributes\":{\"callback\":null,\"factors\":[\"why_are\",\"<s>_is\",\"is_it\",\"<s>_what\",\"in_the\",\"<s>_do\",\"why_is\",\"of_the\",\"<s>_are\",\"is_the\",\"do_you\",\"to_be\",\"<s>_if\",\"why_does\",\"they_are\",\"why_dont\",\"how_do\",\"to_the\",\"_</s>\",\"how_can\",\"want_to\",\"are_the\",\"the_world\",\"what_is\",\"the_us\",\"is_a\",\"on_the\",\"as_a\",\"on_quora\",\"do_people\",\"that_the\",\"<s>_does\",\"<s>_can\",\"you_think\",\"why_did\",\"<s>_should\",\"people_</s>\",\"can_i\",\"do_they\",\"that_they\",\"<s>_when\",\"do_i\",\"and_the\",\"donald_trump\",\"have_a\",\"it_true\",\"in_india\"]},\"id\":\"1463\",\"type\":\"FactorRange\"},{\"attributes\":{\"data_source\":{\"id\":\"1435\",\"type\":\"ColumnDataSource\"},\"glyph\":{\"id\":\"1488\",\"type\":\"VBar\"},\"hover_glyph\":null,\"muted_glyph\":null,\"nonselection_glyph\":{\"id\":\"1489\",\"type\":\"VBar\"},\"selection_glyph\":null,\"view\":{\"id\":\"1491\",\"type\":\"CDSView\"}},\"id\":\"1490\",\"type\":\"GlyphRenderer\"},{\"attributes\":{\"callback\":null},\"id\":\"1465\",\"type\":\"DataRange1d\"},{\"attributes\":{\"source\":{\"id\":\"1435\",\"type\":\"ColumnDataSource\"}},\"id\":\"1491\",\"type\":\"CDSView\"},{\"attributes\":{},\"id\":\"1467\",\"type\":\"CategoricalScale\"},{\"attributes\":{\"callback\":null,\"tooltips\":[[\"Word\",\"$pos_vocab_words\"],[\"Freq\",\"$pos_vocab_freq\"]]},\"id\":\"1437\",\"type\":\"HoverTool\"},{\"attributes\":{},\"id\":\"1615\",\"type\":\"BasicTickFormatter\"},{\"attributes\":{},\"id\":\"1469\",\"type\":\"LinearScale\"},{\"attributes\":{\"formatter\":{\"id\":\"1613\",\"type\":\"CategoricalTickFormatter\"},\"major_label_orientation\":1,\"ticker\":{\"id\":\"1472\",\"type\":\"CategoricalTicker\"}},\"id\":\"1471\",\"type\":\"CategoricalAxis\"},{\"attributes\":{},\"id\":\"1613\",\"type\":\"CategoricalTickFormatter\"},{\"attributes\":{},\"id\":\"1472\",\"type\":\"CategoricalTicker\"},{\"attributes\":{\"grid_line_color\":null,\"ticker\":{\"id\":\"1472\",\"type\":\"CategoricalTicker\"}},\"id\":\"1474\",\"type\":\"Grid\"},{\"attributes\":{\"formatter\":{\"id\":\"1615\",\"type\":\"BasicTickFormatter\"},\"ticker\":{\"id\":\"1476\",\"type\":\"BasicTicker\"}},\"id\":\"1475\",\"type\":\"LinearAxis\"},{\"attributes\":{},\"id\":\"1476\",\"type\":\"BasicTicker\"},{\"attributes\":{\"callback\":null,\"data\":{\"neg_vocab_freq\":[0.007351855679234698,0.007337092916826596,0.006672768608462015,0.005373645516549057,0.004635507396143966,0.0045321680592872535,0.004443591484838643,0.003454486403495822,0.0033659098290472114,0.0032920960170067025,0.003247807729782397,0.00302636629366087,0.0029673152440284627,0.002834450382355546,0.0027606365703150373,0.0026130089462340195,0.002480144084561103,0.0020815494995423543,0.00196344740027754,0.0019339218754613364,0.0015500900528506894,0.0015353272904425877,0.0014762762408101805,0.001417225191177773,0.0014024624287696714,0.0014024624287696714,0.0013138858543210606,0.0012991230919129587,0.001284360329504857,0.0012548348046886534,0.0012253092798724498,0.0011072071806076352,0.0010776816557914316,0.0010776816557914316,0.0010776816557914316,0.001048156130975228,0.0010333933685671263,0.0010333933685671263,0.0010333933685671263,0.0010038678437509227,0.0010038678437509227,0.000974342318934719,0.000974342318934719,0.000974342318934719,0.0009448167941185154,0.0009448167941185154,0.0009300540317104136],\"neg_vocab_words\":[\"is_the\",\"what_are\",\"<s>_why\",\"<s>_is\",\"are_the\",\"how_do\",\"can_i\",\"do_i\",\"do_you\",\"the_best\",\"how_can\",\"is_it\",\"<s>_can\",\"<s>_which\",\"in_the\",\"of_the\",\"are_some\",\"<s>_do\",\"why_do\",\"should_i\",\"<s>_if\",\"in_a\",\"<s>_are\",\"i_get\",\"<s>_where\",\"for_a\",\"why_is\",\"is_there\",\"_</s>\",\"what_do\",\"to_be\",\"<s>_who\",\"the_most\",\"what_does\",\"would_you\",\"<s>_i\",\"of_a\",\"is_a\",\"i_do\",\"<s>_does\",\"what_should\",\"as_a\",\"why_does\",\"can_you\",\"how_much\",\"which_is\",\"how_does\"],\"pos_vocab_freq\":[0.004349476652746895,0.004208471175226422,0.003752915017083356,0.0033949780356852324,0.0032322794077769943,0.0031563533814198165,0.003047887629480991,0.002917728727154401,0.0025055588697868647,0.0019957698356743857,0.0019089972341233255,0.0017896849069906177,0.0017679917566028526,0.0013992082000108465,0.0013558218992353165,0.0012798958728781388,0.0012473561472964912,0.0012473561472964912,0.0012365095721026086,0.0011931232713270786,0.001182276696133196,0.0011605835457454308,0.0011171972449699008,0.0011171972449699008,0.001041271218612723,0.001019578068224958,0.0009978849178371928,0.0009870383426433104,0.0009870383426433104,0.0009761917674494279,0.0009761917674494279,0.0009653451922555453,0.0009544986170616627,0.0009544986170616627,0.0009436520418677802,0.0009328054666738978,0.0009219588914800152,0.0009002657410922501,0.0008677260155106025,0.0008351862899289549,0.0008243397147350724,0.0008134931395411899,0.0008134931395411899,0.0008026465643473073,0.0008026465643473073,0.0007917999891534248,0.0007701068387656598],\"pos_vocab_words\":[\"why_are\",\"<s>_is\",\"is_it\",\"<s>_what\",\"in_the\",\"<s>_do\",\"why_is\",\"of_the\",\"<s>_are\",\"is_the\",\"do_you\",\"to_be\",\"<s>_if\",\"why_does\",\"they_are\",\"why_dont\",\"how_do\",\"to_the\",\"_</s>\",\"how_can\",\"want_to\",\"are_the\",\"the_world\",\"what_is\",\"the_us\",\"is_a\",\"on_the\",\"as_a\",\"on_quora\",\"do_people\",\"that_the\",\"<s>_does\",\"<s>_can\",\"you_think\",\"why_did\",\"<s>_should\",\"people_</s>\",\"can_i\",\"do_they\",\"that_they\",\"<s>_when\",\"do_i\",\"and_the\",\"donald_trump\",\"have_a\",\"it_true\",\"in_india\"]},\"selected\":{\"id\":\"1529\",\"type\":\"Selection\"},\"selection_policy\":{\"id\":\"1530\",\"type\":\"UnionRenderers\"}},\"id\":\"1435\",\"type\":\"ColumnDataSource\"}],\"root_ids\":[\"1460\"]},\"title\":\"Bokeh Application\",\"version\":\"1.3.4\"}};\n",
       "  var render_items = [{\"docid\":\"2615ea78-15d7-4ad0-b2a5-51e42f76b471\",\"roots\":{\"1460\":\"300748ad-5cb4-4f47-a678-e5fcebc3300c\"}}];\n",
       "  root.Bokeh.embed.embed_items_notebook(docs_json, render_items);\n",
       "\n",
       "  }\n",
       "  if (root.Bokeh !== undefined) {\n",
       "    embed_document(root);\n",
       "  } else {\n",
       "    var attempts = 0;\n",
       "    var timer = setInterval(function(root) {\n",
       "      if (root.Bokeh !== undefined) {\n",
       "        embed_document(root);\n",
       "        clearInterval(timer);\n",
       "      }\n",
       "      attempts++;\n",
       "      if (attempts > 100) {\n",
       "        console.log(\"Bokeh: ERROR: Unable to run BokehJS code because BokehJS library is missing\");\n",
       "        clearInterval(timer);\n",
       "      }\n",
       "    }, 10, root)\n",
       "  }\n",
       "})(window);"
      ],
      "application/vnd.bokehjs_exec.v0+json": ""
     },
     "metadata": {
      "application/vnd.bokehjs_exec.v0+json": {
       "id": "1460"
      }
     },
     "output_type": "display_data"
    }
   ],
   "source": [
    "comments.word_frequency_graphs(unigram=False,min_rank=3,max_rank=50)"
   ]
  },
  {
   "cell_type": "code",
   "execution_count": 14,
   "metadata": {},
   "outputs": [
    {
     "data": {
      "text/html": [
       "\n",
       "\n",
       "\n",
       "\n",
       "\n",
       "\n",
       "  <div class=\"bk-root\" id=\"0a670c44-ce77-4972-8f19-6fab05e47351\" data-root-id=\"1661\"></div>\n"
      ]
     },
     "metadata": {},
     "output_type": "display_data"
    },
    {
     "data": {
      "application/javascript": [
       "(function(root) {\n",
       "  function embed_document(root) {\n",
       "    \n",
       "  var docs_json = {\"87eb3116-d151-410b-9dd6-54a68627ecff\":{\"roots\":{\"references\":[{\"attributes\":{\"below\":[{\"id\":\"1672\",\"type\":\"CategoricalAxis\"}],\"center\":[{\"id\":\"1675\",\"type\":\"Grid\"},{\"id\":\"1680\",\"type\":\"Grid\"}],\"left\":[{\"id\":\"1676\",\"type\":\"LinearAxis\"}],\"plot_height\":300,\"plot_width\":750,\"renderers\":[{\"id\":\"1697\",\"type\":\"GlyphRenderer\"}],\"title\":{\"id\":\"1662\",\"type\":\"Title\"},\"toolbar\":{\"id\":\"1687\",\"type\":\"Toolbar\"},\"x_range\":{\"id\":\"1664\",\"type\":\"FactorRange\"},\"x_scale\":{\"id\":\"1668\",\"type\":\"CategoricalScale\"},\"y_range\":{\"id\":\"1666\",\"type\":\"DataRange1d\"},\"y_scale\":{\"id\":\"1670\",\"type\":\"LinearScale\"}},\"id\":\"1661\",\"subtype\":\"Figure\",\"type\":\"Plot\"},{\"attributes\":{\"formatter\":{\"id\":\"1746\",\"type\":\"CategoricalTickFormatter\"},\"major_label_orientation\":1,\"ticker\":{\"id\":\"1673\",\"type\":\"CategoricalTicker\"}},\"id\":\"1672\",\"type\":\"CategoricalAxis\"},{\"attributes\":{},\"id\":\"1746\",\"type\":\"CategoricalTickFormatter\"},{\"attributes\":{},\"id\":\"1673\",\"type\":\"CategoricalTicker\"},{\"attributes\":{},\"id\":\"1748\",\"type\":\"BasicTickFormatter\"},{\"attributes\":{\"grid_line_color\":null,\"ticker\":{\"id\":\"1673\",\"type\":\"CategoricalTicker\"}},\"id\":\"1675\",\"type\":\"Grid\"},{\"attributes\":{},\"id\":\"1750\",\"type\":\"Selection\"},{\"attributes\":{\"formatter\":{\"id\":\"1748\",\"type\":\"BasicTickFormatter\"},\"ticker\":{\"id\":\"1677\",\"type\":\"BasicTicker\"}},\"id\":\"1676\",\"type\":\"LinearAxis\"},{\"attributes\":{},\"id\":\"1751\",\"type\":\"UnionRenderers\"},{\"attributes\":{},\"id\":\"1677\",\"type\":\"BasicTicker\"},{\"attributes\":{\"bottom_units\":\"screen\",\"fill_alpha\":{\"value\":0.5},\"fill_color\":{\"value\":\"lightgrey\"},\"left_units\":\"screen\",\"level\":\"overlay\",\"line_alpha\":{\"value\":1.0},\"line_color\":{\"value\":\"black\"},\"line_dash\":[4,4],\"line_width\":{\"value\":2},\"render_mode\":\"css\",\"right_units\":\"screen\",\"top_units\":\"screen\"},\"id\":\"1752\",\"type\":\"BoxAnnotation\"},{\"attributes\":{\"dimension\":1,\"ticker\":{\"id\":\"1677\",\"type\":\"BasicTicker\"}},\"id\":\"1680\",\"type\":\"Grid\"},{\"attributes\":{\"fill_color\":{\"value\":\"#1f77b4\"},\"line_color\":{\"value\":\"#1f77b4\"},\"top\":{\"field\":\"top\"},\"width\":{\"value\":0.9},\"x\":{\"field\":\"x\"}},\"id\":\"1695\",\"type\":\"VBar\"},{\"attributes\":{\"callback\":null,\"data\":{\"top\":[0.019738270657810295,0.00938772476121622,0.007519018763769654,0.006697144980387527,0.005356085843560312,0.0035433257437463934,0.0034749238503985354,0.0032848119119907623,0.002934159035608579,0.002640993263954632,0.002443973675375775,0.002230672855101805,0.002054684458455318,0.0020128166269668,0.0014569125949238859,0.0013048205142161496,0.0011963775000859032,0.0011894471121062398,0.0011651743413226348,0.0009149830278831937,-0.0006300260855025414,-0.0006303115891130803,-0.0006414664057260809,-0.0006468783244187326,-0.0006529067259496206,-0.0006574393960020761,-0.0006875586658479369,-0.0006905728666133809,-0.0007140699898986966,-0.000726548723422486,-0.0007508341441136815,-0.0007547503313279008,-0.0010292826289766842,-0.0010605666510732806,-0.0010748038818774622,-0.0011175054863890189,-0.0017340017751599306,-0.0038032544436471284,-0.006290796322267067,-0.013675406455261614],\"x\":[\"<s>_what\",\"<s>_how\",\"what_is\",\"what_are\",\"is_the\",\"can_i\",\"are_the\",\"how_do\",\"the_best\",\"do_i\",\"<s>_which\",\"are_some\",\"how_can\",\"<s>_can\",\"do_you\",\"should_i\",\"<s>_where\",\"i_get\",\"<s>_is\",\"what_does\",\"the_world\",\"sex_with\",\"people_</s>\",\"white_people\",\"so_much\",\"the_us\",\"that_they\",\"do_they\",\"donald_trump\",\"is_it\",\"on_quora\",\"that_the\",\"<s>_are\",\"they_are\",\"<s>_do\",\"why_dont\",\"why_is\",\"why_are\",\"why_do\",\"<s>_why\"]},\"selected\":{\"id\":\"1750\",\"type\":\"Selection\"},\"selection_policy\":{\"id\":\"1751\",\"type\":\"UnionRenderers\"}},\"id\":\"1694\",\"type\":\"ColumnDataSource\"},{\"attributes\":{\"data_source\":{\"id\":\"1694\",\"type\":\"ColumnDataSource\"},\"glyph\":{\"id\":\"1695\",\"type\":\"VBar\"},\"hover_glyph\":null,\"muted_glyph\":null,\"nonselection_glyph\":{\"id\":\"1696\",\"type\":\"VBar\"},\"selection_glyph\":null,\"view\":{\"id\":\"1698\",\"type\":\"CDSView\"}},\"id\":\"1697\",\"type\":\"GlyphRenderer\"},{\"attributes\":{},\"id\":\"1681\",\"type\":\"PanTool\"},{\"attributes\":{},\"id\":\"1682\",\"type\":\"WheelZoomTool\"},{\"attributes\":{\"overlay\":{\"id\":\"1752\",\"type\":\"BoxAnnotation\"}},\"id\":\"1683\",\"type\":\"BoxZoomTool\"},{\"attributes\":{},\"id\":\"1684\",\"type\":\"SaveTool\"},{\"attributes\":{},\"id\":\"1685\",\"type\":\"ResetTool\"},{\"attributes\":{\"fill_alpha\":{\"value\":0.1},\"fill_color\":{\"value\":\"#1f77b4\"},\"line_alpha\":{\"value\":0.1},\"line_color\":{\"value\":\"#1f77b4\"},\"top\":{\"field\":\"top\"},\"width\":{\"value\":0.9},\"x\":{\"field\":\"x\"}},\"id\":\"1696\",\"type\":\"VBar\"},{\"attributes\":{\"text\":\"Bigram Frequency Difference: (Appropriate Frequency - Inappropriate Frequency)\"},\"id\":\"1662\",\"type\":\"Title\"},{\"attributes\":{},\"id\":\"1686\",\"type\":\"HelpTool\"},{\"attributes\":{\"callback\":null,\"factors\":[\"<s>_what\",\"<s>_how\",\"what_is\",\"what_are\",\"is_the\",\"can_i\",\"are_the\",\"how_do\",\"the_best\",\"do_i\",\"<s>_which\",\"are_some\",\"how_can\",\"<s>_can\",\"do_you\",\"should_i\",\"<s>_where\",\"i_get\",\"<s>_is\",\"what_does\",\"the_world\",\"sex_with\",\"people_</s>\",\"white_people\",\"so_much\",\"the_us\",\"that_they\",\"do_they\",\"donald_trump\",\"is_it\",\"on_quora\",\"that_the\",\"<s>_are\",\"they_are\",\"<s>_do\",\"why_dont\",\"why_is\",\"why_are\",\"why_do\",\"<s>_why\"]},\"id\":\"1664\",\"type\":\"FactorRange\"},{\"attributes\":{\"active_drag\":\"auto\",\"active_inspect\":\"auto\",\"active_multi\":null,\"active_scroll\":\"auto\",\"active_tap\":\"auto\",\"tools\":[{\"id\":\"1681\",\"type\":\"PanTool\"},{\"id\":\"1682\",\"type\":\"WheelZoomTool\"},{\"id\":\"1683\",\"type\":\"BoxZoomTool\"},{\"id\":\"1684\",\"type\":\"SaveTool\"},{\"id\":\"1685\",\"type\":\"ResetTool\"},{\"id\":\"1686\",\"type\":\"HelpTool\"}]},\"id\":\"1687\",\"type\":\"Toolbar\"},{\"attributes\":{\"callback\":null},\"id\":\"1666\",\"type\":\"DataRange1d\"},{\"attributes\":{\"source\":{\"id\":\"1694\",\"type\":\"ColumnDataSource\"}},\"id\":\"1698\",\"type\":\"CDSView\"},{\"attributes\":{},\"id\":\"1668\",\"type\":\"CategoricalScale\"},{\"attributes\":{},\"id\":\"1670\",\"type\":\"LinearScale\"}],\"root_ids\":[\"1661\"]},\"title\":\"Bokeh Application\",\"version\":\"1.3.4\"}};\n",
       "  var render_items = [{\"docid\":\"87eb3116-d151-410b-9dd6-54a68627ecff\",\"roots\":{\"1661\":\"0a670c44-ce77-4972-8f19-6fab05e47351\"}}];\n",
       "  root.Bokeh.embed.embed_items_notebook(docs_json, render_items);\n",
       "\n",
       "  }\n",
       "  if (root.Bokeh !== undefined) {\n",
       "    embed_document(root);\n",
       "  } else {\n",
       "    var attempts = 0;\n",
       "    var timer = setInterval(function(root) {\n",
       "      if (root.Bokeh !== undefined) {\n",
       "        embed_document(root);\n",
       "        clearInterval(timer);\n",
       "      }\n",
       "      attempts++;\n",
       "      if (attempts > 100) {\n",
       "        console.log(\"Bokeh: ERROR: Unable to run BokehJS code because BokehJS library is missing\");\n",
       "        clearInterval(timer);\n",
       "      }\n",
       "    }, 10, root)\n",
       "  }\n",
       "})(window);"
      ],
      "application/vnd.bokehjs_exec.v0+json": ""
     },
     "metadata": {
      "application/vnd.bokehjs_exec.v0+json": {
       "id": "1661"
      }
     },
     "output_type": "display_data"
    }
   ],
   "source": [
    "comments.word_count_difference_graph(unigram=False,num=20)"
   ]
  },
  {
   "cell_type": "markdown",
   "metadata": {},
   "source": [
    "#### Comments"
   ]
  },
  {
   "cell_type": "markdown",
   "metadata": {},
   "source": [
    "* Here when we examine bigrams and find the same trends as we found in the analysis of unigrams \n",
    "\n",
    "* In the inappropriate example we find a comparitively high frequency of 'why' interogative words and phrases which can be formulated as a statement of dubious facts, that implicitly require the answer to assume this premise in order to answer it. "
   ]
  },
  {
   "cell_type": "code",
   "execution_count": 15,
   "metadata": {},
   "outputs": [],
   "source": [
    "import quora_ngram as ng"
   ]
  },
  {
   "cell_type": "code",
   "execution_count": 16,
   "metadata": {},
   "outputs": [
    {
     "name": "stderr",
     "output_type": "stream",
     "text": [
      "Processing Comments: 100%|██████████| 1296122/1296122 [00:39<00:00, 32955.87it/s]\n"
     ]
    }
   ],
   "source": [
    "reload(ng)\n",
    "ng_model = ng.NgramModel(train_data)"
   ]
  },
  {
   "cell_type": "code",
   "execution_count": 17,
   "metadata": {},
   "outputs": [
    {
     "name": "stderr",
     "output_type": "stream",
     "text": [
      "Processing Gram: 100%|██████████| 2899764/2899764 [3:56:01<00:00, 204.77it/s]    \n"
     ]
    }
   ],
   "source": [
    "ng_model.train_classifier(gram_length=2,smoothing='jelinek-mercer',scnd_smoother='additive',\n",
    "                          cnvx_param=0.5,smth_param=0.7)\n",
    "# ng_model.gram_frequency"
   ]
  },
  {
   "cell_type": "code",
   "execution_count": 18,
   "metadata": {},
   "outputs": [
    {
     "name": "stdout",
     "output_type": "stream",
     "text": [
      "------Confusion Matrix------\n",
      " [[4736  264]\n",
      " [1576 3424]]\n",
      "------Report------\n",
      "              precision    recall  f1-score   support\n",
      "\n",
      "           0       0.75      0.95      0.84      5000\n",
      "           1       0.93      0.68      0.79      5000\n",
      "\n",
      "    accuracy                           0.82     10000\n",
      "   macro avg       0.84      0.82      0.81     10000\n",
      "weighted avg       0.84      0.82      0.81     10000\n",
      "\n"
     ]
    }
   ],
   "source": [
    "valid_comments = [comment[1] for comment in valid_data]\n",
    "valid_labels = [comment[2] for comment in valid_data]\n",
    "ng_model.evaluate_classifier(valid_comments,valid_labels)"
   ]
  },
  {
   "cell_type": "code",
   "execution_count": null,
   "metadata": {},
   "outputs": [],
   "source": []
  }
 ],
 "metadata": {
  "kernelspec": {
   "display_name": "Python 3",
   "language": "python",
   "name": "python3"
  },
  "language_info": {
   "codemirror_mode": {
    "name": "ipython",
    "version": 3
   },
   "file_extension": ".py",
   "mimetype": "text/x-python",
   "name": "python",
   "nbconvert_exporter": "python",
   "pygments_lexer": "ipython3",
   "version": "3.7.3"
  }
 },
 "nbformat": 4,
 "nbformat_minor": 4
}
