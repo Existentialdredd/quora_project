{
 "cells": [
  {
   "cell_type": "code",
   "execution_count": 1,
   "metadata": {},
   "outputs": [
    {
     "data": {
      "text/html": [
       "\n",
       "    <div class=\"bk-root\">\n",
       "        <a href=\"https://bokeh.pydata.org\" target=\"_blank\" class=\"bk-logo bk-logo-small bk-logo-notebook\"></a>\n",
       "        <span id=\"1001\">Loading BokehJS ...</span>\n",
       "    </div>"
      ]
     },
     "metadata": {},
     "output_type": "display_data"
    },
    {
     "data": {
      "application/javascript": [
       "\n",
       "(function(root) {\n",
       "  function now() {\n",
       "    return new Date();\n",
       "  }\n",
       "\n",
       "  var force = true;\n",
       "\n",
       "  if (typeof root._bokeh_onload_callbacks === \"undefined\" || force === true) {\n",
       "    root._bokeh_onload_callbacks = [];\n",
       "    root._bokeh_is_loading = undefined;\n",
       "  }\n",
       "\n",
       "  var JS_MIME_TYPE = 'application/javascript';\n",
       "  var HTML_MIME_TYPE = 'text/html';\n",
       "  var EXEC_MIME_TYPE = 'application/vnd.bokehjs_exec.v0+json';\n",
       "  var CLASS_NAME = 'output_bokeh rendered_html';\n",
       "\n",
       "  /**\n",
       "   * Render data to the DOM node\n",
       "   */\n",
       "  function render(props, node) {\n",
       "    var script = document.createElement(\"script\");\n",
       "    node.appendChild(script);\n",
       "  }\n",
       "\n",
       "  /**\n",
       "   * Handle when an output is cleared or removed\n",
       "   */\n",
       "  function handleClearOutput(event, handle) {\n",
       "    var cell = handle.cell;\n",
       "\n",
       "    var id = cell.output_area._bokeh_element_id;\n",
       "    var server_id = cell.output_area._bokeh_server_id;\n",
       "    // Clean up Bokeh references\n",
       "    if (id != null && id in Bokeh.index) {\n",
       "      Bokeh.index[id].model.document.clear();\n",
       "      delete Bokeh.index[id];\n",
       "    }\n",
       "\n",
       "    if (server_id !== undefined) {\n",
       "      // Clean up Bokeh references\n",
       "      var cmd = \"from bokeh.io.state import curstate; print(curstate().uuid_to_server['\" + server_id + \"'].get_sessions()[0].document.roots[0]._id)\";\n",
       "      cell.notebook.kernel.execute(cmd, {\n",
       "        iopub: {\n",
       "          output: function(msg) {\n",
       "            var id = msg.content.text.trim();\n",
       "            if (id in Bokeh.index) {\n",
       "              Bokeh.index[id].model.document.clear();\n",
       "              delete Bokeh.index[id];\n",
       "            }\n",
       "          }\n",
       "        }\n",
       "      });\n",
       "      // Destroy server and session\n",
       "      var cmd = \"import bokeh.io.notebook as ion; ion.destroy_server('\" + server_id + \"')\";\n",
       "      cell.notebook.kernel.execute(cmd);\n",
       "    }\n",
       "  }\n",
       "\n",
       "  /**\n",
       "   * Handle when a new output is added\n",
       "   */\n",
       "  function handleAddOutput(event, handle) {\n",
       "    var output_area = handle.output_area;\n",
       "    var output = handle.output;\n",
       "\n",
       "    // limit handleAddOutput to display_data with EXEC_MIME_TYPE content only\n",
       "    if ((output.output_type != \"display_data\") || (!output.data.hasOwnProperty(EXEC_MIME_TYPE))) {\n",
       "      return\n",
       "    }\n",
       "\n",
       "    var toinsert = output_area.element.find(\".\" + CLASS_NAME.split(' ')[0]);\n",
       "\n",
       "    if (output.metadata[EXEC_MIME_TYPE][\"id\"] !== undefined) {\n",
       "      toinsert[toinsert.length - 1].firstChild.textContent = output.data[JS_MIME_TYPE];\n",
       "      // store reference to embed id on output_area\n",
       "      output_area._bokeh_element_id = output.metadata[EXEC_MIME_TYPE][\"id\"];\n",
       "    }\n",
       "    if (output.metadata[EXEC_MIME_TYPE][\"server_id\"] !== undefined) {\n",
       "      var bk_div = document.createElement(\"div\");\n",
       "      bk_div.innerHTML = output.data[HTML_MIME_TYPE];\n",
       "      var script_attrs = bk_div.children[0].attributes;\n",
       "      for (var i = 0; i < script_attrs.length; i++) {\n",
       "        toinsert[toinsert.length - 1].firstChild.setAttribute(script_attrs[i].name, script_attrs[i].value);\n",
       "      }\n",
       "      // store reference to server id on output_area\n",
       "      output_area._bokeh_server_id = output.metadata[EXEC_MIME_TYPE][\"server_id\"];\n",
       "    }\n",
       "  }\n",
       "\n",
       "  function register_renderer(events, OutputArea) {\n",
       "\n",
       "    function append_mime(data, metadata, element) {\n",
       "      // create a DOM node to render to\n",
       "      var toinsert = this.create_output_subarea(\n",
       "        metadata,\n",
       "        CLASS_NAME,\n",
       "        EXEC_MIME_TYPE\n",
       "      );\n",
       "      this.keyboard_manager.register_events(toinsert);\n",
       "      // Render to node\n",
       "      var props = {data: data, metadata: metadata[EXEC_MIME_TYPE]};\n",
       "      render(props, toinsert[toinsert.length - 1]);\n",
       "      element.append(toinsert);\n",
       "      return toinsert\n",
       "    }\n",
       "\n",
       "    /* Handle when an output is cleared or removed */\n",
       "    events.on('clear_output.CodeCell', handleClearOutput);\n",
       "    events.on('delete.Cell', handleClearOutput);\n",
       "\n",
       "    /* Handle when a new output is added */\n",
       "    events.on('output_added.OutputArea', handleAddOutput);\n",
       "\n",
       "    /**\n",
       "     * Register the mime type and append_mime function with output_area\n",
       "     */\n",
       "    OutputArea.prototype.register_mime_type(EXEC_MIME_TYPE, append_mime, {\n",
       "      /* Is output safe? */\n",
       "      safe: true,\n",
       "      /* Index of renderer in `output_area.display_order` */\n",
       "      index: 0\n",
       "    });\n",
       "  }\n",
       "\n",
       "  // register the mime type if in Jupyter Notebook environment and previously unregistered\n",
       "  if (root.Jupyter !== undefined) {\n",
       "    var events = require('base/js/events');\n",
       "    var OutputArea = require('notebook/js/outputarea').OutputArea;\n",
       "\n",
       "    if (OutputArea.prototype.mime_types().indexOf(EXEC_MIME_TYPE) == -1) {\n",
       "      register_renderer(events, OutputArea);\n",
       "    }\n",
       "  }\n",
       "\n",
       "  \n",
       "  if (typeof (root._bokeh_timeout) === \"undefined\" || force === true) {\n",
       "    root._bokeh_timeout = Date.now() + 5000;\n",
       "    root._bokeh_failed_load = false;\n",
       "  }\n",
       "\n",
       "  var NB_LOAD_WARNING = {'data': {'text/html':\n",
       "     \"<div style='background-color: #fdd'>\\n\"+\n",
       "     \"<p>\\n\"+\n",
       "     \"BokehJS does not appear to have successfully loaded. If loading BokehJS from CDN, this \\n\"+\n",
       "     \"may be due to a slow or bad network connection. Possible fixes:\\n\"+\n",
       "     \"</p>\\n\"+\n",
       "     \"<ul>\\n\"+\n",
       "     \"<li>re-rerun `output_notebook()` to attempt to load from CDN again, or</li>\\n\"+\n",
       "     \"<li>use INLINE resources instead, as so:</li>\\n\"+\n",
       "     \"</ul>\\n\"+\n",
       "     \"<code>\\n\"+\n",
       "     \"from bokeh.resources import INLINE\\n\"+\n",
       "     \"output_notebook(resources=INLINE)\\n\"+\n",
       "     \"</code>\\n\"+\n",
       "     \"</div>\"}};\n",
       "\n",
       "  function display_loaded() {\n",
       "    var el = document.getElementById(\"1001\");\n",
       "    if (el != null) {\n",
       "      el.textContent = \"BokehJS is loading...\";\n",
       "    }\n",
       "    if (root.Bokeh !== undefined) {\n",
       "      if (el != null) {\n",
       "        el.textContent = \"BokehJS \" + root.Bokeh.version + \" successfully loaded.\";\n",
       "      }\n",
       "    } else if (Date.now() < root._bokeh_timeout) {\n",
       "      setTimeout(display_loaded, 100)\n",
       "    }\n",
       "  }\n",
       "\n",
       "\n",
       "  function run_callbacks() {\n",
       "    try {\n",
       "      root._bokeh_onload_callbacks.forEach(function(callback) {\n",
       "        if (callback != null)\n",
       "          callback();\n",
       "      });\n",
       "    } finally {\n",
       "      delete root._bokeh_onload_callbacks\n",
       "    }\n",
       "    console.debug(\"Bokeh: all callbacks have finished\");\n",
       "  }\n",
       "\n",
       "  function load_libs(css_urls, js_urls, callback) {\n",
       "    if (css_urls == null) css_urls = [];\n",
       "    if (js_urls == null) js_urls = [];\n",
       "\n",
       "    root._bokeh_onload_callbacks.push(callback);\n",
       "    if (root._bokeh_is_loading > 0) {\n",
       "      console.debug(\"Bokeh: BokehJS is being loaded, scheduling callback at\", now());\n",
       "      return null;\n",
       "    }\n",
       "    if (js_urls == null || js_urls.length === 0) {\n",
       "      run_callbacks();\n",
       "      return null;\n",
       "    }\n",
       "    console.debug(\"Bokeh: BokehJS not loaded, scheduling load and callback at\", now());\n",
       "    root._bokeh_is_loading = css_urls.length + js_urls.length;\n",
       "\n",
       "    function on_load() {\n",
       "      root._bokeh_is_loading--;\n",
       "      if (root._bokeh_is_loading === 0) {\n",
       "        console.debug(\"Bokeh: all BokehJS libraries/stylesheets loaded\");\n",
       "        run_callbacks()\n",
       "      }\n",
       "    }\n",
       "\n",
       "    function on_error() {\n",
       "      console.error(\"failed to load \" + url);\n",
       "    }\n",
       "\n",
       "    for (var i = 0; i < css_urls.length; i++) {\n",
       "      var url = css_urls[i];\n",
       "      const element = document.createElement(\"link\");\n",
       "      element.onload = on_load;\n",
       "      element.onerror = on_error;\n",
       "      element.rel = \"stylesheet\";\n",
       "      element.type = \"text/css\";\n",
       "      element.href = url;\n",
       "      console.debug(\"Bokeh: injecting link tag for BokehJS stylesheet: \", url);\n",
       "      document.body.appendChild(element);\n",
       "    }\n",
       "\n",
       "    for (var i = 0; i < js_urls.length; i++) {\n",
       "      var url = js_urls[i];\n",
       "      var element = document.createElement('script');\n",
       "      element.onload = on_load;\n",
       "      element.onerror = on_error;\n",
       "      element.async = false;\n",
       "      element.src = url;\n",
       "      console.debug(\"Bokeh: injecting script tag for BokehJS library: \", url);\n",
       "      document.head.appendChild(element);\n",
       "    }\n",
       "  };var element = document.getElementById(\"1001\");\n",
       "  if (element == null) {\n",
       "    console.error(\"Bokeh: ERROR: autoload.js configured with elementid '1001' but no matching script tag was found. \")\n",
       "    return false;\n",
       "  }\n",
       "\n",
       "  function inject_raw_css(css) {\n",
       "    const element = document.createElement(\"style\");\n",
       "    element.appendChild(document.createTextNode(css));\n",
       "    document.body.appendChild(element);\n",
       "  }\n",
       "\n",
       "  var js_urls = [\"https://cdn.pydata.org/bokeh/release/bokeh-1.3.4.min.js\", \"https://cdn.pydata.org/bokeh/release/bokeh-widgets-1.3.4.min.js\", \"https://cdn.pydata.org/bokeh/release/bokeh-tables-1.3.4.min.js\", \"https://cdn.pydata.org/bokeh/release/bokeh-gl-1.3.4.min.js\"];\n",
       "  var css_urls = [];\n",
       "\n",
       "  var inline_js = [\n",
       "    function(Bokeh) {\n",
       "      Bokeh.set_log_level(\"info\");\n",
       "    },\n",
       "    \n",
       "    function(Bokeh) {\n",
       "      \n",
       "    },\n",
       "    function(Bokeh) {} // ensure no trailing comma for IE\n",
       "  ];\n",
       "\n",
       "  function run_inline_js() {\n",
       "    \n",
       "    if ((root.Bokeh !== undefined) || (force === true)) {\n",
       "      for (var i = 0; i < inline_js.length; i++) {\n",
       "        inline_js[i].call(root, root.Bokeh);\n",
       "      }if (force === true) {\n",
       "        display_loaded();\n",
       "      }} else if (Date.now() < root._bokeh_timeout) {\n",
       "      setTimeout(run_inline_js, 100);\n",
       "    } else if (!root._bokeh_failed_load) {\n",
       "      console.log(\"Bokeh: BokehJS failed to load within specified timeout.\");\n",
       "      root._bokeh_failed_load = true;\n",
       "    } else if (force !== true) {\n",
       "      var cell = $(document.getElementById(\"1001\")).parents('.cell').data().cell;\n",
       "      cell.output_area.append_execute_result(NB_LOAD_WARNING)\n",
       "    }\n",
       "\n",
       "  }\n",
       "\n",
       "  if (root._bokeh_is_loading === 0) {\n",
       "    console.debug(\"Bokeh: BokehJS loaded, going straight to plotting\");\n",
       "    run_inline_js();\n",
       "  } else {\n",
       "    load_libs(css_urls, js_urls, function() {\n",
       "      console.debug(\"Bokeh: BokehJS plotting callback run at\", now());\n",
       "      run_inline_js();\n",
       "    });\n",
       "  }\n",
       "}(window));"
      ],
      "application/vnd.bokehjs_load.v0+json": "\n(function(root) {\n  function now() {\n    return new Date();\n  }\n\n  var force = true;\n\n  if (typeof root._bokeh_onload_callbacks === \"undefined\" || force === true) {\n    root._bokeh_onload_callbacks = [];\n    root._bokeh_is_loading = undefined;\n  }\n\n  \n\n  \n  if (typeof (root._bokeh_timeout) === \"undefined\" || force === true) {\n    root._bokeh_timeout = Date.now() + 5000;\n    root._bokeh_failed_load = false;\n  }\n\n  var NB_LOAD_WARNING = {'data': {'text/html':\n     \"<div style='background-color: #fdd'>\\n\"+\n     \"<p>\\n\"+\n     \"BokehJS does not appear to have successfully loaded. If loading BokehJS from CDN, this \\n\"+\n     \"may be due to a slow or bad network connection. Possible fixes:\\n\"+\n     \"</p>\\n\"+\n     \"<ul>\\n\"+\n     \"<li>re-rerun `output_notebook()` to attempt to load from CDN again, or</li>\\n\"+\n     \"<li>use INLINE resources instead, as so:</li>\\n\"+\n     \"</ul>\\n\"+\n     \"<code>\\n\"+\n     \"from bokeh.resources import INLINE\\n\"+\n     \"output_notebook(resources=INLINE)\\n\"+\n     \"</code>\\n\"+\n     \"</div>\"}};\n\n  function display_loaded() {\n    var el = document.getElementById(\"1001\");\n    if (el != null) {\n      el.textContent = \"BokehJS is loading...\";\n    }\n    if (root.Bokeh !== undefined) {\n      if (el != null) {\n        el.textContent = \"BokehJS \" + root.Bokeh.version + \" successfully loaded.\";\n      }\n    } else if (Date.now() < root._bokeh_timeout) {\n      setTimeout(display_loaded, 100)\n    }\n  }\n\n\n  function run_callbacks() {\n    try {\n      root._bokeh_onload_callbacks.forEach(function(callback) {\n        if (callback != null)\n          callback();\n      });\n    } finally {\n      delete root._bokeh_onload_callbacks\n    }\n    console.debug(\"Bokeh: all callbacks have finished\");\n  }\n\n  function load_libs(css_urls, js_urls, callback) {\n    if (css_urls == null) css_urls = [];\n    if (js_urls == null) js_urls = [];\n\n    root._bokeh_onload_callbacks.push(callback);\n    if (root._bokeh_is_loading > 0) {\n      console.debug(\"Bokeh: BokehJS is being loaded, scheduling callback at\", now());\n      return null;\n    }\n    if (js_urls == null || js_urls.length === 0) {\n      run_callbacks();\n      return null;\n    }\n    console.debug(\"Bokeh: BokehJS not loaded, scheduling load and callback at\", now());\n    root._bokeh_is_loading = css_urls.length + js_urls.length;\n\n    function on_load() {\n      root._bokeh_is_loading--;\n      if (root._bokeh_is_loading === 0) {\n        console.debug(\"Bokeh: all BokehJS libraries/stylesheets loaded\");\n        run_callbacks()\n      }\n    }\n\n    function on_error() {\n      console.error(\"failed to load \" + url);\n    }\n\n    for (var i = 0; i < css_urls.length; i++) {\n      var url = css_urls[i];\n      const element = document.createElement(\"link\");\n      element.onload = on_load;\n      element.onerror = on_error;\n      element.rel = \"stylesheet\";\n      element.type = \"text/css\";\n      element.href = url;\n      console.debug(\"Bokeh: injecting link tag for BokehJS stylesheet: \", url);\n      document.body.appendChild(element);\n    }\n\n    for (var i = 0; i < js_urls.length; i++) {\n      var url = js_urls[i];\n      var element = document.createElement('script');\n      element.onload = on_load;\n      element.onerror = on_error;\n      element.async = false;\n      element.src = url;\n      console.debug(\"Bokeh: injecting script tag for BokehJS library: \", url);\n      document.head.appendChild(element);\n    }\n  };var element = document.getElementById(\"1001\");\n  if (element == null) {\n    console.error(\"Bokeh: ERROR: autoload.js configured with elementid '1001' but no matching script tag was found. \")\n    return false;\n  }\n\n  function inject_raw_css(css) {\n    const element = document.createElement(\"style\");\n    element.appendChild(document.createTextNode(css));\n    document.body.appendChild(element);\n  }\n\n  var js_urls = [\"https://cdn.pydata.org/bokeh/release/bokeh-1.3.4.min.js\", \"https://cdn.pydata.org/bokeh/release/bokeh-widgets-1.3.4.min.js\", \"https://cdn.pydata.org/bokeh/release/bokeh-tables-1.3.4.min.js\", \"https://cdn.pydata.org/bokeh/release/bokeh-gl-1.3.4.min.js\"];\n  var css_urls = [];\n\n  var inline_js = [\n    function(Bokeh) {\n      Bokeh.set_log_level(\"info\");\n    },\n    \n    function(Bokeh) {\n      \n    },\n    function(Bokeh) {} // ensure no trailing comma for IE\n  ];\n\n  function run_inline_js() {\n    \n    if ((root.Bokeh !== undefined) || (force === true)) {\n      for (var i = 0; i < inline_js.length; i++) {\n        inline_js[i].call(root, root.Bokeh);\n      }if (force === true) {\n        display_loaded();\n      }} else if (Date.now() < root._bokeh_timeout) {\n      setTimeout(run_inline_js, 100);\n    } else if (!root._bokeh_failed_load) {\n      console.log(\"Bokeh: BokehJS failed to load within specified timeout.\");\n      root._bokeh_failed_load = true;\n    } else if (force !== true) {\n      var cell = $(document.getElementById(\"1001\")).parents('.cell').data().cell;\n      cell.output_area.append_execute_result(NB_LOAD_WARNING)\n    }\n\n  }\n\n  if (root._bokeh_is_loading === 0) {\n    console.debug(\"Bokeh: BokehJS loaded, going straight to plotting\");\n    run_inline_js();\n  } else {\n    load_libs(css_urls, js_urls, function() {\n      console.debug(\"Bokeh: BokehJS plotting callback run at\", now());\n      run_inline_js();\n    });\n  }\n}(window));"
     },
     "metadata": {},
     "output_type": "display_data"
    }
   ],
   "source": [
    "import os\n",
    "import sys\n",
    "import numpy as np \n",
    "import pandas as pd\n",
    "from importlib import reload\n",
    "from bokeh.plotting import figure\n",
    "from bokeh.io import show, output_notebook\n",
    "from bokeh.models import HoverTool, ColumnDataSource\n",
    "output_notebook()"
   ]
  },
  {
   "cell_type": "code",
   "execution_count": 2,
   "metadata": {},
   "outputs": [],
   "source": [
    "sys.path.insert(0,'../embeddings')\n",
    "import utilities as ut\n",
    "import quora_vocab as qv\n",
    "import svd_embeddings as svd_em"
   ]
  },
  {
   "cell_type": "code",
   "execution_count": 3,
   "metadata": {},
   "outputs": [],
   "source": [
    "DATA_PATH = '~/google_drive/data/quora/'\n",
    "DATA_FILE = '{}{}'.format(DATA_PATH,'train.csv')"
   ]
  },
  {
   "cell_type": "markdown",
   "metadata": {},
   "source": [
    "### Data Loading"
   ]
  },
  {
   "cell_type": "code",
   "execution_count": 4,
   "metadata": {},
   "outputs": [
    {
     "data": {
      "text/html": [
       "<div>\n",
       "<style scoped>\n",
       "    .dataframe tbody tr th:only-of-type {\n",
       "        vertical-align: middle;\n",
       "    }\n",
       "\n",
       "    .dataframe tbody tr th {\n",
       "        vertical-align: top;\n",
       "    }\n",
       "\n",
       "    .dataframe thead th {\n",
       "        text-align: right;\n",
       "    }\n",
       "</style>\n",
       "<table border=\"1\" class=\"dataframe\">\n",
       "  <thead>\n",
       "    <tr style=\"text-align: right;\">\n",
       "      <th></th>\n",
       "      <th>qid</th>\n",
       "      <th>question_text</th>\n",
       "      <th>target</th>\n",
       "    </tr>\n",
       "  </thead>\n",
       "  <tbody>\n",
       "    <tr>\n",
       "      <td>0</td>\n",
       "      <td>00002165364db923c7e6</td>\n",
       "      <td>How did Quebec nationalists see their province...</td>\n",
       "      <td>0</td>\n",
       "    </tr>\n",
       "    <tr>\n",
       "      <td>1</td>\n",
       "      <td>000032939017120e6e44</td>\n",
       "      <td>Do you have an adopted dog, how would you enco...</td>\n",
       "      <td>0</td>\n",
       "    </tr>\n",
       "    <tr>\n",
       "      <td>2</td>\n",
       "      <td>0000412ca6e4628ce2cf</td>\n",
       "      <td>Why does velocity affect time? Does velocity a...</td>\n",
       "      <td>0</td>\n",
       "    </tr>\n",
       "    <tr>\n",
       "      <td>3</td>\n",
       "      <td>000042bf85aa498cd78e</td>\n",
       "      <td>How did Otto von Guericke used the Magdeburg h...</td>\n",
       "      <td>0</td>\n",
       "    </tr>\n",
       "    <tr>\n",
       "      <td>4</td>\n",
       "      <td>0000455dfa3e01eae3af</td>\n",
       "      <td>Can I convert montra helicon D to a mountain b...</td>\n",
       "      <td>0</td>\n",
       "    </tr>\n",
       "  </tbody>\n",
       "</table>\n",
       "</div>"
      ],
      "text/plain": [
       "                    qid                                      question_text  \\\n",
       "0  00002165364db923c7e6  How did Quebec nationalists see their province...   \n",
       "1  000032939017120e6e44  Do you have an adopted dog, how would you enco...   \n",
       "2  0000412ca6e4628ce2cf  Why does velocity affect time? Does velocity a...   \n",
       "3  000042bf85aa498cd78e  How did Otto von Guericke used the Magdeburg h...   \n",
       "4  0000455dfa3e01eae3af  Can I convert montra helicon D to a mountain b...   \n",
       "\n",
       "   target  \n",
       "0       0  \n",
       "1       0  \n",
       "2       0  \n",
       "3       0  \n",
       "4       0  "
      ]
     },
     "execution_count": 4,
     "metadata": {},
     "output_type": "execute_result"
    }
   ],
   "source": [
    "data = pd.read_csv(DATA_FILE)\n",
    "data.head()"
   ]
  },
  {
   "cell_type": "markdown",
   "metadata": {},
   "source": [
    "### Tokenizing Each Comment"
   ]
  },
  {
   "cell_type": "code",
   "execution_count": 5,
   "metadata": {},
   "outputs": [],
   "source": [
    "data_pos_tokenized = [[vec[0],ut.canon_token_sentence(vec[1]),vec[2]] \n",
    "                      for vec in data.to_numpy() if vec[2] == 1]  \n",
    "data_neg_tokenized = [[vec[0],ut.canon_token_sentence(vec[1]),vec[2]] \n",
    "                      for vec in data.to_numpy() if vec[2] == 0]   "
   ]
  },
  {
   "cell_type": "markdown",
   "metadata": {},
   "source": [
    "### Tokenized Innapropriate Question Example"
   ]
  },
  {
   "cell_type": "code",
   "execution_count": 6,
   "metadata": {},
   "outputs": [
    {
     "data": {
      "text/plain": [
       "'what do democrats think of the fact that i am homophobic and was born this way will this make you rethink your rhetoric'"
      ]
     },
     "execution_count": 6,
     "metadata": {},
     "output_type": "execute_result"
    }
   ],
   "source": [
    "' '.join(data_pos_tokenized[103][1])"
   ]
  },
  {
   "cell_type": "markdown",
   "metadata": {},
   "source": [
    "#### Tokenized Appropriate Question Example"
   ]
  },
  {
   "cell_type": "code",
   "execution_count": 7,
   "metadata": {},
   "outputs": [
    {
     "data": {
      "text/plain": [
       "'how were the calgary flames founded'"
      ]
     },
     "execution_count": 7,
     "metadata": {},
     "output_type": "execute_result"
    }
   ],
   "source": [
    "' '.join(data_neg_tokenized[11][1])"
   ]
  },
  {
   "cell_type": "markdown",
   "metadata": {},
   "source": [
    "### Train Test Split"
   ]
  },
  {
   "cell_type": "code",
   "execution_count": 8,
   "metadata": {},
   "outputs": [],
   "source": [
    "NVALID = 5000\n",
    "NTRAIN = 150000\n",
    "from random import shuffle\n",
    "train_data = data_pos_tokenized[NVALID:NTRAIN+NVALID] + data_neg_tokenized[NVALID:NTRAIN+NVALID]\n",
    "shuffle(train_data)\n",
    "valid_data = data_pos_tokenized[:NVALID] + data_neg_tokenized[:NVALID]\n",
    "shuffle(valid_data)"
   ]
  },
  {
   "cell_type": "markdown",
   "metadata": {},
   "source": [
    "### Class Construction"
   ]
  },
  {
   "cell_type": "code",
   "execution_count": 9,
   "metadata": {},
   "outputs": [
    {
     "name": "stderr",
     "output_type": "stream",
     "text": [
      "Processing Comments: 100%|██████████| 1306122/1306122 [00:40<00:00, 32614.86it/s]\n"
     ]
    }
   ],
   "source": [
    "reload(qv)\n",
    "comments = qv.CommentVocab(data_pos_tokenized+data_neg_tokenized)"
   ]
  },
  {
   "cell_type": "code",
   "execution_count": 10,
   "metadata": {},
   "outputs": [
    {
     "data": {
      "text/plain": [
       "231355"
      ]
     },
     "execution_count": 10,
     "metadata": {},
     "output_type": "execute_result"
    }
   ],
   "source": [
    "len(comments.unigram_counts[1].keys())+len(comments.unigram_counts[0].keys())"
   ]
  },
  {
   "cell_type": "code",
   "execution_count": 11,
   "metadata": {},
   "outputs": [
    {
     "data": {
      "text/plain": [
       "[15448145, 1408137]"
      ]
     },
     "execution_count": 11,
     "metadata": {},
     "output_type": "execute_result"
    }
   ],
   "source": [
    "comments.unigram_totals"
   ]
  },
  {
   "cell_type": "markdown",
   "metadata": {},
   "source": [
    "### Comparison of Question Length by Class"
   ]
  },
  {
   "cell_type": "code",
   "execution_count": 12,
   "metadata": {},
   "outputs": [
    {
     "name": "stdout",
     "output_type": "stream",
     "text": [
      "----Length of Positive Examples-----\n",
      "count    80810.000000\n",
      "mean        17.425282\n",
      "std          9.641367\n",
      "min          1.000000\n",
      "25%         10.000000\n",
      "50%         15.000000\n",
      "75%         23.000000\n",
      "max         83.000000\n",
      "dtype: float64\n",
      "\n",
      "----Length of Negative Examples-----\n",
      "count    1.225312e+06\n",
      "mean     1.260752e+01\n",
      "std      6.811622e+00\n",
      "min      2.000000e+00\n",
      "25%      8.000000e+00\n",
      "50%      1.100000e+01\n",
      "75%      1.500000e+01\n",
      "max      1.320000e+02\n",
      "dtype: float64\n"
     ]
    }
   ],
   "source": [
    "pos_lengths = [ len(vec[1]) for vec in data_pos_tokenized]\n",
    "neg_lengths = [ len(vec[1]) for vec in data_neg_tokenized]\n",
    "print('{}\\n{}\\n'.format('----Length of Positive Examples-----',pd.Series(pos_lengths).describe()))\n",
    "print('{}\\n{}'.format('----Length of Negative Examples-----',pd.Series(neg_lengths).describe()))"
   ]
  },
  {
   "cell_type": "code",
   "execution_count": 13,
   "metadata": {},
   "outputs": [
    {
     "data": {
      "text/html": [
       "\n",
       "\n",
       "\n",
       "\n",
       "\n",
       "\n",
       "  <div class=\"bk-root\" id=\"2df8a7f3-32bc-40ca-b835-4c21bb77d478\" data-root-id=\"1002\"></div>\n"
      ]
     },
     "metadata": {},
     "output_type": "display_data"
    },
    {
     "data": {
      "application/javascript": [
       "(function(root) {\n",
       "  function embed_document(root) {\n",
       "    \n",
       "  var docs_json = {\"37393b1c-fe49-43b2-96c6-f803a56df736\":{\"roots\":{\"references\":[{\"attributes\":{\"below\":[{\"id\":\"1013\",\"type\":\"LinearAxis\"}],\"center\":[{\"id\":\"1017\",\"type\":\"Grid\"},{\"id\":\"1022\",\"type\":\"Grid\"},{\"id\":\"1048\",\"type\":\"Legend\"}],\"left\":[{\"id\":\"1018\",\"type\":\"LinearAxis\"}],\"plot_height\":400,\"plot_width\":750,\"renderers\":[{\"id\":\"1040\",\"type\":\"GlyphRenderer\"},{\"id\":\"1054\",\"type\":\"GlyphRenderer\"}],\"title\":{\"id\":\"1003\",\"type\":\"Title\"},\"toolbar\":{\"id\":\"1029\",\"type\":\"Toolbar\"},\"x_range\":{\"id\":\"1005\",\"type\":\"DataRange1d\"},\"x_scale\":{\"id\":\"1009\",\"type\":\"LinearScale\"},\"y_range\":{\"id\":\"1007\",\"type\":\"DataRange1d\"},\"y_scale\":{\"id\":\"1011\",\"type\":\"LinearScale\"}},\"id\":\"1002\",\"subtype\":\"Figure\",\"type\":\"Plot\"},{\"attributes\":{},\"id\":\"1027\",\"type\":\"ResetTool\"},{\"attributes\":{\"formatter\":{\"id\":\"1046\",\"type\":\"BasicTickFormatter\"},\"ticker\":{\"id\":\"1019\",\"type\":\"BasicTicker\"}},\"id\":\"1018\",\"type\":\"LinearAxis\"},{\"attributes\":{\"text\":\"Distribution of Question Lengths\"},\"id\":\"1003\",\"type\":\"Title\"},{\"attributes\":{},\"id\":\"1009\",\"type\":\"LinearScale\"},{\"attributes\":{},\"id\":\"1026\",\"type\":\"SaveTool\"},{\"attributes\":{\"callback\":null,\"data\":{\"lengths\":[0,1,2,3,4,5,6,7,8,9,10,11,12,13,14,15,16,17,18,19,20,21,22,23,24,25,26,27,28,29,30,31,32,33,34,35,36,37,38,39,40,41,42,43,44,45,46,47,48,49,50,51,52,53,54,55,56,57,58,59,60,61,62,63,64,65,66,67,68,69,70,71,72,73,74,75,76,77,78,79,80,81,82,83,84,85,86,87,88,89,90,91,92,93,94,95,96,97,98,99,100,101,102,103,104,105,106,107,108,109,110,111,112,113,114,115,116,117,118,119,120,121,122,123,124,125,126,127,128,129,130,131,132],\"neg\":[0,0,3.998981483899611e-05,0.00455067770494372,0.01698506176386096,0.03336211511843514,0.058222722049567785,0.08108465435742081,0.09517004648611946,0.09716300827870779,0.09085767543286934,0.07847633908751404,0.06756156799247864,0.05672840876446162,0.04724347757958789,0.039033323757540934,0.032727174793032304,0.02763051369773576,0.02323897913347784,0.019545226032226894,0.016816125199132954,0.014797863727768928,0.012649023269175524,0.01133996892220104,0.009948486589538012,0.008734102008304824,0.007842900420464339,0.006611377347157296,0.0056605990963934085,0.004848561019560732,0.0039010472434775796,0.003359144446475673,0.0028270350735159697,0.00240020500900995,0.0021064022877438564,0.0019170627562612624,0.0017162975633960983,0.001604489305580946,0.0014706458436708366,0.001405356350056149,0.001296812566921731,0.0012249941239455746,0.001075644407301977,0.0009491460134235199,0.0007475647018881722,0.0007067587683789924,0.0005908699172129221,0.0004994646261523596,0.0003623566895615158,0.00030114778929774623,0.0002195359222793868,0.00018199446345094146,0.00010283095244313286,6.447337494450393e-05,4.16220521793633e-05,2.8564153456425792e-05,1.5506254733488287e-05,6.528949361468752e-06,2.4483560105507823e-06,2.4483560105507823e-06,0,0,8.16118670183594e-07,0,0,0,0,0,0,0,0,0,0,0,0,0,0,0,0,0,0,0,0,0,0,0,0,0,0,0,0,0,0,0,0,0,0,0,0,0,0,0,0,0,0,0,0,0,0,0,0,0,0,0,0,0,0,0,0,0,0,0,0,0,0,0,0,0,0,0,0,0,8.16118670183594e-07],\"pos\":[0,2.4749412201460217e-05,0.000346491770820443,0.002771934166563544,0.011805469620096523,0.026630367528771192,0.03737161242420493,0.04620715258012622,0.05121890855092191,0.05159014973394382,0.05277812151961391,0.05032792971166935,0.04946170028461824,0.0461576537557233,0.04313822546714516,0.041517138967949514,0.03806459596584581,0.036888998886276454,0.0355525306273976,0.032582601163222376,0.030676896423709937,0.02752134636802376,0.02757084519242668,0.02529389926989234,0.023499566885286476,0.021135998020047023,0.019688157406261602,0.017807202078950625,0.014738274965969559,0.013537928474198737,0.012114837272614776,0.010629872540527163,0.009466650167058532,0.00925628016334612,0.008402425442395743,0.008575671327805965,0.00796931072887019,0.007461947778740255,0.007499071897042445,0.007214453656725653,0.007103081301819082,0.005939858928350451,0.0050736295012993446,0.004207400074248237,0.003551540650909541,0.0027100606360598934,0.002425442395743101,0.0015715876747927236,0.0011755970795693602,0.0007053582477416162,0.0003712411830219032,0.00024749412201460216,0.0001732458854102215,8.662294270511075e-05,6.187353050365054e-05,1.2374706100730108e-05,0,2.4749412201460217e-05,1.2374706100730108e-05,0,1.2374706100730108e-05,0,0,1.2374706100730108e-05,0,0,0,0,1.2374706100730108e-05,0,0,0,0,0,0,0,0,0,0,0,0,0,0,1.2374706100730108e-05,0,0,0,0,0,0,0,0,0,0,0,0,0,0,0,0,0,0,0,0,0,0,0,0,0,0,0,0,0,0,0,0,0,0,0,0,0,0,0,0,0,0,0,0,0,0,0,0,0]},\"selected\":{\"id\":\"1062\",\"type\":\"Selection\"},\"selection_policy\":{\"id\":\"1063\",\"type\":\"UnionRenderers\"}},\"id\":\"1036\",\"type\":\"ColumnDataSource\"},{\"attributes\":{\"callback\":null},\"id\":\"1007\",\"type\":\"DataRange1d\"},{\"attributes\":{\"overlay\":{\"id\":\"1047\",\"type\":\"BoxAnnotation\"}},\"id\":\"1025\",\"type\":\"BoxZoomTool\"},{\"attributes\":{\"ticker\":{\"id\":\"1014\",\"type\":\"BasicTicker\"}},\"id\":\"1017\",\"type\":\"Grid\"},{\"attributes\":{\"label\":{\"value\":\"Appropriate\"},\"renderers\":[{\"id\":\"1054\",\"type\":\"GlyphRenderer\"}]},\"id\":\"1064\",\"type\":\"LegendItem\"},{\"attributes\":{\"source\":{\"id\":\"1036\",\"type\":\"ColumnDataSource\"}},\"id\":\"1041\",\"type\":\"CDSView\"},{\"attributes\":{\"callback\":null},\"id\":\"1005\",\"type\":\"DataRange1d\"},{\"attributes\":{\"callback\":null,\"data\":{\"lengths\":[0,1,2,3,4,5,6,7,8,9,10,11,12,13,14,15,16,17,18,19,20,21,22,23,24,25,26,27,28,29,30,31,32,33,34,35,36,37,38,39,40,41,42,43,44,45,46,47,48,49,50,51,52,53,54,55,56,57,58,59,60,61,62,63,64,65,66,67,68,69,70,71,72,73,74,75,76,77,78,79,80,81,82,83,84,85,86,87,88,89,90,91,92,93,94,95,96,97,98,99,100,101,102,103,104,105,106,107,108,109,110,111,112,113,114,115,116,117,118,119,120,121,122,123,124,125,126,127,128,129,130,131,132],\"neg\":[0,0,3.998981483899611e-05,0.00455067770494372,0.01698506176386096,0.03336211511843514,0.058222722049567785,0.08108465435742081,0.09517004648611946,0.09716300827870779,0.09085767543286934,0.07847633908751404,0.06756156799247864,0.05672840876446162,0.04724347757958789,0.039033323757540934,0.032727174793032304,0.02763051369773576,0.02323897913347784,0.019545226032226894,0.016816125199132954,0.014797863727768928,0.012649023269175524,0.01133996892220104,0.009948486589538012,0.008734102008304824,0.007842900420464339,0.006611377347157296,0.0056605990963934085,0.004848561019560732,0.0039010472434775796,0.003359144446475673,0.0028270350735159697,0.00240020500900995,0.0021064022877438564,0.0019170627562612624,0.0017162975633960983,0.001604489305580946,0.0014706458436708366,0.001405356350056149,0.001296812566921731,0.0012249941239455746,0.001075644407301977,0.0009491460134235199,0.0007475647018881722,0.0007067587683789924,0.0005908699172129221,0.0004994646261523596,0.0003623566895615158,0.00030114778929774623,0.0002195359222793868,0.00018199446345094146,0.00010283095244313286,6.447337494450393e-05,4.16220521793633e-05,2.8564153456425792e-05,1.5506254733488287e-05,6.528949361468752e-06,2.4483560105507823e-06,2.4483560105507823e-06,0,0,8.16118670183594e-07,0,0,0,0,0,0,0,0,0,0,0,0,0,0,0,0,0,0,0,0,0,0,0,0,0,0,0,0,0,0,0,0,0,0,0,0,0,0,0,0,0,0,0,0,0,0,0,0,0,0,0,0,0,0,0,0,0,0,0,0,0,0,0,0,0,0,0,0,0,8.16118670183594e-07],\"pos\":[0,2.4749412201460217e-05,0.000346491770820443,0.002771934166563544,0.011805469620096523,0.026630367528771192,0.03737161242420493,0.04620715258012622,0.05121890855092191,0.05159014973394382,0.05277812151961391,0.05032792971166935,0.04946170028461824,0.0461576537557233,0.04313822546714516,0.041517138967949514,0.03806459596584581,0.036888998886276454,0.0355525306273976,0.032582601163222376,0.030676896423709937,0.02752134636802376,0.02757084519242668,0.02529389926989234,0.023499566885286476,0.021135998020047023,0.019688157406261602,0.017807202078950625,0.014738274965969559,0.013537928474198737,0.012114837272614776,0.010629872540527163,0.009466650167058532,0.00925628016334612,0.008402425442395743,0.008575671327805965,0.00796931072887019,0.007461947778740255,0.007499071897042445,0.007214453656725653,0.007103081301819082,0.005939858928350451,0.0050736295012993446,0.004207400074248237,0.003551540650909541,0.0027100606360598934,0.002425442395743101,0.0015715876747927236,0.0011755970795693602,0.0007053582477416162,0.0003712411830219032,0.00024749412201460216,0.0001732458854102215,8.662294270511075e-05,6.187353050365054e-05,1.2374706100730108e-05,0,2.4749412201460217e-05,1.2374706100730108e-05,0,1.2374706100730108e-05,0,0,1.2374706100730108e-05,0,0,0,0,1.2374706100730108e-05,0,0,0,0,0,0,0,0,0,0,0,0,0,0,1.2374706100730108e-05,0,0,0,0,0,0,0,0,0,0,0,0,0,0,0,0,0,0,0,0,0,0,0,0,0,0,0,0,0,0,0,0,0,0,0,0,0,0,0,0,0,0,0,0,0,0,0,0,0]},\"selected\":{\"id\":\"1073\",\"type\":\"Selection\"},\"selection_policy\":{\"id\":\"1074\",\"type\":\"UnionRenderers\"}},\"id\":\"1050\",\"type\":\"ColumnDataSource\"},{\"attributes\":{},\"id\":\"1011\",\"type\":\"LinearScale\"},{\"attributes\":{\"formatter\":{\"id\":\"1044\",\"type\":\"BasicTickFormatter\"},\"ticker\":{\"id\":\"1014\",\"type\":\"BasicTicker\"}},\"id\":\"1013\",\"type\":\"LinearAxis\"},{\"attributes\":{},\"id\":\"1014\",\"type\":\"BasicTicker\"},{\"attributes\":{\"fill_alpha\":{\"value\":0.75},\"fill_color\":{\"value\":\"#c9d9d3\"},\"line_alpha\":{\"value\":0.75},\"line_color\":{\"value\":\"#c9d9d3\"},\"top\":{\"field\":\"neg\"},\"width\":{\"value\":0.9},\"x\":{\"field\":\"lengths\"}},\"id\":\"1052\",\"type\":\"VBar\"},{\"attributes\":{\"fill_alpha\":{\"value\":0.1},\"fill_color\":{\"value\":\"#1f77b4\"},\"line_alpha\":{\"value\":0.1},\"line_color\":{\"value\":\"#1f77b4\"},\"top\":{\"field\":\"neg\"},\"width\":{\"value\":0.9},\"x\":{\"field\":\"lengths\"}},\"id\":\"1053\",\"type\":\"VBar\"},{\"attributes\":{},\"id\":\"1019\",\"type\":\"BasicTicker\"},{\"attributes\":{\"data_source\":{\"id\":\"1050\",\"type\":\"ColumnDataSource\"},\"glyph\":{\"id\":\"1052\",\"type\":\"VBar\"},\"hover_glyph\":null,\"muted_glyph\":null,\"nonselection_glyph\":{\"id\":\"1053\",\"type\":\"VBar\"},\"selection_glyph\":null,\"view\":{\"id\":\"1055\",\"type\":\"CDSView\"}},\"id\":\"1054\",\"type\":\"GlyphRenderer\"},{\"attributes\":{},\"id\":\"1024\",\"type\":\"WheelZoomTool\"},{\"attributes\":{\"source\":{\"id\":\"1050\",\"type\":\"ColumnDataSource\"}},\"id\":\"1055\",\"type\":\"CDSView\"},{\"attributes\":{},\"id\":\"1023\",\"type\":\"PanTool\"},{\"attributes\":{},\"id\":\"1046\",\"type\":\"BasicTickFormatter\"},{\"attributes\":{\"dimension\":1,\"ticker\":{\"id\":\"1019\",\"type\":\"BasicTicker\"}},\"id\":\"1022\",\"type\":\"Grid\"},{\"attributes\":{},\"id\":\"1063\",\"type\":\"UnionRenderers\"},{\"attributes\":{\"items\":[{\"id\":\"1049\",\"type\":\"LegendItem\"},{\"id\":\"1064\",\"type\":\"LegendItem\"}]},\"id\":\"1048\",\"type\":\"Legend\"},{\"attributes\":{\"label\":{\"value\":\"Inappropriate\"},\"renderers\":[{\"id\":\"1040\",\"type\":\"GlyphRenderer\"}]},\"id\":\"1049\",\"type\":\"LegendItem\"},{\"attributes\":{\"fill_alpha\":{\"value\":0.1},\"fill_color\":{\"value\":\"#1f77b4\"},\"line_alpha\":{\"value\":0.1},\"line_color\":{\"value\":\"#1f77b4\"},\"top\":{\"field\":\"pos\"},\"width\":{\"value\":0.9},\"x\":{\"field\":\"lengths\"}},\"id\":\"1039\",\"type\":\"VBar\"},{\"attributes\":{},\"id\":\"1073\",\"type\":\"Selection\"},{\"attributes\":{\"bottom_units\":\"screen\",\"fill_alpha\":{\"value\":0.5},\"fill_color\":{\"value\":\"lightgrey\"},\"left_units\":\"screen\",\"level\":\"overlay\",\"line_alpha\":{\"value\":1.0},\"line_color\":{\"value\":\"black\"},\"line_dash\":[4,4],\"line_width\":{\"value\":2},\"render_mode\":\"css\",\"right_units\":\"screen\",\"top_units\":\"screen\"},\"id\":\"1047\",\"type\":\"BoxAnnotation\"},{\"attributes\":{\"fill_alpha\":{\"value\":0.75},\"fill_color\":{\"value\":\"#718dbf\"},\"line_alpha\":{\"value\":0.75},\"line_color\":{\"value\":\"#718dbf\"},\"top\":{\"field\":\"pos\"},\"width\":{\"value\":0.9},\"x\":{\"field\":\"lengths\"}},\"id\":\"1038\",\"type\":\"VBar\"},{\"attributes\":{},\"id\":\"1074\",\"type\":\"UnionRenderers\"},{\"attributes\":{},\"id\":\"1062\",\"type\":\"Selection\"},{\"attributes\":{},\"id\":\"1028\",\"type\":\"HelpTool\"},{\"attributes\":{},\"id\":\"1044\",\"type\":\"BasicTickFormatter\"},{\"attributes\":{\"active_drag\":\"auto\",\"active_inspect\":\"auto\",\"active_multi\":null,\"active_scroll\":\"auto\",\"active_tap\":\"auto\",\"tools\":[{\"id\":\"1023\",\"type\":\"PanTool\"},{\"id\":\"1024\",\"type\":\"WheelZoomTool\"},{\"id\":\"1025\",\"type\":\"BoxZoomTool\"},{\"id\":\"1026\",\"type\":\"SaveTool\"},{\"id\":\"1027\",\"type\":\"ResetTool\"},{\"id\":\"1028\",\"type\":\"HelpTool\"}]},\"id\":\"1029\",\"type\":\"Toolbar\"},{\"attributes\":{\"data_source\":{\"id\":\"1036\",\"type\":\"ColumnDataSource\"},\"glyph\":{\"id\":\"1038\",\"type\":\"VBar\"},\"hover_glyph\":null,\"muted_glyph\":null,\"nonselection_glyph\":{\"id\":\"1039\",\"type\":\"VBar\"},\"selection_glyph\":null,\"view\":{\"id\":\"1041\",\"type\":\"CDSView\"}},\"id\":\"1040\",\"type\":\"GlyphRenderer\"}],\"root_ids\":[\"1002\"]},\"title\":\"Bokeh Application\",\"version\":\"1.3.4\"}};\n",
       "  var render_items = [{\"docid\":\"37393b1c-fe49-43b2-96c6-f803a56df736\",\"roots\":{\"1002\":\"2df8a7f3-32bc-40ca-b835-4c21bb77d478\"}}];\n",
       "  root.Bokeh.embed.embed_items_notebook(docs_json, render_items);\n",
       "\n",
       "  }\n",
       "  if (root.Bokeh !== undefined) {\n",
       "    embed_document(root);\n",
       "  } else {\n",
       "    var attempts = 0;\n",
       "    var timer = setInterval(function(root) {\n",
       "      if (root.Bokeh !== undefined) {\n",
       "        embed_document(root);\n",
       "        clearInterval(timer);\n",
       "      }\n",
       "      attempts++;\n",
       "      if (attempts > 100) {\n",
       "        console.log(\"Bokeh: ERROR: Unable to run BokehJS code because BokehJS library is missing\");\n",
       "        clearInterval(timer);\n",
       "      }\n",
       "    }, 10, root)\n",
       "  }\n",
       "})(window);"
      ],
      "application/vnd.bokehjs_exec.v0+json": ""
     },
     "metadata": {
      "application/vnd.bokehjs_exec.v0+json": {
       "id": "1002"
      }
     },
     "output_type": "display_data"
    }
   ],
   "source": [
    "comments.comment_length_graph()"
   ]
  },
  {
   "cell_type": "markdown",
   "metadata": {},
   "source": [
    "#### Comments\n",
    "\n",
    "* We can see from the summary statistics and the empirical distribution that the distribution of inappropriate questions has a fatter tail than the distribution of appropriate questions demonstrating that innaproriate questions tend to be somewhat longer. This matches what one would expect from the description of the innapropriate class which includes questions that are really statements of some position that the user has, or just generalized trolling.\n",
    "\n",
    "* On the other hand one can interpret the relative shortness of appropriate question as reflecting more concise and clearly stated questions. "
   ]
  },
  {
   "cell_type": "markdown",
   "metadata": {},
   "source": [
    "### Comparison of Word Frequency By Class"
   ]
  },
  {
   "cell_type": "code",
   "execution_count": 14,
   "metadata": {},
   "outputs": [
    {
     "data": {
      "text/html": [
       "\n",
       "\n",
       "\n",
       "\n",
       "\n",
       "\n",
       "  <div class=\"bk-root\" id=\"f29f074c-4f45-473f-8f17-3ef41cad7840\" data-root-id=\"1138\"></div>\n"
      ]
     },
     "metadata": {},
     "output_type": "display_data"
    },
    {
     "data": {
      "application/javascript": [
       "(function(root) {\n",
       "  function embed_document(root) {\n",
       "    \n",
       "  var docs_json = {\"0fb84752-faf4-4982-ac3f-7c7a5bd7af3a\":{\"roots\":{\"references\":[{\"attributes\":{\"below\":[{\"id\":\"1149\",\"type\":\"CategoricalAxis\"}],\"center\":[{\"id\":\"1152\",\"type\":\"Grid\"},{\"id\":\"1157\",\"type\":\"Grid\"}],\"left\":[{\"id\":\"1153\",\"type\":\"LinearAxis\"}],\"plot_height\":300,\"plot_width\":750,\"renderers\":[{\"id\":\"1185\",\"type\":\"GlyphRenderer\"}],\"title\":{\"id\":\"1139\",\"type\":\"Title\"},\"toolbar\":{\"id\":\"1158\",\"type\":\"Toolbar\"},\"x_range\":{\"id\":\"1141\",\"type\":\"FactorRange\"},\"x_scale\":{\"id\":\"1145\",\"type\":\"CategoricalScale\"},\"y_range\":{\"id\":\"1143\",\"type\":\"DataRange1d\"},\"y_scale\":{\"id\":\"1147\",\"type\":\"LinearScale\"}},\"id\":\"1138\",\"subtype\":\"Figure\",\"type\":\"Plot\"},{\"attributes\":{\"data_source\":{\"id\":\"1135\",\"type\":\"ColumnDataSource\"},\"glyph\":{\"id\":\"1183\",\"type\":\"VBar\"},\"hover_glyph\":null,\"muted_glyph\":null,\"nonselection_glyph\":{\"id\":\"1184\",\"type\":\"VBar\"},\"selection_glyph\":null,\"view\":{\"id\":\"1186\",\"type\":\"CDSView\"}},\"id\":\"1185\",\"type\":\"GlyphRenderer\"},{\"attributes\":{\"callback\":null,\"factors\":[\"a\",\"to\",\"in\",\"of\",\"i\",\"how\",\"and\",\"do\",\"are\",\"for\",\"you\",\"can\",\"it\",\"why\",\"my\",\"if\",\"that\",\"on\",\"or\",\"with\",\"be\",\"have\",\"does\",\"your\",\"from\",\"which\",\"an\",\"best\",\"should\",\"get\",\"DG\",\"would\",\"when\",\"as\",\"some\",\"DGDG\",\"there\",\"who\",\"will\",\"at\",\"like\",\"people\",\"not\",\"about\",\"was\",\"any\",\"did\"]},\"id\":\"1141\",\"type\":\"FactorRange\"},{\"attributes\":{},\"id\":\"1145\",\"type\":\"CategoricalScale\"},{\"attributes\":{\"callback\":null},\"id\":\"1143\",\"type\":\"DataRange1d\"},{\"attributes\":{\"formatter\":{\"id\":\"1204\",\"type\":\"CategoricalTickFormatter\"},\"major_label_orientation\":1,\"ticker\":{\"id\":\"1150\",\"type\":\"CategoricalTicker\"}},\"id\":\"1149\",\"type\":\"CategoricalAxis\"},{\"attributes\":{\"text\":\"Appropriate Question Unigram Frequency\"},\"id\":\"1139\",\"type\":\"Title\"},{\"attributes\":{},\"id\":\"1150\",\"type\":\"CategoricalTicker\"},{\"attributes\":{},\"id\":\"1147\",\"type\":\"LinearScale\"},{\"attributes\":{\"dimension\":1,\"ticker\":{\"id\":\"1154\",\"type\":\"BasicTicker\"}},\"id\":\"1157\",\"type\":\"Grid\"},{\"attributes\":{\"source\":{\"id\":\"1135\",\"type\":\"ColumnDataSource\"}},\"id\":\"1186\",\"type\":\"CDSView\"},{\"attributes\":{},\"id\":\"1154\",\"type\":\"BasicTicker\"},{\"attributes\":{\"callback\":null,\"tooltips\":[[\"Word\",\"$neg_vocab_words\"],[\"Freq\",\"$neg_vocab_freq\"]]},\"id\":\"1136\",\"type\":\"HoverTool\"},{\"attributes\":{},\"id\":\"1204\",\"type\":\"CategoricalTickFormatter\"},{\"attributes\":{\"formatter\":{\"id\":\"1206\",\"type\":\"BasicTickFormatter\"},\"ticker\":{\"id\":\"1154\",\"type\":\"BasicTicker\"}},\"id\":\"1153\",\"type\":\"LinearAxis\"},{\"attributes\":{},\"id\":\"1208\",\"type\":\"UnionRenderers\"},{\"attributes\":{},\"id\":\"1207\",\"type\":\"Selection\"},{\"attributes\":{\"active_drag\":\"auto\",\"active_inspect\":\"auto\",\"active_multi\":null,\"active_scroll\":\"auto\",\"active_tap\":\"auto\",\"tools\":[{\"id\":\"1136\",\"type\":\"HoverTool\"}]},\"id\":\"1158\",\"type\":\"Toolbar\"},{\"attributes\":{},\"id\":\"1206\",\"type\":\"BasicTickFormatter\"},{\"attributes\":{\"fill_alpha\":{\"value\":0.1},\"fill_color\":{\"value\":\"#1f77b4\"},\"line_alpha\":{\"value\":0.1},\"line_color\":{\"value\":\"#1f77b4\"},\"top\":{\"field\":\"neg_vocab_freq\"},\"width\":{\"value\":0.9},\"x\":{\"field\":\"neg_vocab_words\"}},\"id\":\"1184\",\"type\":\"VBar\"},{\"attributes\":{\"fill_color\":{\"value\":\"#1f77b4\"},\"line_color\":{\"value\":\"#1f77b4\"},\"top\":{\"field\":\"neg_vocab_freq\"},\"width\":{\"value\":0.9},\"x\":{\"field\":\"neg_vocab_words\"}},\"id\":\"1183\",\"type\":\"VBar\"},{\"attributes\":{\"callback\":null,\"data\":{\"neg_vocab_freq\":[383403.0,371814.0,356823.0,308685.0,299112.0,280543.0,229111.0,228514.0,219765.0,193367.0,187129.0,170739.0,127357.0,127273.0,107353.0,91126.0,90437.0,87073.0,86851.0,86386.0,84058.0,83678.0,80672.0,65187.0,64836.0,64415.0,63452.0,61814.0,60799.0,59515.0,57263.0,57252.0,56093.0,53514.0,52385.0,49916.0,49868.0,46098.0,46090.0,45026.0,43478.0,42826.0,40930.0,40164.0,38080.0,38002.0,37740.0],\"neg_vocab_words\":[\"a\",\"to\",\"in\",\"of\",\"i\",\"how\",\"and\",\"do\",\"are\",\"for\",\"you\",\"can\",\"it\",\"why\",\"my\",\"if\",\"that\",\"on\",\"or\",\"with\",\"be\",\"have\",\"does\",\"your\",\"from\",\"which\",\"an\",\"best\",\"should\",\"get\",\"DG\",\"would\",\"when\",\"as\",\"some\",\"DGDG\",\"there\",\"who\",\"will\",\"at\",\"like\",\"people\",\"not\",\"about\",\"was\",\"any\",\"did\"],\"pos_vocab_freq\":[28724.0,27497.0,27127.0,24804.0,24662.0,23247.0,21241.0,16219.0,13187.0,12815.0,11784.0,11586.0,11091.0,9532.0,9454.0,9441.0,9324.0,9098.0,8438.0,8319.0,8021.0,7839.0,7765.0,7702.0,7078.0,6970.0,6784.0,6277.0,6007.0,5955.0,5832.0,5778.0,5302.0,5129.0,5059.0,5009.0,5006.0,4687.0,4640.0,4156.0,4147.0,4141.0,3982.0,3932.0,3930.0,3924.0,3892.0],\"pos_vocab_words\":[\"and\",\"is\",\"a\",\"of\",\"do\",\"are\",\"in\",\"that\",\"it\",\"people\",\"they\",\"i\",\"for\",\"with\",\"how\",\"so\",\"you\",\"have\",\"their\",\"what\",\"be\",\"if\",\"on\",\"or\",\"as\",\"not\",\"when\",\"can\",\"like\",\"trump\",\"women\",\"does\",\"my\",\"who\",\"by\",\"from\",\"about\",\"all\",\"will\",\"dont\",\"men\",\"would\",\"did\",\"more\",\"this\",\"an\",\"think\"]},\"selected\":{\"id\":\"1207\",\"type\":\"Selection\"},\"selection_policy\":{\"id\":\"1208\",\"type\":\"UnionRenderers\"}},\"id\":\"1135\",\"type\":\"ColumnDataSource\"},{\"attributes\":{\"grid_line_color\":null,\"ticker\":{\"id\":\"1150\",\"type\":\"CategoricalTicker\"}},\"id\":\"1152\",\"type\":\"Grid\"}],\"root_ids\":[\"1138\"]},\"title\":\"Bokeh Application\",\"version\":\"1.3.4\"}};\n",
       "  var render_items = [{\"docid\":\"0fb84752-faf4-4982-ac3f-7c7a5bd7af3a\",\"roots\":{\"1138\":\"f29f074c-4f45-473f-8f17-3ef41cad7840\"}}];\n",
       "  root.Bokeh.embed.embed_items_notebook(docs_json, render_items);\n",
       "\n",
       "  }\n",
       "  if (root.Bokeh !== undefined) {\n",
       "    embed_document(root);\n",
       "  } else {\n",
       "    var attempts = 0;\n",
       "    var timer = setInterval(function(root) {\n",
       "      if (root.Bokeh !== undefined) {\n",
       "        embed_document(root);\n",
       "        clearInterval(timer);\n",
       "      }\n",
       "      attempts++;\n",
       "      if (attempts > 100) {\n",
       "        console.log(\"Bokeh: ERROR: Unable to run BokehJS code because BokehJS library is missing\");\n",
       "        clearInterval(timer);\n",
       "      }\n",
       "    }, 10, root)\n",
       "  }\n",
       "})(window);"
      ],
      "application/vnd.bokehjs_exec.v0+json": ""
     },
     "metadata": {
      "application/vnd.bokehjs_exec.v0+json": {
       "id": "1138"
      }
     },
     "output_type": "display_data"
    },
    {
     "data": {
      "text/html": [
       "\n",
       "\n",
       "\n",
       "\n",
       "\n",
       "\n",
       "  <div class=\"bk-root\" id=\"c4ed51bb-5ff0-45b7-a80a-de0c84f703f1\" data-root-id=\"1160\"></div>\n"
      ]
     },
     "metadata": {},
     "output_type": "display_data"
    },
    {
     "data": {
      "application/javascript": [
       "(function(root) {\n",
       "  function embed_document(root) {\n",
       "    \n",
       "  var docs_json = {\"8ff53d28-5832-4631-87c5-55370993f85b\":{\"roots\":{\"references\":[{\"attributes\":{\"below\":[{\"id\":\"1171\",\"type\":\"CategoricalAxis\"}],\"center\":[{\"id\":\"1174\",\"type\":\"Grid\"},{\"id\":\"1179\",\"type\":\"Grid\"}],\"left\":[{\"id\":\"1175\",\"type\":\"LinearAxis\"}],\"plot_height\":300,\"plot_width\":750,\"renderers\":[{\"id\":\"1190\",\"type\":\"GlyphRenderer\"}],\"title\":{\"id\":\"1161\",\"type\":\"Title\"},\"toolbar\":{\"id\":\"1180\",\"type\":\"Toolbar\"},\"x_range\":{\"id\":\"1163\",\"type\":\"FactorRange\"},\"x_scale\":{\"id\":\"1167\",\"type\":\"CategoricalScale\"},\"y_range\":{\"id\":\"1165\",\"type\":\"DataRange1d\"},\"y_scale\":{\"id\":\"1169\",\"type\":\"LinearScale\"}},\"id\":\"1160\",\"subtype\":\"Figure\",\"type\":\"Plot\"},{\"attributes\":{},\"id\":\"1176\",\"type\":\"BasicTicker\"},{\"attributes\":{\"source\":{\"id\":\"1135\",\"type\":\"ColumnDataSource\"}},\"id\":\"1191\",\"type\":\"CDSView\"},{\"attributes\":{},\"id\":\"1172\",\"type\":\"CategoricalTicker\"},{\"attributes\":{\"data_source\":{\"id\":\"1135\",\"type\":\"ColumnDataSource\"},\"glyph\":{\"id\":\"1188\",\"type\":\"VBar\"},\"hover_glyph\":null,\"muted_glyph\":null,\"nonselection_glyph\":{\"id\":\"1189\",\"type\":\"VBar\"},\"selection_glyph\":null,\"view\":{\"id\":\"1191\",\"type\":\"CDSView\"}},\"id\":\"1190\",\"type\":\"GlyphRenderer\"},{\"attributes\":{\"grid_line_color\":null,\"ticker\":{\"id\":\"1172\",\"type\":\"CategoricalTicker\"}},\"id\":\"1174\",\"type\":\"Grid\"},{\"attributes\":{\"fill_color\":{\"value\":\"#1f77b4\"},\"line_color\":{\"value\":\"#1f77b4\"},\"top\":{\"field\":\"pos_vocab_freq\"},\"width\":{\"value\":0.9},\"x\":{\"field\":\"pos_vocab_words\"}},\"id\":\"1188\",\"type\":\"VBar\"},{\"attributes\":{},\"id\":\"1272\",\"type\":\"BasicTickFormatter\"},{\"attributes\":{\"fill_alpha\":{\"value\":0.1},\"fill_color\":{\"value\":\"#1f77b4\"},\"line_alpha\":{\"value\":0.1},\"line_color\":{\"value\":\"#1f77b4\"},\"top\":{\"field\":\"pos_vocab_freq\"},\"width\":{\"value\":0.9},\"x\":{\"field\":\"pos_vocab_words\"}},\"id\":\"1189\",\"type\":\"VBar\"},{\"attributes\":{\"active_drag\":\"auto\",\"active_inspect\":\"auto\",\"active_multi\":null,\"active_scroll\":\"auto\",\"active_tap\":\"auto\",\"tools\":[{\"id\":\"1137\",\"type\":\"HoverTool\"}]},\"id\":\"1180\",\"type\":\"Toolbar\"},{\"attributes\":{},\"id\":\"1208\",\"type\":\"UnionRenderers\"},{\"attributes\":{},\"id\":\"1207\",\"type\":\"Selection\"},{\"attributes\":{\"callback\":null,\"tooltips\":[[\"Word\",\"$pos_vocab_words\"],[\"Freq\",\"$pos_vocab_freq\"]]},\"id\":\"1137\",\"type\":\"HoverTool\"},{\"attributes\":{\"dimension\":1,\"ticker\":{\"id\":\"1176\",\"type\":\"BasicTicker\"}},\"id\":\"1179\",\"type\":\"Grid\"},{\"attributes\":{},\"id\":\"1169\",\"type\":\"LinearScale\"},{\"attributes\":{\"formatter\":{\"id\":\"1272\",\"type\":\"BasicTickFormatter\"},\"ticker\":{\"id\":\"1176\",\"type\":\"BasicTicker\"}},\"id\":\"1175\",\"type\":\"LinearAxis\"},{\"attributes\":{},\"id\":\"1270\",\"type\":\"CategoricalTickFormatter\"},{\"attributes\":{\"text\":\"Inappropriate Question Unigram Frequency\"},\"id\":\"1161\",\"type\":\"Title\"},{\"attributes\":{\"callback\":null},\"id\":\"1165\",\"type\":\"DataRange1d\"},{\"attributes\":{\"callback\":null,\"factors\":[\"and\",\"is\",\"a\",\"of\",\"do\",\"are\",\"in\",\"that\",\"it\",\"people\",\"they\",\"i\",\"for\",\"with\",\"how\",\"so\",\"you\",\"have\",\"their\",\"what\",\"be\",\"if\",\"on\",\"or\",\"as\",\"not\",\"when\",\"can\",\"like\",\"trump\",\"women\",\"does\",\"my\",\"who\",\"by\",\"from\",\"about\",\"all\",\"will\",\"dont\",\"men\",\"would\",\"did\",\"more\",\"this\",\"an\",\"think\"]},\"id\":\"1163\",\"type\":\"FactorRange\"},{\"attributes\":{\"formatter\":{\"id\":\"1270\",\"type\":\"CategoricalTickFormatter\"},\"major_label_orientation\":1,\"ticker\":{\"id\":\"1172\",\"type\":\"CategoricalTicker\"}},\"id\":\"1171\",\"type\":\"CategoricalAxis\"},{\"attributes\":{\"callback\":null,\"data\":{\"neg_vocab_freq\":[383403.0,371814.0,356823.0,308685.0,299112.0,280543.0,229111.0,228514.0,219765.0,193367.0,187129.0,170739.0,127357.0,127273.0,107353.0,91126.0,90437.0,87073.0,86851.0,86386.0,84058.0,83678.0,80672.0,65187.0,64836.0,64415.0,63452.0,61814.0,60799.0,59515.0,57263.0,57252.0,56093.0,53514.0,52385.0,49916.0,49868.0,46098.0,46090.0,45026.0,43478.0,42826.0,40930.0,40164.0,38080.0,38002.0,37740.0],\"neg_vocab_words\":[\"a\",\"to\",\"in\",\"of\",\"i\",\"how\",\"and\",\"do\",\"are\",\"for\",\"you\",\"can\",\"it\",\"why\",\"my\",\"if\",\"that\",\"on\",\"or\",\"with\",\"be\",\"have\",\"does\",\"your\",\"from\",\"which\",\"an\",\"best\",\"should\",\"get\",\"DG\",\"would\",\"when\",\"as\",\"some\",\"DGDG\",\"there\",\"who\",\"will\",\"at\",\"like\",\"people\",\"not\",\"about\",\"was\",\"any\",\"did\"],\"pos_vocab_freq\":[28724.0,27497.0,27127.0,24804.0,24662.0,23247.0,21241.0,16219.0,13187.0,12815.0,11784.0,11586.0,11091.0,9532.0,9454.0,9441.0,9324.0,9098.0,8438.0,8319.0,8021.0,7839.0,7765.0,7702.0,7078.0,6970.0,6784.0,6277.0,6007.0,5955.0,5832.0,5778.0,5302.0,5129.0,5059.0,5009.0,5006.0,4687.0,4640.0,4156.0,4147.0,4141.0,3982.0,3932.0,3930.0,3924.0,3892.0],\"pos_vocab_words\":[\"and\",\"is\",\"a\",\"of\",\"do\",\"are\",\"in\",\"that\",\"it\",\"people\",\"they\",\"i\",\"for\",\"with\",\"how\",\"so\",\"you\",\"have\",\"their\",\"what\",\"be\",\"if\",\"on\",\"or\",\"as\",\"not\",\"when\",\"can\",\"like\",\"trump\",\"women\",\"does\",\"my\",\"who\",\"by\",\"from\",\"about\",\"all\",\"will\",\"dont\",\"men\",\"would\",\"did\",\"more\",\"this\",\"an\",\"think\"]},\"selected\":{\"id\":\"1207\",\"type\":\"Selection\"},\"selection_policy\":{\"id\":\"1208\",\"type\":\"UnionRenderers\"}},\"id\":\"1135\",\"type\":\"ColumnDataSource\"},{\"attributes\":{},\"id\":\"1167\",\"type\":\"CategoricalScale\"}],\"root_ids\":[\"1160\"]},\"title\":\"Bokeh Application\",\"version\":\"1.3.4\"}};\n",
       "  var render_items = [{\"docid\":\"8ff53d28-5832-4631-87c5-55370993f85b\",\"roots\":{\"1160\":\"c4ed51bb-5ff0-45b7-a80a-de0c84f703f1\"}}];\n",
       "  root.Bokeh.embed.embed_items_notebook(docs_json, render_items);\n",
       "\n",
       "  }\n",
       "  if (root.Bokeh !== undefined) {\n",
       "    embed_document(root);\n",
       "  } else {\n",
       "    var attempts = 0;\n",
       "    var timer = setInterval(function(root) {\n",
       "      if (root.Bokeh !== undefined) {\n",
       "        embed_document(root);\n",
       "        clearInterval(timer);\n",
       "      }\n",
       "      attempts++;\n",
       "      if (attempts > 100) {\n",
       "        console.log(\"Bokeh: ERROR: Unable to run BokehJS code because BokehJS library is missing\");\n",
       "        clearInterval(timer);\n",
       "      }\n",
       "    }, 10, root)\n",
       "  }\n",
       "})(window);"
      ],
      "application/vnd.bokehjs_exec.v0+json": ""
     },
     "metadata": {
      "application/vnd.bokehjs_exec.v0+json": {
       "id": "1160"
      }
     },
     "output_type": "display_data"
    }
   ],
   "source": [
    "comments.word_frequency_graphs(min_rank=3,max_rank=50)"
   ]
  },
  {
   "cell_type": "code",
   "execution_count": 15,
   "metadata": {},
   "outputs": [
    {
     "data": {
      "text/html": [
       "\n",
       "\n",
       "\n",
       "\n",
       "\n",
       "\n",
       "  <div class=\"bk-root\" id=\"0c9af6ec-2f0c-439e-ad48-fa8620609b2f\" data-root-id=\"1317\"></div>\n"
      ]
     },
     "metadata": {},
     "output_type": "display_data"
    },
    {
     "data": {
      "application/javascript": [
       "(function(root) {\n",
       "  function embed_document(root) {\n",
       "    \n",
       "  var docs_json = {\"1ff0f643-7c4a-4d57-bf71-69010f3c7bc0\":{\"roots\":{\"references\":[{\"attributes\":{\"below\":[{\"id\":\"1328\",\"type\":\"CategoricalAxis\"}],\"center\":[{\"id\":\"1331\",\"type\":\"Grid\"},{\"id\":\"1336\",\"type\":\"Grid\"}],\"left\":[{\"id\":\"1332\",\"type\":\"LinearAxis\"}],\"plot_height\":300,\"plot_width\":750,\"renderers\":[{\"id\":\"1353\",\"type\":\"GlyphRenderer\"}],\"title\":{\"id\":\"1318\",\"type\":\"Title\"},\"toolbar\":{\"id\":\"1343\",\"type\":\"Toolbar\"},\"x_range\":{\"id\":\"1320\",\"type\":\"FactorRange\"},\"x_scale\":{\"id\":\"1324\",\"type\":\"CategoricalScale\"},\"y_range\":{\"id\":\"1322\",\"type\":\"DataRange1d\"},\"y_scale\":{\"id\":\"1326\",\"type\":\"LinearScale\"}},\"id\":\"1317\",\"subtype\":\"Figure\",\"type\":\"Plot\"},{\"attributes\":{\"source\":{\"id\":\"1350\",\"type\":\"ColumnDataSource\"}},\"id\":\"1354\",\"type\":\"CDSView\"},{\"attributes\":{\"dimension\":1,\"ticker\":{\"id\":\"1333\",\"type\":\"BasicTicker\"}},\"id\":\"1336\",\"type\":\"Grid\"},{\"attributes\":{\"fill_alpha\":{\"value\":0.1},\"fill_color\":{\"value\":\"#1f77b4\"},\"line_alpha\":{\"value\":0.1},\"line_color\":{\"value\":\"#1f77b4\"},\"top\":{\"field\":\"top\"},\"width\":{\"value\":0.9},\"x\":{\"field\":\"x\"}},\"id\":\"1352\",\"type\":\"VBar\"},{\"attributes\":{},\"id\":\"1329\",\"type\":\"CategoricalTicker\"},{\"attributes\":{\"fill_color\":{\"value\":\"#1f77b4\"},\"line_color\":{\"value\":\"#1f77b4\"},\"top\":{\"field\":\"top\"},\"width\":{\"value\":0.9},\"x\":{\"field\":\"x\"}},\"id\":\"1351\",\"type\":\"VBar\"},{\"attributes\":{},\"id\":\"1383\",\"type\":\"BasicTickFormatter\"},{\"attributes\":{\"callback\":null,\"factors\":[\"what\",\"how\",\"i\",\"in\",\"is\",\"can\",\"a\",\"you\",\"for\",\"best\",\"my\",\"which\",\"the\",\"your\",\"of\",\"DG\",\"some\",\"get\",\"good\",\"an\",\"them\",\"black\",\"all\",\"dont\",\"americans\",\"are\",\"not\",\"muslims\",\"white\",\"men\",\"do\",\"women\",\"trump\",\"their\",\"so\",\"and\",\"that\",\"people\",\"they\",\"why\"]},\"id\":\"1320\",\"type\":\"FactorRange\"},{\"attributes\":{\"bottom_units\":\"screen\",\"fill_alpha\":{\"value\":0.5},\"fill_color\":{\"value\":\"lightgrey\"},\"left_units\":\"screen\",\"level\":\"overlay\",\"line_alpha\":{\"value\":1.0},\"line_color\":{\"value\":\"black\"},\"line_dash\":[4,4],\"line_width\":{\"value\":2},\"render_mode\":\"css\",\"right_units\":\"screen\",\"top_units\":\"screen\"},\"id\":\"1384\",\"type\":\"BoxAnnotation\"},{\"attributes\":{},\"id\":\"1385\",\"type\":\"Selection\"},{\"attributes\":{},\"id\":\"1326\",\"type\":\"LinearScale\"},{\"attributes\":{},\"id\":\"1386\",\"type\":\"UnionRenderers\"},{\"attributes\":{},\"id\":\"1342\",\"type\":\"HelpTool\"},{\"attributes\":{\"grid_line_color\":null,\"ticker\":{\"id\":\"1329\",\"type\":\"CategoricalTicker\"}},\"id\":\"1331\",\"type\":\"Grid\"},{\"attributes\":{},\"id\":\"1341\",\"type\":\"ResetTool\"},{\"attributes\":{\"overlay\":{\"id\":\"1384\",\"type\":\"BoxAnnotation\"}},\"id\":\"1339\",\"type\":\"BoxZoomTool\"},{\"attributes\":{\"callback\":null,\"data\":{\"top\":[0.023062468578938476,0.01144646801662462,0.011134432133674297,0.00801364331046715,0.007377046554430028,0.0065947321086783405,0.005554247233341428,0.005491848962808866,0.004640801997928231,0.003533392337889382,0.003183989963047638,0.0031357660034143833,0.002560880556011509,0.0024414938751664596,0.0023672474488758005,0.0020407570214629875,0.0019131828697425714,0.001554494267618591,0.0013425904287820707,0.001320758049510398,-0.0017265843913242067,-0.0018431566112796474,-0.0019234235640042986,-0.001962949174465642,-0.001998031518461191,-0.0022830671770301316,-0.002300293418417316,-0.0024557025817998615,-0.0024766233222776744,-0.002608092287898443,-0.0027215946772084013,-0.0036964110179078117,-0.0037782581944994387,-0.004275085835916999,-0.004787415200830349,-0.005567611761436874,-0.005663825021830352,-0.006328434760172369,-0.006378750454568502,-0.0177637177158612],\"x\":[\"what\",\"how\",\"i\",\"in\",\"is\",\"can\",\"a\",\"you\",\"for\",\"best\",\"my\",\"which\",\"the\",\"your\",\"of\",\"DG\",\"some\",\"get\",\"good\",\"an\",\"them\",\"black\",\"all\",\"dont\",\"americans\",\"are\",\"not\",\"muslims\",\"white\",\"men\",\"do\",\"women\",\"trump\",\"their\",\"so\",\"and\",\"that\",\"people\",\"they\",\"why\"]},\"selected\":{\"id\":\"1385\",\"type\":\"Selection\"},\"selection_policy\":{\"id\":\"1386\",\"type\":\"UnionRenderers\"}},\"id\":\"1350\",\"type\":\"ColumnDataSource\"},{\"attributes\":{},\"id\":\"1381\",\"type\":\"CategoricalTickFormatter\"},{\"attributes\":{},\"id\":\"1338\",\"type\":\"WheelZoomTool\"},{\"attributes\":{\"text\":\"Unigrams Frequency Difference: (Appropriate Frequency - Inappropriate Frequency)\"},\"id\":\"1318\",\"type\":\"Title\"},{\"attributes\":{},\"id\":\"1340\",\"type\":\"SaveTool\"},{\"attributes\":{\"callback\":null},\"id\":\"1322\",\"type\":\"DataRange1d\"},{\"attributes\":{},\"id\":\"1337\",\"type\":\"PanTool\"},{\"attributes\":{\"data_source\":{\"id\":\"1350\",\"type\":\"ColumnDataSource\"},\"glyph\":{\"id\":\"1351\",\"type\":\"VBar\"},\"hover_glyph\":null,\"muted_glyph\":null,\"nonselection_glyph\":{\"id\":\"1352\",\"type\":\"VBar\"},\"selection_glyph\":null,\"view\":{\"id\":\"1354\",\"type\":\"CDSView\"}},\"id\":\"1353\",\"type\":\"GlyphRenderer\"},{\"attributes\":{\"active_drag\":\"auto\",\"active_inspect\":\"auto\",\"active_multi\":null,\"active_scroll\":\"auto\",\"active_tap\":\"auto\",\"tools\":[{\"id\":\"1337\",\"type\":\"PanTool\"},{\"id\":\"1338\",\"type\":\"WheelZoomTool\"},{\"id\":\"1339\",\"type\":\"BoxZoomTool\"},{\"id\":\"1340\",\"type\":\"SaveTool\"},{\"id\":\"1341\",\"type\":\"ResetTool\"},{\"id\":\"1342\",\"type\":\"HelpTool\"}]},\"id\":\"1343\",\"type\":\"Toolbar\"},{\"attributes\":{},\"id\":\"1324\",\"type\":\"CategoricalScale\"},{\"attributes\":{\"formatter\":{\"id\":\"1383\",\"type\":\"BasicTickFormatter\"},\"ticker\":{\"id\":\"1333\",\"type\":\"BasicTicker\"}},\"id\":\"1332\",\"type\":\"LinearAxis\"},{\"attributes\":{},\"id\":\"1333\",\"type\":\"BasicTicker\"},{\"attributes\":{\"formatter\":{\"id\":\"1381\",\"type\":\"CategoricalTickFormatter\"},\"major_label_orientation\":1,\"ticker\":{\"id\":\"1329\",\"type\":\"CategoricalTicker\"}},\"id\":\"1328\",\"type\":\"CategoricalAxis\"}],\"root_ids\":[\"1317\"]},\"title\":\"Bokeh Application\",\"version\":\"1.3.4\"}};\n",
       "  var render_items = [{\"docid\":\"1ff0f643-7c4a-4d57-bf71-69010f3c7bc0\",\"roots\":{\"1317\":\"0c9af6ec-2f0c-439e-ad48-fa8620609b2f\"}}];\n",
       "  root.Bokeh.embed.embed_items_notebook(docs_json, render_items);\n",
       "\n",
       "  }\n",
       "  if (root.Bokeh !== undefined) {\n",
       "    embed_document(root);\n",
       "  } else {\n",
       "    var attempts = 0;\n",
       "    var timer = setInterval(function(root) {\n",
       "      if (root.Bokeh !== undefined) {\n",
       "        embed_document(root);\n",
       "        clearInterval(timer);\n",
       "      }\n",
       "      attempts++;\n",
       "      if (attempts > 100) {\n",
       "        console.log(\"Bokeh: ERROR: Unable to run BokehJS code because BokehJS library is missing\");\n",
       "        clearInterval(timer);\n",
       "      }\n",
       "    }, 10, root)\n",
       "  }\n",
       "})(window);"
      ],
      "application/vnd.bokehjs_exec.v0+json": ""
     },
     "metadata": {
      "application/vnd.bokehjs_exec.v0+json": {
       "id": "1317"
      }
     },
     "output_type": "display_data"
    }
   ],
   "source": [
    "comments.word_count_difference_graph(gram_length=1,num=20)"
   ]
  },
  {
   "cell_type": "markdown",
   "metadata": {},
   "source": [
    "#### Comments\n",
    "\n",
    "* The preceeding graphs show the differneces in word frequency between classes.\n",
    "\n",
    "* One thing that the last graph shows, which one should expect, is the higher frequency ,in the inappropriate class, of words that that are either polarizing e.g. 'trump' or are groups who are often subject to claims of supremacy or inferiority depending on the prejudices of the asker e.g. 'white', 'men', 'women', 'muslims'.\n",
    "\n",
    "* One interesting unexpected result is the difference in the frequency of different interogative words used in the different classes of questions e.g. 'what', 'how', and 'which' are more frequent in the appropriate class, while interogative word 'why' is far more likely in the innappropriate class. \n",
    "\n",
    "* Perhaps the increased use of 'why' in the innapropriate class is due to the ease at which one can disguise a statement of a dubious, non-factual nature as a why question. For example the question 'why are aliens managing my local dairy queen?' presents the premise, that aliens are managing a dairy queen somewhere, as fact and implicitly requires the reader to accept the premise in order to respond directly to it. Note that questions like, 'which of my local dairy queens is managed by aliens', 'how can my local dairy queen be managed by aliens', and 'does/can my local dairy queen be managed by aliens' do not require the answerer to accept the premise in order to respond. "
   ]
  },
  {
   "cell_type": "code",
   "execution_count": 16,
   "metadata": {},
   "outputs": [
    {
     "data": {
      "text/html": [
       "\n",
       "\n",
       "\n",
       "\n",
       "\n",
       "\n",
       "  <div class=\"bk-root\" id=\"b9da7414-c68c-47c0-9cf0-8e64cc2f7fd0\" data-root-id=\"1438\"></div>\n"
      ]
     },
     "metadata": {},
     "output_type": "display_data"
    },
    {
     "data": {
      "application/javascript": [
       "(function(root) {\n",
       "  function embed_document(root) {\n",
       "    \n",
       "  var docs_json = {\"0ae8e890-1a5d-4357-9dbc-bbac438f7c06\":{\"roots\":{\"references\":[{\"attributes\":{\"below\":[{\"id\":\"1449\",\"type\":\"CategoricalAxis\"}],\"center\":[{\"id\":\"1452\",\"type\":\"Grid\"},{\"id\":\"1457\",\"type\":\"Grid\"}],\"left\":[{\"id\":\"1453\",\"type\":\"LinearAxis\"}],\"plot_height\":300,\"plot_width\":750,\"renderers\":[{\"id\":\"1485\",\"type\":\"GlyphRenderer\"}],\"title\":{\"id\":\"1439\",\"type\":\"Title\"},\"toolbar\":{\"id\":\"1458\",\"type\":\"Toolbar\"},\"x_range\":{\"id\":\"1441\",\"type\":\"FactorRange\"},\"x_scale\":{\"id\":\"1445\",\"type\":\"CategoricalScale\"},\"y_range\":{\"id\":\"1443\",\"type\":\"DataRange1d\"},\"y_scale\":{\"id\":\"1447\",\"type\":\"LinearScale\"}},\"id\":\"1438\",\"subtype\":\"Figure\",\"type\":\"Plot\"},{\"attributes\":{\"callback\":null,\"factors\":[\"how_do\",\"can_i\",\"are_the\",\"how_can\",\"do_i\",\"do_you\",\"the_best\",\"is_it\",\"in_the\",\"of_the\",\"are_some\",\"should_i\",\"why_do\",\"is_there\",\"i_get\",\"for_a\",\"why_is\",\"in_a\",\"to_be\",\"what_do\",\"of_a\",\"is_a\",\"i_do\",\"as_a\",\"the_most\",\"if_i\",\"can_you\",\"in_india\",\"i_have\",\"there_any\",\"which_is\",\"would_you\",\"what_should\",\"what_does\",\"to_get\",\"to_the\",\"how_much\",\"how_is\",\"how_does\",\"i_am\",\"what_would\",\"how_many\",\"if_you\",\"you_think\",\"want_to\",\"way_to\",\"on_the\"]},\"id\":\"1441\",\"type\":\"FactorRange\"},{\"attributes\":{},\"id\":\"1529\",\"type\":\"Selection\"},{\"attributes\":{},\"id\":\"1530\",\"type\":\"UnionRenderers\"},{\"attributes\":{},\"id\":\"1445\",\"type\":\"CategoricalScale\"},{\"attributes\":{},\"id\":\"1447\",\"type\":\"LinearScale\"},{\"attributes\":{\"formatter\":{\"id\":\"1526\",\"type\":\"CategoricalTickFormatter\"},\"major_label_orientation\":1,\"ticker\":{\"id\":\"1450\",\"type\":\"CategoricalTicker\"}},\"id\":\"1449\",\"type\":\"CategoricalAxis\"},{\"attributes\":{},\"id\":\"1450\",\"type\":\"CategoricalTicker\"},{\"attributes\":{\"grid_line_color\":null,\"ticker\":{\"id\":\"1450\",\"type\":\"CategoricalTicker\"}},\"id\":\"1452\",\"type\":\"Grid\"},{\"attributes\":{\"fill_color\":{\"value\":\"#1f77b4\"},\"line_color\":{\"value\":\"#1f77b4\"},\"top\":{\"field\":\"neg_vocab_freq\"},\"width\":{\"value\":0.9},\"x\":{\"field\":\"neg_vocab_words\"}},\"id\":\"1483\",\"type\":\"VBar\"},{\"attributes\":{\"formatter\":{\"id\":\"1528\",\"type\":\"BasicTickFormatter\"},\"ticker\":{\"id\":\"1454\",\"type\":\"BasicTicker\"}},\"id\":\"1453\",\"type\":\"LinearAxis\"},{\"attributes\":{\"fill_alpha\":{\"value\":0.1},\"fill_color\":{\"value\":\"#1f77b4\"},\"line_alpha\":{\"value\":0.1},\"line_color\":{\"value\":\"#1f77b4\"},\"top\":{\"field\":\"neg_vocab_freq\"},\"width\":{\"value\":0.9},\"x\":{\"field\":\"neg_vocab_words\"}},\"id\":\"1484\",\"type\":\"VBar\"},{\"attributes\":{},\"id\":\"1454\",\"type\":\"BasicTicker\"},{\"attributes\":{\"data_source\":{\"id\":\"1435\",\"type\":\"ColumnDataSource\"},\"glyph\":{\"id\":\"1483\",\"type\":\"VBar\"},\"hover_glyph\":null,\"muted_glyph\":null,\"nonselection_glyph\":{\"id\":\"1484\",\"type\":\"VBar\"},\"selection_glyph\":null,\"view\":{\"id\":\"1486\",\"type\":\"CDSView\"}},\"id\":\"1485\",\"type\":\"GlyphRenderer\"},{\"attributes\":{\"dimension\":1,\"ticker\":{\"id\":\"1454\",\"type\":\"BasicTicker\"}},\"id\":\"1457\",\"type\":\"Grid\"},{\"attributes\":{\"source\":{\"id\":\"1435\",\"type\":\"ColumnDataSource\"}},\"id\":\"1486\",\"type\":\"CDSView\"},{\"attributes\":{\"active_drag\":\"auto\",\"active_inspect\":\"auto\",\"active_multi\":null,\"active_scroll\":\"auto\",\"active_tap\":\"auto\",\"tools\":[{\"id\":\"1436\",\"type\":\"HoverTool\"}]},\"id\":\"1458\",\"type\":\"Toolbar\"},{\"attributes\":{\"callback\":null,\"tooltips\":[[\"Word\",\"$neg_vocab_words\"],[\"Freq\",\"$neg_vocab_freq\"]]},\"id\":\"1436\",\"type\":\"HoverTool\"},{\"attributes\":{},\"id\":\"1526\",\"type\":\"CategoricalTickFormatter\"},{\"attributes\":{},\"id\":\"1528\",\"type\":\"BasicTickFormatter\"},{\"attributes\":{\"callback\":null},\"id\":\"1443\",\"type\":\"DataRange1d\"},{\"attributes\":{\"text\":\"Appropriate Question Bigram Frequency\"},\"id\":\"1439\",\"type\":\"Title\"},{\"attributes\":{\"callback\":null,\"data\":{\"neg_vocab_freq\":[79871.0,77940.0,77420.0,64185.0,58868.0,56521.0,51569.0,51088.0,49900.0,42899.0,38265.0,36151.0,28945.0,24090.0,22267.0,22081.0,22004.0,21763.0,20406.0,18848.0,18656.0,17928.0,17712.0,17616.0,17325.0,17242.0,17152.0,16828.0,16814.0,16614.0,16482.0,15997.0,15905.0,15037.0,15010.0,14966.0,14580.0,14445.0,14157.0,14110.0,14009.0,13457.0,13349.0,12780.0,12714.0,12693.0,12383.0],\"neg_vocab_words\":[\"how_do\",\"can_i\",\"are_the\",\"how_can\",\"do_i\",\"do_you\",\"the_best\",\"is_it\",\"in_the\",\"of_the\",\"are_some\",\"should_i\",\"why_do\",\"is_there\",\"i_get\",\"for_a\",\"why_is\",\"in_a\",\"to_be\",\"what_do\",\"of_a\",\"is_a\",\"i_do\",\"as_a\",\"the_most\",\"if_i\",\"can_you\",\"in_india\",\"i_have\",\"there_any\",\"which_is\",\"would_you\",\"what_should\",\"what_does\",\"to_get\",\"to_the\",\"how_much\",\"how_is\",\"how_does\",\"i_am\",\"what_would\",\"how_many\",\"if_you\",\"you_think\",\"want_to\",\"way_to\",\"on_the\"],\"pos_vocab_freq\":[4860.0,4392.0,4179.0,2981.0,2892.0,2878.0,2384.0,1977.0,1935.0,1929.0,1924.0,1809.0,1707.0,1637.0,1633.0,1605.0,1595.0,1580.0,1561.0,1503.0,1440.0,1402.0,1326.0,1307.0,1306.0,1305.0,1294.0,1293.0,1283.0,1204.0,1184.0,1170.0,1122.0,1107.0,1100.0,1098.0,1091.0,1065.0,1023.0,1014.0,1002.0,988.0,973.0,969.0,962.0,948.0,917.0],\"pos_vocab_words\":[\"in_the\",\"why_is\",\"of_the\",\"is_the\",\"do_you\",\"to_be\",\"why_does\",\"how_can\",\"they_are\",\"to_the\",\"how_do\",\"why_dont\",\"are_the\",\"what_is\",\"the_world\",\"is_a\",\"the_us\",\"so_many\",\"can_i\",\"want_to\",\"that_the\",\"do_i\",\"donald_trump\",\"as_a\",\"for_the\",\"do_people\",\"you_think\",\"why_did\",\"on_quora\",\"on_the\",\"sex_with\",\"do_they\",\"to_have\",\"when_they\",\"and_the\",\"have_a\",\"that_they\",\"in_india\",\"so_much\",\"it_true\",\"in_a\",\"it_is\",\"is_there\",\"should_i\",\"does_the\",\"true_that\",\"with_a\"]},\"selected\":{\"id\":\"1529\",\"type\":\"Selection\"},\"selection_policy\":{\"id\":\"1530\",\"type\":\"UnionRenderers\"}},\"id\":\"1435\",\"type\":\"ColumnDataSource\"}],\"root_ids\":[\"1438\"]},\"title\":\"Bokeh Application\",\"version\":\"1.3.4\"}};\n",
       "  var render_items = [{\"docid\":\"0ae8e890-1a5d-4357-9dbc-bbac438f7c06\",\"roots\":{\"1438\":\"b9da7414-c68c-47c0-9cf0-8e64cc2f7fd0\"}}];\n",
       "  root.Bokeh.embed.embed_items_notebook(docs_json, render_items);\n",
       "\n",
       "  }\n",
       "  if (root.Bokeh !== undefined) {\n",
       "    embed_document(root);\n",
       "  } else {\n",
       "    var attempts = 0;\n",
       "    var timer = setInterval(function(root) {\n",
       "      if (root.Bokeh !== undefined) {\n",
       "        embed_document(root);\n",
       "        clearInterval(timer);\n",
       "      }\n",
       "      attempts++;\n",
       "      if (attempts > 100) {\n",
       "        console.log(\"Bokeh: ERROR: Unable to run BokehJS code because BokehJS library is missing\");\n",
       "        clearInterval(timer);\n",
       "      }\n",
       "    }, 10, root)\n",
       "  }\n",
       "})(window);"
      ],
      "application/vnd.bokehjs_exec.v0+json": ""
     },
     "metadata": {
      "application/vnd.bokehjs_exec.v0+json": {
       "id": "1438"
      }
     },
     "output_type": "display_data"
    },
    {
     "data": {
      "text/html": [
       "\n",
       "\n",
       "\n",
       "\n",
       "\n",
       "\n",
       "  <div class=\"bk-root\" id=\"41497880-5a7e-4085-9fe3-9e4d1ac86528\" data-root-id=\"1460\"></div>\n"
      ]
     },
     "metadata": {},
     "output_type": "display_data"
    },
    {
     "data": {
      "application/javascript": [
       "(function(root) {\n",
       "  function embed_document(root) {\n",
       "    \n",
       "  var docs_json = {\"065a4661-bee7-4f2e-b470-692846550cf7\":{\"roots\":{\"references\":[{\"attributes\":{\"below\":[{\"id\":\"1471\",\"type\":\"CategoricalAxis\"}],\"center\":[{\"id\":\"1474\",\"type\":\"Grid\"},{\"id\":\"1479\",\"type\":\"Grid\"}],\"left\":[{\"id\":\"1475\",\"type\":\"LinearAxis\"}],\"plot_height\":300,\"plot_width\":750,\"renderers\":[{\"id\":\"1490\",\"type\":\"GlyphRenderer\"}],\"title\":{\"id\":\"1461\",\"type\":\"Title\"},\"toolbar\":{\"id\":\"1480\",\"type\":\"Toolbar\"},\"x_range\":{\"id\":\"1463\",\"type\":\"FactorRange\"},\"x_scale\":{\"id\":\"1467\",\"type\":\"CategoricalScale\"},\"y_range\":{\"id\":\"1465\",\"type\":\"DataRange1d\"},\"y_scale\":{\"id\":\"1469\",\"type\":\"LinearScale\"}},\"id\":\"1460\",\"subtype\":\"Figure\",\"type\":\"Plot\"},{\"attributes\":{},\"id\":\"1530\",\"type\":\"UnionRenderers\"},{\"attributes\":{\"grid_line_color\":null,\"ticker\":{\"id\":\"1472\",\"type\":\"CategoricalTicker\"}},\"id\":\"1474\",\"type\":\"Grid\"},{\"attributes\":{},\"id\":\"1614\",\"type\":\"CategoricalTickFormatter\"},{\"attributes\":{\"formatter\":{\"id\":\"1616\",\"type\":\"BasicTickFormatter\"},\"ticker\":{\"id\":\"1476\",\"type\":\"BasicTicker\"}},\"id\":\"1475\",\"type\":\"LinearAxis\"},{\"attributes\":{},\"id\":\"1616\",\"type\":\"BasicTickFormatter\"},{\"attributes\":{},\"id\":\"1476\",\"type\":\"BasicTicker\"},{\"attributes\":{\"dimension\":1,\"ticker\":{\"id\":\"1476\",\"type\":\"BasicTicker\"}},\"id\":\"1479\",\"type\":\"Grid\"},{\"attributes\":{\"callback\":null,\"data\":{\"neg_vocab_freq\":[79871.0,77940.0,77420.0,64185.0,58868.0,56521.0,51569.0,51088.0,49900.0,42899.0,38265.0,36151.0,28945.0,24090.0,22267.0,22081.0,22004.0,21763.0,20406.0,18848.0,18656.0,17928.0,17712.0,17616.0,17325.0,17242.0,17152.0,16828.0,16814.0,16614.0,16482.0,15997.0,15905.0,15037.0,15010.0,14966.0,14580.0,14445.0,14157.0,14110.0,14009.0,13457.0,13349.0,12780.0,12714.0,12693.0,12383.0],\"neg_vocab_words\":[\"how_do\",\"can_i\",\"are_the\",\"how_can\",\"do_i\",\"do_you\",\"the_best\",\"is_it\",\"in_the\",\"of_the\",\"are_some\",\"should_i\",\"why_do\",\"is_there\",\"i_get\",\"for_a\",\"why_is\",\"in_a\",\"to_be\",\"what_do\",\"of_a\",\"is_a\",\"i_do\",\"as_a\",\"the_most\",\"if_i\",\"can_you\",\"in_india\",\"i_have\",\"there_any\",\"which_is\",\"would_you\",\"what_should\",\"what_does\",\"to_get\",\"to_the\",\"how_much\",\"how_is\",\"how_does\",\"i_am\",\"what_would\",\"how_many\",\"if_you\",\"you_think\",\"want_to\",\"way_to\",\"on_the\"],\"pos_vocab_freq\":[4860.0,4392.0,4179.0,2981.0,2892.0,2878.0,2384.0,1977.0,1935.0,1929.0,1924.0,1809.0,1707.0,1637.0,1633.0,1605.0,1595.0,1580.0,1561.0,1503.0,1440.0,1402.0,1326.0,1307.0,1306.0,1305.0,1294.0,1293.0,1283.0,1204.0,1184.0,1170.0,1122.0,1107.0,1100.0,1098.0,1091.0,1065.0,1023.0,1014.0,1002.0,988.0,973.0,969.0,962.0,948.0,917.0],\"pos_vocab_words\":[\"in_the\",\"why_is\",\"of_the\",\"is_the\",\"do_you\",\"to_be\",\"why_does\",\"how_can\",\"they_are\",\"to_the\",\"how_do\",\"why_dont\",\"are_the\",\"what_is\",\"the_world\",\"is_a\",\"the_us\",\"so_many\",\"can_i\",\"want_to\",\"that_the\",\"do_i\",\"donald_trump\",\"as_a\",\"for_the\",\"do_people\",\"you_think\",\"why_did\",\"on_quora\",\"on_the\",\"sex_with\",\"do_they\",\"to_have\",\"when_they\",\"and_the\",\"have_a\",\"that_they\",\"in_india\",\"so_much\",\"it_true\",\"in_a\",\"it_is\",\"is_there\",\"should_i\",\"does_the\",\"true_that\",\"with_a\"]},\"selected\":{\"id\":\"1529\",\"type\":\"Selection\"},\"selection_policy\":{\"id\":\"1530\",\"type\":\"UnionRenderers\"}},\"id\":\"1435\",\"type\":\"ColumnDataSource\"},{\"attributes\":{\"active_drag\":\"auto\",\"active_inspect\":\"auto\",\"active_multi\":null,\"active_scroll\":\"auto\",\"active_tap\":\"auto\",\"tools\":[{\"id\":\"1437\",\"type\":\"HoverTool\"}]},\"id\":\"1480\",\"type\":\"Toolbar\"},{\"attributes\":{\"fill_color\":{\"value\":\"#1f77b4\"},\"line_color\":{\"value\":\"#1f77b4\"},\"top\":{\"field\":\"pos_vocab_freq\"},\"width\":{\"value\":0.9},\"x\":{\"field\":\"pos_vocab_words\"}},\"id\":\"1488\",\"type\":\"VBar\"},{\"attributes\":{\"text\":\"Inappropriate Question Bigram Frequency\"},\"id\":\"1461\",\"type\":\"Title\"},{\"attributes\":{\"fill_alpha\":{\"value\":0.1},\"fill_color\":{\"value\":\"#1f77b4\"},\"line_alpha\":{\"value\":0.1},\"line_color\":{\"value\":\"#1f77b4\"},\"top\":{\"field\":\"pos_vocab_freq\"},\"width\":{\"value\":0.9},\"x\":{\"field\":\"pos_vocab_words\"}},\"id\":\"1489\",\"type\":\"VBar\"},{\"attributes\":{\"callback\":null,\"factors\":[\"in_the\",\"why_is\",\"of_the\",\"is_the\",\"do_you\",\"to_be\",\"why_does\",\"how_can\",\"they_are\",\"to_the\",\"how_do\",\"why_dont\",\"are_the\",\"what_is\",\"the_world\",\"is_a\",\"the_us\",\"so_many\",\"can_i\",\"want_to\",\"that_the\",\"do_i\",\"donald_trump\",\"as_a\",\"for_the\",\"do_people\",\"you_think\",\"why_did\",\"on_quora\",\"on_the\",\"sex_with\",\"do_they\",\"to_have\",\"when_they\",\"and_the\",\"have_a\",\"that_they\",\"in_india\",\"so_much\",\"it_true\",\"in_a\",\"it_is\",\"is_there\",\"should_i\",\"does_the\",\"true_that\",\"with_a\"]},\"id\":\"1463\",\"type\":\"FactorRange\"},{\"attributes\":{\"data_source\":{\"id\":\"1435\",\"type\":\"ColumnDataSource\"},\"glyph\":{\"id\":\"1488\",\"type\":\"VBar\"},\"hover_glyph\":null,\"muted_glyph\":null,\"nonselection_glyph\":{\"id\":\"1489\",\"type\":\"VBar\"},\"selection_glyph\":null,\"view\":{\"id\":\"1491\",\"type\":\"CDSView\"}},\"id\":\"1490\",\"type\":\"GlyphRenderer\"},{\"attributes\":{\"callback\":null},\"id\":\"1465\",\"type\":\"DataRange1d\"},{\"attributes\":{\"source\":{\"id\":\"1435\",\"type\":\"ColumnDataSource\"}},\"id\":\"1491\",\"type\":\"CDSView\"},{\"attributes\":{\"callback\":null,\"tooltips\":[[\"Word\",\"$pos_vocab_words\"],[\"Freq\",\"$pos_vocab_freq\"]]},\"id\":\"1437\",\"type\":\"HoverTool\"},{\"attributes\":{},\"id\":\"1467\",\"type\":\"CategoricalScale\"},{\"attributes\":{},\"id\":\"1469\",\"type\":\"LinearScale\"},{\"attributes\":{\"formatter\":{\"id\":\"1614\",\"type\":\"CategoricalTickFormatter\"},\"major_label_orientation\":1,\"ticker\":{\"id\":\"1472\",\"type\":\"CategoricalTicker\"}},\"id\":\"1471\",\"type\":\"CategoricalAxis\"},{\"attributes\":{},\"id\":\"1529\",\"type\":\"Selection\"},{\"attributes\":{},\"id\":\"1472\",\"type\":\"CategoricalTicker\"}],\"root_ids\":[\"1460\"]},\"title\":\"Bokeh Application\",\"version\":\"1.3.4\"}};\n",
       "  var render_items = [{\"docid\":\"065a4661-bee7-4f2e-b470-692846550cf7\",\"roots\":{\"1460\":\"41497880-5a7e-4085-9fe3-9e4d1ac86528\"}}];\n",
       "  root.Bokeh.embed.embed_items_notebook(docs_json, render_items);\n",
       "\n",
       "  }\n",
       "  if (root.Bokeh !== undefined) {\n",
       "    embed_document(root);\n",
       "  } else {\n",
       "    var attempts = 0;\n",
       "    var timer = setInterval(function(root) {\n",
       "      if (root.Bokeh !== undefined) {\n",
       "        embed_document(root);\n",
       "        clearInterval(timer);\n",
       "      }\n",
       "      attempts++;\n",
       "      if (attempts > 100) {\n",
       "        console.log(\"Bokeh: ERROR: Unable to run BokehJS code because BokehJS library is missing\");\n",
       "        clearInterval(timer);\n",
       "      }\n",
       "    }, 10, root)\n",
       "  }\n",
       "})(window);"
      ],
      "application/vnd.bokehjs_exec.v0+json": ""
     },
     "metadata": {
      "application/vnd.bokehjs_exec.v0+json": {
       "id": "1460"
      }
     },
     "output_type": "display_data"
    }
   ],
   "source": [
    "comments.word_frequency_graphs(gram_length=2,min_rank=3,max_rank=50)"
   ]
  },
  {
   "cell_type": "code",
   "execution_count": 17,
   "metadata": {},
   "outputs": [
    {
     "data": {
      "text/html": [
       "\n",
       "\n",
       "\n",
       "\n",
       "\n",
       "\n",
       "  <div class=\"bk-root\" id=\"4cea4e4e-4918-4511-a4a9-eeb122648c08\" data-root-id=\"1661\"></div>\n"
      ]
     },
     "metadata": {},
     "output_type": "display_data"
    },
    {
     "data": {
      "application/javascript": [
       "(function(root) {\n",
       "  function embed_document(root) {\n",
       "    \n",
       "  var docs_json = {\"f47426cd-0194-4262-9774-ceaab2014222\":{\"roots\":{\"references\":[{\"attributes\":{\"below\":[{\"id\":\"1672\",\"type\":\"CategoricalAxis\"}],\"center\":[{\"id\":\"1675\",\"type\":\"Grid\"},{\"id\":\"1680\",\"type\":\"Grid\"}],\"left\":[{\"id\":\"1676\",\"type\":\"LinearAxis\"}],\"plot_height\":300,\"plot_width\":750,\"renderers\":[{\"id\":\"1697\",\"type\":\"GlyphRenderer\"}],\"title\":{\"id\":\"1662\",\"type\":\"Title\"},\"toolbar\":{\"id\":\"1687\",\"type\":\"Toolbar\"},\"x_range\":{\"id\":\"1664\",\"type\":\"FactorRange\"},\"x_scale\":{\"id\":\"1668\",\"type\":\"CategoricalScale\"},\"y_range\":{\"id\":\"1666\",\"type\":\"DataRange1d\"},\"y_scale\":{\"id\":\"1670\",\"type\":\"LinearScale\"}},\"id\":\"1661\",\"subtype\":\"Figure\",\"type\":\"Plot\"},{\"attributes\":{},\"id\":\"1670\",\"type\":\"LinearScale\"},{\"attributes\":{},\"id\":\"1684\",\"type\":\"SaveTool\"},{\"attributes\":{},\"id\":\"1668\",\"type\":\"CategoricalScale\"},{\"attributes\":{},\"id\":\"1749\",\"type\":\"BasicTickFormatter\"},{\"attributes\":{\"overlay\":{\"id\":\"1750\",\"type\":\"BoxAnnotation\"}},\"id\":\"1683\",\"type\":\"BoxZoomTool\"},{\"attributes\":{},\"id\":\"1747\",\"type\":\"CategoricalTickFormatter\"},{\"attributes\":{\"callback\":null},\"id\":\"1666\",\"type\":\"DataRange1d\"},{\"attributes\":{},\"id\":\"1682\",\"type\":\"WheelZoomTool\"},{\"attributes\":{\"formatter\":{\"id\":\"1749\",\"type\":\"BasicTickFormatter\"},\"ticker\":{\"id\":\"1677\",\"type\":\"BasicTicker\"}},\"id\":\"1676\",\"type\":\"LinearAxis\"},{\"attributes\":{\"source\":{\"id\":\"1694\",\"type\":\"ColumnDataSource\"}},\"id\":\"1698\",\"type\":\"CDSView\"},{\"attributes\":{},\"id\":\"1681\",\"type\":\"PanTool\"},{\"attributes\":{\"callback\":null,\"factors\":[\"what_is_the\",\"what_are_the\",\"how_do_i\",\"what_are_some\",\"how_can_i\",\"is_the_best\",\"how_do_you\",\"are_the_best\",\"which_is_the\",\"can_i_get\",\"what_should_i\",\"the_difference_between\",\"where_can_i\",\"what_is_a\",\"is_there_any\",\"is_the_difference\",\"is_it_possible\",\"should_i_do\",\"it_possible_to\",\"the_best_way\",\"why_are_there\",\"why_do_most\",\"why_is_the\",\"why_do_women\",\"why_does_the\",\"why_do_americans\",\"the_fact_that\",\"do_so_many\",\"why_are_the\",\"why_do_the\",\"to_have_sex\",\"why_do_so\",\"why_do_liberals\",\"why_do_they\",\"is_it_that\",\"why_do_people\",\"have_sex_with\",\"it_true_that\",\"is_it_true\",\"why_is_it\"]},\"id\":\"1664\",\"type\":\"FactorRange\"},{\"attributes\":{\"grid_line_color\":null,\"ticker\":{\"id\":\"1673\",\"type\":\"CategoricalTicker\"}},\"id\":\"1675\",\"type\":\"Grid\"},{\"attributes\":{},\"id\":\"1677\",\"type\":\"BasicTicker\"},{\"attributes\":{\"text\":\"Trigrams Frequency Difference: (Appropriate Frequency - Inappropriate Frequency)\"},\"id\":\"1662\",\"type\":\"Title\"},{\"attributes\":{\"data_source\":{\"id\":\"1694\",\"type\":\"ColumnDataSource\"},\"glyph\":{\"id\":\"1695\",\"type\":\"VBar\"},\"hover_glyph\":null,\"muted_glyph\":null,\"nonselection_glyph\":{\"id\":\"1696\",\"type\":\"VBar\"},\"selection_glyph\":null,\"view\":{\"id\":\"1698\",\"type\":\"CDSView\"}},\"id\":\"1697\",\"type\":\"GlyphRenderer\"},{\"attributes\":{\"callback\":null,\"data\":{\"top\":[0.006643446508663052,0.004771857160010901,0.0027801178951193076,0.002617577324324447,0.002590408588047869,0.002034795512483592,0.0013891959878263333,0.0009998238021320751,0.0007843652501466507,0.0007727150097789506,0.0006489136158887718,0.0006078853660037107,0.0005870729959782256,0.0005824485590729318,0.0005712273048300296,0.0005398570858590146,0.0004967523816180551,0.0004576239242807019,0.00043774151340150356,0.0004357556253383567,-0.00023090849836209936,-0.00024266487947903275,-0.00024563439805099895,-0.0002633611337878352,-0.00027122284508984153,-0.0002816923154818285,-0.00028308106474170264,-0.0003039944561017454,-0.00030499382963005333,-0.000305017913216251,-0.000309820910192378,-0.0003149508385459207,-0.0003217495299896372,-0.00032453601771345787,-0.00035885554145963813,-0.00048482563804865496,-0.0004903684723814933,-0.000516554010574161,-0.0005617603338194889,-0.000573509961121006],\"x\":[\"what_is_the\",\"what_are_the\",\"how_do_i\",\"what_are_some\",\"how_can_i\",\"is_the_best\",\"how_do_you\",\"are_the_best\",\"which_is_the\",\"can_i_get\",\"what_should_i\",\"the_difference_between\",\"where_can_i\",\"what_is_a\",\"is_there_any\",\"is_the_difference\",\"is_it_possible\",\"should_i_do\",\"it_possible_to\",\"the_best_way\",\"why_are_there\",\"why_do_most\",\"why_is_the\",\"why_do_women\",\"why_does_the\",\"why_do_americans\",\"the_fact_that\",\"do_so_many\",\"why_are_the\",\"why_do_the\",\"to_have_sex\",\"why_do_so\",\"why_do_liberals\",\"why_do_they\",\"is_it_that\",\"why_do_people\",\"have_sex_with\",\"it_true_that\",\"is_it_true\",\"why_is_it\"]},\"selected\":{\"id\":\"1751\",\"type\":\"Selection\"},\"selection_policy\":{\"id\":\"1752\",\"type\":\"UnionRenderers\"}},\"id\":\"1694\",\"type\":\"ColumnDataSource\"},{\"attributes\":{},\"id\":\"1752\",\"type\":\"UnionRenderers\"},{\"attributes\":{\"fill_color\":{\"value\":\"#1f77b4\"},\"line_color\":{\"value\":\"#1f77b4\"},\"top\":{\"field\":\"top\"},\"width\":{\"value\":0.9},\"x\":{\"field\":\"x\"}},\"id\":\"1695\",\"type\":\"VBar\"},{\"attributes\":{},\"id\":\"1673\",\"type\":\"CategoricalTicker\"},{\"attributes\":{\"active_drag\":\"auto\",\"active_inspect\":\"auto\",\"active_multi\":null,\"active_scroll\":\"auto\",\"active_tap\":\"auto\",\"tools\":[{\"id\":\"1681\",\"type\":\"PanTool\"},{\"id\":\"1682\",\"type\":\"WheelZoomTool\"},{\"id\":\"1683\",\"type\":\"BoxZoomTool\"},{\"id\":\"1684\",\"type\":\"SaveTool\"},{\"id\":\"1685\",\"type\":\"ResetTool\"},{\"id\":\"1686\",\"type\":\"HelpTool\"}]},\"id\":\"1687\",\"type\":\"Toolbar\"},{\"attributes\":{\"fill_alpha\":{\"value\":0.1},\"fill_color\":{\"value\":\"#1f77b4\"},\"line_alpha\":{\"value\":0.1},\"line_color\":{\"value\":\"#1f77b4\"},\"top\":{\"field\":\"top\"},\"width\":{\"value\":0.9},\"x\":{\"field\":\"x\"}},\"id\":\"1696\",\"type\":\"VBar\"},{\"attributes\":{},\"id\":\"1686\",\"type\":\"HelpTool\"},{\"attributes\":{},\"id\":\"1751\",\"type\":\"Selection\"},{\"attributes\":{\"formatter\":{\"id\":\"1747\",\"type\":\"CategoricalTickFormatter\"},\"major_label_orientation\":1,\"ticker\":{\"id\":\"1673\",\"type\":\"CategoricalTicker\"}},\"id\":\"1672\",\"type\":\"CategoricalAxis\"},{\"attributes\":{\"dimension\":1,\"ticker\":{\"id\":\"1677\",\"type\":\"BasicTicker\"}},\"id\":\"1680\",\"type\":\"Grid\"},{\"attributes\":{\"bottom_units\":\"screen\",\"fill_alpha\":{\"value\":0.5},\"fill_color\":{\"value\":\"lightgrey\"},\"left_units\":\"screen\",\"level\":\"overlay\",\"line_alpha\":{\"value\":1.0},\"line_color\":{\"value\":\"black\"},\"line_dash\":[4,4],\"line_width\":{\"value\":2},\"render_mode\":\"css\",\"right_units\":\"screen\",\"top_units\":\"screen\"},\"id\":\"1750\",\"type\":\"BoxAnnotation\"},{\"attributes\":{},\"id\":\"1685\",\"type\":\"ResetTool\"}],\"root_ids\":[\"1661\"]},\"title\":\"Bokeh Application\",\"version\":\"1.3.4\"}};\n",
       "  var render_items = [{\"docid\":\"f47426cd-0194-4262-9774-ceaab2014222\",\"roots\":{\"1661\":\"4cea4e4e-4918-4511-a4a9-eeb122648c08\"}}];\n",
       "  root.Bokeh.embed.embed_items_notebook(docs_json, render_items);\n",
       "\n",
       "  }\n",
       "  if (root.Bokeh !== undefined) {\n",
       "    embed_document(root);\n",
       "  } else {\n",
       "    var attempts = 0;\n",
       "    var timer = setInterval(function(root) {\n",
       "      if (root.Bokeh !== undefined) {\n",
       "        embed_document(root);\n",
       "        clearInterval(timer);\n",
       "      }\n",
       "      attempts++;\n",
       "      if (attempts > 100) {\n",
       "        console.log(\"Bokeh: ERROR: Unable to run BokehJS code because BokehJS library is missing\");\n",
       "        clearInterval(timer);\n",
       "      }\n",
       "    }, 10, root)\n",
       "  }\n",
       "})(window);"
      ],
      "application/vnd.bokehjs_exec.v0+json": ""
     },
     "metadata": {
      "application/vnd.bokehjs_exec.v0+json": {
       "id": "1661"
      }
     },
     "output_type": "display_data"
    }
   ],
   "source": [
    "comments.word_count_difference_graph(gram_length=3,num=20)"
   ]
  },
  {
   "cell_type": "markdown",
   "metadata": {},
   "source": [
    "#### Comments"
   ]
  },
  {
   "cell_type": "markdown",
   "metadata": {},
   "source": [
    "* Here when we examine bigrams and find the same trends as we found in the analysis of unigrams \n",
    "\n",
    "* In the inappropriate example we find a comparitively high frequency of 'why' interogative words and phrases which can be formulated as a statement of dubious facts, that implicitly require the answer to assume this premise in order to answer it. "
   ]
  }
 ],
 "metadata": {
  "kernelspec": {
   "display_name": "Python 3",
   "language": "python",
   "name": "python3"
  },
  "language_info": {
   "codemirror_mode": {
    "name": "ipython",
    "version": 3
   },
   "file_extension": ".py",
   "mimetype": "text/x-python",
   "name": "python",
   "nbconvert_exporter": "python",
   "pygments_lexer": "ipython3",
   "version": "3.7.3"
  }
 },
 "nbformat": 4,
 "nbformat_minor": 4
}
