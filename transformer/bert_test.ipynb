{
 "cells": [
  {
   "cell_type": "code",
   "execution_count": 1,
   "metadata": {},
   "outputs": [],
   "source": [
    "import numpy as np\n",
    "import torch\n",
    "import torch.nn as nn\n",
    "import torch.nn.functional as F\n",
    "import math, copy, time\n",
    "from torch.autograd import Variable\n",
    "import matplotlib.pyplot as plt\n",
    "import seaborn\n",
    "seaborn.set_context(context=\"talk\")"
   ]
  },
  {
   "cell_type": "code",
   "execution_count": 2,
   "metadata": {},
   "outputs": [],
   "source": [
    "from encoder import Generator"
   ]
  },
  {
   "cell_type": "code",
   "execution_count": 3,
   "metadata": {},
   "outputs": [],
   "source": [
    "dmodel = 10\n",
    "vocab = 20\n",
    "generator = Generator(dmodel,vocab)"
   ]
  },
  {
   "cell_type": "code",
   "execution_count": 6,
   "metadata": {},
   "outputs": [
    {
     "data": {
      "text/plain": [
       "tensor([[[-2.8230, -3.2167, -2.8570, -2.8647, -3.6174, -2.7464, -2.9217,\n",
       "          -2.7594, -2.8993, -3.2590, -2.9800, -3.6861, -3.3431, -2.3536,\n",
       "          -2.5983, -3.5343, -3.0857, -3.1195, -3.0776, -3.2537],\n",
       "         [-3.2331, -3.0608, -3.4052, -2.8470, -3.6114, -2.6827, -3.2748,\n",
       "          -2.5965, -2.9020, -3.5595, -2.8149, -3.5274, -3.1043, -2.4641,\n",
       "          -2.5360, -3.3521, -2.7706, -3.1582, -2.9858, -3.1623],\n",
       "         [-2.8830, -3.3697, -3.1975, -2.7878, -3.7848, -2.6246, -3.0408,\n",
       "          -2.5865, -2.9536, -3.2502, -2.7266, -3.4126, -3.0665, -2.5132,\n",
       "          -2.7292, -3.5641, -2.9888, -3.2716, -2.9226, -3.3141]],\n",
       "\n",
       "        [[-2.7794, -3.1085, -2.8451, -2.6982, -3.6435, -2.8568, -2.9272,\n",
       "          -2.9609, -2.6401, -3.0931, -3.0921, -3.6106, -3.4498, -2.3842,\n",
       "          -2.5362, -3.3994, -3.2857, -2.9721, -3.4356, -3.4291],\n",
       "         [-3.1368, -3.2802, -3.2410, -2.9037, -3.7011, -2.7307, -3.1588,\n",
       "          -2.6604, -2.9819, -3.3898, -2.7212, -3.4327, -3.1199, -2.5600,\n",
       "          -2.3011, -3.2653, -2.9515, -3.3047, -2.8405, -3.4088],\n",
       "         [-3.0321, -3.1449, -2.8529, -2.7338, -3.5677, -2.6781, -3.0673,\n",
       "          -2.6519, -2.8041, -3.4848, -3.0390, -3.5964, -3.3544, -2.3525,\n",
       "          -2.4797, -3.2898, -3.1861, -3.1496, -3.1972, -3.5267]]],\n",
       "       grad_fn=<LogSoftmaxBackward>)"
      ]
     },
     "execution_count": 6,
     "metadata": {},
     "output_type": "execute_result"
    }
   ],
   "source": [
    "generator.forward(torch.rand(2,3,dmodel))"
   ]
  },
  {
   "cell_type": "code",
   "execution_count": null,
   "metadata": {},
   "outputs": [],
   "source": [
    "    "
   ]
  }
 ],
 "metadata": {
  "kernelspec": {
   "display_name": "Python 3",
   "language": "python",
   "name": "python3"
  },
  "language_info": {
   "codemirror_mode": {
    "name": "ipython",
    "version": 3
   },
   "file_extension": ".py",
   "mimetype": "text/x-python",
   "name": "python",
   "nbconvert_exporter": "python",
   "pygments_lexer": "ipython3",
   "version": "3.7.3"
  }
 },
 "nbformat": 4,
 "nbformat_minor": 4
}
